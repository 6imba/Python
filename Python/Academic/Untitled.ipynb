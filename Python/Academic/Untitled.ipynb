{
 "cells": [
  {
   "cell_type": "code",
   "execution_count": 1,
   "metadata": {},
   "outputs": [],
   "source": [
    "import random"
   ]
  },
  {
   "cell_type": "code",
   "execution_count": 2,
   "metadata": {},
   "outputs": [],
   "source": [
    "class User_Model:\n",
    "    # User Model\n",
    "    \"\"\" Where every logic is written and database is maintained.\"\"\"\n",
    "\n",
    "    # This is a list a.k.a a main database where dictionary in added. In each dictionary, there is the information of user.\n",
    "    users_database = []\n",
    "\n",
    "    def create_user_query(self, user_input):\n",
    "\n",
    "        # creating a method so that user can create their id.\n",
    "        self.user_id1 = random.randrange(1000)\n",
    "        self.user_id1 = self.user_id1\n",
    "        self.user_name = user_input[0]\n",
    "        self.firstname = user_input[1]\n",
    "        self.lastname = user_input[2]\n",
    "        self.email = user_input[3]\n",
    "        self.password = user_input[4]\n",
    "\n",
    "        # Database\n",
    "        creat_dictionary = {\n",
    "            \"User Id\": self.user_id1,\n",
    "            \"User Name\": self.user_name,\n",
    "            \"First Name\": self.firstname,\n",
    "            \"Last Name\": self.lastname,\n",
    "            \"Email Id\": self.email,\n",
    "            \"Password\": self.password\n",
    "        }\n",
    "\n",
    "        # Adding to the list.\n",
    "        self.users_database.append(creat_dictionary)"
   ]
  },
  {
   "cell_type": "code",
   "execution_count": 3,
   "metadata": {},
   "outputs": [],
   "source": [
    "class User_View(User_Model):\n",
    "\n",
    "    # creating a class user view to show the function to the users so that they can take action on it.\n",
    "\n",
    "    def view_menu_for_admin(self):\n",
    "        print(\"\"\"\n",
    "        Menus\n",
    "        Enter number 1 to 6 to do the following task:\n",
    "        1. Create User\n",
    "        2. Add User\n",
    "        3. Update User\n",
    "        4. Delete User \n",
    "        5. Retrieve User\n",
    "        6. View All Users\n",
    "        \"\"\")\n"
   ]
  },
  {
   "cell_type": "code",
   "execution_count": 4,
   "metadata": {},
   "outputs": [],
   "source": [
    "class User_Controller(User_View):\n",
    "    # User Controller\n",
    "\n",
    "    def menu_admin_controller(self):\n",
    "        super().view_menu_for_admin()"
   ]
  },
  {
   "cell_type": "code",
   "execution_count": 5,
   "metadata": {},
   "outputs": [],
   "source": [
    "class Permissions_Module(User_Controller):\n",
    "\n",
    "    # creating a class permission module so that we can give access to the users\n",
    "    def admin_role(self):\n",
    "        while True:\n",
    "\n",
    "            super().menu_admin_controller()\n",
    "\n",
    "            choose_action = int(input(\"Enter Here:\"))\n",
    "            while True:\n",
    "                if choose_action > 6 and choose_action < 1:\n",
    "                    choose_action = int(input(\"Enter only form 1 to 6:\"))\n",
    "                break\n",
    "\n",
    "            if choose_action == 1:\n",
    "\n",
    "                super().create_user_controller()\n",
    "\n",
    "            elif choose_action == 2:\n",
    "\n",
    "                super().add_user_controller()\n",
    "\n",
    "            elif choose_action == 3:\n",
    "\n",
    "                super().update_user_controller()\n",
    "\n",
    "            elif choose_action == 4:\n",
    "\n",
    "                super().delete_user_controller()\n",
    "\n",
    "            elif choose_action == 5:\n",
    "\n",
    "                super().retrieve_userv()\n",
    "\n",
    "            else:\n",
    "                super().view_all_controller()\n",
    "\n",
    "            answer = str(input(\"Enter to continue or type c to close:\"))\n",
    "            if answer == \"c\":\n",
    "                break\n"
   ]
  },
  {
   "cell_type": "code",
   "execution_count": null,
   "metadata": {},
   "outputs": [
    {
     "name": "stdout",
     "output_type": "stream",
     "text": [
      "\n",
      "            Enter number to choose the following role:\n",
      "            1. Admin\n",
      "            2. User\n",
      "            \n",
      "Enter Here:1\n",
      "\n",
      "        Menus\n",
      "        Enter number 1 to 6 to do the following task:\n",
      "        1. Create User\n",
      "        2. Add User\n",
      "        3. Update User\n",
      "        4. Delete User \n",
      "        5. Retrieve User\n",
      "        6. View All Users\n",
      "        \n"
     ]
    }
   ],
   "source": [
    "class Role_Model(Permissions_Module):\n",
    "\n",
    "    # creating a class so that we can assign roll for the users.\n",
    "\n",
    "    def choose_role(self):\n",
    "        while True:\n",
    "            print(\"\"\"\n",
    "            Enter number to choose the following role:\n",
    "            1. Admin\n",
    "            2. User\n",
    "            \"\"\")\n",
    "            user_role = int(input(\"Enter Here:\"))\n",
    "            if user_role == 1:\n",
    "                super().admin_role()\n",
    "            else:\n",
    "                super().user_role()\n",
    "\n",
    "            answer = str(input(\"Enter to continue or type c to close:\"))\n",
    "            if answer == \"c\":\n",
    "                break\n",
    "\n",
    "obj_for_role = Role_Model()\n",
    "obj_for_role.choose_role()"
   ]
  }
 ],
 "metadata": {
  "kernelspec": {
   "display_name": "Python 3",
   "language": "python",
   "name": "python3"
  },
  "language_info": {
   "codemirror_mode": {
    "name": "ipython",
    "version": 3
   },
   "file_extension": ".py",
   "mimetype": "text/x-python",
   "name": "python",
   "nbconvert_exporter": "python",
   "pygments_lexer": "ipython3",
   "version": "3.8.4"
  }
 },
 "nbformat": 4,
 "nbformat_minor": 4
}
