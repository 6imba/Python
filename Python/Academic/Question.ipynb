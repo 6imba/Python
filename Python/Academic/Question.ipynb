{
 "cells": [
  {
   "cell_type": "code",
   "execution_count": 8,
   "metadata": {},
   "outputs": [
    {
     "name": "stdout",
     "output_type": "stream",
     "text": [
      "[1, 2, 3, 4, 5, 6, 7]\n",
      "<class 'list'>\n",
      "91914600\n",
      "[1, 2, 3, 4, 5, 6, 7]\n",
      "<class 'list'>\n",
      "91914600\n",
      "False\n",
      "True\n"
     ]
    }
   ],
   "source": [
    "numb1 = [1,2,3,4,5,6,7]\n",
    "numb2 = numb1\n",
    "print(numb2)\n",
    "print(type(numb2))\n",
    "print(id(numb2))\n",
    "\n",
    "numb3=numb1[:]\n",
    "print(numb3)\n",
    "print(type(numb3))\n",
    "print(id(numb2))\n",
    "\n",
    "print(numb2 is numb3 )\n",
    "print(numb2 == numb3 )"
   ]
  },
  {
   "cell_type": "code",
   "execution_count": 13,
   "metadata": {},
   "outputs": [
    {
     "name": "stdout",
     "output_type": "stream",
     "text": [
      "[[2, 4], ['a', 'b']]\n",
      "[[2, 4, 6], ['a', 'b'], 666666]\n",
      "[[2, 4, 6], ['a', 'b'], 666666]\n",
      "[[2, 4, 6], ['a', 'b']]\n",
      "[[2, 4], ['a', 'b']]\n"
     ]
    }
   ],
   "source": [
    "#Shallow and deep copy\n",
    "import copy\n",
    "list1 = [[2,4],['a','b']]\n",
    "print(list1)# orginal\n",
    "\n",
    "list2 = list1 # shallow copy\n",
    "list3 = list1[:] # deep copy \n",
    "list4 = copy.deepcopy(list1)# deep copy  with deepcopy() method of copy module\n",
    "list1.append(666666)\n",
    "list1[0].append(6)\n",
    "\n",
    "print(list1)# orginal\n",
    "print(list2)# shallow copy\n",
    "print(list3)# deeper copy\n",
    "print(list4)# deeper copy"
   ]
  },
  {
   "cell_type": "code",
   "execution_count": 4,
   "metadata": {},
   "outputs": [
    {
     "name": "stdout",
     "output_type": "stream",
     "text": [
      "[[2, 4], ['a', 'b'], 666666]\n",
      "[[2, 4], ['a', 'b'], 666666]\n",
      "[[2, 4], ['a', 'b']]\n"
     ]
    }
   ],
   "source": [
    "#Shallow and deep copy\n",
    "\n",
    "list1 = [[2,4],['a','b']]\n",
    "list2 = list1 # shallow copy\n",
    "list3 = list1[:]# deeper copy slice to new object\n",
    "list1.append(666666)\n",
    "print(list1)# orginal\n",
    "print(list2)# shallow copy\n",
    "print(list3)# deeper copy"
   ]
  },
  {
   "cell_type": "code",
   "execution_count": 6,
   "metadata": {},
   "outputs": [
    {
     "name": "stdout",
     "output_type": "stream",
     "text": [
      "[[2, 4], ['a', 'b'], 666666]\n",
      "[[2, 4], ['a', 'b']]\n",
      "[[2, 4], ['a', 'b']]\n"
     ]
    }
   ],
   "source": [
    "#Shallow and deep copy\n",
    "import copy\n",
    "list1 = [[2,4],['a','b']]\n",
    "list2 = list1[:] # shallow copy\n",
    "list3 = copy.deepcopy(list1)# deeper copy slice to new object\n",
    "list1.append(666666)\n",
    "\n",
    "print(list1)# orginal\n",
    "print(list2) # shallow copy or deep copy ?\n",
    "print(list3)# deeper copy"
   ]
  },
  {
   "cell_type": "code",
   "execution_count": 1,
   "metadata": {},
   "outputs": [
    {
     "name": "stdout",
     "output_type": "stream",
     "text": [
      "[[2, 4, 6], ['a', 'b'], 666666]\n",
      "[[2, 4, 6], ['a', 'b']]\n",
      "[[2, 4], ['a', 'b']]\n"
     ]
    }
   ],
   "source": [
    "#Shallow and deep copy\n",
    "import copy\n",
    "list1 = [[2,4],['a','b']]\n",
    "list2 = list1[:] # shallow copy or deep copy ?\n",
    "list3 = copy.deepcopy(list1)# deeper copy slice to new object\n",
    "list1.append(666666)\n",
    "list1[0].append(6)\n",
    "\n",
    "print(list1)# orginal\n",
    "print(list2)# shallow copy\n",
    "print(list3)# deeper copy"
   ]
  },
  {
   "cell_type": "code",
   "execution_count": 6,
   "metadata": {},
   "outputs": [
    {
     "name": "stdout",
     "output_type": "stream",
     "text": [
      "3\n",
      "3\n",
      "3\n",
      "3\n",
      "3\n"
     ]
    }
   ],
   "source": [
    "def add(b):\n",
    "    for i in range(5):\n",
    "        print(a+b) \n",
    "    \n",
    "a=1\n",
    "add(2)"
   ]
  },
  {
   "cell_type": "code",
   "execution_count": 1,
   "metadata": {},
   "outputs": [
    {
     "name": "stdout",
     "output_type": "stream",
     "text": [
      "Enter rows : 4\n"
     ]
    },
    {
     "ename": "UnboundLocalError",
     "evalue": "local variable 'sign' referenced before assignment",
     "output_type": "error",
     "traceback": [
      "\u001b[1;31m---------------------------------------------------------------------------\u001b[0m",
      "\u001b[1;31mUnboundLocalError\u001b[0m                         Traceback (most recent call last)",
      "\u001b[1;32m<ipython-input-1-163da9731763>\u001b[0m in \u001b[0;36m<module>\u001b[1;34m\u001b[0m\n\u001b[0;32m      7\u001b[0m \u001b[0mrange1\u001b[0m \u001b[1;33m=\u001b[0m \u001b[0mint\u001b[0m\u001b[1;33m(\u001b[0m\u001b[0mrows\u001b[0m\u001b[1;33m)\u001b[0m\u001b[1;33m\u001b[0m\u001b[1;33m\u001b[0m\u001b[0m\n\u001b[0;32m      8\u001b[0m \u001b[0msign\u001b[0m\u001b[1;33m=\u001b[0m\u001b[1;34m'*'\u001b[0m\u001b[1;33m\u001b[0m\u001b[1;33m\u001b[0m\u001b[0m\n\u001b[1;32m----> 9\u001b[1;33m \u001b[0mshow_stars\u001b[0m\u001b[1;33m(\u001b[0m\u001b[0mrange1\u001b[0m\u001b[1;33m)\u001b[0m\u001b[1;33m\u001b[0m\u001b[1;33m\u001b[0m\u001b[0m\n\u001b[0m",
      "\u001b[1;32m<ipython-input-1-163da9731763>\u001b[0m in \u001b[0;36mshow_stars\u001b[1;34m(r)\u001b[0m\n\u001b[0;32m      1\u001b[0m \u001b[1;32mdef\u001b[0m \u001b[0mshow_stars\u001b[0m\u001b[1;33m(\u001b[0m\u001b[0mr\u001b[0m\u001b[1;33m)\u001b[0m\u001b[1;33m:\u001b[0m\u001b[1;33m\u001b[0m\u001b[1;33m\u001b[0m\u001b[0m\n\u001b[0;32m      2\u001b[0m     \u001b[1;32mfor\u001b[0m \u001b[0mi\u001b[0m \u001b[1;32min\u001b[0m \u001b[0mrange\u001b[0m\u001b[1;33m(\u001b[0m\u001b[1;33m(\u001b[0m\u001b[0mr\u001b[0m\u001b[1;33m)\u001b[0m\u001b[1;33m)\u001b[0m\u001b[1;33m:\u001b[0m\u001b[1;33m\u001b[0m\u001b[1;33m\u001b[0m\u001b[0m\n\u001b[1;32m----> 3\u001b[1;33m         \u001b[0mprint\u001b[0m\u001b[1;33m(\u001b[0m\u001b[0msign\u001b[0m\u001b[1;33m)\u001b[0m\u001b[1;33m\u001b[0m\u001b[1;33m\u001b[0m\u001b[0m\n\u001b[0m\u001b[0;32m      4\u001b[0m         \u001b[0msign\u001b[0m \u001b[1;33m=\u001b[0m\u001b[0msign\u001b[0m\u001b[1;33m+\u001b[0m\u001b[1;34m'*'\u001b[0m\u001b[1;33m\u001b[0m\u001b[1;33m\u001b[0m\u001b[0m\n\u001b[0;32m      5\u001b[0m \u001b[1;33m\u001b[0m\u001b[0m\n",
      "\u001b[1;31mUnboundLocalError\u001b[0m: local variable 'sign' referenced before assignment"
     ]
    }
   ],
   "source": [
    "def show_stars(r):\n",
    "    for i in range((r)):\n",
    "        print(sign)\n",
    "        sign =sign+'*'\n",
    "\n",
    "rows = input('Enter rows : ')\n",
    "range1 = int(rows)\n",
    "sign='*'\n",
    "show_stars(range1)"
   ]
  },
  {
   "cell_type": "code",
   "execution_count": 3,
   "metadata": {},
   "outputs": [
    {
     "name": "stdout",
     "output_type": "stream",
     "text": [
      "Mike and Olsen\n"
     ]
    }
   ],
   "source": [
    "# To keep the inheritance of the parent's __init__() function, add a call to the parent's __init__() function:\n",
    "\n",
    "class Person:\n",
    "    def __init__(self, fname, lname):\n",
    "        self.firstname = fname\n",
    "        self.lastname = lname\n",
    "\n",
    "    def __str__(self):\n",
    "        return '{} and {}'.format(self.firstname, self.lastname)\n",
    "\n",
    "class Student(Person):\n",
    "    pass\n",
    "\n",
    "x = Student(\"Mike\", \"Olsen\")\n",
    "print(x)\n",
    "\n",
    "# Now we have successfully added the __init__() function, and kept the inheritance of the parent class, \n",
    "# and we are ready to add functionality in the __init__() function."
   ]
  },
  {
   "cell_type": "code",
   "execution_count": 4,
   "metadata": {},
   "outputs": [
    {
     "name": "stdout",
     "output_type": "stream",
     "text": [
      "Mike Olsen\n"
     ]
    }
   ],
   "source": [
    "# To keep the inheritance of the parent's __init__() function, add a call to the parent's __init__() function:\n",
    "\n",
    "class Person:\n",
    "    def __init__(self, fname, lname):\n",
    "        self.firstname = fname\n",
    "        self.lastname = lname\n",
    "\n",
    "    def printname(self):\n",
    "        print(self.firstname, self.lastname)\n",
    "\n",
    "class Student(Person):\n",
    "    def __init__(self, fn, ln):\n",
    "        Person.__init__(self, fn, ln) # add a call to the parent's __init__() function\n",
    "\n",
    "x = Student(\"Mike\", \"Olsen\")\n",
    "x.printname()\n",
    "\n",
    "# Now we have successfully added the __init__() function, and kept the inheritance of the parent class, \n",
    "# and we are ready to add functionality in the __init__() function."
   ]
  },
  {
   "cell_type": "code",
   "execution_count": 1,
   "metadata": {},
   "outputs": [
    {
     "name": "stdout",
     "output_type": "stream",
     "text": [
      "Mike Olsen\n"
     ]
    }
   ],
   "source": [
    "\n",
    "class Person:\n",
    "    def __init__(self, fname, lname):\n",
    "        self.firstname = fname\n",
    "        self.lastname = lname\n",
    "\n",
    "    def printname(self):\n",
    "        print(self.firstname, self.lastname)\n",
    "\n",
    "class Student(Person):\n",
    "    def __init__(self, fn, ln):\n",
    "        self.firstname = fn\n",
    "        self.lastname = ln\n",
    "\n",
    "x = Student(\"Mike\", \"Olsen\")\n",
    "x.printname()\n"
   ]
  }
 ],
 "metadata": {
  "kernelspec": {
   "display_name": "Python 3",
   "language": "python",
   "name": "python3"
  },
  "language_info": {
   "codemirror_mode": {
    "name": "ipython",
    "version": 3
   },
   "file_extension": ".py",
   "mimetype": "text/x-python",
   "name": "python",
   "nbconvert_exporter": "python",
   "pygments_lexer": "ipython3",
   "version": "3.8.4"
  }
 },
 "nbformat": 4,
 "nbformat_minor": 4
}
