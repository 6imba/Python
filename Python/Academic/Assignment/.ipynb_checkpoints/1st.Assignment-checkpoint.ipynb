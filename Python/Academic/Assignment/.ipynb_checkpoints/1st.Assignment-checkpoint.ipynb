{
 "cells": [
  {
   "cell_type": "code",
   "execution_count": 1,
   "metadata": {},
   "outputs": [
    {
     "name": "stdout",
     "output_type": "stream",
     "text": [
      "True\n"
     ]
    },
    {
     "data": {
      "text/plain": [
       "False"
      ]
     },
     "execution_count": 1,
     "metadata": {},
     "output_type": "execute_result"
    }
   ],
   "source": [
    "#1.Write a function called is_sorted that takes a list as a parameter and returns True if the list is sorted in ascending order and False otherwise. You can assume (as a precondition) that the elements of the list can be compared with the relational operators<,>, etc.\n",
    "\n",
    "def is_sorted(par_list):\n",
    "    acend_list = sorted(par_list)\n",
    "    if par_list == acend_list:\n",
    "        return True\n",
    "    else:\n",
    "        return False\n",
    "list1 = [1,2,3,4,5,6,7,8,9,10]\n",
    "print(is_sorted(list1))\n",
    "list1 = [2,3,7,54,2,4,6,8]\n",
    "is_sorted(list1)\n"
   ]
  },
  {
   "cell_type": "code",
   "execution_count": 2,
   "metadata": {},
   "outputs": [
    {
     "name": "stdout",
     "output_type": "stream",
     "text": [
      "The inputed strings are : amir  &  rima\n",
      "True\n",
      "The inputed strings are : apple  &  syau\n",
      "False\n",
      "The inputed strings are : Amir  &  rima\n",
      "True\n"
     ]
    }
   ],
   "source": [
    "#2. Two words are anagrams if you can rearrange the letters from one to spell the other.Write a function called is_anagramthat takes two strings and returnsTrueif they are anagrams.\n",
    "\n",
    "def is_anagramthat(word1,word2):\n",
    "    print('The inputed strings are :',word1,' & ',word2)\n",
    "    word3 = word1.casefold()\n",
    "    word4 = word2.casefold()\n",
    "    wordA=sorted(word3)\n",
    "    wordB=sorted(word4)\n",
    "    if wordA == wordB:\n",
    "        return True\n",
    "    else:\n",
    "        return False\n",
    "    \n",
    "print(is_anagramthat('amir','rima'))\n",
    "print(is_anagramthat('apple','syau'))\n",
    "print(is_anagramthat('Amir','rima'))"
   ]
  },
  {
   "cell_type": "code",
   "execution_count": 3,
   "metadata": {},
   "outputs": [
    {
     "data": {
      "text/plain": [
       "[1, 2, 3, 4, 5, 6, 7, 8, 9, 10]"
      ]
     },
     "execution_count": 3,
     "metadata": {},
     "output_type": "execute_result"
    }
   ],
   "source": [
    "# 3. Write a function called remove_duplicates that takes a list and returns a newlist with only the unique elements from the original. \n",
    "\n",
    "def remove_duplicates(a_list):\n",
    "    sub_list=[]\n",
    "    for element in a_list:\n",
    "        if element not in sub_list:\n",
    "            sub_list.append(element) \n",
    "    return sub_list\n",
    "\n",
    "list1 = [1,2,3,1,1,4,5,6,4,5,6,7,8,9,10,10]\n",
    "remove_duplicates(list1)"
   ]
  },
  {
   "cell_type": "code",
   "execution_count": 4,
   "metadata": {},
   "outputs": [
    {
     "name": "stdout",
     "output_type": "stream",
     "text": [
      "0  Not prime number !\n",
      "1  Not prime number !\n",
      "2 Yes, prime number !\n",
      "3 Yes, prime number !\n",
      "4 Not prime number !\n",
      "5 Yes, prime number !\n",
      "6 Not prime number !\n",
      "7 Yes, prime number !\n",
      "8 Not prime number !\n",
      "9 Yes, prime number !\n",
      "10 Not prime number !\n",
      "11 Yes, prime number !\n"
     ]
    }
   ],
   "source": [
    "# 4. Write a program to test the number is prime or not.\n",
    "\n",
    "def test_prime(numb2):\n",
    "    if numb2 == 0 or numb2 == 1:\n",
    "        print(numb2,' Not prime number !')\n",
    "    elif numb2 == 2:\n",
    "        print(numb2,'Yes, prime number !')\n",
    "    else:\n",
    "        for div in range(2,numb2):\n",
    "            if numb2%div==0:\n",
    "                print(numb2,'Not prime number !')\n",
    "                break\n",
    "            else:\n",
    "                print(numb2,'Yes, prime number !')\n",
    "                break\n",
    "        \n",
    "test_prime(0)\n",
    "test_prime(1)\n",
    "test_prime(2)\n",
    "test_prime(3)\n",
    "test_prime(4)\n",
    "test_prime(5)\n",
    "test_prime(6)\n",
    "test_prime(7)\n",
    "test_prime(8)\n",
    "test_prime(9)\n",
    "test_prime(10)\n",
    "test_prime(11)\n",
    "\n",
    "\n"
   ]
  },
  {
   "cell_type": "code",
   "execution_count": 5,
   "metadata": {},
   "outputs": [
    {
     "name": "stdout",
     "output_type": "stream",
     "text": [
      "['m', 'o', 'm']\n",
      "['m', 'o', 'm']\n",
      "Pallindrome !\n",
      "['a', 's', 'd']\n",
      "['d', 's', 'a']\n",
      "Not Pallindrome !\n"
     ]
    }
   ],
   "source": [
    "# 5. Write a python program that checks whether a passed string is palindrome or not.\n",
    "\n",
    "def cheak_pallindrome(string1):\n",
    "    list1 = []\n",
    "    list2 = []\n",
    "    \n",
    "    for char in string1:\n",
    "        list1.append(char)\n",
    "        \n",
    "    i=1\n",
    "    for char in range(len(string1)):\n",
    "        list2.append(string1[-i])\n",
    "        i=i+1\n",
    "        \n",
    "    print(list1)\n",
    "    print(list2)\n",
    "\n",
    "    if list1 == list2:\n",
    "        print('Pallindrome !')\n",
    "    else:\n",
    "        print('Not Pallindrome !')\n",
    "        \n",
    "cheak_pallindrome('mom')\n",
    "cheak_pallindrome('asd')"
   ]
  },
  {
   "cell_type": "code",
   "execution_count": 6,
   "metadata": {},
   "outputs": [
    {
     "name": "stdout",
     "output_type": "stream",
     "text": [
      "4\n",
      "9\n",
      "16\n",
      "144\n"
     ]
    }
   ],
   "source": [
    "# 6. Write a program to generate and print a list where the values are square of numbers between two numbers.\n",
    "\n",
    "def square(numbA,numbB):\n",
    "    for numb in range(numbA,numbB):\n",
    "        print(numb*numb)\n",
    "\n",
    "square(2,5)\n",
    "square(12,13)\n",
    "square(12,12)#no any number\n",
    "    "
   ]
  },
  {
   "cell_type": "code",
   "execution_count": 7,
   "metadata": {},
   "outputs": [
    {
     "name": "stdout",
     "output_type": "stream",
     "text": [
      "Divisible !\n",
      "Not Divisible !\n",
      "0 and 1 are not allowed\n",
      "0 and 1 are not allowed\n"
     ]
    }
   ],
   "source": [
    "# 7. Write a Python function to check whether a number is divisible by another number. Accept two integers values form the user.\n",
    "\n",
    "def div(numbA,numbB):\n",
    "    if numbA==1 or numbB==1 or numbA==0 or numbB==0:\n",
    "        print('0 and 1 are not allowed')\n",
    "    elif numbA%numbB==0:\n",
    "        print('Divisible !')\n",
    "    else:\n",
    "        print('Not Divisible !')\n",
    "    \n",
    "div(4,2)\n",
    "div(3,2)\n",
    "div(0,2)\n",
    "div(3,1)"
   ]
  },
  {
   "cell_type": "code",
   "execution_count": 8,
   "metadata": {},
   "outputs": [],
   "source": [
    "# 8. Write a Python program to check whether variable is of integer or string.\n",
    "\n",
    "# z = raw_input('Enter anything : ')\n",
    "# print(type(z))\n",
    "#error"
   ]
  },
  {
   "cell_type": "code",
   "execution_count": 9,
   "metadata": {},
   "outputs": [
    {
     "name": "stdout",
     "output_type": "stream",
     "text": [
      "0 => 1\n",
      "1 => 2\n",
      "Index of  2  is  1\n",
      "2 => 3\n",
      "3 => 2\n",
      "Index of  2  is  3\n",
      "4 => 5\n",
      "5 => 0\n",
      "6 => 3\n",
      "7 => 6\n",
      "8 => 2\n",
      "Index of  2  is  8\n"
     ]
    }
   ],
   "source": [
    "# 9. Write a Python program find the indices of all occurrences of a given item in a given list.\n",
    "\n",
    "def indices(list2,item):\n",
    "    x=0\n",
    "    for i in list2:\n",
    "        print(x,'=>',i)\n",
    "        if i == item:\n",
    "            print('Index of ', item, ' is ', x)\n",
    "        x=x+1\n",
    "\n",
    "list1= [1,2,3,2,5,0,3,6,2]\n",
    "indices(list1,2)"
   ]
  },
  {
   "cell_type": "code",
   "execution_count": 113,
   "metadata": {},
   "outputs": [
    {
     "name": "stdout",
     "output_type": "stream",
     "text": [
      "Indiecs of  2  is   1 3 8\n"
     ]
    }
   ],
   "source": [
    "def indices(list2,item):\n",
    "    x=0\n",
    "    ans=''\n",
    "    for i in list2:\n",
    "        if i == item:\n",
    "            ans=ans+' '+str(x)\n",
    "        x=x+1\n",
    "    print('Indiecs of ',item,' is ',ans)\n",
    "\n",
    "list1= [1,2,3,2,5,0,3,6,2]\n",
    "indices(list1,2)"
   ]
  }
 ],
 "metadata": {
  "kernelspec": {
   "display_name": "Python 3",
   "language": "python",
   "name": "python3"
  },
  "language_info": {
   "codemirror_mode": {
    "name": "ipython",
    "version": 3
   },
   "file_extension": ".py",
   "mimetype": "text/x-python",
   "name": "python",
   "nbconvert_exporter": "python",
   "pygments_lexer": "ipython3",
   "version": "3.8.4"
  }
 },
 "nbformat": 4,
 "nbformat_minor": 4
}
