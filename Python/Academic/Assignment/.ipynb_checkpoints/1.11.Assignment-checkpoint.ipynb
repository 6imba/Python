{
 "cells": [
  {
   "cell_type": "code",
   "execution_count": 31,
   "metadata": {},
   "outputs": [],
   "source": [
    "class A:\n",
    "    a=5\n"
   ]
  },
  {
   "cell_type": "code",
   "execution_count": 32,
   "metadata": {},
   "outputs": [],
   "source": [
    "class B:\n",
    "    a=5\n",
    "obj1=B"
   ]
  },
  {
   "cell_type": "code",
   "execution_count": 33,
   "metadata": {},
   "outputs": [
    {
     "name": "stdout",
     "output_type": "stream",
     "text": [
      "5\n"
     ]
    }
   ],
   "source": [
    "class C:\n",
    "    a=5\n",
    "    print(a)"
   ]
  },
  {
   "cell_type": "code",
   "execution_count": 34,
   "metadata": {},
   "outputs": [
    {
     "name": "stdout",
     "output_type": "stream",
     "text": [
      "5\n",
      "9\n"
     ]
    }
   ],
   "source": [
    "class D:\n",
    "    a=5\n",
    "    print(a)\n",
    "obj1=D\n",
    "print(obj1.a+4)\n"
   ]
  },
  {
   "cell_type": "code",
   "execution_count": 35,
   "metadata": {},
   "outputs": [
    {
     "ename": "IndentationError",
     "evalue": "expected an indented block (<ipython-input-35-441a0bb2563d>, line 5)",
     "output_type": "error",
     "traceback": [
      "\u001b[1;36m  File \u001b[1;32m\"<ipython-input-35-441a0bb2563d>\"\u001b[1;36m, line \u001b[1;32m5\u001b[0m\n\u001b[1;33m    obj1=J\u001b[0m\n\u001b[1;37m    ^\u001b[0m\n\u001b[1;31mIndentationError\u001b[0m\u001b[1;31m:\u001b[0m expected an indented block\n"
     ]
    }
   ],
   "source": [
    "class G:\n",
    "    a=5\n",
    "    print(a)\n",
    "class J:\n",
    "obj1=J\n"
   ]
  },
  {
   "cell_type": "code",
   "execution_count": 36,
   "metadata": {},
   "outputs": [
    {
     "name": "stdout",
     "output_type": "stream",
     "text": [
      "5\n"
     ]
    }
   ],
   "source": [
    "class E:\n",
    "    def __init__(self):\n",
    "        self.a=5\n",
    "class F(E):\n",
    "    def __init__(self):\n",
    "        super().__init__()\n",
    "        print(self.a)#here self.a is initilized in constructor so we can call it from another class or outside the init function\n",
    "objF=F()\n"
   ]
  },
  {
   "cell_type": "code",
   "execution_count": 38,
   "metadata": {},
   "outputs": [
    {
     "name": "stdout",
     "output_type": "stream",
     "text": [
      "Enter your User_Name : a\n",
      "UserName:  a\n",
      "{}\n",
      "Dictionary loaded :  {'UserName': 'a'}\n",
      "Enter your User_Name : s\n",
      "UserName:  s\n",
      "s\n",
      "{'UserName': 'a'}\n"
     ]
    }
   ],
   "source": [
    "user_dictionary = {}\n",
    "\n",
    "class Parent:\n",
    "    def __init__(self):\n",
    "        self.User_Name=input('Enter your User_Name : ')\n",
    "        print('UserName: ',self.User_Name)\n",
    "        \n",
    "    def database_fake(self):\n",
    "        print(user_dictionary)\n",
    "        user_dictionary['UserName']=self.User_Name\n",
    "        print('Dictionary loaded : ',user_dictionary)\n",
    "\n",
    "        \n",
    "class Child(Parent):\n",
    "    def __init__(self):\n",
    "        super().__init__()\n",
    "        print(self.User_Name)\n",
    "        print(user_dictionary) \n",
    "            \n",
    "obj1=Parent()\n",
    "obj1.database_fake()\n",
    "obj1=Child()\n",
    "\n",
    "\n"
   ]
  },
  {
   "cell_type": "code",
   "execution_count": 39,
   "metadata": {},
   "outputs": [
    {
     "name": "stdout",
     "output_type": "stream",
     "text": [
      "Enter your User_Id : a\n",
      "Enter your User_Name : s\n",
      "Enter your User_Email : d\n",
      "Enter your User_Password : f\n",
      "User_Id :  a\n",
      "UserName:  s\n",
      "UserEmail :  d\n",
      "Password:  f\n",
      "{}\n",
      "{'UserId': 'a', 'UserName': 's', 'UserMail': 'd', 'UserPassword': 'f'}\n",
      "Enter your User_Id : g\n",
      "Enter your User_Name : g\n",
      "Enter your User_Email : g\n",
      "Enter your User_Password : g\n",
      "User_Id :  g\n",
      "UserName:  g\n",
      "UserEmail :  g\n",
      "Password:  g\n",
      "{'UserId': 'a', 'UserName': 's', 'UserMail': 'd', 'UserPassword': 'f'}\n",
      "Update User_Name : g\n",
      "{'UserId': 'a', 'UserName': 'g', 'UserMail': 'd', 'UserPassword': 'f'}\n"
     ]
    }
   ],
   "source": [
    "user_dictionary = {}\n",
    "\n",
    "class User_Model():\n",
    "            \n",
    "    def __init__(self):\n",
    "        \n",
    "        self.User_Id=input('Enter your User_Id : ')\n",
    "        self.User_Name=input('Enter your User_Name : ')\n",
    "        self.User_Email=input('Enter your User_Email : ')\n",
    "        self.User_Password=input('Enter your User_Password : ')\n",
    "        \n",
    "        print('User_Id : ',self.User_Id)\n",
    "        print('UserName: ',self.User_Name)\n",
    "        print('UserEmail : ',self.User_Email)\n",
    "        print('Password: ',self.User_Password)\n",
    "        \n",
    "        \n",
    "    def database_fake(self):\n",
    "\n",
    "        print(user_dictionary)\n",
    "        user_dictionary['UserId']=self.User_Id\n",
    "        user_dictionary['UserName']=self.User_Name\n",
    "        user_dictionary['UserMail']=self.User_Email\n",
    "        user_dictionary['UserPassword']=self.User_Password\n",
    "        print(user_dictionary)\n",
    "\n",
    "\n",
    "class User_Controller(User_Model):\n",
    "\n",
    "#     def __init__(self):\n",
    "#         super().__init__() \n",
    "    \n",
    "    def UpdateUser(self):\n",
    "        print(user_dictionary)\n",
    "        newname=input('Update User_Name : ')\n",
    "        updatename={'UserName':newname}\n",
    "        user_dictionary.update(updatename)\n",
    "        print(user_dictionary)\n",
    "           \n",
    "obj1=User_Model()\n",
    "obj1.database_fake()\n",
    "obj1=User_Controller()\n",
    "obj1.UpdateUser()"
   ]
  },
  {
   "cell_type": "code",
   "execution_count": 40,
   "metadata": {},
   "outputs": [
    {
     "name": "stdout",
     "output_type": "stream",
     "text": [
      "Enter your User_Id : a\n",
      "Enter your User_Name : s\n",
      "Enter your User_Email : d\n",
      "Enter your User_Password : f\n",
      "User_Id :  a\n",
      "UserName:  s\n",
      "UserEmail :  d\n",
      "Password:  f\n",
      "{}\n",
      "{'UserId': 'a', 'UserName': 's', 'UserMail': 'd', 'UserPassword': 'f'}\n",
      "{'UserId': 'a', 'UserName': 's', 'UserMail': 'd', 'UserPassword': 'f'}\n",
      "Update User_Name : g\n",
      "{'UserId': 'a', 'UserName': 'g', 'UserMail': 'd', 'UserPassword': 'f'}\n"
     ]
    }
   ],
   "source": [
    "class User_Model():\n",
    "            \n",
    "    def __init__(self):\n",
    "        \n",
    "        self.User_Id=input('Enter your User_Id : ')\n",
    "        self.User_Name=input('Enter your User_Name : ')\n",
    "        self.User_Email=input('Enter your User_Email : ')\n",
    "        self.User_Password=input('Enter your User_Password : ')\n",
    "        \n",
    "        print('User_Id : ',self.User_Id)\n",
    "        print('UserName: ',self.User_Name)\n",
    "        print('UserEmail : ',self.User_Email)\n",
    "        print('Password: ',self.User_Password)\n",
    "        \n",
    "        \n",
    "    def database_fake(self):\n",
    "\n",
    "        self.user_dic = {}   \n",
    "        print(self.user_dic)\n",
    "        self.user_dic['UserId']=self.User_Id\n",
    "        self.user_dic['UserName']=self.User_Name\n",
    "        self.user_dic['UserMail']=self.User_Email\n",
    "        self.user_dic['UserPassword']=self.User_Password\n",
    "        print(self.user_dic)\n",
    "\n",
    "    def UpdateUser(self):\n",
    "        print(self.user_dic)\n",
    "        newname=input('Update User_Name : ')\n",
    "        updatename={'UserName':newname}\n",
    "        self.user_dic.update(updatename)\n",
    "        print(self.user_dic)\n",
    "\n",
    "obj1=User_Model()\n",
    "obj1.database_fake()\n",
    "obj1.UpdateUser()"
   ]
  },
  {
   "cell_type": "code",
   "execution_count": 41,
   "metadata": {},
   "outputs": [
    {
     "name": "stdout",
     "output_type": "stream",
     "text": [
      "Enter your User_Id : a\n",
      "Enter your User_Name : c\n",
      "Enter your User_Email : g\n",
      "Enter your User_Password : u\n",
      "User_Id :  a\n",
      "UserName:  c\n",
      "UserEmail :  g\n",
      "Password:  u\n",
      "{}\n",
      "{'UserId': 'a', 'UserName': 'c', 'UserMail': 'g', 'UserPassword': 'u'}\n",
      "{'UserId': 'a', 'UserName': 'c', 'UserMail': 'g', 'UserPassword': 'u'}\n",
      "Update User_Name : k\n",
      "{'UserId': 'a', 'UserName': 'k', 'UserMail': 'g', 'UserPassword': 'u'}\n"
     ]
    }
   ],
   "source": [
    "class User_Model():\n",
    "            \n",
    "    def __init__(self):\n",
    "        \n",
    "        self.User_Id=input('Enter your User_Id : ')\n",
    "        self.User_Name=input('Enter your User_Name : ')\n",
    "        self.User_Email=input('Enter your User_Email : ')\n",
    "        self.User_Password=input('Enter your User_Password : ')\n",
    "        \n",
    "        print('User_Id : ',self.User_Id)\n",
    "        print('UserName: ',self.User_Name)\n",
    "        print('UserEmail : ',self.User_Email)\n",
    "        print('Password: ',self.User_Password)\n",
    "        \n",
    "        \n",
    "    def database_fake(self):\n",
    "\n",
    "        print(user_dictionary)\n",
    "        user_dictionary['UserId']=self.User_Id\n",
    "        user_dictionary['UserName']=self.User_Name\n",
    "        user_dictionary['UserMail']=self.User_Email\n",
    "        user_dictionary['UserPassword']=self.User_Password\n",
    "        print(user_dictionary)\n",
    "\n",
    "    def UpdateUser(self):\n",
    "        print(user_dictionary)\n",
    "        newname=input('Update User_Name : ')\n",
    "        updatename={'UserName':newname}\n",
    "        user_dictionary.update(updatename)\n",
    "        print(user_dictionary)\n",
    "\n",
    "user_dictionary = {}   \n",
    "obj1=User_Model()\n",
    "obj1.database_fake()\n",
    "obj1.UpdateUser()"
   ]
  },
  {
   "cell_type": "code",
   "execution_count": null,
   "metadata": {},
   "outputs": [],
   "source": [
    "class A():\n",
    "    def __init__(self):\n",
    "        self.diction = {'name':'Amir'}\n",
    "        \n",
    "class B(A):\n",
    "    def __init__(self):\n",
    "        super().__init__()\n",
    "    \n",
    "    def output(self):\n",
    "        d={'name':'mir'}\n",
    "        self.diction.update(d)\n",
    "        print(self.diction)\n",
    "    \n",
    "obj1=B()\n",
    "obj1.output()"
   ]
  },
  {
   "cell_type": "code",
   "execution_count": 37,
   "metadata": {},
   "outputs": [
    {
     "name": "stdout",
     "output_type": "stream",
     "text": [
      "Enter your User_Name : as\n",
      "UserName:  as\n",
      "{}\n",
      "{'UserName': 'as'}\n",
      "Enter your User_Name : as\n",
      "UserName:  as\n",
      "as\n"
     ]
    }
   ],
   "source": [
    "class Parent:\n",
    "    def __init__(self):\n",
    "        self.User_Name=input('Enter your User_Name : ')\n",
    "        print('UserName: ',self.User_Name)\n",
    "        \n",
    "    def database_fake(self):\n",
    "        self.user_dictionary = {}\n",
    "        print(self.user_dictionary)\n",
    "        self.user_dictionary['UserName']=self.User_Name\n",
    "        print(self.user_dictionary)\n",
    "\n",
    "        \n",
    "class Child(Parent):\n",
    "    def __init__(self):\n",
    "        super().__init__()\n",
    "        print(self.User_Name)#here self.User_Name is initilized in constructor so we call call it from another class or outside the init function\n",
    "        #print(self.user_dictionary) # but here self.user_dictionary is local variable of function database_fake inside class Parent so we cannot call it outside the class\n",
    "            \n",
    "obj1=Parent()\n",
    "obj1.database_fake()\n",
    "obj1=Child()\n",
    "\n",
    "\n"
   ]
  },
  {
   "cell_type": "code",
   "execution_count": null,
   "metadata": {},
   "outputs": [],
   "source": []
  },
  {
   "cell_type": "code",
   "execution_count": null,
   "metadata": {},
   "outputs": [],
   "source": []
  },
  {
   "cell_type": "code",
   "execution_count": null,
   "metadata": {},
   "outputs": [],
   "source": []
  },
  {
   "cell_type": "code",
   "execution_count": null,
   "metadata": {},
   "outputs": [],
   "source": []
  },
  {
   "cell_type": "code",
   "execution_count": 30,
   "metadata": {},
   "outputs": [
    {
     "name": "stdout",
     "output_type": "stream",
     "text": [
      "Enter your User_Id : a\n",
      "Enter your User_Name : s\n",
      "Enter your User_Email : d\n",
      "Enter your User_Password : f\n",
      "User_Id :  a\n",
      "UserName:  s\n",
      "UserEmail :  d\n",
      "Password:  f\n",
      "{}\n",
      "Dictionary loaded :  {'UserId': 'a', 'UserName': 's', 'UserMail': 'd', 'UserPassword': 'f'}\n",
      "Enter your User_Id : g\n",
      "Enter your User_Name : h\n",
      "Enter your User_Email : jh\n",
      "Enter your User_Password : kj\n",
      "User_Id :  g\n",
      "UserName:  h\n",
      "UserEmail :  jh\n",
      "Password:  kj\n",
      "{'UserId': 'a', 'UserName': 's', 'UserMail': 'd', 'UserPassword': 'f'}\n",
      "Update User_Name : f\n",
      "{'UserId': 'a', 'UserName': 'f', 'UserMail': 'd', 'UserPassword': 'f'}\n"
     ]
    }
   ],
   "source": [
    "user_dictionary = {}\n",
    "\n",
    "class User_Model():\n",
    "            \n",
    "    def __init__(self):\n",
    "        \n",
    "        self.User_Id=input('Enter your User_Id : ')\n",
    "        self.User_Name=input('Enter your User_Name : ')\n",
    "        self.User_Email=input('Enter your User_Email : ')\n",
    "        self.User_Password=input('Enter your User_Password : ')\n",
    "        \n",
    "        print('User_Id : ',self.User_Id)\n",
    "        print('UserName: ',self.User_Name)\n",
    "        print('UserEmail : ',self.User_Email)\n",
    "        print('Password: ',self.User_Password)\n",
    "        \n",
    "        \n",
    "    def database_fake(self):\n",
    "\n",
    "        print(user_dictionary)\n",
    "        user_dictionary['UserId']=self.User_Id\n",
    "        user_dictionary['UserName']=self.User_Name\n",
    "        user_dictionary['UserMail']=self.User_Email\n",
    "        user_dictionary['UserPassword']=self.User_Password\n",
    "        print('Dictionary loaded : ',user_dictionary)\n",
    "\n",
    "\n",
    "class User_Controller(User_Model):\n",
    "\n",
    "#     def __init__(self):\n",
    "#         super().__init__() \n",
    "    # child class automatically call parent constructor if it dont have its own constructor\n",
    "    def UpdateUser(self):\n",
    "        print(user_dictionary)\n",
    "        newname=input('Update User_Name : ')\n",
    "        updatename={'UserName':newname}\n",
    "        user_dictionary.update(updatename)\n",
    "        print(user_dictionary)\n",
    "           \n",
    "obj1=User_Model()\n",
    "obj1.database_fake()\n",
    "obj1=User_Controller()\n",
    "obj1.UpdateUser()"
   ]
  },
  {
   "cell_type": "code",
   "execution_count": 13,
   "metadata": {},
   "outputs": [
    {
     "name": "stdout",
     "output_type": "stream",
     "text": [
      "Enter your User_Id : q\n",
      "Enter your User_Name : w\n",
      "Enter your User_Email : e\n",
      "Enter your User_Password : r\n",
      "User_Id :  q\n",
      "UserName:  w\n",
      "UserEmail :  e\n",
      "Password:  r\n",
      "{}\n",
      "Dictionary loaded :  {'UserId': 'q', 'UserName': 'w', 'UserMail': 'e', 'UserPassword': 'r'}\n",
      "{'UserId': 'q', 'UserName': 'w', 'UserMail': 'e', 'UserPassword': 'r'}\n",
      "Update User_Name : c\n",
      "{'UserId': 'q', 'UserName': 'c', 'UserMail': 'e', 'UserPassword': 'r'}\n"
     ]
    }
   ],
   "source": [
    "user_dictionary = {}\n",
    "\n",
    "class User_Model():\n",
    "            \n",
    "    def __init__(self):\n",
    "        \n",
    "        self.User_Id=input('Enter your User_Id : ')\n",
    "        self.User_Name=input('Enter your User_Name : ')\n",
    "        self.User_Email=input('Enter your User_Email : ')\n",
    "        self.User_Password=input('Enter your User_Password : ')\n",
    "        \n",
    "        print('User_Id : ',self.User_Id)\n",
    "        print('UserName: ',self.User_Name)\n",
    "        print('UserEmail : ',self.User_Email)\n",
    "        print('Password: ',self.User_Password)\n",
    "        \n",
    "        \n",
    "    def database_fake(self):\n",
    "\n",
    "        print(user_dictionary)\n",
    "        user_dictionary['UserId']=self.User_Id\n",
    "        user_dictionary['UserName']=self.User_Name\n",
    "        user_dictionary['UserMail']=self.User_Email\n",
    "        user_dictionary['UserPassword']=self.User_Password\n",
    "        print('Dictionary loaded : ',user_dictionary)\n",
    "\n",
    "\n",
    "class User_Controller(User_Model):\n",
    "    def __init__(self): # child class contructor initialize\n",
    "        pass\n",
    "#         super().__init__() \n",
    "    def UpdateUser(self):\n",
    "        print(user_dictionary)\n",
    "        newname=input('Update User_Name : ')\n",
    "        updatename={'UserName':newname}\n",
    "        user_dictionary.update(updatename)\n",
    "        print(user_dictionary)\n",
    "           \n",
    "obj1=User_Model()\n",
    "obj1.database_fake()\n",
    "obj1=User_Controller()\n",
    "obj1.UpdateUser()"
   ]
  },
  {
   "cell_type": "code",
   "execution_count": 14,
   "metadata": {},
   "outputs": [
    {
     "name": "stdout",
     "output_type": "stream",
     "text": [
      "Enter your User_Id : a\n",
      "Enter your User_Name : b\n",
      "Enter your User_Email : c\n",
      "Enter your User_Password : d\n",
      "User_Id :  a\n",
      "UserName:  b\n",
      "UserEmail :  c\n",
      "Password:  d\n",
      "{}\n",
      "Dictionary loaded :  {'UserId': 'a', 'UserName': 'b', 'UserMail': 'c', 'UserPassword': 'd'}\n",
      "Enter your User_Id : a\n",
      "Enter your User_Name : s\n",
      "Enter your User_Email : d\n",
      "Enter your User_Password : f\n",
      "User_Id :  a\n",
      "UserName:  s\n",
      "UserEmail :  d\n",
      "Password:  f\n",
      "{'UserId': 'a', 'UserName': 'b', 'UserMail': 'c', 'UserPassword': 'd'}\n",
      "Update User_Name : c\n",
      "{'UserId': 'a', 'UserName': 'c', 'UserMail': 'c', 'UserPassword': 'd'}\n"
     ]
    }
   ],
   "source": [
    "user_dictionary = {}\n",
    "\n",
    "class User_Model():\n",
    "            \n",
    "    def __init__(self):\n",
    "        \n",
    "        self.User_Id=input('Enter your User_Id : ')\n",
    "        self.User_Name=input('Enter your User_Name : ')\n",
    "        self.User_Email=input('Enter your User_Email : ')\n",
    "        self.User_Password=input('Enter your User_Password : ')\n",
    "        \n",
    "        print('User_Id : ',self.User_Id)\n",
    "        print('UserName: ',self.User_Name)\n",
    "        print('UserEmail : ',self.User_Email)\n",
    "        print('Password: ',self.User_Password)\n",
    "        \n",
    "        \n",
    "    def database_fake(self):\n",
    "\n",
    "        print(user_dictionary)\n",
    "        user_dictionary['UserId']=self.User_Id\n",
    "        user_dictionary['UserName']=self.User_Name\n",
    "        user_dictionary['UserMail']=self.User_Email\n",
    "        user_dictionary['UserPassword']=self.User_Password\n",
    "        print('Dictionary loaded : ',user_dictionary)\n",
    "\n",
    "\n",
    "class User_Controller(User_Model):\n",
    "    def __init__(self): # child class contructor initialize\n",
    "        super().__init__() \n",
    "    def UpdateUser(self):\n",
    "        print(user_dictionary)\n",
    "        newname=input('Update User_Name : ')\n",
    "        updatename={'UserName':newname}\n",
    "        user_dictionary.update(updatename)\n",
    "        print(user_dictionary)\n",
    "           \n",
    "obj1=User_Model()\n",
    "obj1.database_fake()\n",
    "obj1=User_Controller()\n",
    "obj1.UpdateUser()"
   ]
  },
  {
   "cell_type": "code",
   "execution_count": 15,
   "metadata": {},
   "outputs": [
    {
     "name": "stdout",
     "output_type": "stream",
     "text": [
      "5\n"
     ]
    }
   ],
   "source": [
    "class G:\n",
    "    a=5\n",
    "    print(a)\n",
    "class J(G):\n",
    "    pass\n",
    "obj1=J\n",
    "# child class automatically call parent constructor"
   ]
  },
  {
   "cell_type": "code",
   "execution_count": 22,
   "metadata": {},
   "outputs": [
    {
     "name": "stdout",
     "output_type": "stream",
     "text": [
      "I am Parent_Constructor !\n"
     ]
    }
   ],
   "source": [
    "class Parent:\n",
    "    def __init__(self):\n",
    "        print('I am Parent_Constructor !')\n",
    "class Child(Parent):\n",
    "    pass\n",
    "    #print('I am Child_Class !')\n",
    "\n",
    "objChild = Child()"
   ]
  },
  {
   "cell_type": "code",
   "execution_count": 24,
   "metadata": {},
   "outputs": [
    {
     "name": "stdout",
     "output_type": "stream",
     "text": [
      "I am Child_Class !\n",
      "I am Parent_Constructor !\n"
     ]
    }
   ],
   "source": [
    "class Parent:\n",
    "    def __init__(self):\n",
    "        print('I am Parent_Constructor !')\n",
    "class Child(Parent):\n",
    "    pass\n",
    "    print('I am Child_Class !')\n",
    "\n",
    "objChild = Child()"
   ]
  },
  {
   "cell_type": "code",
   "execution_count": 27,
   "metadata": {},
   "outputs": [
    {
     "name": "stdout",
     "output_type": "stream",
     "text": [
      "I am Parent_Constructor !\n",
      "I am Child_Class !\n"
     ]
    }
   ],
   "source": [
    "class Parent:\n",
    "    def __init__(self):\n",
    "        print('I am Parent_Constructor !')\n",
    "class Child(Parent):\n",
    "    def __init__(self):\n",
    "        super().__init__()\n",
    "        print('I am Child_Class !')\n",
    "\n",
    "objChild = Child()"
   ]
  }
 ],
 "metadata": {
  "kernelspec": {
   "display_name": "Python 3",
   "language": "python",
   "name": "python3"
  },
  "language_info": {
   "codemirror_mode": {
    "name": "ipython",
    "version": 3
   },
   "file_extension": ".py",
   "mimetype": "text/x-python",
   "name": "python",
   "nbconvert_exporter": "python",
   "pygments_lexer": "ipython3",
   "version": "3.8.4"
  }
 },
 "nbformat": 4,
 "nbformat_minor": 4
}
