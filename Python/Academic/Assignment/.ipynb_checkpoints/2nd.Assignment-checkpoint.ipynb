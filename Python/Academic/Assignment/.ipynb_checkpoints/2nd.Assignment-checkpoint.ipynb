{
 "cells": [
  {
   "cell_type": "code",
   "execution_count": 1,
   "metadata": {},
   "outputs": [
    {
     "data": {
      "text/plain": [
       "3"
      ]
     },
     "execution_count": 1,
     "metadata": {},
     "output_type": "execute_result"
    }
   ],
   "source": [
    "# 1.Write a function that returns the maximum of two numbers.\n",
    "\n",
    "def maxi(a,b):\n",
    "    if a>b:\n",
    "        return a\n",
    "    else:\n",
    "        return b\n",
    "maxi(3,2)"
   ]
  },
  {
   "cell_type": "code",
   "execution_count": 2,
   "metadata": {},
   "outputs": [
    {
     "name": "stdout",
     "output_type": "stream",
     "text": [
      "Point :  2\n",
      "Point :  1\n",
      "License suspended !\n"
     ]
    }
   ],
   "source": [
    "# Write a function for checking the speed of drivers. This function should have one parameter: speed.\n",
    "\n",
    "# If speed is less than 70, it should print “Ok”.\n",
    "# Otherwise, for every 5km above the speed limit (70), it should give the driver one demerit point and print the total number of demerit points. For example, if the speed is 80, it should print: “Points: 2”.\n",
    "# If the driver gets more than 12 points, the function should print: “License suspended”\n",
    "\n",
    "def speed_test(speed):\n",
    "    if speed<70:\n",
    "        print('OK !')\n",
    "    if speed>75:\n",
    "        x=speed-70\n",
    "        point=x/5\n",
    "        if point>12:\n",
    "            print('License suspended !')\n",
    "        else:\n",
    "            print('Point : ',int(point))\n",
    "        \n",
    "    \n",
    "speed_test(80)\n",
    "speed_test(76)\n",
    "speed_test(156)"
   ]
  },
  {
   "cell_type": "code",
   "execution_count": 3,
   "metadata": {},
   "outputs": [
    {
     "name": "stdout",
     "output_type": "stream",
     "text": [
      "(10, -2, 24, 0.6666666666666666)\n"
     ]
    }
   ],
   "source": [
    "# 3.Define a function that can receive two integral numbers in string form and compute their arithmeatic operation and then print it in console.\n",
    "\n",
    "def maths(strint1,strint2):\n",
    "    add = int(strint1)+int(strint2)\n",
    "    sub = int(strint1)-int(strint2)\n",
    "    mult = int(strint1)*int(strint2)\n",
    "    div = int(strint1)/int(strint2)\n",
    "    return add,sub,mult,div\n",
    "\n",
    "print(maths(str(4),str(6)))\n"
   ]
  },
  {
   "cell_type": "code",
   "execution_count": 4,
   "metadata": {},
   "outputs": [
    {
     "name": "stdout",
     "output_type": "stream",
     "text": [
      "Enter stringamit\n",
      "Enter stringdsfsdf\n",
      "amitdsfsdf\n"
     ]
    }
   ],
   "source": [
    "# 4.Define a function that can accept two strings as input and concatenate them and then print it in console\n",
    "\n",
    "def con(a,b):\n",
    "    print(a+b)\n",
    "    \n",
    "str1,str2=input('Enter string'),input('Enter string')\n",
    "con(str1,str2)"
   ]
  },
  {
   "cell_type": "code",
   "execution_count": 6,
   "metadata": {},
   "outputs": [
    {
     "name": "stdout",
     "output_type": "stream",
     "text": [
      "{'i': 1, 'am': 2, 'chiti': 5, 'the': 3, 'robot!': 6}\n"
     ]
    }
   ],
   "source": [
    "#5. Write a program to compute the frequency of the words from the input. The output should output after sorting the key alphanumerically.\n",
    "\n",
    "def word_count(str2):\n",
    "    list1=str1.split()\n",
    "    dict1={}\n",
    "    for item in list1:\n",
    "        dict1[item]=len(item)\n",
    "    print(dict1)\n",
    "str1='i am chiti the robot!'\n",
    "word_count(str1)"
   ]
  },
  {
   "cell_type": "code",
   "execution_count": 7,
   "metadata": {},
   "outputs": [
    {
     "name": "stdout",
     "output_type": "stream",
     "text": [
      "Uppercae =>  2  and lowercase =>  3\n"
     ]
    }
   ],
   "source": [
    "# 6.Write a program that accepts a sentence and calculate the number of upper case letters and lower case letters.\n",
    "\n",
    "def count_letter(str2):\n",
    "    list1=str1.split()\n",
    "    up=0\n",
    "    low=0\n",
    "    for item in list1:\n",
    "        if item.capitalize() == item:\n",
    "            up=up+1\n",
    "        else:\n",
    "            low=low+1\n",
    "    print('Uppercae => ',up,' and lowercase => ',low)\n",
    "str1='I am Chiti the robot!'\n",
    "count_letter(str1)"
   ]
  },
  {
   "cell_type": "code",
   "execution_count": 8,
   "metadata": {},
   "outputs": [
    {
     "name": "stdout",
     "output_type": "stream",
     "text": [
      "Number of letter :  33\n",
      "Number of number :  3\n"
     ]
    }
   ],
   "source": [
    "# 7.Write a program that accepts a sentence and calculate the number of letters and digits.\n",
    "\n",
    "def cal(sten2):\n",
    "    sub=[]#empty_list\n",
    "    low=sten2.lower()#convert all text into lowercase\n",
    "    \n",
    "    #add all letter into sub\n",
    "    for all_char in low:\n",
    "        sub.append(all_char)\n",
    "        \n",
    "    # count letter\n",
    "    letter_count=0\n",
    "    letter=['a','b','c','d','e','f','g','h','i','j','k','l','m','n','o','p','q','r','s','t','u','v','w','x','y','z']   \n",
    "    for item in sub:\n",
    "        if item in letter:\n",
    "                letter_count=letter_count+1\n",
    "    print('Number of letter : ',letter_count)\n",
    "    \n",
    "    # count number\n",
    "    numb_count=0\n",
    "    numb=['0','1','2','3','4','5','6','7','8','9']      \n",
    "    for item in sub:\n",
    "        if item in numb:\n",
    "                numb_count=numb_count+1\n",
    "    print('Number of number : ',numb_count)\n",
    "    \n",
    "sent1='123 hili hilo M/C testing ... I am Chiti the robot!'\n",
    "cal(sent1)"
   ]
  },
  {
   "cell_type": "code",
   "execution_count": 9,
   "metadata": {},
   "outputs": [
    {
     "name": "stdout",
     "output_type": "stream",
     "text": [
      "Numbersbetween (1000-5000) which are divisible by 7 but are not a multiple of 4 are  [1001, 1015, 1022, 1029, 1043, 1050, 1057, 1071, 1078, 1085, 1099, 1106, 1113, 1127, 1134, 1141, 1155, 1162, 1169, 1183, 1190, 1197, 1211, 1218, 1225, 1239, 1246, 1253, 1267, 1274, 1281, 1295, 1302, 1309, 1323, 1330, 1337, 1351, 1358, 1365, 1379, 1386, 1393, 1407, 1414, 1421, 1435, 1442, 1449, 1463, 1470, 1477, 1491, 1498, 1505, 1519, 1526, 1533, 1547, 1554, 1561, 1575, 1582, 1589, 1603, 1610, 1617, 1631, 1638, 1645, 1659, 1666, 1673, 1687, 1694, 1701, 1715, 1722, 1729, 1743, 1750, 1757, 1771, 1778, 1785, 1799, 1806, 1813, 1827, 1834, 1841, 1855, 1862, 1869, 1883, 1890, 1897, 1911, 1918, 1925, 1939, 1946, 1953, 1967, 1974, 1981, 1995, 2002, 2009, 2023, 2030, 2037, 2051, 2058, 2065, 2079, 2086, 2093, 2107, 2114, 2121, 2135, 2142, 2149, 2163, 2170, 2177, 2191, 2198, 2205, 2219, 2226, 2233, 2247, 2254, 2261, 2275, 2282, 2289, 2303, 2310, 2317, 2331, 2338, 2345, 2359, 2366, 2373, 2387, 2394, 2401, 2415, 2422, 2429, 2443, 2450, 2457, 2471, 2478, 2485, 2499, 2506, 2513, 2527, 2534, 2541, 2555, 2562, 2569, 2583, 2590, 2597, 2611, 2618, 2625, 2639, 2646, 2653, 2667, 2674, 2681, 2695, 2702, 2709, 2723, 2730, 2737, 2751, 2758, 2765, 2779, 2786, 2793, 2807, 2814, 2821, 2835, 2842, 2849, 2863, 2870, 2877, 2891, 2898, 2905, 2919, 2926, 2933, 2947, 2954, 2961, 2975, 2982, 2989, 3003, 3010, 3017, 3031, 3038, 3045, 3059, 3066, 3073, 3087, 3094, 3101, 3115, 3122, 3129, 3143, 3150, 3157, 3171, 3178, 3185, 3199, 3206, 3213, 3227, 3234, 3241, 3255, 3262, 3269, 3283, 3290, 3297, 3311, 3318, 3325, 3339, 3346, 3353, 3367, 3374, 3381, 3395, 3402, 3409, 3423, 3430, 3437, 3451, 3458, 3465, 3479, 3486, 3493, 3507, 3514, 3521, 3535, 3542, 3549, 3563, 3570, 3577, 3591, 3598, 3605, 3619, 3626, 3633, 3647, 3654, 3661, 3675, 3682, 3689, 3703, 3710, 3717, 3731, 3738, 3745, 3759, 3766, 3773, 3787, 3794, 3801, 3815, 3822, 3829, 3843, 3850, 3857, 3871, 3878, 3885, 3899, 3906, 3913, 3927, 3934, 3941, 3955, 3962, 3969, 3983, 3990, 3997, 4011, 4018, 4025, 4039, 4046, 4053, 4067, 4074, 4081, 4095, 4102, 4109, 4123, 4130, 4137, 4151, 4158, 4165, 4179, 4186, 4193, 4207, 4214, 4221, 4235, 4242, 4249, 4263, 4270, 4277, 4291, 4298, 4305, 4319, 4326, 4333, 4347, 4354, 4361, 4375, 4382, 4389, 4403, 4410, 4417, 4431, 4438, 4445, 4459, 4466, 4473, 4487, 4494, 4501, 4515, 4522, 4529, 4543, 4550, 4557, 4571, 4578, 4585, 4599, 4606, 4613, 4627, 4634, 4641, 4655, 4662, 4669, 4683, 4690, 4697, 4711, 4718, 4725, 4739, 4746, 4753, 4767, 4774, 4781, 4795, 4802, 4809, 4823, 4830, 4837, 4851, 4858, 4865, 4879, 4886, 4893, 4907, 4914, 4921, 4935, 4942, 4949, 4963, 4970, 4977, 4991, 4998]\n"
     ]
    }
   ],
   "source": [
    "# 8.Write a program which will find all such numbers which are divisible by 7 but are not a multiple of 4, between 1000 and 5000 (both included).\n",
    "#multiple of 4 are like 4,8,16,20,24,28...\n",
    "\n",
    "sub=[]\n",
    "for numb in range(1000,5001):\n",
    "    if numb%7==0 and numb%4!=0:\n",
    "        sub.append(numb)\n",
    "print('Numbersbetween (1000-5000) which are divisible by 7 but are not a multiple of 4 are ',sub)"
   ]
  },
  {
   "cell_type": "code",
   "execution_count": 10,
   "metadata": {},
   "outputs": [
    {
     "name": "stdout",
     "output_type": "stream",
     "text": [
      "Enter number : 4\n",
      "Factorial :  24\n"
     ]
    }
   ],
   "source": [
    "# 9.Write a program which can compute the factorial of a given numbers using recursion.\n",
    "\n",
    "# without using recursion\n",
    "def fact(numb1):\n",
    "    if numb1==1 or numb1==0:\n",
    "        print('Factorial : 1')\n",
    "    \n",
    "    else:\n",
    "        num=numb1\n",
    "        for i in range(numb1):\n",
    "            if numb1==1:\n",
    "                break\n",
    "            num=num*(numb1-1)\n",
    "            numb1=numb1-1\n",
    "        print('Factorial : ',num)\n",
    "        \n",
    "a=input('Enter number : ')\n",
    "fact(int(a))\n"
   ]
  },
  {
   "cell_type": "code",
   "execution_count": 11,
   "metadata": {},
   "outputs": [
    {
     "name": "stdout",
     "output_type": "stream",
     "text": [
      "Enter number : 5\n"
     ]
    },
    {
     "data": {
      "text/plain": [
       "120"
      ]
     },
     "execution_count": 11,
     "metadata": {},
     "output_type": "execute_result"
    }
   ],
   "source": [
    "# using recursion\n",
    "\n",
    "def fact(numb1):\n",
    "    if numb1 ==1 or numb1 ==0:\n",
    "        return 1\n",
    "    else:\n",
    "        return numb1*fact(numb1-1)\n",
    "    \n",
    "a=input('Enter number : ')\n",
    "fact(int(a))\n",
    " "
   ]
  },
  {
   "cell_type": "code",
   "execution_count": 1,
   "metadata": {},
   "outputs": [
    {
     "name": "stdout",
     "output_type": "stream",
     "text": [
      "Enter a sequence of comma-separated numbers : 1\n",
      "[1]\n",
      "\n",
      "\n",
      "1\n",
      "<class 'str'>\n",
      "\n",
      "\n",
      "[1]\n",
      "<class 'tuple'>\n",
      "\n",
      "\n"
     ]
    },
    {
     "ename": "IndexError",
     "evalue": "tuple index out of range",
     "output_type": "error",
     "traceback": [
      "\u001b[1;31m---------------------------------------------------------------------------\u001b[0m",
      "\u001b[1;31mIndexError\u001b[0m                                Traceback (most recent call last)",
      "\u001b[1;32m<ipython-input-1-a29900308159>\u001b[0m in \u001b[0;36m<module>\u001b[1;34m\u001b[0m\n\u001b[0;32m     56\u001b[0m \u001b[0mprint\u001b[0m\u001b[1;33m(\u001b[0m\u001b[1;34m'\\n'\u001b[0m\u001b[1;33m)\u001b[0m\u001b[1;33m\u001b[0m\u001b[1;33m\u001b[0m\u001b[0m\n\u001b[0;32m     57\u001b[0m \u001b[1;33m\u001b[0m\u001b[0m\n\u001b[1;32m---> 58\u001b[1;33m \u001b[0mprint\u001b[0m\u001b[1;33m(\u001b[0m\u001b[0mtuple_data\u001b[0m\u001b[1;33m[\u001b[0m\u001b[1;36m2\u001b[0m\u001b[1;33m]\u001b[0m\u001b[1;33m)\u001b[0m\u001b[1;33m\u001b[0m\u001b[1;33m\u001b[0m\u001b[0m\n\u001b[0m\u001b[0;32m     59\u001b[0m \u001b[0mprint\u001b[0m\u001b[1;33m(\u001b[0m\u001b[0mtype\u001b[0m\u001b[1;33m(\u001b[0m\u001b[0mtuple_data\u001b[0m\u001b[1;33m[\u001b[0m\u001b[1;36m2\u001b[0m\u001b[1;33m]\u001b[0m\u001b[1;33m)\u001b[0m\u001b[1;33m)\u001b[0m\u001b[1;33m\u001b[0m\u001b[1;33m\u001b[0m\u001b[0m\n\u001b[0;32m     60\u001b[0m \u001b[1;33m\u001b[0m\u001b[0m\n",
      "\u001b[1;31mIndexError\u001b[0m: tuple index out of range"
     ]
    }
   ],
   "source": [
    "# 10.Write a program which accepts a sequence of comma-separated numbers from console and generate a list and a tuple which contains every number.\n",
    "\n",
    "\n",
    "# sequence2 = input('Enter a sequence of comma-separated numbers : ')\n",
    "# list_data = sequence2.split(',')\n",
    "\n",
    "# print('\\n')\n",
    "\n",
    "# print(sequence2)\n",
    "# print(type(sequence2))\n",
    "\n",
    "# print('\\n')\n",
    "\n",
    "# tuple_data=tuple(list_data)\n",
    "# print(tuple_data)\n",
    "# print(type(tuple_data))\n",
    "\n",
    "# print('\\n')\n",
    "\n",
    "# print(tuple_data[2])\n",
    "# print(type(tuple_data[2]))\n",
    "\n",
    "# print('\\n')\n",
    "\n",
    "# print(list_data)\n",
    "# print(type(list_data))\n",
    "\n",
    "# print('\\n')\n",
    "\n",
    "# print(list_data[2])\n",
    "# print(type(list_data[2]))\n",
    "\n",
    "# by this code numbers are in str form so we have to convert it into int\n",
    "\n",
    "\n",
    "\n",
    "sequence2 = input('Enter a sequence of comma-separated numbers : ')\n",
    "list_data = sequence2.split(',')\n",
    "\n",
    "list1_data=[]\n",
    "for all_numb in list_data:\n",
    "    list1_data.append(int(all_numb))\n",
    "print(list1_data)\n",
    "\n",
    "print('\\n')\n",
    "\n",
    "print(sequence2)\n",
    "print(type(sequence2))\n",
    "\n",
    "print('\\n')\n",
    "\n",
    "tuple_data=tuple(list1_data)\n",
    "print(list1_data)\n",
    "print(type(tuple_data))\n",
    "\n",
    "print('\\n')\n",
    "\n",
    "print(tuple_data[2])\n",
    "print(type(tuple_data[2]))\n",
    "\n",
    "print('\\n')\n",
    "\n",
    "print(list1_data)\n",
    "print(type(list1_data))\n",
    "\n",
    "print('\\n')\n",
    "\n",
    "print(list1_data[2])\n",
    "print(type(list1_data[2]))\n",
    "\n"
   ]
  },
  {
   "cell_type": "code",
   "execution_count": 14,
   "metadata": {},
   "outputs": [
    {
     "name": "stdout",
     "output_type": "stream",
     "text": [
      "<class 'map'>\n",
      "[5, 6, 6]\n"
     ]
    }
   ],
   "source": [
    "def myfunc(a):\n",
    "    return len(a)\n",
    "\n",
    "x = map(myfunc, ('apple', 'banana', 'cherry'))\n",
    "\n",
    "print(type(x))\n",
    "\n",
    "#convert the map into a list, for readability:\n",
    "print(list(x))"
   ]
  },
  {
   "cell_type": "code",
   "execution_count": 2,
   "metadata": {},
   "outputs": [
    {
     "name": "stdout",
     "output_type": "stream",
     "text": [
      "<map object at 0x04F48520>\n",
      "apple\n",
      "orange\n",
      "banana\n",
      "lemon\n",
      "cherry\n",
      "pineapple\n",
      "['appleorange', 'bananalemon', 'cherrypineapple']\n"
     ]
    }
   ],
   "source": [
    "def myfunc(a, b):\n",
    "    print(a)\n",
    "    print(b)\n",
    "    return a + b\n",
    "\n",
    "x = map(myfunc, ('apple', 'banana', 'cherry'), ('orange', 'lemon', 'pineapple'))\n",
    "\n",
    "print(x)\n",
    "\n",
    "#convert the map into a list, for readability:\n",
    "print(list(x))\n"
   ]
  },
  {
   "cell_type": "code",
   "execution_count": 3,
   "metadata": {},
   "outputs": [
    {
     "name": "stdout",
     "output_type": "stream",
     "text": [
      "Enter a sequence of comma-separated numbers : 4\n",
      "\n",
      "\n",
      "4\n",
      "<class 'str'>\n",
      "\n",
      "\n",
      "('4',)\n",
      "<class 'tuple'>\n",
      "\n",
      "\n"
     ]
    },
    {
     "ename": "IndexError",
     "evalue": "tuple index out of range",
     "output_type": "error",
     "traceback": [
      "\u001b[1;31m---------------------------------------------------------------------------\u001b[0m",
      "\u001b[1;31mIndexError\u001b[0m                                Traceback (most recent call last)",
      "\u001b[1;32m<ipython-input-3-1bf0dfdae81d>\u001b[0m in \u001b[0;36m<module>\u001b[1;34m\u001b[0m\n\u001b[0;32m     18\u001b[0m \u001b[0mprint\u001b[0m\u001b[1;33m(\u001b[0m\u001b[1;34m'\\n'\u001b[0m\u001b[1;33m)\u001b[0m\u001b[1;33m\u001b[0m\u001b[1;33m\u001b[0m\u001b[0m\n\u001b[0;32m     19\u001b[0m \u001b[1;33m\u001b[0m\u001b[0m\n\u001b[1;32m---> 20\u001b[1;33m \u001b[0mprint\u001b[0m\u001b[1;33m(\u001b[0m\u001b[0mtuple_data\u001b[0m\u001b[1;33m[\u001b[0m\u001b[1;36m2\u001b[0m\u001b[1;33m]\u001b[0m\u001b[1;33m)\u001b[0m\u001b[1;33m\u001b[0m\u001b[1;33m\u001b[0m\u001b[0m\n\u001b[0m\u001b[0;32m     21\u001b[0m \u001b[0mprint\u001b[0m\u001b[1;33m(\u001b[0m\u001b[0mtype\u001b[0m\u001b[1;33m(\u001b[0m\u001b[0mtuple_data\u001b[0m\u001b[1;33m[\u001b[0m\u001b[1;36m2\u001b[0m\u001b[1;33m]\u001b[0m\u001b[1;33m)\u001b[0m\u001b[1;33m)\u001b[0m\u001b[1;33m\u001b[0m\u001b[1;33m\u001b[0m\u001b[0m\n\u001b[0;32m     22\u001b[0m \u001b[1;33m\u001b[0m\u001b[0m\n",
      "\u001b[1;31mIndexError\u001b[0m: tuple index out of range"
     ]
    }
   ],
   "source": [
    "# 10.Write a program which accepts a sequence of comma-separated numbers from console and generate a list and a tuple which contains every number.\n",
    "\n",
    "\n",
    "sequence2 = input('Enter a sequence of comma-separated numbers : ')\n",
    "list_data = sequence2.split(',')\n",
    "\n",
    "print('\\n')\n",
    "\n",
    "print(sequence2)\n",
    "print(type(sequence2))\n",
    "\n",
    "print('\\n')\n",
    "\n",
    "tuple_data=tuple(list_data)\n",
    "print(tuple_data)\n",
    "print(type(tuple_data))\n",
    "\n",
    "print('\\n')\n",
    "\n",
    "print(tuple_data[2])\n",
    "print(type(tuple_data[2]))\n",
    "\n",
    "print('\\n')\n",
    "\n",
    "print(list_data)\n",
    "print(type(list_data))\n",
    "\n",
    "print('\\n')\n",
    "\n",
    "print(list_data[2])\n",
    "print(type(list_data[2]))\n",
    "\n",
    "# by this code numbers are in str form so we have to convert it into int\n",
    "\n",
    "\n"
   ]
  },
  {
   "cell_type": "code",
   "execution_count": 5,
   "metadata": {},
   "outputs": [
    {
     "name": "stdout",
     "output_type": "stream",
     "text": [
      "Enter a sequence of comma-separated numbers : 6\n",
      "[6]\n",
      "\n",
      "\n",
      "6\n",
      "<class 'str'>\n",
      "\n",
      "\n",
      "Tuple :  (6,)\n",
      "<class 'tuple'>\n",
      "\n",
      "\n"
     ]
    },
    {
     "ename": "IndexError",
     "evalue": "tuple index out of range",
     "output_type": "error",
     "traceback": [
      "\u001b[1;31m---------------------------------------------------------------------------\u001b[0m",
      "\u001b[1;31mIndexError\u001b[0m                                Traceback (most recent call last)",
      "\u001b[1;32m<ipython-input-5-40ee636f1392>\u001b[0m in \u001b[0;36m<module>\u001b[1;34m\u001b[0m\n\u001b[0;32m     24\u001b[0m \u001b[0mprint\u001b[0m\u001b[1;33m(\u001b[0m\u001b[1;34m'\\n'\u001b[0m\u001b[1;33m)\u001b[0m\u001b[1;33m\u001b[0m\u001b[1;33m\u001b[0m\u001b[0m\n\u001b[0;32m     25\u001b[0m \u001b[1;33m\u001b[0m\u001b[0m\n\u001b[1;32m---> 26\u001b[1;33m \u001b[0mprint\u001b[0m\u001b[1;33m(\u001b[0m\u001b[1;34m'Tuple Item : '\u001b[0m\u001b[1;33m,\u001b[0m\u001b[0mtuple_data\u001b[0m\u001b[1;33m[\u001b[0m\u001b[1;36m2\u001b[0m\u001b[1;33m]\u001b[0m\u001b[1;33m)\u001b[0m\u001b[1;33m\u001b[0m\u001b[1;33m\u001b[0m\u001b[0m\n\u001b[0m\u001b[0;32m     27\u001b[0m \u001b[0mprint\u001b[0m\u001b[1;33m(\u001b[0m\u001b[0mtype\u001b[0m\u001b[1;33m(\u001b[0m\u001b[0mtuple_data\u001b[0m\u001b[1;33m[\u001b[0m\u001b[1;36m2\u001b[0m\u001b[1;33m]\u001b[0m\u001b[1;33m)\u001b[0m\u001b[1;33m)\u001b[0m\u001b[1;33m\u001b[0m\u001b[1;33m\u001b[0m\u001b[0m\n\u001b[0;32m     28\u001b[0m \u001b[1;33m\u001b[0m\u001b[0m\n",
      "\u001b[1;31mIndexError\u001b[0m: tuple index out of range"
     ]
    }
   ],
   "source": [
    "# 10.Write a program which accepts a sequence of comma-separated numbers from console and generate a list and a tuple which contains every number.\n",
    "\n",
    "\n",
    "#soln_1\n",
    "sequence2 = input('Enter a sequence of comma-separated numbers : ')\n",
    "list_data = sequence2.split(',')\n",
    "\n",
    "list1_data=[]\n",
    "for all_numb in list_data:\n",
    "    list1_data.append(int(all_numb))\n",
    "print(list1_data)\n",
    "\n",
    "print('\\n')\n",
    "\n",
    "print(sequence2)\n",
    "print(type(sequence2))\n",
    "\n",
    "print('\\n')\n",
    "\n",
    "tuple_data=tuple(list1_data)\n",
    "print('Tuple : ',tuple_data)\n",
    "print(type(tuple_data))\n",
    "\n",
    "print('\\n')\n",
    "\n",
    "print('Tuple Item : ',tuple_data[2])\n",
    "print(type(tuple_data[2]))\n",
    "\n",
    "print('\\n')\n",
    "\n",
    "print('List : ',list1_data)\n",
    "print(type(list1_data))\n",
    "\n",
    "print('\\n')\n",
    "\n",
    "print('List Item : ',list1_data[2])\n",
    "print(type(list1_data[2]))\n"
   ]
  },
  {
   "cell_type": "code",
   "execution_count": 6,
   "metadata": {},
   "outputs": [
    {
     "name": "stdout",
     "output_type": "stream",
     "text": [
      "Enter a sequence of comma-separated numbers : 6\n",
      "Tuple :  ('6',)\n",
      "<class 'tuple'>\n",
      "\n",
      "\n"
     ]
    },
    {
     "ename": "IndexError",
     "evalue": "tuple index out of range",
     "output_type": "error",
     "traceback": [
      "\u001b[1;31m---------------------------------------------------------------------------\u001b[0m",
      "\u001b[1;31mIndexError\u001b[0m                                Traceback (most recent call last)",
      "\u001b[1;32m<ipython-input-6-eb77375e0405>\u001b[0m in \u001b[0;36m<module>\u001b[1;34m\u001b[0m\n\u001b[0;32m     11\u001b[0m \u001b[0mprint\u001b[0m\u001b[1;33m(\u001b[0m\u001b[1;34m'\\n'\u001b[0m\u001b[1;33m)\u001b[0m\u001b[1;33m\u001b[0m\u001b[1;33m\u001b[0m\u001b[0m\n\u001b[0;32m     12\u001b[0m \u001b[1;33m\u001b[0m\u001b[0m\n\u001b[1;32m---> 13\u001b[1;33m \u001b[0mprint\u001b[0m\u001b[1;33m(\u001b[0m\u001b[1;34m'Tuple Item : '\u001b[0m\u001b[1;33m,\u001b[0m\u001b[0mtuple_data\u001b[0m\u001b[1;33m[\u001b[0m\u001b[1;36m2\u001b[0m\u001b[1;33m]\u001b[0m\u001b[1;33m)\u001b[0m\u001b[1;33m\u001b[0m\u001b[1;33m\u001b[0m\u001b[0m\n\u001b[0m\u001b[0;32m     14\u001b[0m \u001b[0mprint\u001b[0m\u001b[1;33m(\u001b[0m\u001b[0mtype\u001b[0m\u001b[1;33m(\u001b[0m\u001b[0mtuple_data\u001b[0m\u001b[1;33m[\u001b[0m\u001b[1;36m2\u001b[0m\u001b[1;33m]\u001b[0m\u001b[1;33m)\u001b[0m\u001b[1;33m)\u001b[0m\u001b[1;33m\u001b[0m\u001b[1;33m\u001b[0m\u001b[0m\n\u001b[0;32m     15\u001b[0m \u001b[1;33m\u001b[0m\u001b[0m\n",
      "\u001b[1;31mIndexError\u001b[0m: tuple index out of range"
     ]
    }
   ],
   "source": [
    "\n",
    "#soln_1\n",
    "sequence2 = input('Enter a sequence of comma-separated numbers : ')\n",
    "\n",
    "tuple_data = tuple(sequence2.split(','))\n",
    "\n",
    "list1_data = list(sequence2.split(','))\n",
    "\n",
    "print('Tuple : ',tuple_data)\n",
    "print(type(tuple_data))\n",
    "\n",
    "print('\\n')\n",
    "\n",
    "print('Tuple Item : ',tuple_data[2])\n",
    "print(type(tuple_data[2]))\n",
    "\n",
    "print('\\n')\n",
    "\n",
    "print('List : ',list1_data)\n",
    "print(type(list1_data))\n",
    "\n",
    "print('\\n')\n",
    "\n",
    "print('List Item : ',list1_data[2])\n",
    "print(type(list1_data[2]))\n"
   ]
  },
  {
   "cell_type": "code",
   "execution_count": 7,
   "metadata": {},
   "outputs": [
    {
     "name": "stdout",
     "output_type": "stream",
     "text": [
      "Enter a sequence of comma-separated numbers : 43\n",
      "Tuple :  (43,)\n",
      "<class 'tuple'>\n",
      "\n",
      "\n"
     ]
    },
    {
     "ename": "IndexError",
     "evalue": "tuple index out of range",
     "output_type": "error",
     "traceback": [
      "\u001b[1;31m---------------------------------------------------------------------------\u001b[0m",
      "\u001b[1;31mIndexError\u001b[0m                                Traceback (most recent call last)",
      "\u001b[1;32m<ipython-input-7-877d115e61b7>\u001b[0m in \u001b[0;36m<module>\u001b[1;34m\u001b[0m\n\u001b[0;32m     11\u001b[0m \u001b[0mprint\u001b[0m\u001b[1;33m(\u001b[0m\u001b[1;34m'\\n'\u001b[0m\u001b[1;33m)\u001b[0m\u001b[1;33m\u001b[0m\u001b[1;33m\u001b[0m\u001b[0m\n\u001b[0;32m     12\u001b[0m \u001b[1;33m\u001b[0m\u001b[0m\n\u001b[1;32m---> 13\u001b[1;33m \u001b[0mprint\u001b[0m\u001b[1;33m(\u001b[0m\u001b[1;34m'Tuple Item : '\u001b[0m\u001b[1;33m,\u001b[0m\u001b[0mtuple_data\u001b[0m\u001b[1;33m[\u001b[0m\u001b[1;36m2\u001b[0m\u001b[1;33m]\u001b[0m\u001b[1;33m)\u001b[0m\u001b[1;33m\u001b[0m\u001b[1;33m\u001b[0m\u001b[0m\n\u001b[0m\u001b[0;32m     14\u001b[0m \u001b[0mprint\u001b[0m\u001b[1;33m(\u001b[0m\u001b[0mtype\u001b[0m\u001b[1;33m(\u001b[0m\u001b[0mtuple_data\u001b[0m\u001b[1;33m[\u001b[0m\u001b[1;36m2\u001b[0m\u001b[1;33m]\u001b[0m\u001b[1;33m)\u001b[0m\u001b[1;33m)\u001b[0m\u001b[1;33m\u001b[0m\u001b[1;33m\u001b[0m\u001b[0m\n\u001b[0;32m     15\u001b[0m \u001b[1;33m\u001b[0m\u001b[0m\n",
      "\u001b[1;31mIndexError\u001b[0m: tuple index out of range"
     ]
    }
   ],
   "source": [
    "\n",
    "#soln_2 to convert str element into int\n",
    "sequence2 = input('Enter a sequence of comma-separated numbers : ')\n",
    "\n",
    "tuple_data = tuple(map(int,sequence2.split(',')))\n",
    "\n",
    "list1_data = list(map(int,sequence2.split(',')))\n",
    "\n",
    "print('Tuple : ',tuple_data)\n",
    "print(type(tuple_data))\n",
    "\n",
    "print('\\n')\n",
    "\n",
    "print('Tuple Item : ',tuple_data[2])\n",
    "print(type(tuple_data[2]))\n",
    "\n",
    "print('\\n')\n",
    "\n",
    "print('List : ',list1_data)\n",
    "print(type(list1_data))\n",
    "\n",
    "print('\\n')\n",
    "\n",
    "print('List Item : ',list1_data[2])\n",
    "print(type(list1_data[2]))\n"
   ]
  },
  {
   "cell_type": "code",
   "execution_count": 16,
   "metadata": {},
   "outputs": [
    {
     "name": "stdout",
     "output_type": "stream",
     "text": [
      "Enter a number : 23\n",
      "Length of List is  2\n",
      "1\n",
      "2\n",
      "[0, 1, 1, 2]\n",
      "Length of List is  4\n",
      "Length of List is  4\n",
      "3\n",
      "5\n",
      "[0, 1, 1, 2, 3, 5]\n",
      "Length of List is  6\n",
      "Length of List is  6\n",
      "8\n",
      "13\n",
      "[0, 1, 1, 2, 3, 5, 8, 13]\n",
      "Length of List is  8\n",
      "Length of List is  8\n",
      "21\n",
      "34\n",
      "[0, 1, 1, 2, 3, 5, 8, 13, 21, 34]\n",
      "Length of List is  10\n",
      "Length of List is  10\n",
      "55\n",
      "89\n",
      "[0, 1, 1, 2, 3, 5, 8, 13, 21, 34, 55, 89]\n",
      "Length of List is  12\n",
      "Length of List is  12\n",
      "144\n",
      "233\n",
      "[0, 1, 1, 2, 3, 5, 8, 13, 21, 34, 55, 89, 144, 233]\n",
      "Length of List is  14\n",
      "Length of List is  14\n",
      "377\n",
      "610\n",
      "[0, 1, 1, 2, 3, 5, 8, 13, 21, 34, 55, 89, 144, 233, 377, 610]\n",
      "Length of List is  16\n",
      "Length of List is  16\n",
      "987\n",
      "1597\n",
      "[0, 1, 1, 2, 3, 5, 8, 13, 21, 34, 55, 89, 144, 233, 377, 610, 987, 1597]\n",
      "Length of List is  18\n",
      "Length of List is  18\n",
      "2584\n",
      "4181\n",
      "[0, 1, 1, 2, 3, 5, 8, 13, 21, 34, 55, 89, 144, 233, 377, 610, 987, 1597, 2584, 4181]\n",
      "Length of List is  20\n",
      "Length of List is  20\n",
      "6765\n",
      "10946\n",
      "[0, 1, 1, 2, 3, 5, 8, 13, 21, 34, 55, 89, 144, 233, 377, 610, 987, 1597, 2584, 4181, 6765, 10946]\n",
      "Length of List is  22\n",
      "Length of List is  22\n",
      "17711\n",
      "28657\n",
      "[0, 1, 1, 2, 3, 5, 8, 13, 21, 34, 55, 89, 144, 233, 377, 610, 987, 1597, 2584, 4181, 6765, 10946, 17711]\n",
      "Length of List is  23\n",
      "Length of List is  2\n",
      "1\n",
      "2\n",
      "[0, 1, 1, 2]\n",
      "Length of List is  4\n",
      "Length of List is  4\n",
      "3\n",
      "5\n",
      "[0, 1, 1, 2, 3, 5]\n",
      "Length of List is  6\n",
      "Length of List is  6\n",
      "8\n",
      "13\n",
      "[0, 1, 1, 2, 3, 5, 8, 13]\n",
      "Length of List is  8\n",
      "Length of List is  8\n",
      "21\n",
      "34\n",
      "[0, 1, 1, 2, 3, 5, 8, 13, 21, 34]\n",
      "Length of List is  10\n",
      "Length of List is  10\n",
      "55\n",
      "89\n",
      "[0, 1, 1, 2, 3, 5, 8, 13, 21, 34, 55, 89]\n",
      "Length of List is  12\n",
      "Length of List is  12\n",
      "144\n",
      "233\n",
      "[0, 1, 1, 2, 3, 5, 8, 13, 21, 34, 55, 89, 144, 233]\n",
      "Length of List is  14\n",
      "Length of List is  14\n",
      "377\n",
      "610\n",
      "[0, 1, 1, 2, 3, 5, 8, 13, 21, 34, 55, 89, 144, 233, 377, 610]\n",
      "Length of List is  16\n",
      "Length of List is  16\n",
      "987\n",
      "1597\n",
      "[0, 1, 1, 2, 3, 5, 8, 13, 21, 34, 55, 89, 144, 233, 377, 610, 987, 1597]\n",
      "Length of List is  18\n",
      "Length of List is  18\n",
      "2584\n",
      "4181\n",
      "[0, 1, 1, 2, 3, 5, 8, 13, 21, 34, 55, 89, 144, 233, 377, 610, 987, 1597, 2584, 4181]\n",
      "Length of List is  20\n",
      "Length of List is  20\n",
      "6765\n",
      "10946\n",
      "[0, 1, 1, 2, 3, 5, 8, 13, 21, 34, 55, 89, 144, 233, 377, 610, 987, 1597, 2584, 4181, 6765, 10946]\n",
      "Length of List is  22\n",
      "Length of List is  22\n",
      "17711\n",
      "28657\n",
      "[0, 1, 1, 2, 3, 5, 8, 13, 21, 34, 55, 89, 144, 233, 377, 610, 987, 1597, 2584, 4181, 6765, 10946, 17711]\n",
      "Length of List is  23\n",
      "Finally the Fibonacci Sequence of first  23  th tern is  [0, 1, 1, 2, 3, 5, 8, 13, 21, 34, 55, 89, 144, 233, 377, 610, 987, 1597, 2584, 4181, 6765, 10946, 17711]\n"
     ]
    }
   ],
   "source": [
    "# 11.Please write a program using list comprehension to print the Fibonacci Sequence in comma separated form with a given n input by console.\n",
    "\n",
    "def fib(numb2):\n",
    "    var1=0\n",
    "    var2=1\n",
    "    lis=[0,1] # initilize list\n",
    "    while(len(lis)<numb2): # check if given number is upto length of list / range of list \n",
    "        print('Length of List is ',len(lis))\n",
    "        var1=var1+var2\n",
    "        print(var1)\n",
    "        lis.append(var1)\n",
    "        var2=var1+var2\n",
    "        print(var2)\n",
    "        if len(lis)<numb2:#preventing to add last item\n",
    "            lis.append(var2)\n",
    "        print(lis)\n",
    "        print('Length of List is ',len(lis))\n",
    "    return lis\n",
    "\n",
    "numb1 = input('Enter a number : ')\n",
    "fib(int(numb1))\n",
    "\n",
    "print('Finally the Fibonacci Sequence of first ',numb1,' th tern is ',fib(int(numb1)))"
   ]
  },
  {
   "cell_type": "code",
   "execution_count": 17,
   "metadata": {},
   "outputs": [
    {
     "name": "stdout",
     "output_type": "stream",
     "text": [
      "Enter a number : 1 2 3\n",
      "Finally the Fibonacci Sequence of first  1 2 3  th tern is \n"
     ]
    },
    {
     "ename": "ValueError",
     "evalue": "invalid literal for int() with base 10: '1 2 3'",
     "output_type": "error",
     "traceback": [
      "\u001b[1;31m---------------------------------------------------------------------------\u001b[0m",
      "\u001b[1;31mValueError\u001b[0m                                Traceback (most recent call last)",
      "\u001b[1;32m<ipython-input-17-150f50237126>\u001b[0m in \u001b[0;36m<module>\u001b[1;34m\u001b[0m\n\u001b[0;32m     12\u001b[0m \u001b[0mnumb1\u001b[0m \u001b[1;33m=\u001b[0m \u001b[0minput\u001b[0m\u001b[1;33m(\u001b[0m\u001b[1;34m'Enter a number : '\u001b[0m\u001b[1;33m)\u001b[0m\u001b[1;33m\u001b[0m\u001b[1;33m\u001b[0m\u001b[0m\n\u001b[0;32m     13\u001b[0m \u001b[0mprint\u001b[0m\u001b[1;33m(\u001b[0m\u001b[1;34m'Finally the Fibonacci Sequence of first '\u001b[0m\u001b[1;33m,\u001b[0m\u001b[0mnumb1\u001b[0m\u001b[1;33m,\u001b[0m\u001b[1;34m' th tern is '\u001b[0m\u001b[1;33m)\u001b[0m\u001b[1;33m\u001b[0m\u001b[1;33m\u001b[0m\u001b[0m\n\u001b[1;32m---> 14\u001b[1;33m \u001b[0mfib\u001b[0m\u001b[1;33m(\u001b[0m\u001b[0mint\u001b[0m\u001b[1;33m(\u001b[0m\u001b[0mnumb1\u001b[0m\u001b[1;33m)\u001b[0m\u001b[1;33m)\u001b[0m\u001b[1;33m\u001b[0m\u001b[1;33m\u001b[0m\u001b[0m\n\u001b[0m",
      "\u001b[1;31mValueError\u001b[0m: invalid literal for int() with base 10: '1 2 3'"
     ]
    }
   ],
   "source": [
    "def fib(numb2):\n",
    "    var1=0\n",
    "    var2=1\n",
    "    count = 0\n",
    "    while(count<numb2):\n",
    "        print(var1)\n",
    "        nextvar=var1+var2\n",
    "        var1=var2\n",
    "        var2=nextvar\n",
    "        count = count+1\n",
    "        print('count',count)\n",
    "numb1 = input('Enter a number : ')\n",
    "print('Finally the Fibonacci Sequence of first ',numb1,' th tern is ')\n",
    "fib(int(numb1))"
   ]
  },
  {
   "cell_type": "code",
   "execution_count": 18,
   "metadata": {},
   "outputs": [
    {
     "name": "stdout",
     "output_type": "stream",
     "text": [
      "[7, 6, 3, 8]\n"
     ]
    }
   ],
   "source": [
    "# 12.Please write a program to shuffle and print the list [3,6,7,8]. Hints: Use shuffle() function to shuffle a list.\n",
    "\n",
    "import random\n",
    "list1 = [3,6,7,8]\n",
    "\n",
    "random.shuffle(list1)\n",
    "print(list1)"
   ]
  },
  {
   "cell_type": "code",
   "execution_count": 19,
   "metadata": {},
   "outputs": [
    {
     "name": "stdout",
     "output_type": "stream",
     "text": [
      "I   Play   Hockey\n",
      "I   Play   Football\n",
      "I   Love   Hockey\n",
      "I   Love   Football\n",
      "You   Play   Hockey\n",
      "You   Play   Football\n",
      "You   Love   Hockey\n",
      "You   Love   Football\n"
     ]
    }
   ],
   "source": [
    "# 13.Please write a program to generate all sentences where subject is in [\"I\", \"You\"] and verb is in [\"Play\", \"Love\"] and the object is in [\"Hockey\",\"Football\"].\n",
    "\n",
    "subject = [\"I\", \"You\"]\n",
    "verb    = [\"Play\", \"Love\"]\n",
    "objects = [\"Hockey\",\"Football\"]\n",
    "\n",
    "for sub in subject:\n",
    "    for vrb in verb:\n",
    "        for obj in objects:\n",
    "            print(sub,' ',vrb,' ',obj)"
   ]
  },
  {
   "cell_type": "code",
   "execution_count": 20,
   "metadata": {},
   "outputs": [
    {
     "name": "stdout",
     "output_type": "stream",
     "text": [
      "Enter a string : amir df\n",
      "a  =  1\n",
      "m  =  1\n",
      "i  =  1\n",
      "r  =  1\n",
      "   =  1\n",
      "d  =  1\n",
      "f  =  1\n"
     ]
    }
   ],
   "source": [
    "# 14.Please write a program which count and print the numbers of each character in a string input by console.\n",
    "\n",
    "string1 = input('Enter a string : ')\n",
    "dict1 = {}\n",
    "for s in string1.lower():\n",
    "    if s not in dict1:\n",
    "        dict1[s] = 1\n",
    "    else:\n",
    "        dict1[s]=dict1[s]+1\n",
    "\n",
    "for d in dict1:\n",
    "    print(d,' = ',dict1[d])"
   ]
  },
  {
   "cell_type": "code",
   "execution_count": 21,
   "metadata": {},
   "outputs": [
    {
     "name": "stdout",
     "output_type": "stream",
     "text": [
      "Enter a string : amif\n",
      "mifa\n"
     ]
    }
   ],
   "source": [
    "# 15.Please write a program which accepts a string from console and print it in reverse order.\n",
    "\n",
    "string1 = input('Enter a string : ')\n",
    "rev = sorted(string1,reverse=True)# reverse string into list form\n",
    "print(''.join(rev)) # join all char of rev"
   ]
  },
  {
   "cell_type": "code",
   "execution_count": 23,
   "metadata": {},
   "outputs": [
    {
     "name": "stdout",
     "output_type": "stream",
     "text": [
      "Enter rows : 5\n",
      "*\n",
      "**\n",
      "***\n",
      "****\n",
      "*****\n"
     ]
    }
   ],
   "source": [
    "# 17. Write a function called show_stars(rows). User will input the number of rows required, for example if rows = 5, then print following\n",
    "\n",
    "def show_stars(r):\n",
    "    sign='*'\n",
    "    for i in range((r)):\n",
    "        print(sign)\n",
    "        sign =sign+'*'\n",
    "\n",
    "rows = input('Enter rows : ')\n",
    "range1 = int(rows)\n",
    "show_stars(range1)"
   ]
  },
  {
   "cell_type": "code",
   "execution_count": 24,
   "metadata": {},
   "outputs": [
    {
     "name": "stdout",
     "output_type": "stream",
     "text": [
      "*\n",
      "**\n",
      "***\n",
      "****\n",
      "*****\n",
      "*\n",
      "**\n",
      "***\n",
      "****\n",
      "*****\n"
     ]
    }
   ],
   "source": [
    "# 17.Write a function called show_stars(rows). User will input the number of rows required, for example if rows = 5, then print following\n",
    "i=1\n",
    "sign = '*'\n",
    "while i<=5:\n",
    "    print(sign)\n",
    "    sign=sign+'*'\n",
    "    i=i+1\n",
    "    \n",
    "    \n",
    "sign = '*'\n",
    "for i in range(5):\n",
    "    print(sign)\n",
    "    sign=sign+'*'\n"
   ]
  }
 ],
 "metadata": {
  "kernelspec": {
   "display_name": "Python 3",
   "language": "python",
   "name": "python3"
  },
  "language_info": {
   "codemirror_mode": {
    "name": "ipython",
    "version": 3
   },
   "file_extension": ".py",
   "mimetype": "text/x-python",
   "name": "python",
   "nbconvert_exporter": "python",
   "pygments_lexer": "ipython3",
   "version": "3.8.4"
  }
 },
 "nbformat": 4,
 "nbformat_minor": 4
}
