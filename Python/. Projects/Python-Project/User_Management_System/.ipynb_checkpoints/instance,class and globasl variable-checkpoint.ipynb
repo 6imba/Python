{
 "cells": [
  {
   "cell_type": "code",
   "execution_count": 3,
   "metadata": {},
   "outputs": [
    {
     "name": "stdout",
     "output_type": "stream",
     "text": [
      "Enter string : a\n",
      "a\n"
     ]
    }
   ],
   "source": [
    "class A:\n",
    "    def show(self):\n",
    "            local_var = input('Enter string : ')\n",
    "            print(local_var)\n",
    "            \n",
    "obj1=A()\n",
    "obj1.show()"
   ]
  },
  {
   "cell_type": "code",
   "execution_count": 9,
   "metadata": {},
   "outputs": [
    {
     "name": "stdout",
     "output_type": "stream",
     "text": [
      "{}\n"
     ]
    }
   ],
   "source": [
    "class B:\n",
    "    dic = {}\n",
    "    \n",
    "    def show2(self):\n",
    "        print(B.dic)\n",
    "        \n",
    "obj2=B()\n",
    "obj2.show2()"
   ]
  },
  {
   "cell_type": "code",
   "execution_count": 11,
   "metadata": {},
   "outputs": [
    {
     "name": "stdout",
     "output_type": "stream",
     "text": [
      "{}\n"
     ]
    }
   ],
   "source": [
    "class C:\n",
    "    dic = {}\n",
    "    \n",
    "    def show3(self):\n",
    "        print(self.dic)\n",
    "        \n",
    "obj3=C()\n",
    "obj3.show3()"
   ]
  },
  {
   "cell_type": "code",
   "execution_count": 12,
   "metadata": {},
   "outputs": [],
   "source": [
    "# The variables that are defined inside the class but outside the method can be accessed within the class(all methods included) \n",
    "# using the instance of a class. For Example – self.var_name.\n",
    "# If you want to use that variable even outside the class, you must declared that variable as a global. \n",
    "# Then the variable can be accessed using its name inside and outside the class and not using the instance of the class."
   ]
  },
  {
   "cell_type": "code",
   "execution_count": 16,
   "metadata": {},
   "outputs": [
    {
     "name": "stdout",
     "output_type": "stream",
     "text": [
      "{}\n"
     ]
    }
   ],
   "source": [
    "class D:\n",
    "    global dic\n",
    "    dic = {}\n",
    "    \n",
    "    def show4(self):\n",
    "        print(dic)\n",
    "        \n",
    "obj4=D()\n",
    "obj4.show4()"
   ]
  }
 ],
 "metadata": {
  "kernelspec": {
   "display_name": "Python 3",
   "language": "python",
   "name": "python3"
  },
  "language_info": {
   "codemirror_mode": {
    "name": "ipython",
    "version": 3
   },
   "file_extension": ".py",
   "mimetype": "text/x-python",
   "name": "python",
   "nbconvert_exporter": "python",
   "pygments_lexer": "ipython3",
   "version": "3.8.4"
  }
 },
 "nbformat": 4,
 "nbformat_minor": 4
}
