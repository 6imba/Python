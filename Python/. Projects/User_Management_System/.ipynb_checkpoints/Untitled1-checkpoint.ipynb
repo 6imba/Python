{
 "cells": [
  {
   "cell_type": "code",
   "execution_count": 5,
   "metadata": {},
   "outputs": [
    {
     "name": "stdout",
     "output_type": "stream",
     "text": [
      "Enter name : a\n",
      "Enter age : 1\n",
      "[{'a': 1}]\n"
     ]
    }
   ],
   "source": [
    "import random\n",
    "\n",
    "class User_Model:\n",
    "    database=[]\n",
    "    \n",
    "    def create_account(self,user_dict):\n",
    "        self.database.append(user_dict)\n",
    "        print(self.database)\n",
    "    \n",
    "class User_Permission(User_Model):\n",
    "    def input_data(self):\n",
    "        self.name = input('Enter name : ')\n",
    "        self.age = int(input('Enter age : '))\n",
    "        dictionary = {self.name:self.age}\n",
    "        super().create_account(dictionary)\n",
    "\n",
    "obj = User_Permission()\n",
    "obj.input_data()"
   ]
  }
 ],
 "metadata": {
  "kernelspec": {
   "display_name": "Python 3",
   "language": "python",
   "name": "python3"
  },
  "language_info": {
   "codemirror_mode": {
    "name": "ipython",
    "version": 3
   },
   "file_extension": ".py",
   "mimetype": "text/x-python",
   "name": "python",
   "nbconvert_exporter": "python",
   "pygments_lexer": "ipython3",
   "version": "3.8.4"
  }
 },
 "nbformat": 4,
 "nbformat_minor": 4
}
