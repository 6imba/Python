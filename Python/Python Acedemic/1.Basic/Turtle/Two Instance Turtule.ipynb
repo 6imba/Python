{
 "cells": [
  {
   "cell_type": "code",
   "execution_count": 1,
   "metadata": {},
   "outputs": [
    {
     "name": "stdout",
     "output_type": "stream",
     "text": [
      "100000\n"
     ]
    }
   ],
   "source": [
    "import turtle\n",
    "wn = turtle.Screen()\n",
    "\n",
    "wn.bgcolor(\"black\")\n",
    "\n",
    "one = turtle.Turtle()\n",
    "one.color(\"white\")\n",
    "one.pensize(5) \n",
    "\n",
    "one.salary = 100000\n",
    "print(one.salary)\n",
    "\n",
    "two = turtle.Turtle()\n",
    "two.color(\"red\")\n",
    "\n",
    "\n",
    "one.forward(60)\n",
    "one.left(45)\n",
    "one.forward(60)\n",
    "one.left(45)\n",
    "one.forward(60)\n",
    "one.left(45)\n",
    "one.forward(60)\n",
    "one.left(45)\n",
    "one.forward(60)\n",
    "one.left(45)\n",
    "one.forward(60)\n",
    "one.left(45)\n",
    "one.forward(60)\n",
    "one.left(45)\n",
    "one.forward(60)\n",
    "one.left(45)\n",
    "one.forward(60)\n",
    "\n",
    "two.forward(80)\n",
    "two.right(45)\n",
    "two.forward(80)\n",
    "two.right(45)\n",
    "two.forward(80)\n",
    "\n",
    "\n"
   ]
  }
 ],
 "metadata": {
  "kernelspec": {
   "display_name": "Python 3",
   "language": "python",
   "name": "python3"
  },
  "language_info": {
   "codemirror_mode": {
    "name": "ipython",
    "version": 3
   },
   "file_extension": ".py",
   "mimetype": "text/x-python",
   "name": "python",
   "nbconvert_exporter": "python",
   "pygments_lexer": "ipython3",
   "version": "3.8.3"
  }
 },
 "nbformat": 4,
 "nbformat_minor": 4
}
