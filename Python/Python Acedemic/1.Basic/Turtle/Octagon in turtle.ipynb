{
 "cells": [
  {
   "cell_type": "code",
   "execution_count": 1,
   "metadata": {},
   "outputs": [
    {
     "name": "stdout",
     "output_type": "stream",
     "text": [
      "100000\n"
     ]
    }
   ],
   "source": [
    "import turtle\n",
    "wn = turtle.Screen()\n",
    "\n",
    "wn.bgcolor(\"blue\")\n",
    "\n",
    "al = turtle.Turtle()\n",
    "\n",
    "al.color(\"red\")\n",
    "al.pensize(30) \n",
    "\n",
    "al.forward(60)\n",
    "al.left(45)\n",
    "al.forward(60)\n",
    "al.left(45)\n",
    "al.forward(60)\n",
    "al.left(45)\n",
    "al.forward(60)\n",
    "al.left(45)\n",
    "al.forward(60)\n",
    "al.left(45)\n",
    "al.forward(60)\n",
    "al.left(45)\n",
    "al.forward(60)\n",
    "al.left(45)\n",
    "al.forward(60)\n",
    "al.left(45)\n",
    "al.forward(60)\n",
    "al.salary = 100000\n",
    "print(al.salary)\n",
    "\n",
    "wn.exitonclick()#??????"
   ]
  }
 ],
 "metadata": {
  "kernelspec": {
   "display_name": "Python 3",
   "language": "python",
   "name": "python3"
  },
  "language_info": {
   "codemirror_mode": {
    "name": "ipython",
    "version": 3
   },
   "file_extension": ".py",
   "mimetype": "text/x-python",
   "name": "python",
   "nbconvert_exporter": "python",
   "pygments_lexer": "ipython3",
   "version": "3.8.3"
  }
 },
 "nbformat": 4,
 "nbformat_minor": 4
}
