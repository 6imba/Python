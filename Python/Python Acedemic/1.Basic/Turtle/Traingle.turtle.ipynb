{
 "cells": [
  {
   "cell_type": "code",
   "execution_count": null,
   "metadata": {},
   "outputs": [],
   "source": [
    "import turtle\n",
    "\n",
    "tur = turtle.Turtle()\n",
    "#scr = turtle.Screen()\n",
    "\n",
    "length = 40\n",
    "bredth = 80\n",
    "tur.left(45)\n",
    "tur.forward(length)\n",
    "length = length + 10\n",
    "tur.right(90)\n",
    "tur.forward(length)\n",
    "length = length + 10\n",
    "tur.right(135)\n",
    "tur.forward(bredth)\n",
    "length = length + 10\n",
    "tur.right(135)\n",
    "tur.forward(length)\n",
    "length = length + 10\n",
    "tur.right(90)\n",
    "tur.forward(length)\n",
    "\n",
    "# for _ in range(10):\n",
    "#     tur.right(135)\n",
    "#     length = length + 5\n",
    "#     tur.forward(length)"
   ]
  }
 ],
 "metadata": {
  "kernelspec": {
   "display_name": "Python 3",
   "language": "python",
   "name": "python3"
  },
  "language_info": {
   "codemirror_mode": {
    "name": "ipython",
    "version": 3
   },
   "file_extension": ".py",
   "mimetype": "text/x-python",
   "name": "python",
   "nbconvert_exporter": "python",
   "pygments_lexer": "ipython3",
   "version": "3.8.3"
  }
 },
 "nbformat": 4,
 "nbformat_minor": 4
}
