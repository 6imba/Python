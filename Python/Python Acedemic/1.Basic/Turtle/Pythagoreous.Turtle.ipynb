{
 "cells": [
  {
   "cell_type": "code",
   "execution_count": 1,
   "metadata": {},
   "outputs": [],
   "source": [
    "import turtle\n",
    "import math\n",
    "\n",
    "triangle = turtle.Turtle()\n",
    "hypotenies = 120\n",
    "triangle.forward(hypotenies)\n",
    "triangle.left(135)\n",
    "perpendicular = math.sqrt(hypotenies*hypotenies/2)\n",
    "triangle.forward(perpendicular)\n",
    "triangle.left(90)\n",
    "triangle.forward(perpendicular)"
   ]
  }
 ],
 "metadata": {
  "kernelspec": {
   "display_name": "Python 3",
   "language": "python",
   "name": "python3"
  },
  "language_info": {
   "codemirror_mode": {
    "name": "ipython",
    "version": 3
   },
   "file_extension": ".py",
   "mimetype": "text/x-python",
   "name": "python",
   "nbconvert_exporter": "python",
   "pygments_lexer": "ipython3",
   "version": "3.8.3"
  }
 },
 "nbformat": 4,
 "nbformat_minor": 4
}
