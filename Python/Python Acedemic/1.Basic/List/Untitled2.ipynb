{
 "cells": [
  {
   "cell_type": "code",
   "execution_count": 11,
   "metadata": {},
   "outputs": [
    {
     "name": "stdout",
     "output_type": "stream",
     "text": [
      "0\n",
      "1\n",
      "3\n",
      "6\n",
      "10\n",
      "15\n",
      "21\n",
      "28\n",
      "36\n",
      "45\n"
     ]
    }
   ],
   "source": [
    "intlist = [1,2,3,4,5,6,7,8,9,10]\n",
    "intsum = 0\n",
    "for loopvar in intlist:\n",
    "    print(intsum)\n",
    "    intsum = intsum + loopvar\n",
    "    "
   ]
  },
  {
   "cell_type": "code",
   "execution_count": null,
   "metadata": {},
   "outputs": [],
   "source": [
    "#Error int + list\n",
    "intlist = [1,2,3,4,5,6,7,8,9,10]#sequence or list\n",
    "intsum = 0\n",
    "for loopvar in intlist:\n",
    "    print(intsum)\n",
    "    #intsum = intsum + intlist\n",
    "    #intsum = intsum + int(intlist)"
   ]
  },
  {
   "cell_type": "code",
   "execution_count": 13,
   "metadata": {},
   "outputs": [
    {
     "name": "stdout",
     "output_type": "stream",
     "text": [
      "21\n"
     ]
    }
   ],
   "source": [
    "lists = [1,2,3,4,5,6]\n",
    "totalsum = 0\n",
    "for loopvar in lists:\n",
    "    totalsum = totalsum + loopvar #here loopvar is a loopvariable hold the element of list\n",
    "print(totalsum)"
   ]
  },
  {
   "cell_type": "code",
   "execution_count": 39,
   "metadata": {},
   "outputs": [
    {
     "name": "stdout",
     "output_type": "stream",
     "text": [
      "range(0, 5)\n",
      "range(5)\n",
      "0\n",
      "1\n",
      "2\n",
      "3\n",
      "4\n",
      "range(0, 5)\n",
      "range(0,5)\n",
      "0\n",
      "1\n",
      "2\n",
      "3\n",
      "4\n",
      "range(3, 8)\n",
      "range(3,8)\n",
      "3\n",
      "4\n",
      "5\n",
      "6\n",
      "7\n",
      "list(range(5))\n",
      "[0, 1, 2, 3, 4]\n",
      "[0, 1, 2, 3, 4]\n",
      "[7, 8, 9, 10, 11, 12, 13, 14]\n"
     ]
    }
   ],
   "source": [
    "print(range(5))\n",
    "print(\"range(5)\")\n",
    "for i in range(5):\n",
    "    print(i)\n",
    "\n",
    "print(range(0,5))\n",
    "print(\"range(0,5)\")\n",
    "for j in range(0,5):\n",
    "    print(j)\n",
    "    \n",
    "print(range(3,8))\n",
    "print(\"range(3,8)\")\n",
    "for j in range(3,8):\n",
    "    print(j)\n",
    "\n",
    "print(\"list(range(5))\")\n",
    "print(list(range(5)))\n",
    "print(list(range(0,5)))\n",
    "print(list(range(7,15)))\n",
    "\n",
    "\n",
    "#range function is already casted into list no need to cast range into list anymore\n"
   ]
  },
  {
   "cell_type": "code",
   "execution_count": 40,
   "metadata": {},
   "outputs": [
    {
     "name": "stdout",
     "output_type": "stream",
     "text": [
      "0\n",
      "1\n",
      "3\n",
      "6\n",
      "10\n",
      "15\n",
      "21\n",
      "28\n",
      "36\n",
      "45\n"
     ]
    }
   ],
   "source": [
    "#using range function i n first example instead of list\n",
    "intlist = range(1,11)\n",
    "intsum = 0\n",
    "for loopvar in intlist:\n",
    "    print(intsum)\n",
    "    intsum = intsum + loopvar\n",
    "  "
   ]
  }
 ],
 "metadata": {
  "kernelspec": {
   "display_name": "Python 3",
   "language": "python",
   "name": "python3"
  },
  "language_info": {
   "codemirror_mode": {
    "name": "ipython",
    "version": 3
   },
   "file_extension": ".py",
   "mimetype": "text/x-python",
   "name": "python",
   "nbconvert_exporter": "python",
   "pygments_lexer": "ipython3",
   "version": "3.8.3"
  }
 },
 "nbformat": 4,
 "nbformat_minor": 4
}
