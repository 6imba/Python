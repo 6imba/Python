{
 "cells": [
  {
   "cell_type": "code",
   "execution_count": 8,
   "metadata": {},
   "outputs": [
    {
     "name": "stdout",
     "output_type": "stream",
     "text": [
      "['apple', 'banana', 'coconut', 'papaya']\n",
      "['apple', 'banana', 'coconut', 'papaya', 'orange']\n",
      "['apple', 'banana', 'coconut', 'papaya', 'orange', 'pine']\n"
     ]
    }
   ],
   "source": [
    "fruits = ['apple','banana','coconut','papaya']\n",
    "print(fruits)\n",
    "fruits.append('orange')#append\n",
    "print(fruits)\n",
    "fruits = fruits + ['pine']#concatenate\n",
    "print(fruits)"
   ]
  },
  {
   "cell_type": "code",
   "execution_count": 14,
   "metadata": {},
   "outputs": [
    {
     "name": "stdout",
     "output_type": "stream",
     "text": [
      "origlist: [45, 32, 88]\n",
      "the identifier: 1582594842688\n",
      "newlist: [45, 32, 88, 'cat']\n",
      "the identifier: 1582594842752\n",
      "origlist: [45, 32, 88, 'cat']\n",
      "the identifier: 1582594842688\n"
     ]
    }
   ],
   "source": [
    "origlist = [45,32,88]\n",
    "print(\"origlist:\", origlist)\n",
    "print(\"the identifier:\", id(origlist))             #id of the list before changes\n",
    "newlist = origlist + ['cat']\n",
    "print(\"newlist:\", newlist)\n",
    "print(\"the identifier:\", id(newlist))              #id of the list after concatentation\n",
    "origlist.append('cat')\n",
    "print(\"origlist:\", origlist)\n",
    "print(\"the identifier:\", id(origlist))             #id of the list after append is used\n",
    "\n",
    "#It is also important to realize that with append, the original list is simply modified. On the other hand, with concatenation, an entirely new list is created."
   ]
  },
  {
   "cell_type": "code",
   "execution_count": 16,
   "metadata": {},
   "outputs": [
    {
     "name": "stdout",
     "output_type": "stream",
     "text": [
      "origlist: [45, 32, 88]\n",
      "the identifier: 1582595725696\n",
      "origlist: [45, 32, 88, 'cat']\n",
      "the identifier: 1582595723584\n",
      "origlist: [45, 32, 88, 'cat', 'cat']\n",
      "the identifier: 1582595723584\n"
     ]
    }
   ],
   "source": [
    "origlist = [45,32,88]\n",
    "print(\"origlist:\", origlist)\n",
    "print(\"the identifier:\", id(origlist))             #id of the list before changes\n",
    "origlist = origlist + ['cat']\n",
    "print(\"origlist:\", origlist)\n",
    "print(\"the identifier:\", id(origlist))              #id of the list after concatentation\n",
    "origlist.append('cat')\n",
    "print(\"origlist:\", origlist)\n",
    "print(\"the identifier:\", id(origlist))             #id of the list after append is used\n"
   ]
  },
  {
   "cell_type": "code",
   "execution_count": 13,
   "metadata": {},
   "outputs": [
    {
     "name": "stdout",
     "output_type": "stream",
     "text": [
      "original: 55\n",
      "the identifier: 140733077069152\n",
      "original: 61\n",
      "the identifier: 140733077069344\n",
      "original: 61\n",
      "the identifier: 140733077069344\n"
     ]
    }
   ],
   "source": [
    "original = 55\n",
    "print(\"original:\", original)\n",
    "print(\"the identifier:\", id(original))             #id of the list before changes\n",
    "original = original + 6\n",
    "print(\"original:\", original)\n",
    "print(\"the identifier:\", id(original))              #id of the list after concatentation\n",
    "origlist.append(8)\n",
    "print(\"original:\", original)#appends for list only\n",
    "print(\"the identifier:\", id(original))             #id of the list after append is used\n"
   ]
  },
  {
   "cell_type": "code",
   "execution_count": 17,
   "metadata": {},
   "outputs": [
    {
     "name": "stdout",
     "output_type": "stream",
     "text": [
      "['W', 'a', 'r', 'm', 't', 'h']\n"
     ]
    }
   ],
   "source": [
    "st = \"Warmth\"\n",
    "a = []\n",
    "b = a + [st[0]]\n",
    "c = b + [st[1]]\n",
    "d = c + [st[2]]\n",
    "e = d + [st[3]]\n",
    "f = e + [st[4]]\n",
    "g = f + [st[5]]\n",
    "print(g)\n"
   ]
  },
  {
   "cell_type": "code",
   "execution_count": 24,
   "metadata": {},
   "outputs": [
    {
     "name": "stdout",
     "output_type": "stream",
     "text": [
      "[4, 2, 8, 6, 5, 999]\n",
      "[4, 2, 8, 6, 5, '999']\n"
     ]
    }
   ],
   "source": [
    "# alist = [4,2,8,6,5]\n",
    "# alist = alist + 999\n",
    "# print(alist)\n",
    "#int with list error\n",
    "\n",
    "# alist = [4,2,8,6,5]\n",
    "# alist = alist + '999'\n",
    "# print(alist)\n",
    "#str with list error\n",
    "\n",
    "alist = [4,2,8,6,5]\n",
    "alist = alist + [999]#int\n",
    "print(alist)\n",
    "\n",
    "alist = [4,2,8,6,5]\n",
    "alist = alist + ['999']#str\n",
    "print(alist)"
   ]
  }
 ],
 "metadata": {
  "kernelspec": {
   "display_name": "Python 3",
   "language": "python",
   "name": "python3"
  },
  "language_info": {
   "codemirror_mode": {
    "name": "ipython",
    "version": 3
   },
   "file_extension": ".py",
   "mimetype": "text/x-python",
   "name": "python",
   "nbconvert_exporter": "python",
   "pygments_lexer": "ipython3",
   "version": "3.8.3"
  }
 },
 "nbformat": 4,
 "nbformat_minor": 4
}
