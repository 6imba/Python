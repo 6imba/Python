{
 "cells": [
  {
   "cell_type": "code",
   "execution_count": 11,
   "metadata": {},
   "outputs": [
    {
     "name": "stdout",
     "output_type": "stream",
     "text": [
      "0\n",
      "1\n",
      "3\n",
      "6\n",
      "10\n",
      "15\n",
      "21\n",
      "28\n",
      "36\n",
      "45\n"
     ]
    }
   ],
   "source": [
    "#This pattern of iterating the updating of a variable is commonly referred to as the accumulator pattern\n",
    "#We refer to the variable as the accumulator. This pattern will come up over and over again. Remember that the key to making it work successfully is to be sure to initialize the variable before you start the iteration. Once inside the iteration, it is required that you update the accumulator.\n",
    "intlist = [1,2,3,4,5,6,7,8,9,10]\n",
    "intsum = 0\n",
    "for loopvar in intlist:\n",
    "    print(intsum)\n",
    "    intsum = intsum + loopvar #accumulator\n",
    "    "
   ]
  },
  {
   "cell_type": "code",
   "execution_count": null,
   "metadata": {},
   "outputs": [],
   "source": [
    "#Error int + list\n",
    "intlist = [1,2,3,4,5,6,7,8,9,10]#sequence or list\n",
    "intsum = 0\n",
    "for loopvar in intlist:\n",
    "    print(intsum)\n",
    "    #intsum = intsum + intlist\n",
    "    #intsum = intsum + int(intlist)"
   ]
  },
  {
   "cell_type": "code",
   "execution_count": 13,
   "metadata": {},
   "outputs": [
    {
     "name": "stdout",
     "output_type": "stream",
     "text": [
      "21\n"
     ]
    }
   ],
   "source": [
    "lists = [1,2,3,4,5,6]\n",
    "totalsum = 0\n",
    "for loopvar in lists:\n",
    "    totalsum = totalsum + loopvar #here loopvar is a loopvariable hold the element of list\n",
    "print(totalsum)"
   ]
  },
  {
   "cell_type": "code",
   "execution_count": 43,
   "metadata": {},
   "outputs": [
    {
     "name": "stdout",
     "output_type": "stream",
     "text": [
      "range(0, 5)\n",
      "range(5)\n",
      "0\n",
      "1\n",
      "2\n",
      "3\n",
      "4\n",
      "range(0, 5)\n",
      "range(0,5)\n",
      "0\n",
      "1\n",
      "2\n",
      "3\n",
      "4\n",
      "range(3, 8)\n",
      "range(3,8)\n",
      "3\n",
      "4\n",
      "5\n",
      "6\n",
      "7\n",
      "list(range(5))\n",
      "[0, 1, 2, 3, 4]\n",
      "[0, 1, 2, 3, 4]\n",
      "[7, 8, 9, 10, 11, 12, 13, 14]\n",
      "range(0, 5)\n"
     ]
    }
   ],
   "source": [
    "print(range(5))\n",
    "print(\"range(5)\")\n",
    "for i in range(5):\n",
    "    print(i)\n",
    "\n",
    "print(range(0,5))\n",
    "print(\"range(0,5)\")\n",
    "for j in range(0,5):\n",
    "    print(j)\n",
    "    \n",
    "print(range(3,8))\n",
    "print(\"range(3,8)\")\n",
    "for j in range(3,8):\n",
    "    print(j)\n",
    "\n",
    "print(\"list(range(5))\") # Notice the casting of `range` to the `list`\n",
    "\n",
    "print(list(range(5)))\n",
    "print(list(range(0,5)))\n",
    "print(list(range(7,15)))\n",
    "print(range(5))\n",
    "#range function is already casted into list no need to cast range into list anymore\n"
   ]
  },
  {
   "cell_type": "code",
   "execution_count": 44,
   "metadata": {},
   "outputs": [
    {
     "name": "stdout",
     "output_type": "stream",
     "text": [
      "0\n",
      "1\n",
      "3\n",
      "6\n",
      "10\n",
      "15\n",
      "21\n",
      "28\n",
      "36\n",
      "45\n"
     ]
    }
   ],
   "source": [
    "#using range function i n first example instead of list\n",
    "intlist = range(1,11)\n",
    "intsum = 0\n",
    "for loopvar in intlist:\n",
    "    print(intsum)\n",
    "    intsum = intsum + loopvar\n",
    "  "
   ]
  },
  {
   "cell_type": "code",
   "execution_count": 46,
   "metadata": {},
   "outputs": [
    {
     "name": "stdout",
     "output_type": "stream",
     "text": [
      "55\n",
      "55\n"
     ]
    }
   ],
   "source": [
    "accum = 0\n",
    "for w in range(11):\n",
    "    accum = accum + w\n",
    "print(accum)\n",
    "\n",
    "# or, if you use two inputs for the range function\n",
    "\n",
    "sec_accum = 0\n",
    "for w in range(1,11):\n",
    "    sec_accum = sec_accum + w\n",
    "print(sec_accum)"
   ]
  },
  {
   "cell_type": "code",
   "execution_count": 49,
   "metadata": {},
   "outputs": [
    {
     "name": "stdout",
     "output_type": "stream",
     "text": [
      "0\n",
      "1\n",
      "2\n",
      "3\n",
      "4\n",
      "5\n",
      "6\n",
      "7\n",
      "8\n",
      "9\n",
      "10\n",
      "11\n",
      "12\n",
      "13\n",
      "14\n",
      "15\n",
      "16\n",
      "17\n",
      "18\n",
      "19\n",
      "20\n",
      "21\n",
      "22\n",
      "23\n",
      "24\n",
      "25\n",
      "26\n",
      "27\n",
      "28\n",
      "29\n",
      "30\n",
      "31\n",
      "32\n",
      "33\n",
      "34\n",
      "35\n",
      "36\n",
      "37\n",
      "38\n",
      "39\n",
      "40\n",
      "41\n",
      "42\n",
      "43\n",
      "44\n",
      "45\n",
      "46\n",
      "47\n",
      "48\n",
      "49\n",
      "50\n",
      "51\n",
      "52\n"
     ]
    }
   ],
   "source": [
    "for i in range(0,53):\n",
    "    print(i)"
   ]
  },
  {
   "cell_type": "code",
   "execution_count": 51,
   "metadata": {},
   "outputs": [
    {
     "name": "stdout",
     "output_type": "stream",
     "text": [
      "[0, 1, 2, 3, 4, 5, 6, 7, 8, 9, 10, 11, 12, 13, 14, 15, 16, 17, 18, 19, 20, 21, 22, 23, 24, 25, 26, 27, 28, 29, 30, 31, 32, 33, 34, 35, 36, 37, 38, 39, 40, 41, 42, 43, 44, 45, 46, 47, 48, 49, 50, 51, 52]\n"
     ]
    }
   ],
   "source": [
    "print(list(range(0,53)))\n"
   ]
  },
  {
   "cell_type": "code",
   "execution_count": 52,
   "metadata": {},
   "outputs": [
    {
     "name": "stdout",
     "output_type": "stream",
     "text": [
      "90\n"
     ]
    }
   ],
   "source": [
    "str1 = \"I like nonsense, it wakes up the brain cells. Fantasy is a necessary ingredient in living.\"\n",
    "numb=0\n",
    "for i in str1:\n",
    "    numb+=1\n",
    "print(numb)\n"
   ]
  },
  {
   "cell_type": "code",
   "execution_count": 54,
   "metadata": {},
   "outputs": [
    {
     "name": "stdout",
     "output_type": "stream",
     "text": [
      "90\n"
     ]
    }
   ],
   "source": [
    "str1 = \"I like nonsense, it wakes up the brain cells. Fantasy is a necessary ingredient in living.\"\n",
    "\n",
    "print(len(str1))\n"
   ]
  },
  {
   "cell_type": "code",
   "execution_count": 55,
   "metadata": {},
   "outputs": [
    {
     "name": "stdout",
     "output_type": "stream",
     "text": [
      "0 apple\n",
      "1 pear\n",
      "2 apricot\n",
      "3 cherry\n",
      "4 peach\n"
     ]
    }
   ],
   "source": [
    "fruits = ['apple', 'pear', 'apricot', 'cherry', 'peach']\n",
    "for n in range(5):\n",
    "    print(n, fruits[n])\n"
   ]
  },
  {
   "cell_type": "code",
   "execution_count": 56,
   "metadata": {},
   "outputs": [
    {
     "name": "stdout",
     "output_type": "stream",
     "text": [
      "0 apple\n",
      "1 pear\n",
      "2 apricot\n",
      "3 cherry\n",
      "4 peach\n"
     ]
    }
   ],
   "source": [
    "fruits = ['apple', 'pear', 'apricot', 'cherry', 'peach']\n",
    "for n in range(len(fruits)):\n",
    "    print(n, fruits[n])"
   ]
  },
  {
   "cell_type": "code",
   "execution_count": 58,
   "metadata": {},
   "outputs": [
    {
     "name": "stdout",
     "output_type": "stream",
     "text": [
      "apple\n",
      "pear\n",
      "apricot\n",
      "cherry\n",
      "peach\n"
     ]
    }
   ],
   "source": [
    "fruits = ['apple', 'pear', 'apricot', 'cherry', 'peach']\n",
    "for fruit in fruits:\n",
    "    print(fruit)"
   ]
  },
  {
   "cell_type": "code",
   "execution_count": 1,
   "metadata": {},
   "outputs": [
    {
     "name": "stdout",
     "output_type": "stream",
     "text": [
      "p\n",
      "y\n",
      "p\n",
      "y\n",
      "p\n",
      "y\n"
     ]
    }
   ],
   "source": [
    "s = \"python\"\n",
    "for idx in range(len(s)):\n",
    "   print(s[idx % 2])\n",
    "# idx % 2 is 0 whenever idx is even"
   ]
  },
  {
   "cell_type": "code",
   "execution_count": 7,
   "metadata": {},
   "outputs": [
    {
     "name": "stdout",
     "output_type": "stream",
     "text": [
      "[3, 0, 9, 4, 1, 7]\n",
      "6\n",
      "[8, 5, 14, 9, 6, 12]\n"
     ]
    }
   ],
   "source": [
    "lst= [3,0,9,4,1,7]\n",
    "print(lst)\n",
    "print(len(lst))\n",
    "new_list=[]\n",
    "for i in range(len(lst)):\n",
    "   new_list.append(lst[i]+5)\n",
    "print(new_list)\n",
    "\n",
    "\n",
    "\n",
    "#a=range(lst)\n",
    "#print(a)"
   ]
  },
  {
   "cell_type": "code",
   "execution_count": 35,
   "metadata": {},
   "outputs": [
    {
     "name": "stdout",
     "output_type": "stream",
     "text": [
      "10\n",
      "15\n",
      "20\n",
      "25\n",
      "30\n"
     ]
    }
   ],
   "source": [
    "numbs = [5, 10, 15, 20, 25]\n",
    "newlist = numbs\n",
    "for i in numbs:\n",
    "    newlist = i + 5\n",
    "    print(newlist)\n",
    "\n"
   ]
  },
  {
   "cell_type": "code",
   "execution_count": 36,
   "metadata": {},
   "outputs": [],
   "source": [
    "numbs = [5, 10, 15, 20, 25]\n",
    "newlist = []\n",
    "for i in numbs:\n",
    "    i = i + 5\n",
    "    newlist.append(i)\n"
   ]
  },
  {
   "cell_type": "code",
   "execution_count": 37,
   "metadata": {},
   "outputs": [
    {
     "name": "stdout",
     "output_type": "stream",
     "text": [
      "[10, 15, 20, 25, 30]\n"
     ]
    }
   ],
   "source": [
    "#Challenge Now do the same as in the previous problem, but do not create a new list. Overwrite the list numbs so that each of the original numbers are increased by 5.\n",
    "numbs = [5, 10, 15, 20, 25]\n",
    "a=0\n",
    "for i in numbs:\n",
    "    i = i +5\n",
    "    numbs[a] = i\n",
    "    a = a+1\n",
    "print(numbs)\n"
   ]
  },
  {
   "cell_type": "code",
   "execution_count": 39,
   "metadata": {},
   "outputs": [
    {
     "name": "stdout",
     "output_type": "stream",
     "text": [
      "[8, 58, 10.6, 20, 4, 3634, 3934, 18, 62.64]\n"
     ]
    }
   ],
   "source": [
    "lst_nums = [4, 29, 5.3, 10, 2, 1817, 1967, 9, 31.32]\n",
    "larger_nums = []\n",
    "for i in lst_nums:\n",
    "    i = i * 2\n",
    "    larger_nums.append(i)\n",
    "print(larger_nums)\n"
   ]
  },
  {
   "cell_type": "code",
   "execution_count": 41,
   "metadata": {},
   "outputs": [
    {
     "name": "stdout",
     "output_type": "stream",
     "text": [
      "Enter Text :s = \"ball\" r = \"\" for item in s:    r = item.upper() + r print(r)\n",
      "ss-  -==-  -\"\"-bb-aa-ll-ll-\"\"-  -rr-  -==-  -\"\"-\"\"-  -ff-oo-rr-  -ii-tt-ee-mm-  -ii-nn-  -ss-::-  -  -  -  -rr-  -==-  -ii-tt-ee-mm-..-uu-pp-pp-ee-rr-((-))-  -++-  -rr-  -pp-rr-ii-nn-tt-((-rr-))-\n"
     ]
    }
   ],
   "source": [
    "#accumulator pattern in string\n",
    "text = input('Enter Text :')\n",
    "accum = ''\n",
    "for i in text:\n",
    "    accum = accum + i + i + '-'\n",
    "print(accum)"
   ]
  },
  {
   "cell_type": "code",
   "execution_count": 46,
   "metadata": {},
   "outputs": [
    {
     "name": "stdout",
     "output_type": "stream",
     "text": [
      "LLAB\n"
     ]
    }
   ],
   "source": [
    "s = \"ball\"\n",
    "r = \"\"\n",
    "for item in s:\n",
    "    r = item.upper() + r\n",
    "print(r)"
   ]
  },
  {
   "cell_type": "code",
   "execution_count": 47,
   "metadata": {},
   "outputs": [
    {
     "name": "stdout",
     "output_type": "stream",
     "text": [
      "['I', ' ', 'l', 'o', 'v', 'e', ' ', 'p', 'y', 't', 'h', 'o', 'n']\n"
     ]
    }
   ],
   "source": [
    "str1 = \"I love python\"\n",
    "# HINT: what's the accumulator? That should go here.\n",
    "chars = []\n",
    "for i in str1:\n",
    "    chars.append(i)\n",
    "print(chars)"
   ]
  },
  {
   "cell_type": "code",
   "execution_count": 48,
   "metadata": {},
   "outputs": [
    {
     "name": "stdout",
     "output_type": "stream",
     "text": [
      "aaaaaaaaaaaaaaaaaaaaaaaaaaaaaaaaaaa\n"
     ]
    }
   ],
   "source": [
    "output = ''\n",
    "for i in range(35):\n",
    "    output = output + 'a'\n",
    "print(output)"
   ]
  },
  {
   "cell_type": "code",
   "execution_count": 51,
   "metadata": {},
   "outputs": [
    {
     "name": "stdout",
     "output_type": "stream",
     "text": [
      "18\n"
     ]
    }
   ],
   "source": [
    "output = [1,2,6,4,5]\n",
    "sum=0\n",
    "for i in output:\n",
    "    sum = sum + i\n",
    "print(sum)"
   ]
  }
 ],
 "metadata": {
  "kernelspec": {
   "display_name": "Python 3",
   "language": "python",
   "name": "python3"
  },
  "language_info": {
   "codemirror_mode": {
    "name": "ipython",
    "version": 3
   },
   "file_extension": ".py",
   "mimetype": "text/x-python",
   "name": "python",
   "nbconvert_exporter": "python",
   "pygments_lexer": "ipython3",
   "version": "3.8.3"
  }
 },
 "nbformat": 4,
 "nbformat_minor": 4
}
