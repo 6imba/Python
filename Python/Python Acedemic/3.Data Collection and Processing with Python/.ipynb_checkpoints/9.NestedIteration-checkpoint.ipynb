{
 "cells": [
  {
   "cell_type": "code",
   "execution_count": 2,
   "metadata": {},
   "outputs": [
    {
     "name": "stdout",
     "output_type": "stream",
     "text": [
      "one\n",
      "two\n",
      "three\n",
      "five\n",
      "four\n",
      "one\n",
      "five\n",
      "six\n",
      "two\n",
      "four\n"
     ]
    }
   ],
   "source": [
    "big_list = [[['one','two'],['three','five']],[['four','one'],['five','six','two','four']]]\n",
    "word_count = {}\n",
    "\n",
    "for level1 in big_list:\n",
    "    for level2 in level1:\n",
    "        for level3 in level2:\n",
    "            print(level3)"
   ]
  },
  {
   "cell_type": "code",
   "execution_count": 5,
   "metadata": {},
   "outputs": [
    {
     "name": "stdout",
     "output_type": "stream",
     "text": [
      "{'one': 2, 'two': 2, 'three': 1, 'five': 2, 'four': 2, 'six': 1}\n"
     ]
    }
   ],
   "source": [
    "big_list = [[['one','two'],['three','five']],[['four','one'],['five','six','two','four']]]\n",
    "word_count = {}\n",
    "\n",
    "for level1 in big_list:\n",
    "    for level2 in level1:\n",
    "        for level3 in level2:\n",
    "            if level3 not in word_count:\n",
    "                word_count[level3]=1\n",
    "            else:\n",
    "                word_count[level3]=word_count[level3]+1\n",
    "                \n",
    "print(word_count)"
   ]
  },
  {
   "cell_type": "code",
   "execution_count": null,
   "metadata": {},
   "outputs": [],
   "source": [
    "big_list = [[['one','two'],['three','five']],[['four','one'],['five','six','two','four']]]\n",
    "word_count = {}\n",
    "\n",
    "for level1 in big_list:\n",
    "    for level2 in level1:\n",
    "        for level3 in level2:\n",
    "            if level3  in word_count:\n",
    "                word_count[level3]+=1\n",
    "            else:\n",
    "                word_count[level3]=1\n",
    "                \n",
    "print(word_count)"
   ]
  }
 ],
 "metadata": {
  "kernelspec": {
   "display_name": "Python 3",
   "language": "python",
   "name": "python3"
  },
  "language_info": {
   "codemirror_mode": {
    "name": "ipython",
    "version": 3
   },
   "file_extension": ".py",
   "mimetype": "text/x-python",
   "name": "python",
   "nbconvert_exporter": "python",
   "pygments_lexer": "ipython3",
   "version": "3.8.4"
  }
 },
 "nbformat": 4,
 "nbformat_minor": 4
}
