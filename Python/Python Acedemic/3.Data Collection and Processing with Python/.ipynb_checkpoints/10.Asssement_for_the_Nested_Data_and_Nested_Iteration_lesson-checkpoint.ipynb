{
 "cells": [
  {
   "cell_type": "code",
   "execution_count": 77,
   "metadata": {},
   "outputs": [
    {
     "name": "stdout",
     "output_type": "stream",
     "text": [
      "['frog', 'turtle', 'snake', 'gecko']\n",
      "snake\n"
     ]
    }
   ],
   "source": [
    "#The variable nested contains a nested list. Assign ‘snake’ to the variable output using indexing.\n",
    "\n",
    "nested = [['dog', 'cat', 'horse'], ['frog', 'turtle', 'snake', 'gecko'], ['hamster', 'gerbil', 'rat', 'ferret']]\n",
    "for lev1 in nested[1:2]:\n",
    "    print(lev1)\n",
    "    output = lev1[2]\n",
    "print(output)"
   ]
  },
  {
   "cell_type": "code",
   "execution_count": 78,
   "metadata": {},
   "outputs": [
    {
     "name": "stdout",
     "output_type": "stream",
     "text": [
      "True\n",
      "False\n",
      "True\n"
     ]
    }
   ],
   "source": [
    "# Below, a list of lists is provided. Use in and not in tests to create variables with Boolean values. \n",
    "# See comments for further instructions.\n",
    "\n",
    "\n",
    "lst = [['apple', 'orange', 'banana'], [5, 6, 7, 8, 9.9, 10], ['green', 'yellow', 'purple', 'red']]\n",
    "\n",
    "# Function\n",
    "def test (item,list2):\n",
    "    return item in list2\n",
    "\n",
    "\n",
    "#Test to see if 'yellow' is in the third list of lst. Save to variable ``yellow``\n",
    "yellow = test('yellow' , lst[2])\n",
    "print(yellow)\n",
    "\n",
    "#Test to see if 4 is in the second list of lst. Save to variable ``four``\n",
    "four = test(4 , lst[1])\n",
    "print(four)\n",
    "\n",
    "#Test to see if 'orange' is in the first element of lst. Save to variable ``orange``\n",
    "orange = test('orange' , lst[0])\n",
    "print(orange)"
   ]
  },
  {
   "cell_type": "code",
   "execution_count": 79,
   "metadata": {},
   "outputs": [
    {
     "name": "stdout",
     "output_type": "stream",
     "text": [
      "False\n",
      "True\n",
      "True\n"
     ]
    }
   ],
   "source": [
    "# Below, we’ve provided a list of lists. Use in statements to create variables with Boolean values - see the ActiveCode window for further directions.\n",
    "\n",
    "L = [[5, 8, 7], ['hello', 'hi', 'hola'], [6.6, 1.54, 3.99], ['small', 'large']]\n",
    "\n",
    "# Test if 'hola' is in the list L. Save to variable name test1\n",
    "test1 = 'hola' in L\n",
    "print(test1)\n",
    "\n",
    "# Test if [5, 8, 7] is in the list L. Save to variable name test2\n",
    "test2 = [5, 8, 7] in L\n",
    "print(test2)\n",
    "\n",
    "# Test if 6.6 is in the third element of list L. Save to variable name test3\n",
    "test3 = 6.6 in L[2]\n",
    "print(test3)\n"
   ]
  },
  {
   "cell_type": "code",
   "execution_count": 80,
   "metadata": {},
   "outputs": [
    {
     "name": "stdout",
     "output_type": "stream",
     "text": [
      "False\n",
      "False\n",
      "False\n",
      "False\n"
     ]
    }
   ],
   "source": [
    "# Provided is a nested data structure. Follow the instructions in the comments below. Do not hard code.\n",
    "\n",
    "nested = {'data': ['finding', 23, ['exercises', 'hangout', 34]], 'window': ['part', 'whole', [], 'sum', ['math', 'calculus', 'algebra', 'geometry', 'statistics',['physics', 'chemistry', 'biology']]]}\n",
    "\n",
    "# Check to see if the string data is a key in nested, if it is, assign True to the variable data, otherwise assign False.\n",
    "data = 'string' in nested\n",
    "print(data)\n",
    "\n",
    "# Check to see if the integer 24 is in the value of the key data, if it is then assign to the variable twentyfour the value of True, otherwise False.\n",
    "twentyfour = 24 in nested['data']\n",
    "print(twentyfour)\n",
    "\n",
    "\n",
    "# Check to see that the string 'whole' is not in the value of the key window. If it's not, then assign to the variable whole the value of True, otherwise False.\n",
    "whole = 'whole' not in nested['window']\n",
    "print(whole)\n",
    "\n",
    "# Check to see if the string 'physics' is a key in the dictionary nested. If it is, assign to the variable physics, the value of True, otherwise False.\n",
    "physics = 'physics' in nested\n",
    "print(physics)\n"
   ]
  },
  {
   "cell_type": "code",
   "execution_count": 81,
   "metadata": {},
   "outputs": [
    {
     "name": "stdout",
     "output_type": "stream",
     "text": [
      "29\n"
     ]
    }
   ],
   "source": [
    "#The variable nested_d contains a nested dictionary with the gold medal counts for the top four countries in the past three Olympics. Assign the value of Great Britain’s gold medal count from the London Olympics to the variable london_gold. Use indexing. Do not hardcode.\n",
    "\n",
    "nested_d = {'Beijing':{'China':51, 'USA':36, 'Russia':22, 'Great Britain':19}, 'London':{'USA':46, 'China':38, 'Great Britain':29, 'Russia':22}, 'Rio':{'USA':35, 'Great Britain':22, 'China':20, 'Germany':13}}\n",
    "london_gold = nested_d['London']['Great Britain']\n",
    "print(london_gold)"
   ]
  },
  {
   "cell_type": "code",
   "execution_count": 82,
   "metadata": {},
   "outputs": [
    {
     "name": "stdout",
     "output_type": "stream",
     "text": [
      "backstroke\n",
      "platform\n",
      "['vault', 'floor', 'uneven bars', 'balance beam']\n",
      "rings\n"
     ]
    }
   ],
   "source": [
    "# Below, we have provided a nested dictionary. Index into the dictionary to create variables that we have listed in the ActiveCode window.\n",
    "\n",
    "sports = {'swimming': ['butterfly', 'breaststroke', 'backstroke', 'freestyle'], 'diving': ['springboard', 'platform', 'synchronized'], 'track': ['sprint', 'distance', 'jumps', 'throws'], 'gymnastics': {'women':['vault', 'floor', 'uneven bars', 'balance beam'], 'men': ['vault', 'parallel bars', 'floor', 'rings']}}\n",
    "\n",
    "# Assign the string 'backstroke' to the name v1\n",
    "v1=sports['swimming'][2]\n",
    "print(v1)\n",
    "\n",
    "# Assign the string 'platform' to the name v2\n",
    "v2=sports['diving'][1]\n",
    "print(v2)\n",
    "\n",
    "# Assign the list ['vault', 'floor', 'uneven bars', 'balance beam'] to the name v3\n",
    "v3=sports['gymnastics']['women']\n",
    "print(v3)\n",
    "\n",
    "# Assign the string 'rings' to the name v4\n",
    "v4=sports['gymnastics']['men'][3]\n",
    "print(v4)\n"
   ]
  },
  {
   "cell_type": "code",
   "execution_count": 83,
   "metadata": {},
   "outputs": [
    {
     "name": "stdout",
     "output_type": "stream",
     "text": [
      "Beijing\n",
      "{'China': 51, 'USA': 36, 'Russia': 22, 'Great Britain': 19}\n",
      "36\n",
      "[36]\n",
      "London\n",
      "{'USA': 46, 'China': 38, 'Great Britain': 29, 'Russia': 22}\n",
      "46\n",
      "[36, 46]\n",
      "Rio\n",
      "{'USA': 35, 'Great Britain': 22, 'China': 20, 'Germany': 13}\n",
      "35\n",
      "[36, 46, 35]\n"
     ]
    }
   ],
   "source": [
    "# Given the dictionary, nested_d, save the medal count for the USA from all three Olympics in the dictionary to the list US_count.\n",
    "\n",
    "nested_d = {'Beijing':{'China':51, 'USA':36, 'Russia':22, 'Great Britain':19}, 'London':{'USA':46, 'China':38, 'Great Britain':29, 'Russia':22}, 'Rio':{'USA':35, 'Great Britain':22, 'China':20, 'Germany':13}}\n",
    "US_count = []\n",
    "\n",
    "for lev1 in nested_d:\n",
    "    print(lev1)\n",
    "    print(nested_d[lev1])\n",
    "    print(nested_d[lev1]['USA']) # print(lev1['USA']) error\n",
    "    US_count.append(nested_d[lev1]['USA'])\n",
    "    print(US_count)\n"
   ]
  },
  {
   "cell_type": "code",
   "execution_count": 84,
   "metadata": {
    "scrolled": true
   },
   "outputs": [
    {
     "name": "stdout",
     "output_type": "stream",
     "text": [
      "['purple', 'mauve', 'blue']\n",
      "Third_item :  ['blue']\n",
      "['red', 'maroon', 'blood orange', 'crimson']\n",
      "Third_item :  ['blue', 'blood orange']\n",
      "['sea green', 'cornflower', 'lavender', 'indigo']\n",
      "Third_item :  ['blue', 'blood orange', 'lavender']\n",
      "['yellow', 'amarillo', 'mac n cheese', 'golden rod']\n",
      "Third_item :  ['blue', 'blood orange', 'lavender', 'mac n cheese']\n"
     ]
    }
   ],
   "source": [
    "# Iterate through the contents of l_of_l and assign the third element of sublist to a new list called third.\n",
    "\n",
    "l_of_l = [['purple', 'mauve', 'blue'], ['red', 'maroon', 'blood orange', 'crimson'], ['sea green', 'cornflower', 'lavender', 'indigo'], ['yellow', 'amarillo', 'mac n cheese', 'golden rod']]\n",
    "third = []\n",
    "for sub in l_of_l:\n",
    "    print(sub)\n",
    "    third.append(sub[2])\n",
    "    print('Third_item : ',third)\n"
   ]
  },
  {
   "cell_type": "code",
   "execution_count": 85,
   "metadata": {},
   "outputs": [
    {
     "name": "stdout",
     "output_type": "stream",
     "text": [
      "['Lochte', 'Bolt', 'Eaton', 'Dalton']\n",
      "['Phelps', 'Schooling', 'Ledecky', 'Franklin', 'Felix', 'Gardner', 'Biles', 'Douglas', 'Hamm', 'Raisman', 'Mikulak']\n"
     ]
    }
   ],
   "source": [
    "# Given below is a list of lists of athletes. Create a list, t, that saves only the athlete’s name if it contains the letter “t”. If it does not contain the letter “t”, save the athlete name into list other.\n",
    "\n",
    "athletes = [['Phelps', 'Lochte', 'Schooling', 'Ledecky', 'Franklin'], ['Felix', 'Bolt', 'Gardner', 'Eaton'], ['Biles', 'Douglas', 'Hamm', 'Raisman', 'Mikulak', 'Dalton']]\n",
    "t = []\n",
    "other = []\n",
    "for lev1 in athletes:\n",
    "    for lev2 in lev1:\n",
    "        if 't' in lev2:\n",
    "            t.append(lev2)\n",
    "        else:\n",
    "            other.append(lev2)\n",
    "    \n",
    "print(t)\n",
    "print(other)"
   ]
  }
 ],
 "metadata": {
  "kernelspec": {
   "display_name": "Python 3",
   "language": "python",
   "name": "python3"
  },
  "language_info": {
   "codemirror_mode": {
    "name": "ipython",
    "version": 3
   },
   "file_extension": ".py",
   "mimetype": "text/x-python",
   "name": "python",
   "nbconvert_exporter": "python",
   "pygments_lexer": "ipython3",
   "version": "3.8.4"
  }
 },
 "nbformat": 4,
 "nbformat_minor": 4
}
