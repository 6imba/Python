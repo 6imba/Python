{
 "cells": [
  {
   "cell_type": "code",
   "execution_count": 55,
   "metadata": {},
   "outputs": [
    {
     "name": "stdout",
     "output_type": "stream",
     "text": [
      "<Response [200]>\n"
     ]
    }
   ],
   "source": [
    "import requests\n",
    "page = requests.get(\"https://api.datamuse.com/words?rel_rhy=funny\")\n",
    "print(page)"
   ]
  },
  {
   "cell_type": "code",
   "execution_count": 56,
   "metadata": {},
   "outputs": [
    {
     "name": "stdout",
     "output_type": "stream",
     "text": [
      "[{\"word\":\"money\",\"score\":4415,\"numSyllables\":2},{\"word\":\"honey\",\"score\":1206,\"numSyllables\":2},{\"word\":\"sunny\",\"score\":718,\"numSyllables\":2},{\"word\":\"bunny\",\"score\":702,\"numSyllables\":2},{\"word\":\"blini\",\"score\":613,\"numSyllables\":2},{\"word\":\"gunny\",\"score\":449,\"numSyllables\":2},{\"word\":\"tunny\",\"score\":302,\"numSyllables\":2},{\"word\":\"sonny\",\"score\":286,\"numSyllables\":2},{\"word\":\"dunny\",\"score\":245,\"numSyllables\":2},{\"word\":\"runny\",\"score\":225,\"numSyllables\":2},{\"word\":\"thunny\",\"score\":222,\"numSyllables\":2},{\"word\":\"aknee\",\"score\":179,\"numSyllables\":2},{\"word\":\"squinny\",\"score\":170,\"numSyllables\":2},{\"word\":\"fiat money\",\"score\":160,\"numSyllables\":4},{\"word\":\"gunnie\",\"score\":156,\"numSyllables\":2},{\"word\":\"blood money\",\"score\":152,\"numSyllables\":3},{\"word\":\"squiny\",\"score\":152,\"numSyllables\":2},{\"word\":\"tunney\",\"score\":119,\"numSyllables\":2},{\"word\":\"spinny\",\"score\":117,\"numSyllables\":2},{\"word\":\"pin money\",\"score\":107,\"numSyllables\":3},{\"word\":\"easy money\",\"score\":66,\"numSyllables\":4},{\"word\":\"smart money\",\"score\":66,\"numSyllables\":3},{\"word\":\"earnest money\",\"score\":62,\"numSyllables\":4},{\"word\":\"easter bunny\",\"score\":56,\"numSyllables\":4},{\"word\":\"paper money\",\"score\":54,\"numSyllables\":4},{\"word\":\"pocket money\",\"score\":47,\"numSyllables\":4},{\"word\":\"folding money\",\"score\":46,\"numSyllables\":4},{\"word\":\"conscience money\",\"score\":41,\"numSyllables\":4},{\"word\":\"hush money\",\"score\":40,\"numSyllables\":3},{\"word\":\"prize money\",\"score\":37,\"numSyllables\":3},{\"word\":\"amount of money\",\"score\":33,\"numSyllables\":5},{\"word\":\"for love or money\",\"score\":32,\"numSyllables\":5},{\"word\":\"tight money\",\"score\":32,\"numSyllables\":3},{\"word\":\"ship money\",\"score\":30,\"numSyllables\":3},{\"word\":\"metal money\",\"score\":27,\"numSyllables\":4},{\"word\":\"sum of money\",\"score\":23,\"numSyllables\":4},{\"word\":\"entrance money\",\"score\":22,\"numSyllables\":4},{\"word\":\"cheap money\",\"score\":21,\"numSyllables\":3},{\"word\":\"spending money\",\"score\":21,\"numSyllables\":4},{\"word\":\"token money\",\"score\":21,\"numSyllables\":4},{\"word\":\"waste of money\",\"score\":19,\"numSyllables\":4},{\"word\":\"ransom money\",\"score\":18,\"numSyllables\":4},{\"word\":\"hearth money\",\"score\":14,\"numSyllables\":3},{\"word\":\"munni\",\"score\":14,\"numSyllables\":2},{\"word\":\"bunnie\",\"score\":2,\"numSyllables\":2},{\"word\":\"euromoney\",\"score\":2,\"numSyllables\":4},{\"word\":\"smartmoney\",\"score\":2,\"numSyllables\":3},{\"word\":\"anyone he\",\"numSyllables\":4},{\"word\":\"begun he\",\"numSyllables\":3},{\"word\":\"bunney\",\"numSyllables\":2},{\"word\":\"ca ne\",\"numSyllables\":2},{\"word\":\"done he\",\"numSyllables\":2},{\"word\":\"donne e\",\"numSyllables\":2},{\"word\":\"everyone he\",\"numSyllables\":4},{\"word\":\"fun he\",\"numSyllables\":2},{\"word\":\"grandson he\",\"numSyllables\":3},{\"word\":\"gun he\",\"numSyllables\":2},{\"word\":\"handgun he\",\"numSyllables\":3},{\"word\":\"kun hee\",\"numSyllables\":2},{\"word\":\"le ne\",\"numSyllables\":2},{\"word\":\"lunney\",\"numSyllables\":2},{\"word\":\"lunny\",\"numSyllables\":2},{\"word\":\"none e\",\"numSyllables\":2},{\"word\":\"none he\",\"numSyllables\":2},{\"word\":\"nun he\",\"numSyllables\":2},{\"word\":\"one he\",\"numSyllables\":2},{\"word\":\"one knee\",\"numSyllables\":2},{\"word\":\"pun he\",\"numSyllables\":2},{\"word\":\"run e\",\"numSyllables\":2},{\"word\":\"run he\",\"numSyllables\":2},{\"word\":\"shotgun he\",\"numSyllables\":3},{\"word\":\"someone e\",\"numSyllables\":3},{\"word\":\"someone he\",\"numSyllables\":3},{\"word\":\"son e\",\"numSyllables\":2},{\"word\":\"son he\",\"numSyllables\":2},{\"word\":\"sun e\",\"numSyllables\":2},{\"word\":\"sun he\",\"numSyllables\":2},{\"word\":\"ton he\",\"numSyllables\":2},{\"word\":\"ton ne\",\"numSyllables\":2},{\"word\":\"un e\",\"numSyllables\":2},{\"word\":\"un he\",\"numSyllables\":2},{\"word\":\"un ne\",\"numSyllables\":2},{\"word\":\"un ni\",\"numSyllables\":2},{\"word\":\"won he\",\"numSyllables\":2}]\n"
     ]
    }
   ],
   "source": [
    "import requests\n",
    "page = requests.get(\"https://api.datamuse.com/words?rel_rhy=funny\")\n",
    "print(page.text)  # print the all characters of given url"
   ]
  },
  {
   "cell_type": "code",
   "execution_count": 35,
   "metadata": {},
   "outputs": [
    {
     "name": "stdout",
     "output_type": "stream",
     "text": [
      "[{\"word\":\"money\",\"score\":4415,\"numSyllables\":2},{\"word\":\"honey\",\"score\":1206,\"numSyllables\":2},{\"wor\n"
     ]
    }
   ],
   "source": [
    "import requests\n",
    "import json\n",
    "page = requests.get(\"https://api.datamuse.com/words?rel_rhy=funny\")\n",
    "print(page.text[:100]) # print the first 100 characters"
   ]
  },
  {
   "cell_type": "code",
   "execution_count": 20,
   "metadata": {},
   "outputs": [
    {
     "name": "stdout",
     "output_type": "stream",
     "text": [
      "<class 'requests.models.Response'>\n"
     ]
    }
   ],
   "source": [
    "import requests\n",
    "import json\n",
    "\n",
    "page = requests.get(\"https://api.datamuse.com/words?rel_rhy=funny\")\n",
    "print(type(page))"
   ]
  },
  {
   "cell_type": "code",
   "execution_count": 21,
   "metadata": {},
   "outputs": [
    {
     "name": "stdout",
     "output_type": "stream",
     "text": [
      "https://api.datamuse.com/words?rel_rhy=funny\n"
     ]
    }
   ],
   "source": [
    "import requests\n",
    "import json\n",
    "\n",
    "page = requests.get(\"https://api.datamuse.com/words?rel_rhy=funny\")\n",
    "print(page.url) # print the url that was fetched"
   ]
  },
  {
   "cell_type": "code",
   "execution_count": 36,
   "metadata": {},
   "outputs": [
    {
     "name": "stdout",
     "output_type": "stream",
     "text": [
      "[{'word': 'money', 'score': 4415, 'numSyllables': 2}, {'word': 'honey', 'score': 1206, 'numSyllables': 2}, {'word': 'sunny', 'score': 718, 'numSyllables': 2}, {'word': 'bunny', 'score': 702, 'numSyllables': 2}, {'word': 'blini', 'score': 613, 'numSyllables': 2}, {'word': 'gunny', 'score': 449, 'numSyllables': 2}, {'word': 'tunny', 'score': 302, 'numSyllables': 2}, {'word': 'sonny', 'score': 286, 'numSyllables': 2}, {'word': 'dunny', 'score': 245, 'numSyllables': 2}, {'word': 'runny', 'score': 225, 'numSyllables': 2}, {'word': 'thunny', 'score': 222, 'numSyllables': 2}, {'word': 'aknee', 'score': 179, 'numSyllables': 2}, {'word': 'squinny', 'score': 170, 'numSyllables': 2}, {'word': 'fiat money', 'score': 160, 'numSyllables': 4}, {'word': 'gunnie', 'score': 156, 'numSyllables': 2}, {'word': 'blood money', 'score': 152, 'numSyllables': 3}, {'word': 'squiny', 'score': 152, 'numSyllables': 2}, {'word': 'tunney', 'score': 119, 'numSyllables': 2}, {'word': 'spinny', 'score': 117, 'numSyllables': 2}, {'word': 'pin money', 'score': 107, 'numSyllables': 3}, {'word': 'easy money', 'score': 66, 'numSyllables': 4}, {'word': 'smart money', 'score': 66, 'numSyllables': 3}, {'word': 'earnest money', 'score': 62, 'numSyllables': 4}, {'word': 'easter bunny', 'score': 56, 'numSyllables': 4}, {'word': 'paper money', 'score': 54, 'numSyllables': 4}, {'word': 'pocket money', 'score': 47, 'numSyllables': 4}, {'word': 'folding money', 'score': 46, 'numSyllables': 4}, {'word': 'conscience money', 'score': 41, 'numSyllables': 4}, {'word': 'hush money', 'score': 40, 'numSyllables': 3}, {'word': 'prize money', 'score': 37, 'numSyllables': 3}, {'word': 'amount of money', 'score': 33, 'numSyllables': 5}, {'word': 'for love or money', 'score': 32, 'numSyllables': 5}, {'word': 'tight money', 'score': 32, 'numSyllables': 3}, {'word': 'ship money', 'score': 30, 'numSyllables': 3}, {'word': 'metal money', 'score': 27, 'numSyllables': 4}, {'word': 'sum of money', 'score': 23, 'numSyllables': 4}, {'word': 'entrance money', 'score': 22, 'numSyllables': 4}, {'word': 'cheap money', 'score': 21, 'numSyllables': 3}, {'word': 'spending money', 'score': 21, 'numSyllables': 4}, {'word': 'token money', 'score': 21, 'numSyllables': 4}, {'word': 'waste of money', 'score': 19, 'numSyllables': 4}, {'word': 'ransom money', 'score': 18, 'numSyllables': 4}, {'word': 'hearth money', 'score': 14, 'numSyllables': 3}, {'word': 'munni', 'score': 14, 'numSyllables': 2}, {'word': 'bunnie', 'score': 2, 'numSyllables': 2}, {'word': 'euromoney', 'score': 2, 'numSyllables': 4}, {'word': 'smartmoney', 'score': 2, 'numSyllables': 3}, {'word': 'anyone he', 'numSyllables': 4}, {'word': 'begun he', 'numSyllables': 3}, {'word': 'bunney', 'numSyllables': 2}, {'word': 'ca ne', 'numSyllables': 2}, {'word': 'done he', 'numSyllables': 2}, {'word': 'donne e', 'numSyllables': 2}, {'word': 'everyone he', 'numSyllables': 4}, {'word': 'fun he', 'numSyllables': 2}, {'word': 'grandson he', 'numSyllables': 3}, {'word': 'gun he', 'numSyllables': 2}, {'word': 'handgun he', 'numSyllables': 3}, {'word': 'kun hee', 'numSyllables': 2}, {'word': 'le ne', 'numSyllables': 2}, {'word': 'lunney', 'numSyllables': 2}, {'word': 'lunny', 'numSyllables': 2}, {'word': 'none e', 'numSyllables': 2}, {'word': 'none he', 'numSyllables': 2}, {'word': 'nun he', 'numSyllables': 2}, {'word': 'one he', 'numSyllables': 2}, {'word': 'one knee', 'numSyllables': 2}, {'word': 'pun he', 'numSyllables': 2}, {'word': 'run e', 'numSyllables': 2}, {'word': 'run he', 'numSyllables': 2}, {'word': 'shotgun he', 'numSyllables': 3}, {'word': 'someone e', 'numSyllables': 3}, {'word': 'someone he', 'numSyllables': 3}, {'word': 'son e', 'numSyllables': 2}, {'word': 'son he', 'numSyllables': 2}, {'word': 'sun e', 'numSyllables': 2}, {'word': 'sun he', 'numSyllables': 2}, {'word': 'ton he', 'numSyllables': 2}, {'word': 'ton ne', 'numSyllables': 2}, {'word': 'un e', 'numSyllables': 2}, {'word': 'un he', 'numSyllables': 2}, {'word': 'un ne', 'numSyllables': 2}, {'word': 'un ni', 'numSyllables': 2}, {'word': 'won he', 'numSyllables': 2}]\n"
     ]
    }
   ],
   "source": [
    "import requests\n",
    "import json\n",
    "page = requests.get(\"https://api.datamuse.com/words?rel_rhy=funny\")\n",
    "print(page.json())# turn page.text into a python object"
   ]
  },
  {
   "cell_type": "code",
   "execution_count": 40,
   "metadata": {},
   "outputs": [
    {
     "name": "stdout",
     "output_type": "stream",
     "text": [
      "<class 'list'>\n"
     ]
    }
   ],
   "source": [
    "import requests\n",
    "import json\n",
    "\n",
    "page = requests.get(\"https://api.datamuse.com/words?rel_rhy=funny\")\n",
    "x = page.json() # turn page.text into a python object\n",
    "print(type(x))"
   ]
  },
  {
   "cell_type": "code",
   "execution_count": 42,
   "metadata": {},
   "outputs": [
    {
     "name": "stdout",
     "output_type": "stream",
     "text": [
      "[{'word': 'money', 'score': 4415, 'numSyllables': 2}, {'word': 'honey', 'score': 1206, 'numSyllables': 2}, {'word': 'sunny', 'score': 718, 'numSyllables': 2}, {'word': 'bunny', 'score': 702, 'numSyllables': 2}, {'word': 'blini', 'score': 613, 'numSyllables': 2}, {'word': 'gunny', 'score': 449, 'numSyllables': 2}, {'word': 'tunny', 'score': 302, 'numSyllables': 2}, {'word': 'sonny', 'score': 286, 'numSyllables': 2}, {'word': 'dunny', 'score': 245, 'numSyllables': 2}, {'word': 'runny', 'score': 225, 'numSyllables': 2}, {'word': 'thunny', 'score': 222, 'numSyllables': 2}, {'word': 'aknee', 'score': 179, 'numSyllables': 2}, {'word': 'squinny', 'score': 170, 'numSyllables': 2}, {'word': 'fiat money', 'score': 160, 'numSyllables': 4}, {'word': 'gunnie', 'score': 156, 'numSyllables': 2}, {'word': 'blood money', 'score': 152, 'numSyllables': 3}, {'word': 'squiny', 'score': 152, 'numSyllables': 2}, {'word': 'tunney', 'score': 119, 'numSyllables': 2}, {'word': 'spinny', 'score': 117, 'numSyllables': 2}, {'word': 'pin money', 'score': 107, 'numSyllables': 3}, {'word': 'easy money', 'score': 66, 'numSyllables': 4}, {'word': 'smart money', 'score': 66, 'numSyllables': 3}, {'word': 'earnest money', 'score': 62, 'numSyllables': 4}, {'word': 'easter bunny', 'score': 56, 'numSyllables': 4}, {'word': 'paper money', 'score': 54, 'numSyllables': 4}, {'word': 'pocket money', 'score': 47, 'numSyllables': 4}, {'word': 'folding money', 'score': 46, 'numSyllables': 4}, {'word': 'conscience money', 'score': 41, 'numSyllables': 4}, {'word': 'hush money', 'score': 40, 'numSyllables': 3}, {'word': 'prize money', 'score': 37, 'numSyllables': 3}, {'word': 'amount of money', 'score': 33, 'numSyllables': 5}, {'word': 'for love or money', 'score': 32, 'numSyllables': 5}, {'word': 'tight money', 'score': 32, 'numSyllables': 3}, {'word': 'ship money', 'score': 30, 'numSyllables': 3}, {'word': 'metal money', 'score': 27, 'numSyllables': 4}, {'word': 'sum of money', 'score': 23, 'numSyllables': 4}, {'word': 'entrance money', 'score': 22, 'numSyllables': 4}, {'word': 'cheap money', 'score': 21, 'numSyllables': 3}, {'word': 'spending money', 'score': 21, 'numSyllables': 4}, {'word': 'token money', 'score': 21, 'numSyllables': 4}, {'word': 'waste of money', 'score': 19, 'numSyllables': 4}, {'word': 'ransom money', 'score': 18, 'numSyllables': 4}, {'word': 'hearth money', 'score': 14, 'numSyllables': 3}, {'word': 'munni', 'score': 14, 'numSyllables': 2}, {'word': 'bunnie', 'score': 2, 'numSyllables': 2}, {'word': 'euromoney', 'score': 2, 'numSyllables': 4}, {'word': 'smartmoney', 'score': 2, 'numSyllables': 3}, {'word': 'anyone he', 'numSyllables': 4}, {'word': 'begun he', 'numSyllables': 3}, {'word': 'bunney', 'numSyllables': 2}, {'word': 'ca ne', 'numSyllables': 2}, {'word': 'done he', 'numSyllables': 2}, {'word': 'donne e', 'numSyllables': 2}, {'word': 'everyone he', 'numSyllables': 4}, {'word': 'fun he', 'numSyllables': 2}, {'word': 'grandson he', 'numSyllables': 3}, {'word': 'gun he', 'numSyllables': 2}, {'word': 'handgun he', 'numSyllables': 3}, {'word': 'kun hee', 'numSyllables': 2}, {'word': 'le ne', 'numSyllables': 2}, {'word': 'lunney', 'numSyllables': 2}, {'word': 'lunny', 'numSyllables': 2}, {'word': 'none e', 'numSyllables': 2}, {'word': 'none he', 'numSyllables': 2}, {'word': 'nun he', 'numSyllables': 2}, {'word': 'one he', 'numSyllables': 2}, {'word': 'one knee', 'numSyllables': 2}, {'word': 'pun he', 'numSyllables': 2}, {'word': 'run e', 'numSyllables': 2}, {'word': 'run he', 'numSyllables': 2}, {'word': 'shotgun he', 'numSyllables': 3}, {'word': 'someone e', 'numSyllables': 3}, {'word': 'someone he', 'numSyllables': 3}, {'word': 'son e', 'numSyllables': 2}, {'word': 'son he', 'numSyllables': 2}, {'word': 'sun e', 'numSyllables': 2}, {'word': 'sun he', 'numSyllables': 2}, {'word': 'ton he', 'numSyllables': 2}, {'word': 'ton ne', 'numSyllables': 2}, {'word': 'un e', 'numSyllables': 2}, {'word': 'un he', 'numSyllables': 2}, {'word': 'un ne', 'numSyllables': 2}, {'word': 'un ni', 'numSyllables': 2}, {'word': 'won he', 'numSyllables': 2}]\n"
     ]
    }
   ],
   "source": [
    "import requests\n",
    "import json\n",
    "\n",
    "page = requests.get(\"https://api.datamuse.com/words?rel_rhy=funny\")\n",
    "x = page.json() # turn page.text into a python object\n",
    "print(x)"
   ]
  },
  {
   "cell_type": "code",
   "execution_count": 43,
   "metadata": {},
   "outputs": [
    {
     "name": "stdout",
     "output_type": "stream",
     "text": [
      "[{'word': 'money', 'score': 4415, 'numSyllables': 2}]\n",
      "[{'word': 'money', 'score': 4415, 'numSyllables': 2}]\n",
      "[{'word': 'money', 'score': 4415, 'numSyllables': 2}, {'word': 'honey', 'score': 1206, 'numSyllables': 2}, {'word': 'sunny', 'score': 718, 'numSyllables': 2}, {'word': 'bunny', 'score': 702, 'numSyllables': 2}, {'word': 'blini', 'score': 613, 'numSyllables': 2}]\n"
     ]
    }
   ],
   "source": [
    "import requests\n",
    "import json\n",
    "\n",
    "page = requests.get(\"https://api.datamuse.com/words?rel_rhy=funny\")\n",
    "x = page.json() # turn page.text into a python object\n",
    "print(x[0:1])\n",
    "print(x[:1])\n",
    "print(x[:5])"
   ]
  },
  {
   "cell_type": "code",
   "execution_count": 54,
   "metadata": {},
   "outputs": [
    {
     "name": "stdout",
     "output_type": "stream",
     "text": [
      "[{\"wo\n",
      "<class 'str'>\n",
      "[{'word': 'money', 'score': 4415, 'numSyllables': 2}, {'word': 'honey', 'score': 1206, 'numSyllables': 2}, {'word': 'sunny', 'score': 718, 'numSyllables': 2}, {'word': 'bunny', 'score': 702, 'numSyllables': 2}, {'word': 'blini', 'score': 613, 'numSyllables': 2}]\n",
      "<class 'list'>\n"
     ]
    }
   ],
   "source": [
    "import requests\n",
    "import json\n",
    "\n",
    "page = requests.get(\"https://api.datamuse.com/words?rel_rhy=funny\")\n",
    "print(page.text[:5])  # print the first 5 characters\n",
    "print(type(page.text[:5]))\n",
    "print(page.json()[:5]) # turn page.text into a python object  # print the first 5 list\n",
    "print(type(page.json()[:5]))"
   ]
  },
  {
   "cell_type": "code",
   "execution_count": 5,
   "metadata": {},
   "outputs": [
    {
     "name": "stdout",
     "output_type": "stream",
     "text": [
      "[{'word': 'money', 'score': 4415, 'numSyllables': 2}]\n",
      "[\n",
      "   {\n",
      "      \"word\": \"money\",\n",
      "      \"score\": 4415,\n",
      "      \"numSyllables\": 2\n",
      "   }\n",
      "]\n"
     ]
    }
   ],
   "source": [
    "import requests\n",
    "import json\n",
    "\n",
    "page = requests.get(\"https://api.datamuse.com/words?rel_rhy=funny\")\n",
    "x = page.json() # turn page.text into a python object\n",
    "print(x[:1])\n",
    "print(json.dumps(x[:1], indent=3)) # pretty print the results"
   ]
  },
  {
   "cell_type": "code",
   "execution_count": 37,
   "metadata": {},
   "outputs": [
    {
     "name": "stdout",
     "output_type": "stream",
     "text": [
      "<class 'requests.models.Response'>\n",
      "[{\"word\":\"money\",\"score\":4415,\"numSyllables\":2},{\"word\":\"honey\",\"score\":1206,\"numSyllables\":2},{\"word\":\"sunny\",\"score\":718,\"numSyllables\":2},{\"word\":\"\n",
      "https://api.datamuse.com/words?rel_rhy=funny\n",
      "------\n",
      "<class 'list'>\n",
      "---first item in the list---\n",
      "{'word': 'money', 'score': 4415, 'numSyllables': 2}\n",
      "---the whole list, pretty printed---\n",
      "[\n",
      "  {\n",
      "    \"word\": \"money\",\n",
      "    \"score\": 4415,\n",
      "    \"numSyllables\": 2\n",
      "  },\n",
      "  {\n",
      "    \"word\": \"honey\",\n",
      "    \"score\": 1206,\n",
      "    \"numSyllables\": 2\n",
      "  },\n",
      "  {\n",
      "    \"word\": \"sunny\",\n",
      "    \"score\": 718,\n",
      "    \"numSyllables\": 2\n",
      "  },\n",
      "  {\n",
      "    \"word\": \"bunny\",\n",
      "    \"score\": 702,\n",
      "    \"numSyllables\": 2\n",
      "  },\n",
      "  {\n",
      "    \"word\": \"blini\",\n",
      "    \"score\": 613,\n",
      "    \"numSyllables\": 2\n",
      "  },\n",
      "  {\n",
      "    \"word\": \"gunny\",\n",
      "    \"score\": 449,\n",
      "    \"numSyllables\": 2\n",
      "  },\n",
      "  {\n",
      "    \"word\": \"tunny\",\n",
      "    \"score\": 302,\n",
      "    \"numSyllables\": 2\n",
      "  },\n",
      "  {\n",
      "    \"word\": \"sonny\",\n",
      "    \"score\": 286,\n",
      "    \"numSyllables\": 2\n",
      "  },\n",
      "  {\n",
      "    \"word\": \"dunny\",\n",
      "    \"score\": 245,\n",
      "    \"numSyllables\": 2\n",
      "  },\n",
      "  {\n",
      "    \"word\": \"runny\",\n",
      "    \"score\": 225,\n",
      "    \"numSyllables\": 2\n",
      "  },\n",
      "  {\n",
      "    \"word\": \"thunny\",\n",
      "    \"score\": 222,\n",
      "    \"numSyllables\": 2\n",
      "  },\n",
      "  {\n",
      "    \"word\": \"aknee\",\n",
      "    \"score\": 179,\n",
      "    \"numSyllables\": 2\n",
      "  },\n",
      "  {\n",
      "    \"word\": \"squinny\",\n",
      "    \"score\": 170,\n",
      "    \"numSyllables\": 2\n",
      "  },\n",
      "  {\n",
      "    \"word\": \"fiat money\",\n",
      "    \"score\": 160,\n",
      "    \"numSyllables\": 4\n",
      "  },\n",
      "  {\n",
      "    \"word\": \"gunnie\",\n",
      "    \"score\": 156,\n",
      "    \"numSyllables\": 2\n",
      "  },\n",
      "  {\n",
      "    \"word\": \"blood money\",\n",
      "    \"score\": 152,\n",
      "    \"numSyllables\": 3\n",
      "  },\n",
      "  {\n",
      "    \"word\": \"squiny\",\n",
      "    \"score\": 152,\n",
      "    \"numSyllables\": 2\n",
      "  },\n",
      "  {\n",
      "    \"word\": \"tunney\",\n",
      "    \"score\": 119,\n",
      "    \"numSyllables\": 2\n",
      "  },\n",
      "  {\n",
      "    \"word\": \"spinny\",\n",
      "    \"score\": 117,\n",
      "    \"numSyllables\": 2\n",
      "  },\n",
      "  {\n",
      "    \"word\": \"pin money\",\n",
      "    \"score\": 107,\n",
      "    \"numSyllables\": 3\n",
      "  },\n",
      "  {\n",
      "    \"word\": \"easy money\",\n",
      "    \"score\": 66,\n",
      "    \"numSyllables\": 4\n",
      "  },\n",
      "  {\n",
      "    \"word\": \"smart money\",\n",
      "    \"score\": 66,\n",
      "    \"numSyllables\": 3\n",
      "  },\n",
      "  {\n",
      "    \"word\": \"earnest money\",\n",
      "    \"score\": 62,\n",
      "    \"numSyllables\": 4\n",
      "  },\n",
      "  {\n",
      "    \"word\": \"easter bunny\",\n",
      "    \"score\": 56,\n",
      "    \"numSyllables\": 4\n",
      "  },\n",
      "  {\n",
      "    \"word\": \"paper money\",\n",
      "    \"score\": 54,\n",
      "    \"numSyllables\": 4\n",
      "  },\n",
      "  {\n",
      "    \"word\": \"pocket money\",\n",
      "    \"score\": 47,\n",
      "    \"numSyllables\": 4\n",
      "  },\n",
      "  {\n",
      "    \"word\": \"folding money\",\n",
      "    \"score\": 46,\n",
      "    \"numSyllables\": 4\n",
      "  },\n",
      "  {\n",
      "    \"word\": \"conscience money\",\n",
      "    \"score\": 41,\n",
      "    \"numSyllables\": 4\n",
      "  },\n",
      "  {\n",
      "    \"word\": \"hush money\",\n",
      "    \"score\": 40,\n",
      "    \"numSyllables\": 3\n",
      "  },\n",
      "  {\n",
      "    \"word\": \"prize money\",\n",
      "    \"score\": 37,\n",
      "    \"numSyllables\": 3\n",
      "  },\n",
      "  {\n",
      "    \"word\": \"amount of money\",\n",
      "    \"score\": 33,\n",
      "    \"numSyllables\": 5\n",
      "  },\n",
      "  {\n",
      "    \"word\": \"for love or money\",\n",
      "    \"score\": 32,\n",
      "    \"numSyllables\": 5\n",
      "  },\n",
      "  {\n",
      "    \"word\": \"tight money\",\n",
      "    \"score\": 32,\n",
      "    \"numSyllables\": 3\n",
      "  },\n",
      "  {\n",
      "    \"word\": \"ship money\",\n",
      "    \"score\": 30,\n",
      "    \"numSyllables\": 3\n",
      "  },\n",
      "  {\n",
      "    \"word\": \"metal money\",\n",
      "    \"score\": 27,\n",
      "    \"numSyllables\": 4\n",
      "  },\n",
      "  {\n",
      "    \"word\": \"sum of money\",\n",
      "    \"score\": 23,\n",
      "    \"numSyllables\": 4\n",
      "  },\n",
      "  {\n",
      "    \"word\": \"entrance money\",\n",
      "    \"score\": 22,\n",
      "    \"numSyllables\": 4\n",
      "  },\n",
      "  {\n",
      "    \"word\": \"cheap money\",\n",
      "    \"score\": 21,\n",
      "    \"numSyllables\": 3\n",
      "  },\n",
      "  {\n",
      "    \"word\": \"spending money\",\n",
      "    \"score\": 21,\n",
      "    \"numSyllables\": 4\n",
      "  },\n",
      "  {\n",
      "    \"word\": \"token money\",\n",
      "    \"score\": 21,\n",
      "    \"numSyllables\": 4\n",
      "  },\n",
      "  {\n",
      "    \"word\": \"waste of money\",\n",
      "    \"score\": 19,\n",
      "    \"numSyllables\": 4\n",
      "  },\n",
      "  {\n",
      "    \"word\": \"ransom money\",\n",
      "    \"score\": 18,\n",
      "    \"numSyllables\": 4\n",
      "  },\n",
      "  {\n",
      "    \"word\": \"hearth money\",\n",
      "    \"score\": 14,\n",
      "    \"numSyllables\": 3\n",
      "  },\n",
      "  {\n",
      "    \"word\": \"munni\",\n",
      "    \"score\": 14,\n",
      "    \"numSyllables\": 2\n",
      "  },\n",
      "  {\n",
      "    \"word\": \"bunnie\",\n",
      "    \"score\": 2,\n",
      "    \"numSyllables\": 2\n",
      "  },\n",
      "  {\n",
      "    \"word\": \"euromoney\",\n",
      "    \"score\": 2,\n",
      "    \"numSyllables\": 4\n",
      "  },\n",
      "  {\n",
      "    \"word\": \"smartmoney\",\n",
      "    \"score\": 2,\n",
      "    \"numSyllables\": 3\n",
      "  },\n",
      "  {\n",
      "    \"word\": \"anyone he\",\n",
      "    \"numSyllables\": 4\n",
      "  },\n",
      "  {\n",
      "    \"word\": \"begun he\",\n",
      "    \"numSyllables\": 3\n",
      "  },\n",
      "  {\n",
      "    \"word\": \"bunney\",\n",
      "    \"numSyllables\": 2\n",
      "  },\n",
      "  {\n",
      "    \"word\": \"ca ne\",\n",
      "    \"numSyllables\": 2\n",
      "  },\n",
      "  {\n",
      "    \"word\": \"done he\",\n",
      "    \"numSyllables\": 2\n",
      "  },\n",
      "  {\n",
      "    \"word\": \"donne e\",\n",
      "    \"numSyllables\": 2\n",
      "  },\n",
      "  {\n",
      "    \"word\": \"everyone he\",\n",
      "    \"numSyllables\": 4\n",
      "  },\n",
      "  {\n",
      "    \"word\": \"fun he\",\n",
      "    \"numSyllables\": 2\n",
      "  },\n",
      "  {\n",
      "    \"word\": \"grandson he\",\n",
      "    \"numSyllables\": 3\n",
      "  },\n",
      "  {\n",
      "    \"word\": \"gun he\",\n",
      "    \"numSyllables\": 2\n",
      "  },\n",
      "  {\n",
      "    \"word\": \"handgun he\",\n",
      "    \"numSyllables\": 3\n",
      "  },\n",
      "  {\n",
      "    \"word\": \"kun hee\",\n",
      "    \"numSyllables\": 2\n",
      "  },\n",
      "  {\n",
      "    \"word\": \"le ne\",\n",
      "    \"numSyllables\": 2\n",
      "  },\n",
      "  {\n",
      "    \"word\": \"lunney\",\n",
      "    \"numSyllables\": 2\n",
      "  },\n",
      "  {\n",
      "    \"word\": \"lunny\",\n",
      "    \"numSyllables\": 2\n",
      "  },\n",
      "  {\n",
      "    \"word\": \"none e\",\n",
      "    \"numSyllables\": 2\n",
      "  },\n",
      "  {\n",
      "    \"word\": \"none he\",\n",
      "    \"numSyllables\": 2\n",
      "  },\n",
      "  {\n",
      "    \"word\": \"nun he\",\n",
      "    \"numSyllables\": 2\n",
      "  },\n",
      "  {\n",
      "    \"word\": \"one he\",\n",
      "    \"numSyllables\": 2\n",
      "  },\n",
      "  {\n",
      "    \"word\": \"one knee\",\n",
      "    \"numSyllables\": 2\n",
      "  },\n",
      "  {\n",
      "    \"word\": \"pun he\",\n",
      "    \"numSyllables\": 2\n",
      "  },\n",
      "  {\n",
      "    \"word\": \"run e\",\n",
      "    \"numSyllables\": 2\n",
      "  },\n",
      "  {\n",
      "    \"word\": \"run he\",\n",
      "    \"numSyllables\": 2\n",
      "  },\n",
      "  {\n",
      "    \"word\": \"shotgun he\",\n",
      "    \"numSyllables\": 3\n",
      "  },\n",
      "  {\n",
      "    \"word\": \"someone e\",\n",
      "    \"numSyllables\": 3\n",
      "  },\n",
      "  {\n",
      "    \"word\": \"someone he\",\n",
      "    \"numSyllables\": 3\n",
      "  },\n",
      "  {\n",
      "    \"word\": \"son e\",\n",
      "    \"numSyllables\": 2\n",
      "  },\n",
      "  {\n",
      "    \"word\": \"son he\",\n",
      "    \"numSyllables\": 2\n",
      "  },\n",
      "  {\n",
      "    \"word\": \"sun e\",\n",
      "    \"numSyllables\": 2\n",
      "  },\n",
      "  {\n",
      "    \"word\": \"sun he\",\n",
      "    \"numSyllables\": 2\n",
      "  },\n",
      "  {\n",
      "    \"word\": \"ton he\",\n",
      "    \"numSyllables\": 2\n",
      "  },\n",
      "  {\n",
      "    \"word\": \"ton ne\",\n",
      "    \"numSyllables\": 2\n",
      "  },\n",
      "  {\n",
      "    \"word\": \"un e\",\n",
      "    \"numSyllables\": 2\n",
      "  },\n",
      "  {\n",
      "    \"word\": \"un he\",\n",
      "    \"numSyllables\": 2\n",
      "  },\n",
      "  {\n",
      "    \"word\": \"un ne\",\n",
      "    \"numSyllables\": 2\n",
      "  },\n",
      "  {\n",
      "    \"word\": \"un ni\",\n",
      "    \"numSyllables\": 2\n",
      "  },\n",
      "  {\n",
      "    \"word\": \"won he\",\n",
      "    \"numSyllables\": 2\n",
      "  }\n",
      "]\n"
     ]
    }
   ],
   "source": [
    "import requests\n",
    "import json\n",
    "\n",
    "page = requests.get(\"https://api.datamuse.com/words?rel_rhy=funny\")\n",
    "print(type(page))\n",
    "print(page.text[:150]) # print the first 150 characters\n",
    "print(page.url) # print the url that was fetched\n",
    "print(\"------\")\n",
    "x = page.json() # turn page.text into a python object  \n",
    "print(type(x))\n",
    "print(\"---first item in the list---\")\n",
    "print(x[0])\n",
    "print(\"---the whole list, pretty printed---\")\n",
    "print(json.dumps(x, indent=2)) # pretty print the results"
   ]
  },
  {
   "cell_type": "code",
   "execution_count": 38,
   "metadata": {},
   "outputs": [
    {
     "name": "stdout",
     "output_type": "stream",
     "text": [
      "[{\"word\":\"money\",\"score\":4415,\"numSyllables\":2},{\"word\":\"honey\",\"score\":1206,\"numSyllables\":2},{\"word\":\"sunny\",\"score\":718,\"numSyllables\":2},{\"word\":\"\n",
      "https://api.datamuse.com/words?rel_rhy=funny\n"
     ]
    }
   ],
   "source": [
    "import requests\n",
    "\n",
    "page = requests.get(\"https://api.datamuse.com/words?rel_rhy=funny\")\n",
    "print(page.text[:150]) # print the first 150 characters\n",
    "print(page.url) # print the url that was fetched\n"
   ]
  },
  {
   "cell_type": "code",
   "execution_count": 48,
   "metadata": {},
   "outputs": [
    {
     "name": "stdout",
     "output_type": "stream",
     "text": [
      "[{\"word\":\"money\",\"score\":4415,\"numSyllables\":2},{\"word\":\"honey\",\"score\":1206,\"numSyllables\":2},{\"word\":\"sunny\",\"score\":718,\"numSyllables\":2},{\"word\":\"\n",
      "https://api.datamuse.com/words?rel_rhy=funny\n"
     ]
    }
   ],
   "source": [
    "import requests\n",
    "\n",
    "kval_pairs = {'rel_rhy': 'funny'}\n",
    "page = requests.get(\"https://api.datamuse.com/words\", params=kval_pairs)\n",
    "print(page.text[:150]) # print the first 150 characters\n",
    "print(page.url) # print the url that was fetched\n"
   ]
  }
 ],
 "metadata": {
  "kernelspec": {
   "display_name": "Python 3",
   "language": "python",
   "name": "python3"
  },
  "language_info": {
   "codemirror_mode": {
    "name": "ipython",
    "version": 3
   },
   "file_extension": ".py",
   "mimetype": "text/x-python",
   "name": "python",
   "nbconvert_exporter": "python",
   "pygments_lexer": "ipython3",
   "version": "3.8.4"
  }
 },
 "nbformat": 4,
 "nbformat_minor": 4
}
