{
 "cells": [
  {
   "cell_type": "code",
   "execution_count": 1,
   "metadata": {},
   "outputs": [],
   "source": [
    "# Introduction: Map, Filter, List Comprehensions, and Zip¶\n",
    "# Let’s revisit the accumulator pattern. We have frequently taken a list and produced another list from it that contains either a subset of the items or a transformed version of each item. When each item is transformed we say that the operation is a mapping, or just a map of the original list. When some items are omitted, we call it a filter.\n",
    "\n",
    "# Python provides built-in functions map and filter. Python also provides a new syntax, called list comprehensions, that lets you express a mapping and/or filtering operation. Just as with named functions and lambda expressions, some students seem to find it easier to think in terms of the map and filter functions, while other students find it easier to read and write list comprehensions. You’ll learn both ways; one may even help you understand the other. Most python programmers use list comprehensions, so make sure you learn to read those. In this course, you can choose to learn to write list comprehensions or to use map and filter, whichever you prefer. You should learn to read both list comprehensions and map/filter.\n",
    "\n",
    "# Other common accumulator patterns on lists aggregate all the values into a single value.\n",
    "\n",
    "# Map, and filter are commands that you would use in high-performance computing on big datasets. See MapReduce on Wikipedia."
   ]
  },
  {
   "cell_type": "code",
   "execution_count": 4,
   "metadata": {},
   "outputs": [
    {
     "name": "stdout",
     "output_type": "stream",
     "text": [
      "[2, 3, 5]\n",
      "[4, 9, 25]\n"
     ]
    }
   ],
   "source": [
    "\n",
    "def square(numbs):\n",
    "    list2 = []\n",
    "    for all_numb in numbs: # manual_accumulation\n",
    "        new_element = all_numb * all_numb\n",
    "        list2.append(new_element)\n",
    "    return list2\n",
    "\n",
    "list1 = [2,3,5]\n",
    "print(list1)\n",
    "new_list = square(list1)\n",
    "print(new_list)\n",
    "\n",
    "# This manual_accumulation pattern of computation is so common that python offers a more general way to do mappings,\n",
    "# the map function, that makes it more clear what the overall structure of the computation is.\n",
    "# map takes two arguments, a function and a sequence. The function is the mapper that transforms items. \n",
    "# It is automatically applied to each item in the sequence. \n",
    "# You don’t have to initialize an accumulator or iterate with a for loop at all."
   ]
  },
  {
   "cell_type": "code",
   "execution_count": 14,
   "metadata": {},
   "outputs": [
    {
     "name": "stdout",
     "output_type": "stream",
     "text": [
      "[2, 3, 5]\n",
      "[4, 9, 25]\n"
     ]
    }
   ],
   "source": [
    "\n",
    "def square_function(numbs): #transformer_function\n",
    "    return numbs * numbs\n",
    "\n",
    "def square_mapping(list2): #mapping\n",
    "    list3 = map(square_function,list2)#inbulit map function\n",
    "    # return type(list3) # mapping makes variable of type map\n",
    "    return list(list3)\n",
    "    \n",
    "list1 = [2,3,5]\n",
    "print(list1)\n",
    "list4 = square_mapping(list1)\n",
    "print(list4)\n",
    "\n",
    "\n",
    "# Technically, in a proper Python 3 interpreter, the map function produces an “iterator”, which is like a list but produces the items as they are needed. \n",
    "# Most places in Python where you can use a list (e.g., in a for loop) you can use an “iterator” as if it was actually a list.\n",
    "# So you probably won’t ever notice the difference. If you ever really need a list, you can explicitly turn the output of map into a list: list(map(...)). \n",
    "# In the runestone environment, map actually returns a real list, \n",
    "# but to make this code compatible with a full python environment, we always convert it to a list.\n",
    "\n",
    "# As we did when passing a function as a parameter to the sorted function, we can specify a function to pass to map either by referring to a function by name, or by providing a lambda expression.\n"
   ]
  },
  {
   "cell_type": "code",
   "execution_count": 23,
   "metadata": {},
   "outputs": [
    {
     "name": "stdout",
     "output_type": "stream",
     "text": [
      "[2, 5, 11]\n",
      "[6, 15, 33]\n"
     ]
    }
   ],
   "source": [
    "def trans_func(value): # transformer_function => trans_func\n",
    "    return 3*value\n",
    "\n",
    "def triple_mapping(org_1_list): # mapping_function\n",
    "    new_seq = map(trans_func, org_1_list) # map_method\n",
    "    return list(new_seq)\n",
    "\n",
    "org_list = [2, 5, 11]\n",
    "print(org_list)\n",
    "\n",
    "triple_map_list = triple_mapping(org_list)\n",
    "print(triple_map_list)\n"
   ]
  },
  {
   "cell_type": "code",
   "execution_count": 25,
   "metadata": {},
   "outputs": [
    {
     "name": "stdout",
     "output_type": "stream",
     "text": [
      "[2, 5, 11]\n",
      "[8, 20, 44]\n"
     ]
    }
   ],
   "source": [
    "def quadruple_mapping(org_2_list):# mapping_function\n",
    "    new_seq = map(lambda value: 4*value, org_2_list)# map_method    # transformer_function => lambda\n",
    "    return list(new_seq)\n",
    "\n",
    "\n",
    "org_list = [2, 5, 11]\n",
    "print(org_list)\n",
    "\n",
    "quadruple_map_list = quadruple_mapping(org_list)\n",
    "print(quadruple_map_list)"
   ]
  },
  {
   "cell_type": "code",
   "execution_count": null,
   "metadata": {},
   "outputs": [],
   "source": [
    "# Of course, once we get used to using the map function, it’s no longer necessary to define functions like tripleStuff and quadrupleStuff.\n",
    "\n",
    "things = [2, 5, 9]\n",
    "things4 = map((lambda value: 4*value), things)\n",
    "print(list(things4))\n",
    "\n",
    "# or all on one line\n",
    "print(list(map((lambda value: 5*value), [1, 2, 3])))\n"
   ]
  },
  {
   "cell_type": "code",
   "execution_count": null,
   "metadata": {},
   "outputs": [],
   "source": [
    "# 1. Using map, create a list assigned to the variable greeting_doubled that doubles each element in the list lst.\n",
    "\n",
    "lst = [[\"hi\", \"bye\"], \"hello\", \"goodbye\", [9, 2], 4]\n",
    "\n",
    "greeting_doubled = map(lambda item : item * 2 , lst)\n",
    "print(greeting_doubled)"
   ]
  },
  {
   "cell_type": "code",
   "execution_count": null,
   "metadata": {},
   "outputs": [],
   "source": [
    "# 2. Below, we have provided a list of strings called abbrevs. Use map to produce a new list called abbrevs_upper that contains all the same strings in upper case.\n",
    "\n",
    "abbrevs = [\"usa\", \"esp\", \"chn\", \"jpn\", \"mex\", \"can\", \"rus\", \"rsa\", \"jam\"]\n",
    "abbrevs_upper = list(map(lambda item:item.upper() , abbrevs))\n",
    "print(abbrevs_upper)"
   ]
  }
 ],
 "metadata": {
  "kernelspec": {
   "display_name": "Python 3",
   "language": "python",
   "name": "python3"
  },
  "language_info": {
   "codemirror_mode": {
    "name": "ipython",
    "version": 3
   },
   "file_extension": ".py",
   "mimetype": "text/x-python",
   "name": "python",
   "nbconvert_exporter": "python",
   "pygments_lexer": "ipython3",
   "version": "3.8.4"
  }
 },
 "nbformat": 4,
 "nbformat_minor": 4
}
