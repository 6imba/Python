{
 "cells": [
  {
   "cell_type": "code",
   "execution_count": 1,
   "metadata": {},
   "outputs": [
    {
     "name": "stdout",
     "output_type": "stream",
     "text": [
      "[['dogs', 'puppies'], ['cats', 'kittens']]\n",
      "[['dogs', 'puppies', ['canines']], ['cats', 'kittens']]\n",
      "-------- Now look at the copied version -----------\n",
      "[['dogs', 'puppies'], ['cats', 'kittens']]\n"
     ]
    }
   ],
   "source": [
    "original = [['dogs', 'puppies'], ['cats', \"kittens\"]]\n",
    "copied_outer_list = []\n",
    "for inner_list in original:\n",
    "    copied_inner_list = []\n",
    "    for item in inner_list: #manual acumulation\n",
    "        copied_inner_list.append(item)\n",
    "    copied_outer_list.append(copied_inner_list)\n",
    "print(copied_outer_list)\n",
    "original[0].append([\"canines\"])\n",
    "print(original)\n",
    "print(\"-------- Now look at the copied version -----------\")\n",
    "print(copied_outer_list)"
   ]
  },
  {
   "cell_type": "code",
   "execution_count": 3,
   "metadata": {},
   "outputs": [
    {
     "name": "stdout",
     "output_type": "stream",
     "text": [
      "[['dogs', 'puppies'], ['cats', 'kittens']]\n",
      "[['dogs', 'puppies', ['canines']], ['cats', 'kittens']]\n",
      "-------- Now look at the copied version -----------\n",
      "[['dogs', 'puppies'], ['cats', 'kittens']]\n"
     ]
    }
   ],
   "source": [
    "# Assuming that you don’t want to have aliased lists inside of your nested list, then you’ll need to perform nested iteration.\n",
    "original = [['dogs', 'puppies'], ['cats', \"kittens\"]]\n",
    "copied_outer_list = []\n",
    "for inner_list in original:\n",
    "    copied_inner_list = []\n",
    "    for item in inner_list:\n",
    "        copied_inner_list.append(item)\n",
    "    copied_outer_list.append(copied_inner_list)\n",
    "print(copied_outer_list)\n",
    "original[0].append([\"canines\"])\n",
    "print(original)\n",
    "print(\"-------- Now look at the copied version -----------\")\n",
    "print(copied_outer_list)\n",
    "\n",
    "# Previously I should you that a shallow copy it can lead to some confusions because the same inner lists is included in multiple outer lists. What would we do if we wanted to make a copy that it was completely independent of the original list? So that no change anywhere, even to a inner list to which change the copied version. That's what's called a deep copy. We can do it with nested iteration, accumulating a copy of each inner list.\n",
    "# Play video starting at 31 seconds and follow transcript0:31\n",
    "# So let's take a look at this code.\n",
    "# Play video starting at 34 seconds and follow transcript0:34\n",
    "# I have the same original list from before, it has two inner lists. The first one, dogs and puppies, the second one, cats and kittens.\n",
    "# Play video starting at 45 seconds and follow transcript0:45\n",
    "# I'm going to use our old friend, the accumulation pattern. I start by making copied_outer_list be an empty list, so this is our accumulator variable. I iterate through the sequence original by loop variable or iterator variable I'm calling, inner list. And then I'm doing this nested iteration. And I'm doing a nested accumulation here. So I make another accumulated variable, copied_inner_list, and it's set to be empty. I iterate through the items in inner list. Here my second iterator variable is called item. And I append it, I append item, to the copied_inne_list. So copied_inner_list starts as an empty list, and we keep adding additional items to it. When we're done with the inner list, copied_inner_list has all of the same elements that it had. And so we then take copied_inner_ list, and we append it to the outer list.\n",
    "# Play video starting at 1 minute 51 seconds and follow transcript1:51\n",
    "# Let's run that and see what happens.\n",
    "# Play video starting at 1 minute 59 seconds and follow transcript1:59\n",
    "# At the end of lines 337, we have copied_outer_ list as this deep copy. If we print it, it looks like it has the same contents as original. Because this is a deep copy, even if I append canines to the end of the first inner list in the original list, as I'm doing on line 9, it's not going to have any impact on the deep copy of the copied outer list. So, we print original, and it does the same thing that happened in our previous example. But when I print the copied outer list, there's no canines here\n",
    "# Play video starting at 2 minutes 44 seconds and follow transcript2:44\n",
    "# The reason is that I have made a deep copy. So let's just make the reference diagram that'll go with this. We have original,\n",
    "# Play video starting at 2 minutes 57 seconds and follow transcript2:57\n",
    "# It's a list of two things.\n",
    "# Play video starting at 3 minutes 2 seconds and follow transcript3:02\n",
    "# And one is the Dogs and puppies.\n",
    "# Play video starting at 3 minutes 15 seconds and follow transcript3:15\n",
    "# The other is the cats and kittens.\n",
    "# Play video starting at 3 minutes 27 seconds and follow transcript3:27\n",
    "# When we make a copied_outer_list,\n",
    "# Play video starting at 3 minutes 36 seconds and follow transcript3:36\n",
    "# We end up again with a list of two items. But the first item is now not pointing to dogs and puppies, it's pointing to a copy of it.\n",
    "# Play video starting at 3 minutes 54 seconds and follow transcript3:54\n",
    "# With the same contents, And it's a different list. So then on line 9, when I append something here, there's an extra item with the canines in it.\n",
    "# Play video starting at 4 minutes 16 seconds and follow transcript4:16\n",
    "# It does not have any effect on the inner list from copied outer list. Doesn't change anything in the deep copies. So we have successfully managed to make copiedouter list be a deep copy that is completely independent from the original list. Even if I change something deep inside the original list, it has no impact on the copied outer list."
   ]
  },
  {
   "cell_type": "code",
   "execution_count": 6,
   "metadata": {},
   "outputs": [
    {
     "name": "stdout",
     "output_type": "stream",
     "text": [
      "[['dogs', 'puppies'], ['cats', 'kittens']]\n",
      "[['dogs', 'puppies', ['canines']], ['cats', 'kittens']]\n",
      "-------- Now look at the copied version -----------\n",
      "[['dogs', 'puppies'], ['cats', 'kittens']]\n"
     ]
    }
   ],
   "source": [
    "# Or, equivalently, you could take advantage of the slice operator to do the copying of the inner list.\n",
    "\n",
    "original = [['dogs', 'puppies'], ['cats', \"kittens\"]]\n",
    "copied_outer_list = []\n",
    "for inner_list in original:\n",
    "    copied_inner_list = inner_list[:]\n",
    "    copied_outer_list.append(copied_inner_list)\n",
    "print(copied_outer_list)\n",
    "original[0].append([\"canines\"])\n",
    "print(original)\n",
    "print(\"-------- Now look at the copied version -----------\")\n",
    "print(copied_outer_list)\n"
   ]
  },
  {
   "cell_type": "code",
   "execution_count": 9,
   "metadata": {},
   "outputs": [
    {
     "name": "stdout",
     "output_type": "stream",
     "text": [
      "-------- Original -----------\n",
      "[['canines', ['dogs', 'puppies'], ['marsupials']], ['felines', ['cats', 'kittens']], 'Hi there']\n",
      "-------- deep copy -----------\n",
      "[['canines', ['dogs', 'puppies']], ['felines', ['cats', 'kittens']]]\n",
      "-------- shallow copy -----------\n",
      "[['canines', ['dogs', 'puppies'], ['marsupials']], ['felines', ['cats', 'kittens']]]\n"
     ]
    }
   ],
   "source": [
    "import copy\n",
    "original = [['canines', ['dogs', 'puppies']], ['felines', ['cats', 'kittens']]]\n",
    "\n",
    "shallow_copy_version = original[:] \n",
    "# the original and the shallow copy diverge, because the original gets Hi there at the end. So we appended to the top level list, and there the original is different than the shallow copy. So Hi there got appended to original, did not get appended to shallow copy.\n",
    "\n",
    "deeply_copied_version = copy.deepcopy(original)\n",
    "\n",
    "original.append(\"Hi there\")\n",
    "original[0].append([\"marsupials\"])\n",
    "print(\"-------- Original -----------\")\n",
    "print(original)\n",
    "print(\"-------- deep copy -----------\")\n",
    "print(deeply_copied_version)\n",
    "print(\"-------- shallow copy -----------\")\n",
    "print(shallow_copy_version)\n",
    "# the original and the shallow copy diverge, because the original gets Hi there at the end. So we appended to the top level list, and there the original is different than the shallow copy. So Hi there got appended to original, did not get appended to shallow copy.\n"
   ]
  },
  {
   "cell_type": "code",
   "execution_count": 10,
   "metadata": {},
   "outputs": [
    {
     "name": "stdout",
     "output_type": "stream",
     "text": [
      "-------- Original -----------\n",
      "[['canines', ['dogs', 'puppies'], ['marsupials']], ['felines', ['cats', 'kittens']], 'Hi there']\n",
      "-------- deep copy -----------\n",
      "[['canines', ['dogs', 'puppies']], ['felines', ['cats', 'kittens']]]\n",
      "-------- shallow copy -----------\n",
      "[['canines', ['dogs', 'puppies'], ['marsupials']], ['felines', ['cats', 'kittens']]]\n"
     ]
    }
   ],
   "source": [
    "import copy\n",
    "original = [['canines', ['dogs', 'puppies']], ['felines', ['cats', 'kittens']]]\n",
    "shallow_copy_version = original[:]\n",
    "deeply_copied_version = copy.deepcopy(original)\n",
    "original.append(\"Hi there\")\n",
    "original[0].append([\"marsupials\"])\n",
    "print(\"-------- Original -----------\")\n",
    "print(original)\n",
    "print(\"-------- deep copy -----------\")\n",
    "print(deeply_copied_version)\n",
    "print(\"-------- shallow copy -----------\")\n",
    "print(shallow_copy_version)\n",
    "\n",
    "\n",
    "# Nested iteration is where we copy each of the inner list, works fine for making deep copies, if we know how many levels of nesting we have. And we have a parallel structure everywhere with the same levels of nesting.\n",
    "# Play video starting at 5 minutes 43 seconds and follow transcript5:43\n",
    "# But what about this one? There are three levels in some places but not everywhere.\n",
    "# Play video starting at 5 minutes 50 seconds and follow transcript5:50\n",
    "# We've got an outer list which has as its first element this inner list. But this inner list has a string canines as its first element, but a third level of a list as its second element. So how would you make a deep copy of this one? This is a case where a technique called recursion will allow us to write fairly elegant code, but we are not going to teach recursion in this. It turns out you can get pretty far in writing the applications and data analysis programs without learning recursion, because in the most common cases where it's useful, there is built in function available to use that will do the recursion behind the scenes. This is one of those cases, there's a built in function called deep copy, and a module called copy. So I've imported the module called copy, and inside the copy module there is a deep copy function, and it just takes the sequence as its value. And it produces a deep copy where as many levels of nesting as there are, it goes in and always copies things, it never shares an inner list between the original and the deep copy. So I have my original version.\n",
    "# Play video starting at 7 minutes 13 seconds and follow transcript7:13\n",
    "# I have a shallow copied version,\n",
    "# Play video starting at 7 minutes 21 seconds and follow transcript7:21\n",
    "# And I have a deeply copied version.\n",
    "# Play video starting at 7 minutes 30 seconds and follow transcript7:30\n",
    "# And if I were to print those out, they would all look the same. But now I'm going to append to the original an extra string at the very end, so it's going to have another item at the end. And then I'm also on line 6 going to the first\n",
    "# Play video starting at 7 minutes 55 seconds and follow transcript7:55\n",
    "# In our list, and I'm appending the list marsupials to it. At this point we're going to have original deep copy and shallow copy all have different values. And let's see what those are.\n",
    "# Play video starting at 8 minutes 13 seconds and follow transcript8:13\n",
    "# So you can see now that original has canines, dogs, puppies, and an extra element, marsupials. That happened because unlike 6, we appended the list marsupials to the end of its first inner list. The shallow copy because it only did the one level of copying, also was changed, it got marsupials as well. But in the deep copy, no marsupials.\n",
    "# Play video starting at 8 minutes 49 seconds and follow transcript8:49\n",
    "# The other difference we can see is that the original and the shallow copy diverge, because the original gets Hi there at the end. So we appended to the top level list, and there the original is different than the shallow copy. So Hi there got appended to original, did not get appended to shallow copy.\n",
    "# Play video starting at 9 minutes 13 seconds and follow transcript9:13\n",
    "# I encourage you to really work through this in detail. Make a reference diagram. Go through it in code lens. Make sure you understand why these things are coming out with three different printouts at the end. If you can follow it, you'll be able to reason your way through lot of things where you get puzzling answers, and you'll be able to debug your code. So to summarize, a deep copy of a list not only makes a copy of the outer list, but also makes copies of all the inner lists. And their inner list all the way down. A deep copy is completely decoupled from the original. You can make a deep copy with your own code if the structure is simple enough, or use the built in deep copy function in the copy module. See you next time."
   ]
  },
  {
   "cell_type": "code",
   "execution_count": 11,
   "metadata": {},
   "outputs": [
    {
     "name": "stdout",
     "output_type": "stream",
     "text": [
      "[[2, 4], ['a', 'b']]\n",
      "[[2, 4, 6], ['a', 'b'], 666666]\n",
      "[[2, 4, 6], ['a', 'b'], 666666]\n",
      "[[2, 4, 6], ['a', 'b']]\n",
      "[[2, 4], ['a', 'b']]\n"
     ]
    }
   ],
   "source": [
    "#Shallow and deep copy\n",
    "import copy\n",
    "list1 = [[2,4],['a','b']]\n",
    "print(list1)# orginal\n",
    "\n",
    "list2 = list1 # shallow copy\n",
    "list3 = list1[:] # deep copy \n",
    "list4 = copy.deepcopy(list1)# deep copy  with deepcopy() method of copy module\n",
    "list1.append(666666)\n",
    "list1[0].append(6)\n",
    "\n",
    "print(list1)# orginal\n",
    "print(list2)# shallow copy\n",
    "print(list3)# deeper copy\n",
    "print(list4)# deeper copy"
   ]
  }
 ],
 "metadata": {
  "kernelspec": {
   "display_name": "Python 3",
   "language": "python",
   "name": "python3"
  },
  "language_info": {
   "codemirror_mode": {
    "name": "ipython",
    "version": 3
   },
   "file_extension": ".py",
   "mimetype": "text/x-python",
   "name": "python",
   "nbconvert_exporter": "python",
   "pygments_lexer": "ipython3",
   "version": "3.8.4"
  }
 },
 "nbformat": 4,
 "nbformat_minor": 4
}
