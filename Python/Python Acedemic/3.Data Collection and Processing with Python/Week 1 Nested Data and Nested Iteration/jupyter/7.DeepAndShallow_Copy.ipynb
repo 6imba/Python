{
 "cells": [
  {
   "cell_type": "code",
   "execution_count": 15,
   "metadata": {},
   "outputs": [
    {
     "name": "stdout",
     "output_type": "stream",
     "text": [
      "[2, 4, 6, 8, 10]\n",
      "[2, 4, 6, 8, 10]\n"
     ]
    }
   ],
   "source": [
    "list1 = [2,4,6,8,10]\n",
    "list2 = list1#shallow copy # both list1 and list2 reference to same object\n",
    "print(list1)\n",
    "print(list2)"
   ]
  },
  {
   "cell_type": "code",
   "execution_count": 7,
   "metadata": {},
   "outputs": [
    {
     "name": "stdout",
     "output_type": "stream",
     "text": [
      "[2, 4, 6, 8, 10, 666666]\n",
      "[2, 4, 6, 8, 10, 666666]\n"
     ]
    }
   ],
   "source": [
    "list1 = [2,4,6,8,10]\n",
    "list2 = list1#shallow copy\n",
    "list1.append(666666)\n",
    "print(list1)\n",
    "print(list2)"
   ]
  },
  {
   "cell_type": "code",
   "execution_count": 10,
   "metadata": {},
   "outputs": [
    {
     "name": "stdout",
     "output_type": "stream",
     "text": [
      "[2, 4, 6, 8, 10]\n",
      "[2, 4, 6, 8, 10]\n"
     ]
    }
   ],
   "source": [
    "list1 = [2,4,6,8,10]\n",
    "list2 = []#deeper copy to new object\n",
    "for item in list1:\n",
    "    list2.append(item)#deeper copy\n",
    "print(list1)\n",
    "print(list2)"
   ]
  },
  {
   "cell_type": "code",
   "execution_count": 13,
   "metadata": {},
   "outputs": [
    {
     "name": "stdout",
     "output_type": "stream",
     "text": [
      "[2, 4, 6, 8, 10]\n",
      "[2, 4, 6, 8, 10]\n"
     ]
    }
   ],
   "source": [
    "list1 = [2,4,6,8,10]\n",
    "list2 = list1[:]#deeper copy\n",
    "print(list1)\n",
    "print(list2)"
   ]
  },
  {
   "cell_type": "code",
   "execution_count": 17,
   "metadata": {},
   "outputs": [
    {
     "name": "stdout",
     "output_type": "stream",
     "text": [
      "[2, 4, 6, 8, 10, 666666]\n",
      "[2, 4, 6, 8, 10]\n"
     ]
    }
   ],
   "source": [
    "list1 = [2,4,6,8,10]\n",
    "list2 = list1[:]#deeper copy slice to new object\n",
    "list1.append(666666)\n",
    "print(list1)\n",
    "print(list2)"
   ]
  },
  {
   "cell_type": "code",
   "execution_count": 19,
   "metadata": {},
   "outputs": [
    {
     "name": "stdout",
     "output_type": "stream",
     "text": [
      "[2, 4, 6, 8, 10, 666666]\n",
      "[2, 4, 6, 8, 10, 666666]\n",
      "[2, 4, 6, 8, 10]\n"
     ]
    }
   ],
   "source": [
    "#Shallow and deep copy\n",
    "\n",
    "list1 = [2,4,6,8,10]\n",
    "list2 = list1 # shallow copy\n",
    "list3 = list1[:]# deeper copy slice to new object\n",
    "list1.append(666666)\n",
    "print(list1)# orginal\n",
    "print(list2)# shallow copy\n",
    "print(list3)# deeper copy"
   ]
  },
  {
   "cell_type": "code",
   "execution_count": 36,
   "metadata": {},
   "outputs": [
    {
     "name": "stdout",
     "output_type": "stream",
     "text": [
      "[[2, 4], ['a', 'b'], 666666]\n",
      "[[2, 4], ['a', 'b'], 666666]\n",
      "[[2, 4], ['a', 'b']]\n"
     ]
    }
   ],
   "source": [
    "#Shallow and deep copy\n",
    "\n",
    "list1 = [[2,4],['a','b']]\n",
    "list2 = list1 # shallow copy\n",
    "list3 = list1[:]# deeper copy slice to new object\n",
    "list1.append(666666)\n",
    "print(list1)# orginal\n",
    "print(list2)# shallow copy\n",
    "print(list3)# deeper copy"
   ]
  },
  {
   "cell_type": "code",
   "execution_count": 47,
   "metadata": {},
   "outputs": [
    {
     "name": "stdout",
     "output_type": "stream",
     "text": [
      "[[2, 4], ['a', 'b'], 666666]\n",
      "[[2, 4], ['a', 'b']]\n",
      "[[2, 4], ['a', 'b']]\n"
     ]
    }
   ],
   "source": [
    "#Shallow and deep copy\n",
    "import copy\n",
    "list1 = [[2,4],['a','b']]\n",
    "list2 = list1[:] # shallow copy\n",
    "list3 = copy.deepcopy(list1)# deeper copy slice to new object\n",
    "list1.append(666666)\n",
    "\n",
    "print(list1)# orginal\n",
    "print(list2)# shallow copy\n",
    "print(list3)# deeper copy"
   ]
  },
  {
   "cell_type": "code",
   "execution_count": 48,
   "metadata": {},
   "outputs": [
    {
     "name": "stdout",
     "output_type": "stream",
     "text": [
      "[[2, 4, 6], ['a', 'b'], 666666]\n",
      "[[2, 4, 6], ['a', 'b']]\n",
      "[[2, 4], ['a', 'b']]\n"
     ]
    }
   ],
   "source": [
    "#Shallow and deep copy\n",
    "import copy\n",
    "list1 = [[2,4],['a','b']]\n",
    "list2 = list1[:] # shallow copy or deep copy ?\n",
    "list3 = copy.deepcopy(list1)# deeper copy slice to new object\n",
    "list1.append(666666)\n",
    "list1[0].append(6)\n",
    "\n",
    "print(list1)# orginal\n",
    "print(list2)# shallow copy\n",
    "print(list3)# deeper copy"
   ]
  },
  {
   "cell_type": "code",
   "execution_count": 39,
   "metadata": {},
   "outputs": [
    {
     "name": "stdout",
     "output_type": "stream",
     "text": [
      "-------- Original -----------\n",
      "[['canines', ['dogs', 'puppies'], ['marsupials']], ['felines', ['cats', 'kittens']], 'Hi there']\n",
      "-------- deep copy -----------\n",
      "[['canines', ['dogs', 'puppies']], ['felines', ['cats', 'kittens']]]\n",
      "-------- shallow copy -----------\n",
      "[['canines', ['dogs', 'puppies'], ['marsupials']], ['felines', ['cats', 'kittens']]]\n"
     ]
    }
   ],
   "source": [
    "import copy\n",
    "original = [['canines', ['dogs', 'puppies']], ['felines', ['cats', 'kittens']]]\n",
    "\n",
    "shallow_copy_version = original[:] \n",
    "# the original and the shallow copy diverge, because the original gets Hi there at the end. So we appended to the top level list, and there the original is different than the shallow copy. So Hi there got appended to original, did not get appended to shallow copy.\n",
    "\n",
    "deeply_copied_version = copy.deepcopy(original)\n",
    "\n",
    "original.append(\"Hi there\")\n",
    "original[0].append([\"marsupials\"])\n",
    "print(\"-------- Original -----------\")\n",
    "print(original)\n",
    "print(\"-------- deep copy -----------\")\n",
    "print(deeply_copied_version)\n",
    "print(\"-------- shallow copy -----------\")\n",
    "\n",
    "print(shallow_copy_version)\n",
    "# the original and the shallow copy diverge, because the original gets Hi there at the end. So we appended to the top level list, and there the original is different than the shallow copy. So Hi there got appended to original, did not get appended to shallow copy.\n"
   ]
  },
  {
   "cell_type": "code",
   "execution_count": 49,
   "metadata": {},
   "outputs": [
    {
     "name": "stdout",
     "output_type": "stream",
     "text": [
      "[1, 2, 3, 4, 5, 6, 7]\n",
      "<class 'list'>\n",
      "95859208\n",
      "[1, 2, 3, 4, 5, 6, 7]\n",
      "<class 'list'>\n",
      "95859208\n",
      "False\n",
      "True\n"
     ]
    }
   ],
   "source": [
    "numb1 = [1,2,3,4,5,6,7]\n",
    "numb2 = numb1\n",
    "print(numb2)\n",
    "print(type(numb2))\n",
    "print(id(numb2))\n",
    "\n",
    "numb3=numb1[:]\n",
    "print(numb3)\n",
    "print(type(numb3))\n",
    "print(id(numb2))\n",
    "\n",
    "print(numb2 is numb3 )\n",
    "print(numb2 == numb3 )"
   ]
  },
  {
   "cell_type": "code",
   "execution_count": null,
   "metadata": {},
   "outputs": [],
   "source": [
    "#Shallow and deep copy\n",
    "import copy\n",
    "list1 = [[2,4],['a','b']]\n",
    "print(list1)# orginal\n",
    "\n",
    "list2 = list1 # shallow copy\n",
    "list3 = list1[:] # deep copy \n",
    "list4 = copy.deepcopy(list1)# deep copy  with deepcopy() method of copy module\n",
    "list1.append(666666)\n",
    "list1[0].append(6)\n",
    "\n",
    "print(list1)# orginal\n",
    "print(list2)# shallow copy\n",
    "print(list3)# deeper copy\n",
    "print(list4)# deeper copy"
   ]
  }
 ],
 "metadata": {
  "kernelspec": {
   "display_name": "Python 3",
   "language": "python",
   "name": "python3"
  },
  "language_info": {
   "codemirror_mode": {
    "name": "ipython",
    "version": 3
   },
   "file_extension": ".py",
   "mimetype": "text/x-python",
   "name": "python",
   "nbconvert_exporter": "python",
   "pygments_lexer": "ipython3",
   "version": "3.8.4"
  }
 },
 "nbformat": 4,
 "nbformat_minor": 4
}
