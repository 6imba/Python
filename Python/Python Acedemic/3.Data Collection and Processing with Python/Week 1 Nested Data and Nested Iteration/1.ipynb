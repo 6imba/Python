{
 "cells": [
  {
   "cell_type": "code",
   "execution_count": 9,
   "metadata": {},
   "outputs": [
    {
     "name": "stdout",
     "output_type": "stream",
     "text": [
      "[1, 2, ['A', ['a', 'b'], 'B'], 3, ['C', 'D'], 4]\n",
      "1\n",
      "['A', ['a', 'b'], 'B']\n",
      "['C', 'D']\n",
      "A\n",
      "['a', 'b']\n",
      "a\n"
     ]
    }
   ],
   "source": [
    "#nested_list\n",
    "list1 = [1,2,['A',['a','b'],'B'],3,['C','D'],4]\n",
    "print(list1)\n",
    "print(list1[0])\n",
    "print(list1[2])\n",
    "print(list1[4])\n",
    "print(list1[2][0])\n",
    "print(list1[2][1])\n",
    "print(list1[2][1][0])"
   ]
  },
  {
   "cell_type": "code",
   "execution_count": 18,
   "metadata": {},
   "outputs": [
    {
     "name": "stdout",
     "output_type": "stream",
     "text": [
      "{'personal_data': {'name': 'Lauren', 'age': 20, 'major': 'Information Science', 'physical_features': {'color': {'eye': 'blue', 'hair': 'brown'}, 'height': \"5'8\"}}, 'other': {'favorite_colors': ['purple', 'green', 'blue'], 'interested_in': ['social media', 'intellectual property', 'copyright', 'music', 'books']}}\n",
      "\n",
      "\n",
      "{'name': 'Lauren', 'age': 20, 'major': 'Information Science', 'physical_features': {'color': {'eye': 'blue', 'hair': 'brown'}, 'height': \"5'8\"}}\n",
      "\n",
      "\n",
      "{'color': {'eye': 'blue', 'hair': 'brown'}, 'height': \"5'8\"}\n",
      "\n",
      "\n",
      "{'eye': 'blue', 'hair': 'brown'}\n",
      "\n",
      "\n",
      "5'8\n",
      "\n",
      "\n",
      "blue\n"
     ]
    }
   ],
   "source": [
    "#nested_dictionary\n",
    "info = {'personal_data':\n",
    "         {'name': 'Lauren',\n",
    "          'age': 20,\n",
    "          'major': 'Information Science',\n",
    "          'physical_features':\n",
    "             {'color': {'eye': 'blue',\n",
    "                        'hair': 'brown'},\n",
    "              'height': \"5'8\"}\n",
    "         },\n",
    "       'other':\n",
    "         {'favorite_colors': ['purple', 'green', 'blue'],\n",
    "          'interested_in': ['social media', 'intellectual property', 'copyright', 'music', 'books']\n",
    "         }\n",
    "      }\n",
    "\n",
    "print(info)\n",
    "print('\\n')\n",
    "print(info['personal_data'])\n",
    "print('\\n')\n",
    "print(info['personal_data']['physical_features'])\n",
    "print('\\n')\n",
    "print(info['personal_data']['physical_features']['color'])\n",
    "print('\\n')\n",
    "print(info['personal_data']['physical_features']['height'])\n",
    "print('\\n')\n",
    "print(info['personal_data']['physical_features']['color']['eye'])"
   ]
  },
  {
   "cell_type": "code",
   "execution_count": null,
   "metadata": {},
   "outputs": [],
   "source": []
  }
 ],
 "metadata": {
  "kernelspec": {
   "display_name": "Python 3",
   "language": "python",
   "name": "python3"
  },
  "language_info": {
   "codemirror_mode": {
    "name": "ipython",
    "version": 3
   },
   "file_extension": ".py",
   "mimetype": "text/x-python",
   "name": "python",
   "nbconvert_exporter": "python",
   "pygments_lexer": "ipython3",
   "version": "3.8.4"
  }
 },
 "nbformat": 4,
 "nbformat_minor": 4
}
