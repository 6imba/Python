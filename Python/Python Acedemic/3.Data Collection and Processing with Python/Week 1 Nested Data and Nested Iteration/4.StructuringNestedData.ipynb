{
 "cells": [
  {
   "cell_type": "code",
   "execution_count": 21,
   "metadata": {},
   "outputs": [
    {
     "name": "stdout",
     "output_type": "stream",
     "text": [
      "1\n",
      "2\n",
      "3\n",
      "4\n",
      "5\n"
     ]
    }
   ],
   "source": [
    "listA = [1,2,3,4,5]\n",
    "for item in listA:\n",
    "    print(item)"
   ]
  },
  {
   "cell_type": "code",
   "execution_count": 24,
   "metadata": {},
   "outputs": [
    {
     "name": "stdout",
     "output_type": "stream",
     "text": [
      "1\n",
      ",\n",
      "2\n",
      ",\n",
      "3\n",
      ",\n",
      "4\n",
      ",\n",
      "5\n"
     ]
    }
   ],
   "source": [
    "stringB = '1,2,3,4,5'\n",
    "for item in stringB:\n",
    "    print(item)"
   ]
  },
  {
   "cell_type": "code",
   "execution_count": 26,
   "metadata": {},
   "outputs": [
    {
     "name": "stdout",
     "output_type": "stream",
     "text": [
      "1\n",
      "2\n",
      "3\n",
      "4\n",
      "5\n"
     ]
    }
   ],
   "source": [
    "stringB = '12345'\n",
    "for item in stringB:\n",
    "    print(item)"
   ]
  },
  {
   "cell_type": "code",
   "execution_count": 28,
   "metadata": {},
   "outputs": [
    {
     "ename": "TypeError",
     "evalue": "'int' object is not iterable",
     "output_type": "error",
     "traceback": [
      "\u001b[1;31m---------------------------------------------------------------------------\u001b[0m",
      "\u001b[1;31mTypeError\u001b[0m                                 Traceback (most recent call last)",
      "\u001b[1;32m<ipython-input-28-7452867adb4d>\u001b[0m in \u001b[0;36m<module>\u001b[1;34m\u001b[0m\n\u001b[0;32m      1\u001b[0m \u001b[0mstringB\u001b[0m \u001b[1;33m=\u001b[0m \u001b[1;36m5\u001b[0m\u001b[1;33m\u001b[0m\u001b[1;33m\u001b[0m\u001b[0m\n\u001b[1;32m----> 2\u001b[1;33m \u001b[1;32mfor\u001b[0m \u001b[0mitem\u001b[0m \u001b[1;32min\u001b[0m \u001b[0mstringB\u001b[0m\u001b[1;33m:\u001b[0m\u001b[1;31m#int is not iterable\u001b[0m\u001b[1;33m\u001b[0m\u001b[1;33m\u001b[0m\u001b[0m\n\u001b[0m\u001b[0;32m      3\u001b[0m     \u001b[0mprint\u001b[0m\u001b[1;33m(\u001b[0m\u001b[0mitem\u001b[0m\u001b[1;33m)\u001b[0m\u001b[1;33m\u001b[0m\u001b[1;33m\u001b[0m\u001b[0m\n",
      "\u001b[1;31mTypeError\u001b[0m: 'int' object is not iterable"
     ]
    }
   ],
   "source": [
    "stringB = 5\n",
    "for item in stringB:#int is not iterable\n",
    "    print(item)"
   ]
  },
  {
   "cell_type": "code",
   "execution_count": 32,
   "metadata": {},
   "outputs": [
    {
     "name": "stdout",
     "output_type": "stream",
     "text": [
      "5\n"
     ]
    }
   ],
   "source": [
    "stringB = '5'\n",
    "for item in stringB:\n",
    "    print(item)"
   ]
  },
  {
   "cell_type": "code",
   "execution_count": 33,
   "metadata": {},
   "outputs": [
    {
     "name": "stdout",
     "output_type": "stream",
     "text": [
      "0\n",
      "1\n",
      "2\n",
      "3\n",
      "4\n"
     ]
    }
   ],
   "source": [
    "for item in range(5):#int is not iterable\n",
    "    print(item)"
   ]
  },
  {
   "cell_type": "code",
   "execution_count": 31,
   "metadata": {},
   "outputs": [
    {
     "name": "stdout",
     "output_type": "stream",
     "text": [
      "0\n",
      "1\n",
      "2\n",
      "3\n",
      "4\n"
     ]
    }
   ],
   "source": [
    "stringB = 5\n",
    "for item in range(stringB):#int is not iterable\n",
    "    print(item)"
   ]
  },
  {
   "cell_type": "code",
   "execution_count": 6,
   "metadata": {},
   "outputs": [
    {
     "name": "stdout",
     "output_type": "stream",
     "text": [
      "Level1 :  1\n",
      "Level1 :  2\n",
      "Level1 :  ['a', 'b', 'c']\n",
      "Level1 :  apple\n",
      "Level1 :  [11, 22, 33]\n"
     ]
    }
   ],
   "source": [
    "mainlist = [1,2,['a','b','c'],'apple',[11,22,33]]\n",
    "for subs in mainlist:\n",
    "    print('Level1 : ',subs)"
   ]
  },
  {
   "cell_type": "code",
   "execution_count": 7,
   "metadata": {},
   "outputs": [
    {
     "name": "stdout",
     "output_type": "stream",
     "text": [
      "Level1 :  1\n"
     ]
    },
    {
     "ename": "TypeError",
     "evalue": "'int' object is not iterable",
     "output_type": "error",
     "traceback": [
      "\u001b[1;31m---------------------------------------------------------------------------\u001b[0m",
      "\u001b[1;31mTypeError\u001b[0m                                 Traceback (most recent call last)",
      "\u001b[1;32m<ipython-input-7-9a1c2d636709>\u001b[0m in \u001b[0;36m<module>\u001b[1;34m\u001b[0m\n\u001b[0;32m      2\u001b[0m \u001b[1;32mfor\u001b[0m \u001b[0msublist\u001b[0m \u001b[1;32min\u001b[0m \u001b[0mmainlist\u001b[0m\u001b[1;33m:\u001b[0m\u001b[1;33m\u001b[0m\u001b[1;33m\u001b[0m\u001b[0m\n\u001b[0;32m      3\u001b[0m     \u001b[0mprint\u001b[0m\u001b[1;33m(\u001b[0m\u001b[1;34m'Level1 : '\u001b[0m\u001b[1;33m,\u001b[0m\u001b[0msublist\u001b[0m\u001b[1;33m)\u001b[0m\u001b[1;33m\u001b[0m\u001b[1;33m\u001b[0m\u001b[0m\n\u001b[1;32m----> 4\u001b[1;33m     \u001b[1;32mfor\u001b[0m \u001b[0msubs\u001b[0m \u001b[1;32min\u001b[0m \u001b[0msublist\u001b[0m\u001b[1;33m:\u001b[0m\u001b[1;31m#error as sublist+>1 int is not itereble\u001b[0m\u001b[1;33m\u001b[0m\u001b[1;33m\u001b[0m\u001b[0m\n\u001b[0m\u001b[0;32m      5\u001b[0m         \u001b[0mprint\u001b[0m\u001b[1;33m(\u001b[0m\u001b[1;34m'Level2 : '\u001b[0m\u001b[1;33m,\u001b[0m\u001b[0msubs\u001b[0m\u001b[1;33m)\u001b[0m\u001b[1;33m\u001b[0m\u001b[1;33m\u001b[0m\u001b[0m\n",
      "\u001b[1;31mTypeError\u001b[0m: 'int' object is not iterable"
     ]
    }
   ],
   "source": [
    "# When constructing your own nested data, it is a good idea to keep the structure consistent across each level. For example, if you have a list of dictionaries, then each dictionary should have the same structure, meaning the same keys and the same type of value associated with a particular key in all the dictionaries. The reason for this is because any deviation in the structure that is used will require extra code to handle those special cases. The more the structure deviates, the more you will have to use special cases.\n",
    "# For example, let’s reconsider this nested iteration, but suppose not all the items in the outer list are lists.\n",
    "# Now the nested iteration fails.\n",
    "\n",
    "\n",
    "mainlist = [1,2,['a','b','c'],'apple',[11,22,33]]\n",
    "for sublist in mainlist:\n",
    "    print('Level1 : ',sublist)\n",
    "    for subs in sublist:#error as sublist+>1 int is not itereble\n",
    "        print('Level2 : ',subs)"
   ]
  },
  {
   "cell_type": "code",
   "execution_count": 14,
   "metadata": {},
   "outputs": [
    {
     "name": "stdout",
     "output_type": "stream",
     "text": [
      "Level1 :  1\n",
      "Level1 :  2\n",
      "Level1 :  ['a', 'b', 'c']\n",
      "    Level2 :  a\n",
      "    Level2 :  b\n",
      "    Level2 :  c\n",
      "Level1 :  apple\n",
      "Level1 :  [11, 22, 33]\n",
      "    Level2 :  11\n",
      "    Level2 :  22\n",
      "    Level2 :  33\n"
     ]
    }
   ],
   "source": [
    "# We can solve this with special casing, a conditional that checks the type.\n",
    "\n",
    "mainlist = [1,2,['a','b','c'],'apple',[11,22,33]]\n",
    "for sublist in mainlist:\n",
    "    print('Level1 : ',sublist)\n",
    "    if type(sublist) is list:\n",
    "        for subs in sublist:#if iteration variable is list\n",
    "            print('    Level2 : ',subs)"
   ]
  },
  {
   "cell_type": "code",
   "execution_count": 17,
   "metadata": {},
   "outputs": [
    {
     "name": "stdout",
     "output_type": "stream",
     "text": [
      "Level1 :  1\n",
      "Level1 :  2\n",
      "Level1 :  ['a', 'b', 'c']\n",
      "    Level2 :  a\n",
      "    Level2 :  b\n",
      "    Level2 :  c\n",
      "Level1 :  apple\n",
      "    Level2 :  a\n",
      "    Level2 :  p\n",
      "    Level2 :  p\n",
      "    Level2 :  l\n",
      "    Level2 :  e\n",
      "Level1 :  [11, 22, 33]\n",
      "    Level2 :  11\n",
      "    Level2 :  22\n",
      "    Level2 :  33\n"
     ]
    }
   ],
   "source": [
    "mainlist = [1,2,['a','b','c'],'apple',[11,22,33]]\n",
    "for sublist in mainlist:\n",
    "    print('Level1 : ',sublist)\n",
    "    if type(sublist) is int:#if iteration variable is int\n",
    "        continue\n",
    "    else:\n",
    "        for subs in sublist:\n",
    "            print('    Level2 : ',subs)"
   ]
  },
  {
   "cell_type": "code",
   "execution_count": 34,
   "metadata": {},
   "outputs": [
    {
     "name": "stdout",
     "output_type": "stream",
     "text": [
      "Level1 :  1\n",
      "Level1 :  2\n",
      "Level1 :  ['a', 'b', 'c']\n",
      "    Level2 :  a\n",
      "    Level2 :  b\n",
      "    Level2 :  c\n",
      "Level1 :  apple\n",
      "    Level2 :  a\n",
      "    Level2 :  p\n",
      "    Level2 :  p\n",
      "    Level2 :  l\n",
      "    Level2 :  e\n",
      "Level1 :  [11, 22, 33]\n",
      "    Level2 :  11\n",
      "    Level2 :  22\n",
      "    Level2 :  33\n"
     ]
    }
   ],
   "source": [
    "mainlist = [1,2,['a','b','c'],'apple',[11,22,33]]\n",
    "for sublist in mainlist:\n",
    "    print('Level1 : ',sublist)\n",
    "    if type(sublist) is not int:#if iteration variable is not int\n",
    "        for subs in sublist:\n",
    "            print('    Level2 : ',subs)"
   ]
  }
 ],
 "metadata": {
  "kernelspec": {
   "display_name": "Python 3",
   "language": "python",
   "name": "python3"
  },
  "language_info": {
   "codemirror_mode": {
    "name": "ipython",
    "version": 3
   },
   "file_extension": ".py",
   "mimetype": "text/x-python",
   "name": "python",
   "nbconvert_exporter": "python",
   "pygments_lexer": "ipython3",
   "version": "3.8.4"
  }
 },
 "nbformat": 4,
 "nbformat_minor": 4
}
