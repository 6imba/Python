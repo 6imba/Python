{
 "cells": [
  {
   "cell_type": "code",
   "execution_count": 15,
   "metadata": {},
   "outputs": [],
   "source": [
    "\n",
    "# Hi everyone. I have to apologize because the previous lesson forced you to learn some pretty conceptually challenging\n",
    "# stuff, passing a transformer function to the map function, and passing a filtration function to the filter function. \n",
    "# It turns out that you wont actually use them. Python Programmers rarely do. \n",
    "# It was just a pedagogical tool to give you a way to really think through the map and filter programming patterns. \n",
    "# In Python, there's actually a simpler syntax for doing the map and filter patterns and even for combining them. \n",
    "# It's called list comprehensions. Now that you understand what they're for, I think you're going to love them. \n",
    "# The syntax can be a little confusing because it reuses elements of the for loop syntax. \n",
    "# But with an understanding of what list comprehensions do based on the map and filter lesson, I think you'll find that it's pretty intuitive. \n",
    "# List comprehensions are how Python programmers typically write code that does transformation and filtration. \n",
    "# At the end of this lesson, you should be able to read and write list comprehensions, and you should be able to describe \n",
    "# a list comprehension in terms of the transformation and filtration operations that it's performing. \n",
    "# So, let's go see how they work. See you at the end.\n"
   ]
  },
  {
   "cell_type": "code",
   "execution_count": 29,
   "metadata": {},
   "outputs": [
    {
     "name": "stdout",
     "output_type": "stream",
     "text": [
      "[2, 4, 6, 8, 10, 12, 14]\n"
     ]
    }
   ],
   "source": [
    "# List_comperhension_Map\n",
    "# [<transformer-expression> for <variable_name> in <sequense>]\n",
    "numbs_list = [1,2,3,4,5,6,7]\n",
    "double_list_compre = [numbs*2 for numbs in numbs_list] # List_comperhension\n",
    "print(double_list_compre)\n",
    "\n",
    "# [numbs*2 for numbs in numbs_list]\n",
    "# [<transformer-expression> for <variable_name> in <sequense>]"
   ]
  },
  {
   "cell_type": "code",
   "execution_count": 20,
   "metadata": {},
   "outputs": [
    {
     "name": "stdout",
     "output_type": "stream",
     "text": [
      "[2, 4, 6, 8, 10, 12, 14]\n",
      "<map object at 0x054A5A90>\n",
      "[2, 4, 6, 8, 10, 12, 14]\n"
     ]
    }
   ],
   "source": [
    "# List_comperhension & Map\n",
    "\n",
    "numbs_list = [1,2,3,4,5,6,7]\n",
    "\n",
    "double_list_compre = [numbs*2 for numbs in numbs_list] # List_comperhension  for mapping\n",
    "double_list_map = map(lambda numbs : numbs*2 , numbs_list) # Map\n",
    "               \n",
    "print(double_list_compre)\n",
    "print(double_list_map)\n",
    "print(list(double_list_map))"
   ]
  },
  {
   "cell_type": "code",
   "execution_count": 25,
   "metadata": {},
   "outputs": [
    {
     "name": "stdout",
     "output_type": "stream",
     "text": [
      "[False, True, False, True, False, True, False]\n"
     ]
    }
   ],
   "source": [
    "# List_comperhension_Filter\n",
    "\n",
    "numbs_list = [1,2,3,4,5,6,7]\n",
    "even_list_compre = [numbs%2==0 for numbs in numbs_list] # List_comperhension  for filtering\n",
    "print(even_list_compre)\n",
    "# This [numbs%2==0 filteration_expression gives output that  returns true or false"
   ]
  },
  {
   "cell_type": "code",
   "execution_count": 28,
   "metadata": {},
   "outputs": [
    {
     "name": "stdout",
     "output_type": "stream",
     "text": [
      "[2, 4, 6]\n"
     ]
    }
   ],
   "source": [
    "# Proper List_comperhension_Filter\n",
    "numbs_list = [1,2,3,4,5,6,7]\n",
    "even_list_compre = [numbs for numbs in numbs_list if numbs%2==0] # List_comperhension  for filtering\n",
    "print(even_list_compre)\n",
    "# This variable [numbs gives output as value of variable if this [numbs%2==0 filteration_expression is true for that numb\n",
    "\n",
    "# [numbs for numbs in numbs_list if numbs%2==0]\n",
    "# [<transformer-variable> for <iteration_variable> in <sequence> if <filteration_expression>]\n"
   ]
  },
  {
   "cell_type": "code",
   "execution_count": 34,
   "metadata": {},
   "outputs": [
    {
     "name": "stdout",
     "output_type": "stream",
     "text": [
      "[2, 4, 6]\n",
      "<filter object at 0x0648A2B0>\n",
      "[2, 4, 6]\n"
     ]
    }
   ],
   "source": [
    "# List_comperhension & Filter\n",
    "numbs_list = [1,2,3,4,5,6,7]\n",
    "even_list_compre = [numbs for numbs in numbs_list if numbs%2==0] # List_comperhension  for filtering\n",
    "even_list_filter = filter(lambda numbs:numbs%2==0 , numbs_list) # Filter\n",
    "\n",
    "print(even_list_compre)\n",
    "print(even_list_filter)\n",
    "print(list(even_list_filter))"
   ]
  },
  {
   "cell_type": "code",
   "execution_count": 36,
   "metadata": {},
   "outputs": [
    {
     "name": "stdout",
     "output_type": "stream",
     "text": [
      "[10]\n"
     ]
    }
   ],
   "source": [
    "alist = [4,2,8,6,5]\n",
    "blist = [num*2 for num in alist if num%2==1]\n",
    "print(blist)"
   ]
  },
  {
   "cell_type": "code",
   "execution_count": null,
   "metadata": {},
   "outputs": [],
   "source": [
    "# The transformer expression is value * 2. The item variable is value and the sequence is things. This is an alternative way to perform a mapping operation. As with map, each item in the sequence is transformed into an item in the new list. Instead of the iteration happening automatically, however, we have adopted the syntax of the for loop which may make it easier to understand.\n",
    "\n",
    "# Just as in a regular for loop, the part of the statement for value in things says to execute some code once for each item in things. Each time that code is executed, value is bound to one item from things. The code that is executed each time is the transformer expression, value * 2, rather than a block of code indented underneath the for statement. The other difference from a regular for loop is that each time the expression is evaluated, the resulting value is appended to a list. That happens automatically, without the programmer explicitly initializing an empty list or appending each item.\n",
    "\n",
    "# The if clause of a list comprehension can be used to do a filter operation. To perform a pure filter operation, the expression can be simply the variable that is bound to each item. For example, the following list comprehension will keep only the even numbers from the original list."
   ]
  }
 ],
 "metadata": {
  "kernelspec": {
   "display_name": "Python 3",
   "language": "python",
   "name": "python3"
  },
  "language_info": {
   "codemirror_mode": {
    "name": "ipython",
    "version": 3
   },
   "file_extension": ".py",
   "mimetype": "text/x-python",
   "name": "python",
   "nbconvert_exporter": "python",
   "pygments_lexer": "ipython3",
   "version": "3.8.4"
  }
 },
 "nbformat": 4,
 "nbformat_minor": 4
}
