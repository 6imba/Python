{
 "cells": [
  {
   "cell_type": "code",
   "execution_count": 14,
   "metadata": {},
   "outputs": [],
   "source": [
    "# You've now learned about the map and filter functions which perform particularly common accumulation patterns. \n",
    "# With map, you pass in a transformer function which takes one item and transforms it into its new value. \n",
    "# With filter, you pass in a filtration function which takes an item and returns a boolean. \n",
    "# True if the item should be included, false if the item should be filtered out. \n",
    "# Here's an apocryphal story about a filter that Socrates applied to gossip. \n",
    "# In ancient Greece as you may know, Socrates was widely lauded for his wisdom. \n",
    "# One day, the great philosopher came upon an acquaintance who ran up to him excitedly and said, \n",
    "# \"Socrates, do you know what I just heard about one of your students Plato?\" \"Wait a moment,\" \n",
    "# Socrates replied.\" \"Before you tell, me I'd like you to pass a little test. I call it the triple filter test\" \"What? Triple filter?\" \"That's right\" Socrates continued. \n",
    "# \"Before you talk to me about what Plato did, let's take a moment to filter what you're going to say. The first filter is truth. Have you made absolutely sure that what you're about to tell me as true?\" \n",
    "# Named X, X is true.\" \"No.\" The man said, \"Actually, I just heard about it and,\" \"All right,\" said Socrates. \"So, you don't really know whether it's true or not\".\"\n",
    "# Let's try the second filter. The filter of goodness. Is what you're about to tell me about Plato, is that something good, named X, X is good\" \" No, on the contrary.\n",
    "# \" So, Socrates continued. \"You want to tell me something bad about Plato even though you're not certain it's true?\n",
    "# \" The man shrugged a little embarrassed. Socrates continued. \"Well, let's try the third filter, the filter of usefulness. \n",
    "# Is what you want to tell me about Plato going to be useful to me?\" Named X, X is useful.\" \"No, not really.\" \"Well, \" \n",
    "# concluded Socrates. \"If what you want to tell me is neither true, nor good, nor even useful, why tell it to me at all?\" \n",
    "# The man was defeated and ashamed. This is the reason why Socrates was a great philosopher and held in such high esteem. \n",
    "# It also explains why Socrates never found out that Plato is sleeping with his wife. I'll see you next time."
   ]
  },
  {
   "cell_type": "code",
   "execution_count": 15,
   "metadata": {},
   "outputs": [
    {
     "name": "stdout",
     "output_type": "stream",
     "text": [
      "[12, 16, 24, 28, 0, 4]\n"
     ]
    }
   ],
   "source": [
    "# Manual_Accumulation\n",
    "\n",
    "def quard(numb_list1):\n",
    "    numb_list2 = []\n",
    "    for numb in numb_list1:\n",
    "        numb_list2.append(numb*4)\n",
    "    return numb_list2\n",
    "\n",
    "numb_list = [3, 4, 6, 7, 0, 1]\n",
    "print(list(quard(numb_list)))\n"
   ]
  },
  {
   "cell_type": "code",
   "execution_count": 9,
   "metadata": {},
   "outputs": [
    {
     "name": "stdout",
     "output_type": "stream",
     "text": [
      "[12, 16, 24, 28, 0, 4]\n"
     ]
    }
   ],
   "source": [
    "# Mapping\n",
    "numb_list = [3, 4, 6, 7, 0, 1]\n",
    "quard = map((lambda numb: 4*numb), numb_list)\n",
    "print(list(quard))\n"
   ]
  },
  {
   "cell_type": "code",
   "execution_count": 16,
   "metadata": {
    "scrolled": true
   },
   "outputs": [
    {
     "name": "stdout",
     "output_type": "stream",
     "text": [
      "[4, 6, 0]\n"
     ]
    }
   ],
   "source": [
    "# Filter\n",
    "numb_list = [3, 4, 6, 7, 0, 1]\n",
    "even_seqs = filter(lambda numb : numb%2 ==0 , numb_list)\n",
    "print(list(even_seqs))"
   ]
  },
  {
   "cell_type": "code",
   "execution_count": null,
   "metadata": {},
   "outputs": [],
   "source": [
    "# Manual_Accumulation\n",
    "# Let’s revisit the accumulator pattern. \n",
    "# We have frequently taken a list and produced another list from it that contains either a subset of the items or a transformed version of each item. \n",
    "# When each item is transformed we say that the operation is a mapping, or just a map of the original list.\n",
    "# When some items are omitted, we call it a filter.\n"
   ]
  },
  {
   "cell_type": "code",
   "execution_count": null,
   "metadata": {},
   "outputs": [],
   "source": [
    "# Map_Function\n",
    "# the map function, that makes it more clear what the overall structure of the computation is.\n",
    "# map takes two arguments, a function and a sequence. The function is the mapper that transforms items. \n",
    "# It is automatically applied to each item in the sequence. \n",
    "# You don’t have to initialize an accumulator or iterate with a for loop at all."
   ]
  },
  {
   "cell_type": "code",
   "execution_count": null,
   "metadata": {},
   "outputs": [],
   "source": [
    "# Filter_Function\n",
    "# So, unlike with map where the function was a transformer that was taking the input and transforming it into something else, \n",
    "# here we're not transforming the input. We're just making a binary decision about it. (1 or 0) , (True or False) , (Yes or No)\n",
    "# Is it true? Meaning keep it in, or is it false? Meaning filter it out. \n",
    "# So, the next thing to notice is what's actually in this Lambda expression. \n",
    "# We're saying Lambda num: num percent two equals zero. This num percent two equal equals zero, \n",
    "# that's our same filtration expression that we saw before when we were doing the manual accumulation."
   ]
  }
 ],
 "metadata": {
  "kernelspec": {
   "display_name": "Python 3",
   "language": "python",
   "name": "python3"
  },
  "language_info": {
   "codemirror_mode": {
    "name": "ipython",
    "version": 3
   },
   "file_extension": ".py",
   "mimetype": "text/x-python",
   "name": "python",
   "nbconvert_exporter": "python",
   "pygments_lexer": "ipython3",
   "version": "3.8.4"
  }
 },
 "nbformat": 4,
 "nbformat_minor": 4
}
