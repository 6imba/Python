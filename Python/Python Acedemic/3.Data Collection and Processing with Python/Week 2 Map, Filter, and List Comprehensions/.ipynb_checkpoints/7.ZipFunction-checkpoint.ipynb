{
 "cells": [
  {
   "cell_type": "code",
   "execution_count": 1,
   "metadata": {},
   "outputs": [],
   "source": [
    "# Python provides one more function that performs a common accumulation. It's called zip. \n",
    "# It takes two sequences and zips them together, matching their first items together, their second items together, and so on.\n",
    "# It makes it easy to do operations where you have to make pairwise comparisons or pairwise combinations. \n",
    "# At the end of this lesson, you should be able to read and write code using the zip function."
   ]
  },
  {
   "cell_type": "code",
   "execution_count": 5,
   "metadata": {},
   "outputs": [
    {
     "name": "stdout",
     "output_type": "stream",
     "text": [
      "[7, 19, 31]\n"
     ]
    }
   ],
   "source": [
    "# Manual Accumulation\n",
    "\n",
    "L1=[2,4,6]\n",
    "L2=[5,15,25]\n",
    "L3=[]\n",
    "\n",
    "for i in range(len(L1)):\n",
    "    L3.append(L1[i] + L2[i])\n",
    "\n",
    "print(L3)"
   ]
  },
  {
   "cell_type": "code",
   "execution_count": 9,
   "metadata": {},
   "outputs": [
    {
     "name": "stdout",
     "output_type": "stream",
     "text": [
      "[(2, 5), (4, 15), (6, 25)]\n"
     ]
    }
   ],
   "source": [
    "# You have seen this idea previously for iterating through the items in a single list. In many other programming languages that’s really the only way to iterate through the items in a list. In Python, however, we have gotten used to the for loop where the iteration variable is bound successively to each item in the list, rather than just to a number that’s used as a position or index into the list.\n",
    "\n",
    "# Can’t we do something similar with pairs of lists? It turns out we can.\n",
    "\n",
    "# The zip function takes multiple lists and turns them into a list of tuples (actually, an iterator, but they work like lists for most practical purposes), pairing up all the first items as one tuple, all the second items as a tuple, and so on. Then we can iterate through those tuples, and perform some operation on all the first items, all the second items, and so on.\n",
    "\n",
    "\n",
    "L1=[2,4,6]\n",
    "L2=[5,15,25]\n",
    "L3=list(zip(L1,L2))\n",
    "print(L3) #zip two list as tuple"
   ]
  },
  {
   "cell_type": "code",
   "execution_count": 11,
   "metadata": {},
   "outputs": [
    {
     "name": "stdout",
     "output_type": "stream",
     "text": [
      "[7, 19, 31]\n"
     ]
    }
   ],
   "source": [
    "# Here’s what happens when you loop through the tuples.\n",
    "\n",
    "L1=[2,4,6]\n",
    "L2=[5,15,25]\n",
    "L3=list(zip(L1,L2))\n",
    "L4=[]\n",
    "for x,y in L3:\n",
    "    L4.append(x+y)\n",
    "print(L4)"
   ]
  },
  {
   "cell_type": "code",
   "execution_count": 13,
   "metadata": {},
   "outputs": [
    {
     "name": "stdout",
     "output_type": "stream",
     "text": [
      "[7, 19, 31]\n"
     ]
    }
   ],
   "source": [
    "# Zip List Comprehension\n",
    "\n",
    "L1=[2,4,6]\n",
    "L2=[5,15,25]\n",
    "L3=[x+y for x,y in list(zip(L1,L2))]\n",
    "\n",
    "print(L4)"
   ]
  },
  {
   "cell_type": "code",
   "execution_count": 17,
   "metadata": {},
   "outputs": [
    {
     "name": "stdout",
     "output_type": "stream",
     "text": [
      "[4, 6, 8]\n"
     ]
    }
   ],
   "source": [
    "# Or, using map and not unpacking the tuple (our online environment has trouble with unpacking the tuple in a lambda expression):\n",
    "\n",
    "L1 = [3, 4, 5]\n",
    "L2 = [1, 2, 3]\n",
    "L3 = map(sum, zip(L1,L2))\n",
    "print(list(L3))"
   ]
  },
  {
   "cell_type": "code",
   "execution_count": 20,
   "metadata": {},
   "outputs": [
    {
     "name": "stdout",
     "output_type": "stream",
     "text": [
      "[4, 6, 8]\n"
     ]
    }
   ],
   "source": [
    "L1 = [3, 4, 5]\n",
    "L2 = [1, 2, 3]\n",
    "L3 = map(lambda x: x[0] + x[1], zip(L1,L2))\n",
    "print(list(L3))"
   ]
  },
  {
   "cell_type": "code",
   "execution_count": 23,
   "metadata": {},
   "outputs": [
    {
     "name": "stdout",
     "output_type": "stream",
     "text": [
      "True\n",
      "False\n"
     ]
    }
   ],
   "source": [
    "# Consider a function called possible, which determines whether a word is still possible to play in a game of hangman,\n",
    "# given the guesses that have been made and the current state of the blanked word.\n",
    "# Below we provide function that fulfills that purpose.\n",
    "\n",
    "def possible(word, blanked, guesses_made):\n",
    "    if len(word) != len(blanked):\n",
    "        return False\n",
    "    for i in range(len(word)):\n",
    "        bc = blanked[i]\n",
    "        wc = word[i]\n",
    "        if bc == '_' and wc in guesses_made:\n",
    "            return False\n",
    "        elif bc != '_' and bc != wc:\n",
    "            return False\n",
    "    return True\n",
    "\n",
    "print(possible(\"wonderwall\", \"_on__r__ll\", \"otnqurl\"))\n",
    "print(possible(\"wonderwall\", \"_on__r__ll\", \"wotnqurl\"))"
   ]
  },
  {
   "cell_type": "code",
   "execution_count": 25,
   "metadata": {},
   "outputs": [
    {
     "name": "stdout",
     "output_type": "stream",
     "text": [
      "True\n",
      "False\n"
     ]
    }
   ],
   "source": [
    "# However, we can rewrite that using zip, to be a little more comprehensible.\n",
    "\n",
    "def possible(word, blanked, guesses_made):\n",
    "    if len(word) != len(blanked):\n",
    "        return False\n",
    "    for (bc, wc) in zip(blanked, word):\n",
    "        if bc == '_' and wc in guesses_made:\n",
    "            return False\n",
    "        elif bc != '_' and bc != wc:\n",
    "            return False\n",
    "    return True\n",
    "\n",
    "print(possible(\"wonderwall\", \"_on__r__ll\", \"otnqurl\"))\n",
    "print(possible(\"wonderwall\", \"_on__r__ll\", \"wotnqurl\"))\n"
   ]
  },
  {
   "cell_type": "code",
   "execution_count": 27,
   "metadata": {},
   "outputs": [
    {
     "name": "stdout",
     "output_type": "stream",
     "text": [
      "[18, 57, 103]\n"
     ]
    }
   ],
   "source": [
    "# 1. Below we have provided two lists of numbers, L1 and L2. Using zip and list comprehension, create a new list, L3, that sums the two numbers if the number from L1 is greater than 10 and the number from L2 is less than 5. This can be accomplished in one line of code.\n",
    "\n",
    "\n",
    "L1 = [1, 5, 2, 16, 32, 3, 54, 8, 100]\n",
    "L2 = [1, 3, 10, 2, 42, 2, 3, 4, 3]\n",
    "L3 = [x+y for x,y in zip(L1,L2) if x>10 and y<5]\n",
    "\n",
    "print(L3)"
   ]
  }
 ],
 "metadata": {
  "kernelspec": {
   "display_name": "Python 3",
   "language": "python",
   "name": "python3"
  },
  "language_info": {
   "codemirror_mode": {
    "name": "ipython",
    "version": 3
   },
   "file_extension": ".py",
   "mimetype": "text/x-python",
   "name": "python",
   "nbconvert_exporter": "python",
   "pygments_lexer": "ipython3",
   "version": "3.8.4"
  }
 },
 "nbformat": 4,
 "nbformat_minor": 4
}
