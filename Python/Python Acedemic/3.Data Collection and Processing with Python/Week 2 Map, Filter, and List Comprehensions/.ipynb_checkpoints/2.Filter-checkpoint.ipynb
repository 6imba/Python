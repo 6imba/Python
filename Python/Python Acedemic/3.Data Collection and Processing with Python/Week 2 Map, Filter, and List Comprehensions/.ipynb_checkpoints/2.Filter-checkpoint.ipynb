{
 "cells": [
  {
   "cell_type": "code",
   "execution_count": 2,
   "metadata": {},
   "outputs": [
    {
     "name": "stdout",
     "output_type": "stream",
     "text": [
      "[4, 6, 0]\n"
     ]
    }
   ],
   "source": [
    "\n",
    "def keep_evens(nums):\n",
    "    new_list = []\n",
    "    for num in nums: # manual_accumulation\n",
    "        if num % 2 == 0:\n",
    "            new_list.append(num)\n",
    "    return new_list\n",
    "\n",
    "print(keep_evens([3, 4, 6, 7, 0, 1]))\n",
    "\n",
    "\n",
    "# Again, this pattern of computation is so common that Python offers a more compact and general way to do it,\n",
    "# the filter function. filter takes two arguments, a function and a sequence. \n",
    "# The function takes one item and return True if the item should. \n",
    "# It is automatically called for each item in the sequence. You don’t have to initialize an accumulator or iterate with a for loop.\n"
   ]
  },
  {
   "cell_type": "code",
   "execution_count": 5,
   "metadata": {},
   "outputs": [
    {
     "name": "stdout",
     "output_type": "stream",
     "text": [
      "[4, 6, 0]\n"
     ]
    }
   ],
   "source": [
    "# Now consider another common pattern: going through a list and keeping only those items that meet certain criteria. This is called a filter.\n",
    "\n",
    "def even_filter(numbs1):\n",
    "    even_list1 = filter(lambda numb:numb%2 == 0 , numbs1)\n",
    "    return even_list1\n",
    "\n",
    "numbs = [3, 4, 6, 7, 0, 1]\n",
    "even_list = even_filter(numbs)\n",
    "print(list(even_list))\n",
    "\n",
    "# So, unlike with map where the function was a transformer that was taking the input and transforming it into something else, \n",
    "# here we're not transforming the input. We're just making a binary decision about it. \n",
    "# Is it true? Meaning keep it in, or is it false? Meaning filter it out. \n",
    "# So, the next thing to notice is what's actually in this Lambda expression. \n",
    "# We're saying Lambda num: num percent two equals zero. This num percent two equal equals zero, \n",
    "# that's our same filtration expression that we saw before when we were doing the manual accumulation."
   ]
  },
  {
   "cell_type": "code",
   "execution_count": 13,
   "metadata": {},
   "outputs": [
    {
     "name": "stdout",
     "output_type": "stream",
     "text": [
      "[4, 6, 0]\n"
     ]
    }
   ],
   "source": [
    "def keep_evens(nums):\n",
    "    new_seq = filter(lambda num: num % 2 == 0, nums)\n",
    "    return list(new_seq)\n",
    "\n",
    "print(keep_evens([3, 4, 6, 7, 0, 1]))\n"
   ]
  },
  {
   "cell_type": "code",
   "execution_count": 17,
   "metadata": {},
   "outputs": [
    {
     "name": "stdout",
     "output_type": "stream",
     "text": [
      "[4, 6, 0]\n"
     ]
    }
   ],
   "source": [
    "numb_list = [3, 4, 6, 7, 0, 1]\n",
    "even_seqs = filter(lambda numb : numb%2 ==0 , numb_list)\n",
    "print(list(even_seqs))"
   ]
  },
  {
   "cell_type": "code",
   "execution_count": 10,
   "metadata": {},
   "outputs": [
    {
     "name": "stdout",
     "output_type": "stream",
     "text": [
      "['watermelon', 'kiwi', 'strawberries']\n"
     ]
    }
   ],
   "source": [
    "# 1. Write code to assign to the variable filter_testing all the elements in lst_check that have a w in them using filter.\n",
    "\n",
    "lst_check = ['plums', 'watermelon', 'kiwi', 'strawberries', 'blueberries', 'peaches', 'apples', 'mangos', 'papaya']\n",
    "\n",
    "def w_check_filter(lst_check1):\n",
    "    w_list = filter(lambda word : 'w' in word , lst_check1)\n",
    "    return list(w_list)\n",
    "\n",
    "filter_testing = w_check_filter(lst_check)\n",
    "print(filter_testing)\n",
    "#  passing list to the filter_function inside w_check_filter function"
   ]
  },
  {
   "cell_type": "code",
   "execution_count": 18,
   "metadata": {},
   "outputs": [
    {
     "name": "stdout",
     "output_type": "stream",
     "text": [
      "['watermelon', 'kiwi', 'strawberries']\n"
     ]
    }
   ],
   "source": [
    "# simply\n",
    "lst_check = ['plums', 'watermelon', 'kiwi', 'strawberries', 'blueberries', 'peaches', 'apples', 'mangos', 'papaya']\n",
    "filter_testing = filter(lambda word : 'w' in word , lst_check)\n",
    "print(list(filter_testing))\n",
    "#  passing list directly to the filter_function"
   ]
  },
  {
   "cell_type": "code",
   "execution_count": 9,
   "metadata": {},
   "outputs": [
    {
     "name": "stdout",
     "output_type": "stream",
     "text": [
      "['halloween', 'wagon', 'moon']\n"
     ]
    }
   ],
   "source": [
    "# 2. Using filter, filter lst so that it only contains words containing the letter “o”. Assign to variable lst2. Do not hardcode this.\n",
    "\n",
    "lst = [\"witch\", \"halloween\", \"pumpkin\", \"cat\", \"candy\", \"wagon\", \"moon\"]\n",
    "\n",
    "def o_filter(lst1):\n",
    "    o_list = filter(lambda word : 'o' in word , lst1)\n",
    "    return o_list\n",
    "    \n",
    "lst2 = list(o_filter(lst))\n",
    "print(lst2)"
   ]
  }
 ],
 "metadata": {
  "kernelspec": {
   "display_name": "Python 3",
   "language": "python",
   "name": "python3"
  },
  "language_info": {
   "codemirror_mode": {
    "name": "ipython",
    "version": 3
   },
   "file_extension": ".py",
   "mimetype": "text/x-python",
   "name": "python",
   "nbconvert_exporter": "python",
   "pygments_lexer": "ipython3",
   "version": "3.8.4"
  }
 },
 "nbformat": 4,
 "nbformat_minor": 4
}
