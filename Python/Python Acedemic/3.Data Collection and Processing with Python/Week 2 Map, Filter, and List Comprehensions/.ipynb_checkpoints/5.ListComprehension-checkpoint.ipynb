{
 "cells": [
  {
   "cell_type": "code",
   "execution_count": 26,
   "metadata": {},
   "outputs": [
    {
     "name": "stdout",
     "output_type": "stream",
     "text": [
      "['Lauren', 'Ayo', 'Kathryn', 'Nick', 'Gladys', 'Adam']\n"
     ]
    }
   ],
   "source": [
    "# 3. Write code to assign to the variable compri all the values of the key name in any of the sub-dictionaries in the dictionary tester. Do this using a list comprehension.\n",
    "\n",
    "# tester = {'info': [{\"name\": \"Lauren\", 'class standing': 'Junior', 'major': \"Information Science\"},{'name': 'Ayo', 'class standing': \"Bachelor's\", 'major': 'Information Science'}, {'name': 'Kathryn', 'class standing': 'Senior', 'major': 'Sociology'}, {'name': 'Nick', 'class standing': 'Junior', 'major': 'Computer Science'}, {'name': 'Gladys', 'class standing': 'Sophomore', 'major': 'History'}, {'name': 'Adam', 'major': 'Violin Performance', 'class standing': 'Senior'}]}\n"
   ]
  },
  {
   "cell_type": "code",
   "execution_count": 17,
   "metadata": {},
   "outputs": [
    {
     "name": "stdout",
     "output_type": "stream",
     "text": [
      "dict_keys(['name', 'class standing', 'major'])\n"
     ]
    }
   ],
   "source": [
    "tester = {\"name\": \"Lauren\", 'class standing': 'Junior', 'major': \"Information Science\"}\n",
    "compri = tester.keys()\n",
    "print(compri)"
   ]
  },
  {
   "cell_type": "code",
   "execution_count": 22,
   "metadata": {},
   "outputs": [
    {
     "name": "stdout",
     "output_type": "stream",
     "text": [
      "[dict_keys(['name', 'class standing', 'major']), dict_keys(['name', 'class standing', 'major']), dict_keys(['name', 'class standing', 'major']), dict_keys(['name', 'class standing', 'major']), dict_keys(['name', 'class standing', 'major']), dict_keys(['name', 'major', 'class standing'])]\n"
     ]
    }
   ],
   "source": [
    "tester = [{\"name\": \"Lauren\", 'class standing': 'Junior', 'major': \"Information Science\"},{'name': 'Ayo', 'class standing': \"Bachelor's\", 'major': 'Information Science'}, {'name': 'Kathryn', 'class standing': 'Senior', 'major': 'Sociology'}, {'name': 'Nick', 'class standing': 'Junior', 'major': 'Computer Science'}, {'name': 'Gladys', 'class standing': 'Sophomore', 'major': 'History'}, {'name': 'Adam', 'major': 'Violin Performance', 'class standing': 'Senior'}]\n",
    "compri = [dicts.keys() for dicts in tester]\n",
    "print(compri)"
   ]
  },
  {
   "cell_type": "code",
   "execution_count": 24,
   "metadata": {},
   "outputs": [
    {
     "name": "stdout",
     "output_type": "stream",
     "text": [
      "[dict_keys(['name', 'class standing', 'major']), dict_keys(['name', 'class standing', 'major']), dict_keys(['name', 'class standing', 'major']), dict_keys(['name', 'class standing', 'major']), dict_keys(['name', 'class standing', 'major']), dict_keys(['name', 'major', 'class standing'])]\n"
     ]
    }
   ],
   "source": [
    "tester = {'info': [{\"name\": \"Lauren\", 'class standing': 'Junior', 'major': \"Information Science\"},{'name': 'Ayo', 'class standing': \"Bachelor's\", 'major': 'Information Science'}, {'name': 'Kathryn', 'class standing': 'Senior', 'major': 'Sociology'}, {'name': 'Nick', 'class standing': 'Junior', 'major': 'Computer Science'}, {'name': 'Gladys', 'class standing': 'Sophomore', 'major': 'History'}, {'name': 'Adam', 'major': 'Violin Performance', 'class standing': 'Senior'}]}\n",
    "compri = [dicts.keys() for dicts in tester['info']]\n",
    "print(compri)"
   ]
  },
  {
   "cell_type": "code",
   "execution_count": 27,
   "metadata": {},
   "outputs": [
    {
     "name": "stdout",
     "output_type": "stream",
     "text": [
      "['Lauren', 'Ayo', 'Kathryn', 'Nick', 'Gladys', 'Adam']\n"
     ]
    }
   ],
   "source": [
    "# 3. Write code to assign to the variable compri all the values of the key name in any of the sub-dictionaries in the dictionary tester. Do this using a list comprehension.\n",
    "\n",
    "tester = {'info': [{\"name\": \"Lauren\", 'class standing': 'Junior', 'major': \"Information Science\"},{'name': 'Ayo', 'class standing': \"Bachelor's\", 'major': 'Information Science'}, {'name': 'Kathryn', 'class standing': 'Senior', 'major': 'Sociology'}, {'name': 'Nick', 'class standing': 'Junior', 'major': 'Computer Science'}, {'name': 'Gladys', 'class standing': 'Sophomore', 'major': 'History'}, {'name': 'Adam', 'major': 'Violin Performance', 'class standing': 'Senior'}]}\n",
    "compri = [dicts['name'] for dicts in tester['info']]\n",
    "print(compri)"
   ]
  },
  {
   "cell_type": "code",
   "execution_count": 33,
   "metadata": {},
   "outputs": [
    {
     "name": "stdout",
     "output_type": "stream",
     "text": [
      "{\"info\": [{\"name\": \"Lauren\", \"class standing\": \"Junior\", \"major\": \"Information Science\"}, {\"name\": \"Ayo\", \"class standing\": \"Bachelor's\", \"major\": \"Information Science\"}, {\"name\": \"Kathryn\", \"class standing\": \"Senior\", \"major\": \"Sociology\"}, {\"name\": \"Nick\", \"class standing\": \"Junior\", \"major\": \"Computer Science\"}, {\"name\": \"Gladys\", \"class standing\": \"Sophomore\", \"major\": \"History\"}, {\"name\": \"Adam\", \"major\": \"Violin Performance\", \"class standing\": \"Senior\"}]}\n",
      ".......................................................\n",
      "[{\"name\": \"Lauren\", \"class standing\": \"Junior\", \"major\": \"Information Science\"}, {\"name\": \"Ayo\", \"class standing\": \"Bachelor's\", \"major\": \"Information Science\"}, {\"name\": \"Kathryn\", \"class standing\": \"Senior\", \"major\": \"Sociology\"}, {\"name\": \"Nick\", \"class standing\": \"Junior\", \"major\": \"Computer Science\"}, {\"name\": \"Gladys\", \"class standing\": \"Sophomore\", \"major\": \"History\"}, {\"name\": \"Adam\", \"major\": \"Violin Performance\", \"class standing\": \"Senior\"}]\n",
      ".......................................................\n",
      "[\n",
      "    {\n",
      "        \"name\": \"Lauren\",\n",
      "        \"class standing\": \"Junior\",\n",
      "        \"major\": \"Information Science\"\n",
      "    },\n",
      "    {\n",
      "        \"name\": \"Ayo\",\n",
      "        \"class standing\": \"Bachelor's\",\n",
      "        \"major\": \"Information Science\"\n",
      "    },\n",
      "    {\n",
      "        \"name\": \"Kathryn\",\n",
      "        \"class standing\": \"Senior\",\n",
      "        \"major\": \"Sociology\"\n",
      "    },\n",
      "    {\n",
      "        \"name\": \"Nick\",\n",
      "        \"class standing\": \"Junior\",\n",
      "        \"major\": \"Computer Science\"\n",
      "    },\n",
      "    {\n",
      "        \"name\": \"Gladys\",\n",
      "        \"class standing\": \"Sophomore\",\n",
      "        \"major\": \"History\"\n",
      "    },\n",
      "    {\n",
      "        \"name\": \"Adam\",\n",
      "        \"major\": \"Violin Performance\",\n",
      "        \"class standing\": \"Senior\"\n",
      "    }\n",
      "]\n"
     ]
    }
   ],
   "source": [
    "# Extra\n",
    "tester = {'info': [{\"name\": \"Lauren\", 'class standing': 'Junior', 'major': \"Information Science\"},{'name': 'Ayo', 'class standing': \"Bachelor's\", 'major': 'Information Science'}, {'name': 'Kathryn', 'class standing': 'Senior', 'major': 'Sociology'}, {'name': 'Nick', 'class standing': 'Junior', 'major': 'Computer Science'}, {'name': 'Gladys', 'class standing': 'Sophomore', 'major': 'History'}, {'name': 'Adam', 'major': 'Violin Performance', 'class standing': 'Senior'}]}\n",
    "import json\n",
    "print(json.dumps(tester))\n",
    "print('.......................................................')\n",
    "innerlist = tester['info']\n",
    "print(json.dumps(innerlist))\n",
    "print('.......................................................')\n",
    "print(json.dumps(innerlist,indent = 4))"
   ]
  }
 ],
 "metadata": {
  "kernelspec": {
   "display_name": "Python 3",
   "language": "python",
   "name": "python3"
  },
  "language_info": {
   "codemirror_mode": {
    "name": "ipython",
    "version": 3
   },
   "file_extension": ".py",
   "mimetype": "text/x-python",
   "name": "python",
   "nbconvert_exporter": "python",
   "pygments_lexer": "ipython3",
   "version": "3.8.4"
  }
 },
 "nbformat": 4,
 "nbformat_minor": 4
}
