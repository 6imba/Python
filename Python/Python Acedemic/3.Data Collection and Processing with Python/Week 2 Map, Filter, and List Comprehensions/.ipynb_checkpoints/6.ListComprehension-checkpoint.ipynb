{
 "cells": [
  {
   "cell_type": "code",
   "execution_count": 1,
   "metadata": {},
   "outputs": [],
   "source": [
    "# Write a function called longlengths that returns the lengths of those strings that has atleast 4 character ."
   ]
  },
  {
   "cell_type": "code",
   "execution_count": 6,
   "metadata": {},
   "outputs": [
    {
     "data": {
      "text/plain": [
       "{'apple': 5, 'banana': 6, 'cucumber': 8, 'amir': 4}"
      ]
     },
     "execution_count": 6,
     "metadata": {},
     "output_type": "execute_result"
    }
   ],
   "source": [
    "#Manual_Dictionary_Accumulation\n",
    "\n",
    "def longlengths(list2):\n",
    "    dict3={}\n",
    "    for element in list2:\n",
    "        if len(element)>=4:\n",
    "            dict3[element]=len(element)\n",
    "    return(dict3)\n",
    "\n",
    "list1 = ['axe','apple','banana','dog','cucumber','amir']\n",
    "longlengths(list1)"
   ]
  },
  {
   "cell_type": "code",
   "execution_count": 7,
   "metadata": {},
   "outputs": [
    {
     "data": {
      "text/plain": [
       "[5, 6, 8, 4]"
      ]
     },
     "execution_count": 7,
     "metadata": {},
     "output_type": "execute_result"
    }
   ],
   "source": [
    "#Manual_List_Accumulation\n",
    "\n",
    "def longlengths(list2):\n",
    "    list3=[]\n",
    "    for element in list2:\n",
    "        if len(element)>=4:\n",
    "            list3.append(len(element))\n",
    "    return(list3)\n",
    "\n",
    "list1 = ['axe','apple','banana','dog','cucumber','amir']\n",
    "longlengths(list1)"
   ]
  },
  {
   "cell_type": "code",
   "execution_count": 18,
   "metadata": {},
   "outputs": [
    {
     "data": {
      "text/plain": [
       "[False, True, True, False, True, True]"
      ]
     },
     "execution_count": 18,
     "metadata": {},
     "output_type": "execute_result"
    }
   ],
   "source": [
    "# only List_Mapping\n",
    "\n",
    "def longlengths(list2):\n",
    "    list3 = map(lambda element : len(element)>=4 , list2)\n",
    "    return list(list3)\n",
    "    \n",
    "list1 = ['axe','apple','banana','dog','cucumber','amir']\n",
    "longlengths(list1)"
   ]
  },
  {
   "cell_type": "code",
   "execution_count": 20,
   "metadata": {},
   "outputs": [
    {
     "data": {
      "text/plain": [
       "['apple', 'banana', 'cucumber', 'amir']"
      ]
     },
     "execution_count": 20,
     "metadata": {},
     "output_type": "execute_result"
    }
   ],
   "source": [
    "# only List_Filtering\n",
    "\n",
    "def longlengths(list2):\n",
    "    list3 = filter(lambda element : len(element)>=4 , list2)\n",
    "    return list(list3)\n",
    "    \n",
    "list1 = ['axe','apple','banana','dog','cucumber','amir']\n",
    "longlengths(list1)"
   ]
  },
  {
   "cell_type": "code",
   "execution_count": 25,
   "metadata": {},
   "outputs": [
    {
     "name": "stdout",
     "output_type": "stream",
     "text": [
      "[5, 6, 8, 4]\n"
     ]
    }
   ],
   "source": [
    "#Both List_Mapping_And_Filtering\n",
    "\n",
    "def longlengths(list2):\n",
    "    list3 = filter(lambda element : len(element)>=4 , list2)\n",
    "    #return map(len,list3)\n",
    "    return map(lambda s:len(s),list3)\n",
    "list1 = ['axe','apple','banana','dog','cucumber','amir']\n",
    "list4 = longlengths(list1)\n",
    "print(list(list4))"
   ]
  },
  {
   "cell_type": "code",
   "execution_count": 26,
   "metadata": {},
   "outputs": [
    {
     "name": "stdout",
     "output_type": "stream",
     "text": [
      "[5, 6, 8, 4]\n"
     ]
    }
   ],
   "source": [
    "# List_Comprehension\n",
    "def longlengths(list2):\n",
    "    return [len(element) for element in list2 if len(element)>=4 ]\n",
    "    \n",
    "list1 = ['axe','apple','banana','dog','cucumber','amir']\n",
    "print(longlengths(list1))"
   ]
  },
  {
   "cell_type": "code",
   "execution_count": null,
   "metadata": {},
   "outputs": [],
   "source": [
    "# List_Comprehenssion ==> [ expression for item in list if conditional ]"
   ]
  }
 ],
 "metadata": {
  "kernelspec": {
   "display_name": "Python 3",
   "language": "python",
   "name": "python3"
  },
  "language_info": {
   "codemirror_mode": {
    "name": "ipython",
    "version": 3
   },
   "file_extension": ".py",
   "mimetype": "text/x-python",
   "name": "python",
   "nbconvert_exporter": "python",
   "pygments_lexer": "ipython3",
   "version": "3.8.4"
  }
 },
 "nbformat": 4,
 "nbformat_minor": 4
}
