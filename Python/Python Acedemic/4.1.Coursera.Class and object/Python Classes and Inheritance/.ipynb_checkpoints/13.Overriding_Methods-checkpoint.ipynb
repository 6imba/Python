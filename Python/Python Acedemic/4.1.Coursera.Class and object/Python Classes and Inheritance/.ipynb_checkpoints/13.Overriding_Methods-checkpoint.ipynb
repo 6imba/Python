{
 "cells": [
  {
   "cell_type": "code",
   "execution_count": 3,
   "metadata": {},
   "outputs": [
    {
     "name": "stdout",
     "output_type": "stream",
     "text": [
      "Jiban Katha by Sakhyamuni.\n"
     ]
    }
   ],
   "source": [
    "class Book:\n",
    "    def __init__(self,title,author):\n",
    "        self.title = title\n",
    "        self.author=author\n",
    "        \n",
    "    def __str__(self):\n",
    "        return '{} by {}.'.format(self.title,self.author)\n",
    "        \n",
    "mybook = Book('Jiban Katha','Sakhyamuni')\n",
    "print(mybook)"
   ]
  },
  {
   "cell_type": "code",
   "execution_count": 13,
   "metadata": {},
   "outputs": [
    {
     "name": "stdout",
     "output_type": "stream",
     "text": [
      "Jiban Katha by Sakhyamuni.\n",
      "Jiban Katha\n",
      "3099\n"
     ]
    }
   ],
   "source": [
    "class Book:\n",
    "    def __init__(self,title,author):\n",
    "        self.title = title\n",
    "        self.author=author\n",
    "        \n",
    "    def __str__(self):\n",
    "        return '{} by {}.'.format(self.title,self.author)\n",
    "        \n",
    "class PersonnelBook(Book): \n",
    "    def __init__(self,title,author,page):\n",
    "        super().__init__(title,author)\n",
    "        self.page = page\n",
    "        \n",
    "        \n",
    "mybook = PersonnelBook('Jiban Katha','Sakhyamuni',3099)\n",
    "print(mybook)\n",
    "print(mybook.title)\n",
    "print(mybook.page)"
   ]
  },
  {
   "cell_type": "code",
   "execution_count": 8,
   "metadata": {},
   "outputs": [
    {
     "name": "stdout",
     "output_type": "stream",
     "text": [
      "Jiban Katha by Sakhyamuni.\n",
      "Jiban Katha\n",
      "1 Million\n",
      "Number_Book by Mr. Khan.\n",
      "Number_Book\n",
      "37\n"
     ]
    }
   ],
   "source": [
    "class Book:\n",
    "    def __init__(self,title,author):\n",
    "        self.title = title\n",
    "        self.author=author\n",
    "        \n",
    "    def __str__(self):\n",
    "        return '{} by {}.'.format(self.title,self.author)\n",
    "        \n",
    "class PersonnelBook(Book): \n",
    "    def __init__(self,title,author,content):\n",
    "        super().__init__(title,author)\n",
    "        self.content = content\n",
    "        \n",
    "class PublicBook(Book): \n",
    "    def __init__(self,title,author,page):\n",
    "        super().__init__(title,author)\n",
    "        self.page = page\n",
    "    \n",
    "\n",
    "my_personnel_book = PersonnelBook('Jiban Katha','Sakhyamuni','1 Million')\n",
    "print(my_personnel_book)\n",
    "print(my_personnel_book.title)\n",
    "print(my_personnel_book.content)\n",
    "\n",
    "my_public_book = PublicBook('Number_Book','Mr. Khan',37)\n",
    "print(my_public_book)\n",
    "print(my_public_book.title)\n",
    "print(my_public_book.page)\n",
    "\n"
   ]
  },
  {
   "cell_type": "code",
   "execution_count": 14,
   "metadata": {},
   "outputs": [
    {
     "name": "stdout",
     "output_type": "stream",
     "text": [
      "2\n"
     ]
    }
   ],
   "source": [
    "class Book:\n",
    "    def __init__(self,title,author):\n",
    "        self.title = title\n",
    "        self.author=author\n",
    "        \n",
    "    def __str__(self):\n",
    "        return '{} by {}.'.format(self.title,self.author)\n",
    "        \n",
    "class PersonnelBook(Book): \n",
    "    def __init__(self,title,author,content):\n",
    "        super().__init__(title,author)\n",
    "        self.content = content\n",
    "        \n",
    "class PublicBook(Book): \n",
    "    def __init__(self,title,author,page):\n",
    "        super().__init__(title,author)\n",
    "        self.page = page\n",
    "    \n",
    "class Libaries:\n",
    "    def __init__(self):\n",
    "        self.book = []\n",
    "    def add_book(self,book):\n",
    "        self.book.append(book)\n",
    "    def output_books(self):\n",
    "        return len(self.book)\n",
    "\n",
    "my_personnel_book = PersonnelBook('Jiban Katha','Sakhyamuni','1 Million')\n",
    "my_public_book = PublicBook('Number_Book','Mr. Khan',37)\n",
    "\n",
    "obj_books = Libaries()\n",
    "obj_books.add_book(my_personnel_book)\n",
    "obj_books.add_book(my_public_book)\n",
    "print(obj_books.output_books())\n",
    "\n",
    "\n",
    "\n"
   ]
  },
  {
   "cell_type": "code",
   "execution_count": null,
   "metadata": {},
   "outputs": [],
   "source": [
    "class Book:\n",
    "    def __init__(self,title,author):\n",
    "        self.title = title\n",
    "        self.author=author\n",
    "        \n",
    "    def __str__(self):\n",
    "        return '{} by {}.'.format(self.title,self.author)\n",
    "        \n",
    "class PersonnelBook(Book): \n",
    "    def __init__(self,title,author,content):\n",
    "        super().__init__(title,author)\n",
    "        self.content = content\n",
    "        \n",
    "class PublicBook(Book): \n",
    "    def __init__(self,title,author,page):\n",
    "        super().__init__(title,author)\n",
    "        self.page = page\n",
    "    \n",
    "class Libaries:\n",
    "    def __init__(self):\n",
    "        self.book = []\n",
    "    def add_book(self,book):\n",
    "        self.book.append(book)\n",
    "    def output_books(self):\n",
    "        print('Total books ',len(self.book),' => ',self.book)\n",
    "\n",
    "my_personnel_book = PersonnelBook('Jiban Katha','Sakhyamuni','1 Million')\n",
    "my_public_book = PublicBook('Number_Book','Mr. Khan',37)\n",
    "\n",
    "obj_books = Libaries()\n",
    "obj_books.add_book(my_personnel_book)\n",
    "obj_books.add_book(my_public_book)\n",
    "obj_books.output_books()\n",
    "\n",
    "\n",
    "\n"
   ]
  }
 ],
 "metadata": {
  "kernelspec": {
   "display_name": "Python 3",
   "language": "python",
   "name": "python3"
  },
  "language_info": {
   "codemirror_mode": {
    "name": "ipython",
    "version": 3
   },
   "file_extension": ".py",
   "mimetype": "text/x-python",
   "name": "python",
   "nbconvert_exporter": "python",
   "pygments_lexer": "ipython3",
   "version": "3.8.4"
  }
 },
 "nbformat": 4,
 "nbformat_minor": 4
}
