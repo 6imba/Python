{
 "cells": [
  {
   "cell_type": "code",
   "execution_count": 26,
   "metadata": {},
   "outputs": [
    {
     "ename": "SyntaxError",
     "evalue": "invalid syntax (<ipython-input-26-3c9f3e39a4f8>, line 4)",
     "output_type": "error",
     "traceback": [
      "\u001b[1;36m  File \u001b[1;32m\"<ipython-input-26-3c9f3e39a4f8>\"\u001b[1;36m, line \u001b[1;32m4\u001b[0m\n\u001b[1;33m    return a += 5\u001b[0m\n\u001b[1;37m             ^\u001b[0m\n\u001b[1;31mSyntaxError\u001b[0m\u001b[1;31m:\u001b[0m invalid syntax\n"
     ]
    }
   ],
   "source": [
    "#return doesnt take muliple operator\n",
    "def add():\n",
    "    a=10 \n",
    "    return a += 5\n",
    "\n",
    "print(add())\n",
    "\n",
    "#return doesnt take muliple operator\n",
    "# def add():\n",
    "#     a=10 \n",
    "#     return a = a+5\n",
    "\n",
    "# print(add())\n",
    "\n",
    "# def add():\n",
    "#     a=10\n",
    "#     a += 5\n",
    "#     return a \n",
    "\n",
    "# print(add())\n",
    "\n",
    "#Return value.If the return statement is without any expression, then the special value None is returned.\n",
    "# a=2\n",
    "# b=5\n",
    "# def add():\n",
    "#     pass   \n",
    "# print(add())\n",
    "\n",
    "\n",
    "#Return value.Method  with any expression but without return statement is returns special value None.\n",
    "# a=2\n",
    "# b=5\n",
    "# def add():\n",
    "#     a+b\n",
    "# print(add())\n",
    "\n",
    "\n"
   ]
  },
  {
   "cell_type": "code",
   "execution_count": 7,
   "metadata": {},
   "outputs": [
    {
     "name": "stdout",
     "output_type": "stream",
     "text": [
      "Ram is 21 years old and has 1 knowledge.\n"
     ]
    }
   ],
   "source": [
    "Current_Year = 2020\n",
    "\n",
    "class Student:\n",
    "    def __init__(self,name,year_born):\n",
    "        self.name=name\n",
    "        self.year_born=year_born\n",
    "        self.knowledge = 0\n",
    "    \n",
    "    def getAge(self):\n",
    "        return Current_Year - self.year_born\n",
    "    \n",
    "    def study(self):\n",
    "        self.knowledge += 1\n",
    "        return self.knowledge \n",
    "    \n",
    "    def __str__(self): \n",
    "        return '{} is {} years old and has {} knowledge.'.format( self.name , self.getAge() , self.study())\n",
    "    \n",
    "student_1 = Student('Ram',1999)\n",
    "print(student_1) \n",
    "    \n",
    "    "
   ]
  },
  {
   "cell_type": "code",
   "execution_count": 11,
   "metadata": {},
   "outputs": [
    {
     "name": "stdout",
     "output_type": "stream",
     "text": [
      "Hello I am Object\n",
      "None\n",
      "1\n"
     ]
    }
   ],
   "source": [
    "class Student:\n",
    "    def __init__(self):\n",
    "        self.knowledge = 0\n",
    "    \n",
    "    def __str__(self): \n",
    "        return 'Hello I am Object'\n",
    "    \n",
    "    \n",
    "    def study(self):\n",
    "        self.knowledge += 1 # it returns none but update instant_variable(self.knowledge)\n",
    "        #print('instant_variable(self.knowledge) is updated.')\n",
    "    \n",
    "student_1 = Student()\n",
    "print(student_1) # print object calls str method\n",
    "print(student_1.study())\n",
    "print(student_1.knowledge) # print instant_variable(self.knowledge) after updated\n",
    "\n",
    "    \n",
    "    "
   ]
  }
 ],
 "metadata": {
  "kernelspec": {
   "display_name": "Python 3",
   "language": "python",
   "name": "python3"
  },
  "language_info": {
   "codemirror_mode": {
    "name": "ipython",
    "version": 3
   },
   "file_extension": ".py",
   "mimetype": "text/x-python",
   "name": "python",
   "nbconvert_exporter": "python",
   "pygments_lexer": "ipython3",
   "version": "3.8.4"
  }
 },
 "nbformat": 4,
 "nbformat_minor": 4
}
