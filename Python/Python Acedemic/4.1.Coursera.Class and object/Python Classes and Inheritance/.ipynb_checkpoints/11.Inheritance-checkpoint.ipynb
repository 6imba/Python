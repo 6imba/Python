{
 "cells": [
  {
   "cell_type": "code",
   "execution_count": 1,
   "metadata": {},
   "outputs": [
    {
     "name": "stdout",
     "output_type": "stream",
     "text": [
      "Ram is 21 years old.\n"
     ]
    }
   ],
   "source": [
    "Current_Year = 2020\n",
    "class Person:\n",
    "    def __init__(self,name,year_born):\n",
    "        self.name=name\n",
    "        self.year_born=year_born\n",
    "    \n",
    "    def getAge(self):\n",
    "        return Current_Year - self.year_born\n",
    "    \n",
    "    def __str__(self): \n",
    "        return '{} is {} years old.'.format( self.name , self.getAge() )\n",
    "    \n",
    "person_1 = Person('Ram',1999)\n",
    "print(person_1) \n",
    "    \n",
    "    \n",
    "    \n"
   ]
  },
  {
   "cell_type": "code",
   "execution_count": 7,
   "metadata": {},
   "outputs": [
    {
     "name": "stdout",
     "output_type": "stream",
     "text": [
      "Ram is 21 years old and has 1 knowledge.\n",
      "Ram is 21 years old and has 3 knowledge.\n"
     ]
    }
   ],
   "source": [
    "# Now, suppose that I wanted to define a new class to represent a student, and what I want a student class to have is everything\n",
    "# that a person has, plus one more thing. So I want students to have this notion of knowledge. So what I'm going to do, is I'm \n",
    "# going to start by just copying and pasting my person class. So I can this, and then let's suppose that I want to have another\n",
    "# instance variable, named knowledge, which I'll start out as 0.\n",
    "\n",
    "Current_Year = 2020\n",
    "\n",
    "class Student:\n",
    "    def __init__(self,name,year_born):\n",
    "        self.name=name\n",
    "        self.year_born=year_born\n",
    "        self.knowledge = 0\n",
    "    \n",
    "    def getAge(self):\n",
    "        return Current_Year - self.year_born\n",
    "    \n",
    "    def study(self):\n",
    "        self.knowledge += 1\n",
    "        return self.knowledge \n",
    "    \n",
    "    def __str__(self): \n",
    "        return '{} is {} years old and has {} knowledge.'.format( self.name , self.getAge() , self.study())\n",
    "    \n",
    "student_1 = Student('Ram',1999)\n",
    "print(student_1) \n",
    "student_1.study()  \n",
    "print(student_1) \n",
    "    \n"
   ]
  },
  {
   "cell_type": "code",
   "execution_count": 23,
   "metadata": {},
   "outputs": [
    {
     "name": "stdout",
     "output_type": "stream",
     "text": [
      "Ram is 21 years old.\n",
      "0\n",
      "1\n"
     ]
    }
   ],
   "source": [
    "Current_Year = 2020\n",
    "\n",
    "class Person: # parent_class\n",
    "    def __init__(self,name,year_born):\n",
    "        self.name=name\n",
    "        self.year_born=year_born\n",
    "    \n",
    "    def getAge(self):\n",
    "        return Current_Year - self.year_born\n",
    "    \n",
    "    def __str__(self): \n",
    "        return '{} is {} years old.'.format( self.name , self.getAge() )\n",
    "\n",
    "class Student(Person): # child_class\n",
    "    def __init__(self,naam,DOB):  # child_class(Student)'s constructor\n",
    "        Person.__init__(self,naam,DOB)  # calling parents_class(Person)'s constructor and initializing child constructor_variable(naam,DOB)\n",
    "        self.knowledge = 0\n",
    "    \n",
    "    def study(self):\n",
    "        self.knowledge += 1\n",
    " \n",
    "    \n",
    "student_1 = Student('Ram',1999)\n",
    "print(student_1)# Inorder to print object of child_class(Student) it inherits __str__ method of parents_class(Person)\n",
    "print(student_1.knowledge)\n",
    "student_1.study()\n",
    "print(student_1.knowledge)"
   ]
  },
  {
   "cell_type": "code",
   "execution_count": 25,
   "metadata": {},
   "outputs": [],
   "source": [
    "#initializing constructor in inheritance\n",
    "\n",
    "# class Person: \n",
    "#     def __init__(self,name,year_born):\n",
    "#         self.name=name\n",
    "#         self.year_born=year_born\n",
    "\n",
    "# class Student(Person):\n",
    "#     def __init__(self,naam,DOB):  # initialize child_class(Student)'s constructor\n",
    "#         Person.__init__(self,naam,DOB) # reference to parents_class(Person)'s constructor and initialize child_class(Student)'s constructor\n",
    "        \n",
    "#         # reuse of code of parent constructor\n",
    "\n",
    "# # def __init__(self,naam,DOB): ==>  Person.__init__(self,naam,DOB) ==> class Person: def __init__(self,name,year_born):\n",
    "# # Student_obj.naam ==> Person_reference.naam ==> Person_reference.name\n",
    "# # Student_obj.DOB ==> Person_reference.DOB ==> Person_reference.year_born\n"
   ]
  },
  {
   "cell_type": "code",
   "execution_count": 34,
   "metadata": {},
   "outputs": [
    {
     "name": "stdout",
     "output_type": "stream",
     "text": [
      "Ram is 21 years old.\n",
      "0\n",
      "1\n",
      "21\n",
      "Ram\n"
     ]
    }
   ],
   "source": [
    "Current_Year = 2020\n",
    "\n",
    "class Person: # parent_class\n",
    "    def __init__(self,name,year_born):\n",
    "        self.name=name\n",
    "        self.year_born=year_born\n",
    "    \n",
    "    def getAge(self):\n",
    "        return Current_Year - self.year_born\n",
    "    \n",
    "    def __str__(self): \n",
    "        return '{} is {} years old.'.format( self.name , self.getAge() )\n",
    "\n",
    "class Student(Person): # child_class\n",
    "    def __init__(self,naam,DOB):  # child_class(Student)'s constructor\n",
    "        Person.__init__(self,naam,DOB)  # calling parents_class(Person)'s constructor and initializing child constructor_variable(naam,DOB)\n",
    "        self.knowledge = 0\n",
    "    \n",
    "    def study(self):\n",
    "        self.knowledge += 1\n",
    " \n",
    "    \n",
    "student_1 = Student('Ram',1999)\n",
    "print(student_1)# Inorder to print object of child_class(Student) it inherits __str__ method of parents_class(Person)\n",
    "\n",
    "print(student_1.knowledge)\n",
    "\n",
    "student_1.study()\n",
    "print(student_1.knowledge)\n",
    "\n",
    "print(student_1.getAge())\n",
    "\n",
    "print(student_1.name)\n",
    "# print(student_1.naam) error as child_constructor has instanciated parent_constructor instant_variable as its instant_variable\n",
    "# Student_obj.naam ==> Person_reference.naam ==> Person_reference.name"
   ]
  },
  {
   "cell_type": "code",
   "execution_count": null,
   "metadata": {},
   "outputs": [],
   "source": []
  }
 ],
 "metadata": {
  "kernelspec": {
   "display_name": "Python 3",
   "language": "python",
   "name": "python3"
  },
  "language_info": {
   "codemirror_mode": {
    "name": "ipython",
    "version": 3
   },
   "file_extension": ".py",
   "mimetype": "text/x-python",
   "name": "python",
   "nbconvert_exporter": "python",
   "pygments_lexer": "ipython3",
   "version": "3.8.4"
  }
 },
 "nbformat": 4,
 "nbformat_minor": 4
}
