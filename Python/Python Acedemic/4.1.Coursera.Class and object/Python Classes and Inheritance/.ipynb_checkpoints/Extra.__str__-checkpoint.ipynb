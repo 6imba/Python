{
 "cells": [
  {
   "cell_type": "code",
   "execution_count": 6,
   "metadata": {},
   "outputs": [
    {
     "name": "stdout",
     "output_type": "stream",
     "text": [
      "Ram is 22 years old.\n"
     ]
    }
   ],
   "source": [
    "class Person:\n",
    "    def __init__(self,name,year_born):\n",
    "        self.name=name\n",
    "        self.year_born=year_born\n",
    "    \n",
    "    def __str__(self): \n",
    "        return '{} is {} years old.'.format( self.name , self.year_born )\n",
    "    \n",
    "person_1 = Person('Ram',22)\n",
    "print(person_1) # when ever we print object it automatically calls str method"
   ]
  },
  {
   "cell_type": "code",
   "execution_count": 10,
   "metadata": {},
   "outputs": [
    {
     "name": "stdout",
     "output_type": "stream",
     "text": [
      "Ram is 21 years old.\n"
     ]
    }
   ],
   "source": [
    "Current_Year = 2020\n",
    "class Person:\n",
    "    def __init__(self,name,year_born):\n",
    "        self.name=name\n",
    "        self.year_born=year_born\n",
    "    \n",
    "    def getAge(self):\n",
    "        return Current_Year - self.year_born\n",
    "    \n",
    "    def __str__(self): \n",
    "        return '{} is {} years old.'.format( self.name , self.getAge() )\n",
    "    \n",
    "person_1 = Person('Ram',1999)\n",
    "print(person_1) # when ever we print object it calls str method \n",
    "    \n",
    "    \n",
    "    \n"
   ]
  },
  {
   "cell_type": "code",
   "execution_count": 13,
   "metadata": {},
   "outputs": [
    {
     "ename": "IndentationError",
     "evalue": "unexpected indent (<ipython-input-13-f40f53b9aedb>, line 2)",
     "output_type": "error",
     "traceback": [
      "\u001b[1;36m  File \u001b[1;32m\"<ipython-input-13-f40f53b9aedb>\"\u001b[1;36m, line \u001b[1;32m2\u001b[0m\n\u001b[1;33m    def __init__(self,a,b):\u001b[0m\n\u001b[1;37m    ^\u001b[0m\n\u001b[1;31mIndentationError\u001b[0m\u001b[1;31m:\u001b[0m unexpected indent\n"
     ]
    }
   ],
   "source": [
    "# class Parent:\n",
    "    def __init__(self,a,b):\n",
    "        self.a=a\n",
    "        self.b=b\n",
    "        \n",
    "# class Child:\n",
    "    \n",
    "# # Child(Parent) => inherit methods and property of Parent only\n",
    "# # Parent.__init__(self,a,b) => inherit constructor of Parent only\n",
    "# # super().__init__(a,b) => inherit both methods_property and constructor of Parent "
   ]
  },
  {
   "cell_type": "code",
   "execution_count": 46,
   "metadata": {},
   "outputs": [
    {
     "name": "stdout",
     "output_type": "stream",
     "text": [
      "Country ==>  Nepal  Zone ==>  14\n",
      "27  years old  Hari  has  Black  hair.\n",
      "Name ==>  Hari  is  27  years old has  Black  hair color and lives in   Nepal  Zone  14\n"
     ]
    }
   ],
   "source": [
    "class Person(): # Parent Class\n",
    "    def __init__(self,Name,Age,Color):\n",
    "        self.NAME = Name\n",
    "        self.AGE = Age\n",
    "        self.COLOR = Color\n",
    "        \n",
    "    def info1(self):\n",
    "        print(self.AGE,' years old ',self.NAME,' has ',self.COLOR,' hair.')\n",
    "\n",
    "class Student(Person): # Child Class\n",
    "    def __init__(self,name,age,color,country,zone):\n",
    "        super().__init__(name,age,color)\n",
    "        self.desh = country\n",
    "        self.anchal = zone\n",
    "    \n",
    "    def info2(self):\n",
    "        print('Country ==> ',self.desh,' Zone ==> ',self.anchal)\n",
    "    \n",
    "    def final_info(self):\n",
    "        print('Name ==> ',self.NAME,' is ',self.AGE,' years old has ',self.COLOR,' hair color and lives in  ',self.desh,' Zone ',self.anchal)\n",
    "    \n",
    "obj1=Student('Hari','27','Black','Nepal',14)\n",
    "obj1.info2()\n",
    "obj1.info1()\n",
    "obj1.final_info()\n"
   ]
  }
 ],
 "metadata": {
  "kernelspec": {
   "display_name": "Python 3",
   "language": "python",
   "name": "python3"
  },
  "language_info": {
   "codemirror_mode": {
    "name": "ipython",
    "version": 3
   },
   "file_extension": ".py",
   "mimetype": "text/x-python",
   "name": "python",
   "nbconvert_exporter": "python",
   "pygments_lexer": "ipython3",
   "version": "3.8.4"
  }
 },
 "nbformat": 4,
 "nbformat_minor": 4
}
