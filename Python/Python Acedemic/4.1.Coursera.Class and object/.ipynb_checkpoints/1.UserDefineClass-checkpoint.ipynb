{
 "cells": [
  {
   "cell_type": "code",
   "execution_count": 1,
   "metadata": {},
   "outputs": [
    {
     "name": "stdout",
     "output_type": "stream",
     "text": [
      "<__main__.Point object at 0x053A8940>\n",
      "<__main__.Point object at 0x053A8E68>\n",
      "False\n"
     ]
    },
    {
     "data": {
      "text/plain": [
       "False"
      ]
     },
     "execution_count": 1,
     "metadata": {},
     "output_type": "execute_result"
    }
   ],
   "source": [
    "class Point():\n",
    "    pass\n",
    "\n",
    "point1 = Point() # Instantiate an object of class Point\n",
    "point2 = Point() # Instantiate another object of class Point\n",
    "\n",
    "print(point1)\n",
    "print(point2)\n",
    "\n",
    "print(point1==point2)\n",
    "point1 is point2"
   ]
  },
  {
   "cell_type": "code",
   "execution_count": 6,
   "metadata": {},
   "outputs": [
    {
     "name": "stdout",
     "output_type": "stream",
     "text": [
      "5\n",
      "10\n"
     ]
    }
   ],
   "source": [
    "class PointA():\n",
    "    pass\n",
    "\n",
    "point1 = PointA()\n",
    "point2 = PointA()\n",
    "\n",
    "point1.x=5\n",
    "point2.x=10\n",
    "\n",
    "print(point1.x)\n",
    "print(point2.x)\n"
   ]
  },
  {
   "cell_type": "code",
   "execution_count": 8,
   "metadata": {},
   "outputs": [
    {
     "name": "stdout",
     "output_type": "stream",
     "text": [
      "5\n",
      "10\n"
     ]
    }
   ],
   "source": [
    "class PointB():\n",
    "    def get_X(self): #self reference to the instant object(point1 or point2) to the \n",
    "        return self.x # return point1.x or point2.x\n",
    "\n",
    "point1 = PointB() # Instantiate an object of class Point\n",
    "point2 = PointB() # Instantiate an object of class Point\n",
    "\n",
    "point1.x=5\n",
    "point2.x=10\n",
    "\n",
    "print(point1.get_X())\n",
    "print(point2.get_X())\n"
   ]
  },
  {
   "cell_type": "code",
   "execution_count": 12,
   "metadata": {},
   "outputs": [
    {
     "name": "stdout",
     "output_type": "stream",
     "text": [
      "Nothing seems to have happened with the points\n"
     ]
    }
   ],
   "source": [
    "class Point:\n",
    "    \"\"\" Point class for representing and manipulating x,y coordinates. \"\"\"\n",
    "\n",
    "    def __init__(self):\n",
    "\n",
    "        self.x = 0\n",
    "        self.y = 0\n",
    "\n",
    "p = Point()         # Instantiate an object of type Point\n",
    "q = Point()         # and make a second point\n",
    "\n",
    "print(\"Nothing seems to have happened with the points\")\n"
   ]
  },
  {
   "cell_type": "code",
   "execution_count": 15,
   "metadata": {},
   "outputs": [
    {
     "name": "stdout",
     "output_type": "stream",
     "text": [
      "Nothing seems to have happened with the points\n",
      "0 0\n",
      "0 0\n"
     ]
    }
   ],
   "source": [
    "class Point:\n",
    "    \"\"\" Point class for representing and manipulating x,y coordinates. \"\"\"\n",
    "\n",
    "    def __init__(self):\n",
    "\n",
    "        self.x = 0 # self.x ==> p.x or q.x\n",
    "        self.y = 0 # self.x ==> p.y or q.y\n",
    "\n",
    "p = Point()         # Instantiate an object of type Point\n",
    "q = Point()         # and make a second point\n",
    "\n",
    "print(\"Nothing seems to have happened with the points\")\n",
    "print(p.x,p.y)\n",
    "print(q.x,q.y)"
   ]
  },
  {
   "cell_type": "code",
   "execution_count": 16,
   "metadata": {},
   "outputs": [
    {
     "name": "stdout",
     "output_type": "stream",
     "text": [
      "<__main__.Point object at 0x053B4C58>\n",
      "<__main__.Point object at 0x053B4B38>\n",
      "False\n"
     ]
    }
   ],
   "source": [
    "class Point:\n",
    "    \"\"\" Point class for representing and manipulating x,y coordinates. \"\"\"\n",
    "\n",
    "    def __init__(self): # constructor\n",
    "\n",
    "        self.x = 0\n",
    "        self.y = 0\n",
    "\n",
    "p = Point()         # Instantiate an object of type Point\n",
    "q = Point()         # and make a second point\n",
    "\n",
    "print(p)\n",
    "print(q)\n",
    "\n",
    "print(p is q) # p and q are difference instance_object of class Point\n",
    "\n",
    "# A function like Point that creates a new object instance is called a constructor.\n",
    "# Every class automatically uses the name of the class as the name of the constructor function.\n",
    "# The definition of the constructor function is done when you write the __init__ function (method) inside the class definition.\n",
    "\n",
    "# It may be helpful to think of a class as a factory for making objects. \n",
    "# The class itself isn’t an instance of a point, but it contains the machinery to make point instances. \n",
    "# Every time you call the constructor, you’re asking the factory to make you a new object. \n",
    "# As the object comes off the production line, its initialization method is executed to get the object properly set up with it’s factory default settings.\n",
    "# The combined process of “make me a new object” and “get its settings initialized to the factory default settings” is called instantiation.\n"
   ]
  },
  {
   "cell_type": "code",
   "execution_count": 17,
   "metadata": {},
   "outputs": [],
   "source": [
    "#Question:\n",
    "# Create a class called NumberSet that accepts 2 integers as input, and defines two instance variables: num1 and num2, \n",
    "# which hold each of the input integers. Then, create an instance of NumberSet where its num1 is 6 and its num2 is 10. \n",
    "# Save this instance to a variable t.\n",
    "\n",
    "\n",
    "class NumberSet:\n",
    "    def __init__(self,num1,num2):\n",
    "        self.num1 = num1\n",
    "        self.num2 = num2\n",
    "      \n",
    "t = NumberSet(6,10)\n",
    "\n",
    "# self.num1 => t.num1 \n",
    "# self.num2 => t.num2 \n",
    "# self.num1 self.num1 ==> attribute"
   ]
  }
 ],
 "metadata": {
  "kernelspec": {
   "display_name": "Python 3",
   "language": "python",
   "name": "python3"
  },
  "language_info": {
   "codemirror_mode": {
    "name": "ipython",
    "version": 3
   },
   "file_extension": ".py",
   "mimetype": "text/x-python",
   "name": "python",
   "nbconvert_exporter": "python",
   "pygments_lexer": "ipython3",
   "version": "3.8.4"
  }
 },
 "nbformat": 4,
 "nbformat_minor": 4
}
