{
 "cells": [
  {
   "cell_type": "code",
   "execution_count": 11,
   "metadata": {},
   "outputs": [
    {
     "name": "stdout",
     "output_type": "stream",
     "text": [
      "<zip object at 0x0540ED88>\n",
      "[(172, 'Amir', 'a.com'), (201, 'Ram', 'r.com'), (387, 'Bipin', 'b.com'), (114, 'Suraj', 's.com')]\n"
     ]
    }
   ],
   "source": [
    "ids = [172,201,387,114]\n",
    "name = ['Amir','Ram','Bipin','Suraj']\n",
    "email = ['a.com','r.com','b.com','s.com']\n",
    "person_info = zip(ids,name,email)\n",
    "print(person_info)\n",
    "print(list(person_info))\n",
    "# print(tuple(person_info))\n",
    "\n",
    "# The zip() function returns a zip object, which is an iterator of tuples where the first item in each passed iterator is paired together, and then the second item in each passed iterator are paired together etc.\n",
    "# zip(iterator1, iterator2, iterator3 ...)\n",
    "# Iterator objects that will be joined together"
   ]
  },
  {
   "cell_type": "code",
   "execution_count": 16,
   "metadata": {},
   "outputs": [
    {
     "name": "stdout",
     "output_type": "stream",
     "text": [
      "[(172, 'Amir', 'a.com'), (201, 'Ram', 'r.com'), (387, 'Bipin', 'b.com'), (114, 'Suraj', 's.com')]\n",
      "(172, 'Amir', 'a.com')\n",
      "(201, 'Ram', 'r.com')\n",
      "(387, 'Bipin', 'b.com')\n",
      "(114, 'Suraj', 's.com')\n"
     ]
    }
   ],
   "source": [
    "ids = [172,201,387,114]\n",
    "name = ['Amir','Ram','Bipin','Suraj']\n",
    "email = ['a.com','r.com','b.com','s.com']\n",
    "person_info = list(zip(ids,name,email))\n",
    "print(person_info)\n",
    "\n",
    "for person_tuple in person_info:\n",
    "    print(person_tuple)"
   ]
  },
  {
   "cell_type": "code",
   "execution_count": 18,
   "metadata": {},
   "outputs": [
    {
     "name": "stdout",
     "output_type": "stream",
     "text": [
      "[(172, 'Amir', 'a.com'), (201, 'Ram', 'r.com'), (387, 'Bipin', 'b.com'), (114, 'Suraj', 's.com')]\n",
      "172 Amir a.com\n",
      "201 Ram r.com\n",
      "387 Bipin b.com\n",
      "114 Suraj s.com\n"
     ]
    }
   ],
   "source": [
    "ids = [172,201,387,114]\n",
    "name = ['Amir','Ram','Bipin','Suraj']\n",
    "email = ['a.com','r.com','b.com','s.com']\n",
    "person_info = list(zip(ids,name,email))\n",
    "print(person_info)\n",
    "\n",
    "for person_tuple in person_info:\n",
    "    ID,Name,Email = person_tuple\n",
    "    print(ID,Name,Email)"
   ]
  },
  {
   "cell_type": "code",
   "execution_count": 20,
   "metadata": {},
   "outputs": [
    {
     "name": "stdout",
     "output_type": "stream",
     "text": [
      "[(172, 'Amir', 'a.com'), (201, 'Ram', 'r.com'), (387, 'Bipin', 'b.com'), (114, 'Suraj', 's.com')]\n"
     ]
    },
    {
     "ename": "TypeError",
     "evalue": "__init__() should return None, not 'tuple'",
     "output_type": "error",
     "traceback": [
      "\u001b[1;31m---------------------------------------------------------------------------\u001b[0m",
      "\u001b[1;31mTypeError\u001b[0m                                 Traceback (most recent call last)",
      "\u001b[1;32m<ipython-input-20-b290f537d575>\u001b[0m in \u001b[0;36m<module>\u001b[1;34m\u001b[0m\n\u001b[0;32m     14\u001b[0m \u001b[1;32mfor\u001b[0m \u001b[0mperson_tuple\u001b[0m \u001b[1;32min\u001b[0m \u001b[0mperson_info\u001b[0m\u001b[1;33m:\u001b[0m\u001b[1;33m\u001b[0m\u001b[1;33m\u001b[0m\u001b[0m\n\u001b[0;32m     15\u001b[0m     \u001b[0mID\u001b[0m\u001b[1;33m,\u001b[0m\u001b[0mName\u001b[0m\u001b[1;33m,\u001b[0m\u001b[0mEmail\u001b[0m \u001b[1;33m=\u001b[0m \u001b[0mperson_tuple\u001b[0m\u001b[1;33m\u001b[0m\u001b[1;33m\u001b[0m\u001b[0m\n\u001b[1;32m---> 16\u001b[1;33m     \u001b[0mperson1obj\u001b[0m \u001b[1;33m=\u001b[0m \u001b[0mPerson\u001b[0m\u001b[1;33m(\u001b[0m\u001b[0mID\u001b[0m\u001b[1;33m,\u001b[0m\u001b[0mName\u001b[0m\u001b[1;33m,\u001b[0m\u001b[0mEmail\u001b[0m\u001b[1;33m)\u001b[0m\u001b[1;33m\u001b[0m\u001b[1;33m\u001b[0m\u001b[0m\n\u001b[0m",
      "\u001b[1;31mTypeError\u001b[0m: __init__() should return None, not 'tuple'"
     ]
    }
   ],
   "source": [
    "ids = [172,201,387,114]\n",
    "name = ['Amir','Ram','Bipin','Suraj']\n",
    "email = ['a.com','r.com','b.com','s.com']\n",
    "person_info = list(zip(ids,name,email))\n",
    "print(person_info)\n",
    "\n",
    "class Person:\n",
    "    def __init__(self,id1,name1,email1):\n",
    "        self.id2 = id1\n",
    "        self.name1 = name1\n",
    "        self.email1 = email1\n",
    "        return (self.id2,',', self.name1,',', self.email1) # concstructor never return any value\n",
    "\n",
    "for person_tuple in person_info:\n",
    "    ID,Name,Email = person_tuple\n",
    "    person1obj = Person(ID,Name,Email)"
   ]
  },
  {
   "cell_type": "code",
   "execution_count": 23,
   "metadata": {},
   "outputs": [
    {
     "name": "stdout",
     "output_type": "stream",
     "text": [
      "[(172, 'Amir', 'a.com'), (201, 'Ram', 'r.com'), (387, 'Bipin', 'b.com'), (114, 'Suraj', 's.com')]\n"
     ]
    },
    {
     "ename": "TypeError",
     "evalue": "__str__ returned non-string (type tuple)",
     "output_type": "error",
     "traceback": [
      "\u001b[1;31m---------------------------------------------------------------------------\u001b[0m",
      "\u001b[1;31mTypeError\u001b[0m                                 Traceback (most recent call last)",
      "\u001b[1;32m<ipython-input-23-77ff1ae53baa>\u001b[0m in \u001b[0;36m<module>\u001b[1;34m\u001b[0m\n\u001b[0;32m     17\u001b[0m     \u001b[0mID\u001b[0m\u001b[1;33m,\u001b[0m\u001b[0mName\u001b[0m\u001b[1;33m,\u001b[0m\u001b[0mEmail\u001b[0m \u001b[1;33m=\u001b[0m \u001b[0mperson_tuple\u001b[0m\u001b[1;33m\u001b[0m\u001b[1;33m\u001b[0m\u001b[0m\n\u001b[0;32m     18\u001b[0m     \u001b[0mperson1obj\u001b[0m \u001b[1;33m=\u001b[0m \u001b[0mPerson\u001b[0m\u001b[1;33m(\u001b[0m\u001b[0mID\u001b[0m\u001b[1;33m,\u001b[0m\u001b[0mName\u001b[0m\u001b[1;33m,\u001b[0m\u001b[0mEmail\u001b[0m\u001b[1;33m)\u001b[0m\u001b[1;33m\u001b[0m\u001b[1;33m\u001b[0m\u001b[0m\n\u001b[1;32m---> 19\u001b[1;33m     \u001b[0mprint\u001b[0m\u001b[1;33m(\u001b[0m\u001b[0mperson1obj\u001b[0m\u001b[1;33m)\u001b[0m\u001b[1;33m\u001b[0m\u001b[1;33m\u001b[0m\u001b[0m\n\u001b[0m",
      "\u001b[1;31mTypeError\u001b[0m: __str__ returned non-string (type tuple)"
     ]
    }
   ],
   "source": [
    "ids = [172,201,387,114]\n",
    "name = ['Amir','Ram','Bipin','Suraj']\n",
    "email = ['a.com','r.com','b.com','s.com']\n",
    "person_info = list(zip(ids,name,email))\n",
    "print(person_info)\n",
    "\n",
    "class Person:\n",
    "    def __init__(self,id1,name1,email1):\n",
    "        self.id2 = id1\n",
    "        self.name1 = name1\n",
    "        self.email1 = email1\n",
    "       \n",
    "    def __str__(self):\n",
    "        return (self.id2,',', self.name1,',', self.email1) # __str__ only returns string\n",
    "\n",
    "for person_tuple in person_info:\n",
    "    ID,Name,Email = person_tuple\n",
    "    person1obj = Person(ID,Name,Email)\n",
    "    print(person1obj)"
   ]
  },
  {
   "cell_type": "code",
   "execution_count": 30,
   "metadata": {},
   "outputs": [
    {
     "name": "stdout",
     "output_type": "stream",
     "text": [
      "[(172, 'Amir', 'a.com'), (201, 'Ram', 'r.com'), (387, 'Bipin', 'b.com'), (114, 'Suraj', 's.com')]\n",
      "172 , Amir , email:a.com\n",
      "201 , Ram , email:r.com\n",
      "387 , Bipin , email:b.com\n",
      "114 , Suraj , email:s.com\n"
     ]
    }
   ],
   "source": [
    "ids = [172,201,387,114]\n",
    "name = ['Amir','Ram','Bipin','Suraj']\n",
    "email = ['a.com','r.com','b.com','s.com']\n",
    "person_info = list(zip(ids,name,email))\n",
    "print(person_info)\n",
    "\n",
    "class Person:\n",
    "    def __init__(self,id1,name1,email1):\n",
    "        self.id2 = id1\n",
    "        self.name1 = name1\n",
    "        self.email1 = email1\n",
    "       \n",
    "    def __str__(self):\n",
    "        return '{} , {} , email:{}'.format(self.id2, self.name1, self.email1)\n",
    "\n",
    "for person_tuple in person_info:\n",
    "    ID,Name,Email = person_tuple\n",
    "    person1obj = Person(ID,Name,Email)\n",
    "    print(person1obj)"
   ]
  },
  {
   "cell_type": "code",
   "execution_count": 33,
   "metadata": {},
   "outputs": [
    {
     "name": "stdout",
     "output_type": "stream",
     "text": [
      "[(172, 'Amir', 'a.com'), (201, 'Ram', 'r.com'), (387, 'Bipin', 'b.com'), (114, 'Suraj', 's.com')]\n",
      "[<__main__.Person object at 0x0471E370>, <__main__.Person object at 0x0471E0D0>, <__main__.Person object at 0x0471E160>, <__main__.Person object at 0x0471E2B0>]\n"
     ]
    }
   ],
   "source": [
    "ids = [172,201,387,114]\n",
    "name = ['Amir','Ram','Bipin','Suraj']\n",
    "email = ['a.com','r.com','b.com','s.com']\n",
    "person_info = list(zip(ids,name,email))\n",
    "print(person_info)\n",
    "\n",
    "class Person:\n",
    "    def __init__(self,id1,name1,email1):\n",
    "        self.id2 = id1\n",
    "        self.name1 = name1\n",
    "        self.email1 = email1\n",
    "       \n",
    "    def __str__(self):\n",
    "        return '{} , {} , email:{}'.format(self.id2, self.name1, self.email1)\n",
    "Manxe = []\n",
    "for person_tuple in person_info:\n",
    "    ID,Name,Email = person_tuple\n",
    "    person1obj = Person(ID,Name,Email)\n",
    "    Manxe.append(person1obj)\n",
    "print(Manxe)"
   ]
  },
  {
   "cell_type": "code",
   "execution_count": 40,
   "metadata": {},
   "outputs": [
    {
     "name": "stdout",
     "output_type": "stream",
     "text": [
      "[(172, 'Amir', 'a.com'), (201, 'Ram', 'r.com'), (387, 'Bipin', 'b.com'), (114, 'Suraj', 's.com')]\n",
      "[<__main__.Person object at 0x051B89B8>, <__main__.Person object at 0x0471E400>, <__main__.Person object at 0x0471E5B0>, <__main__.Person object at 0x0471E5F8>]\n"
     ]
    }
   ],
   "source": [
    "ids = [172,201,387,114]\n",
    "name = ['Amir','Ram','Bipin','Suraj']\n",
    "email = ['a.com','r.com','b.com','s.com']\n",
    "person_info = list(zip(ids,name,email))\n",
    "print(person_info)\n",
    "\n",
    "class Person:\n",
    "    def __init__(self,id1,name1,email1):\n",
    "        self.id2 = id1\n",
    "        self.name1 = name1\n",
    "        self.email1 = email1\n",
    "       \n",
    "    def __str__(self):\n",
    "        return '{} , {} , email:{}'.format(self.id2, self.name1, self.email1)\n",
    "    \n",
    "Manxe = [Person(ID,Name,Email) for (ID,Name,Email) in  person_info] # List Comprehensive\n",
    "print(Manxe)"
   ]
  },
  {
   "cell_type": "code",
   "execution_count": 42,
   "metadata": {},
   "outputs": [
    {
     "name": "stdout",
     "output_type": "stream",
     "text": [
      "[(172, 'Amir', 'a.com'), (201, 'Ram', 'r.com'), (387, 'Bipin', 'b.com'), (114, 'Suraj', 's.com')]\n",
      "[<__main__.Person object at 0x051B8538>, <__main__.Person object at 0x0471E5B0>, <__main__.Person object at 0x0471E370>, <__main__.Person object at 0x0471E220>]\n"
     ]
    }
   ],
   "source": [
    "ids = [172,201,387,114]\n",
    "name = ['Amir','Ram','Bipin','Suraj']\n",
    "email = ['a.com','r.com','b.com','s.com']\n",
    "person_info = list(zip(ids,name,email))\n",
    "print(person_info)\n",
    "\n",
    "class Person:\n",
    "    def __init__(self,id1,name1,email1):\n",
    "        self.id2 = id1\n",
    "        self.name1 = name1\n",
    "        self.email1 = email1\n",
    "       \n",
    "    def __str__(self):\n",
    "        return '{} , {} , email:{}'.format(self.id2, self.name1, self.email1)\n",
    "    \n",
    "Manxe = [Person(*t) for t in  person_info] # List Comprehensive with tuple\n",
    "print(Manxe)"
   ]
  }
 ],
 "metadata": {
  "kernelspec": {
   "display_name": "Python 3",
   "language": "python",
   "name": "python3"
  },
  "language_info": {
   "codemirror_mode": {
    "name": "ipython",
    "version": 3
   },
   "file_extension": ".py",
   "mimetype": "text/x-python",
   "name": "python",
   "nbconvert_exporter": "python",
   "pygments_lexer": "ipython3",
   "version": "3.8.4"
  }
 },
 "nbformat": 4,
 "nbformat_minor": 4
}
