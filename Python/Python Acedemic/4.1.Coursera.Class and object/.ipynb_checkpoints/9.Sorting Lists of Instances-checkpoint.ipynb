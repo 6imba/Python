{
 "cells": [
  {
   "cell_type": "code",
   "execution_count": 10,
   "metadata": {},
   "outputs": [
    {
     "name": "stdout",
     "output_type": "stream",
     "text": [
      "<__main__.Fruits object at 0x04F25928>\n",
      "<__main__.Fruits object at 0x04F25160>\n",
      "<__main__.Fruits object at 0x04F25850>\n"
     ]
    }
   ],
   "source": [
    "class Fruits:\n",
    "    def __init__(self,fruit_name,price): # constructor/instancating object\n",
    "        self.fruit_name=fruit_name\n",
    "        self.price=price\n",
    "\n",
    "\n",
    "fruit1 = Fruits('Apple',120)\n",
    "fruit2 = Fruits('Banana',350)\n",
    "fruit3 = Fruits('Coconot',245)\n",
    "        \n",
    "list_of_fruits = [fruit1,fruit2,fruit3]\n",
    "\n",
    "for fruit in list_of_fruits:\n",
    "    print(fruit)\n"
   ]
  },
  {
   "cell_type": "code",
   "execution_count": 13,
   "metadata": {},
   "outputs": [
    {
     "name": "stdout",
     "output_type": "stream",
     "text": [
      "Apple\n",
      "Banana\n",
      "Coconot\n"
     ]
    }
   ],
   "source": [
    "class Fruits:\n",
    "    def __init__(self,fruit_name,price): # constructor/instancating object\n",
    "        self.fruit_name=fruit_name\n",
    "        self.price=price\n",
    "\n",
    "\n",
    "fruit1 = Fruits('Apple',120)\n",
    "fruit2 = Fruits('Banana',350)\n",
    "fruit3 = Fruits('Coconot',245)\n",
    "        \n",
    "list_of_fruits = [fruit1,fruit2,fruit3]\n",
    "\n",
    "for fruit in list_of_fruits:\n",
    "    print(fruit.fruit_name)\n",
    "    "
   ]
  },
  {
   "cell_type": "code",
   "execution_count": 18,
   "metadata": {},
   "outputs": [
    {
     "ename": "TypeError",
     "evalue": "'<' not supported between instances of 'Fruits' and 'Fruits'",
     "output_type": "error",
     "traceback": [
      "\u001b[1;31m---------------------------------------------------------------------------\u001b[0m",
      "\u001b[1;31mTypeError\u001b[0m                                 Traceback (most recent call last)",
      "\u001b[1;32m<ipython-input-18-30adb2d7bfb9>\u001b[0m in \u001b[0;36m<module>\u001b[1;34m\u001b[0m\n\u001b[0;32m     12\u001b[0m \u001b[1;33m\u001b[0m\u001b[0m\n\u001b[0;32m     13\u001b[0m \u001b[1;32mfor\u001b[0m \u001b[0mfruit\u001b[0m \u001b[1;32min\u001b[0m \u001b[0mlist_of_fruits\u001b[0m\u001b[1;33m:\u001b[0m\u001b[1;33m\u001b[0m\u001b[1;33m\u001b[0m\u001b[0m\n\u001b[1;32m---> 14\u001b[1;33m     \u001b[0mprint\u001b[0m\u001b[1;33m(\u001b[0m\u001b[0msorted\u001b[0m\u001b[1;33m(\u001b[0m\u001b[0mlist_of_fruits\u001b[0m\u001b[1;33m)\u001b[0m\u001b[1;33m)\u001b[0m\u001b[1;33m\u001b[0m\u001b[1;33m\u001b[0m\u001b[0m\n\u001b[0m\u001b[0;32m     15\u001b[0m \u001b[1;33m\u001b[0m\u001b[0m\n\u001b[0;32m     16\u001b[0m \u001b[1;31m# Welcome back. So given a list of instances it's often useful to be able to sort them by some index. So for example, suppose\u001b[0m\u001b[1;33m\u001b[0m\u001b[1;33m\u001b[0m\u001b[1;33m\u001b[0m\u001b[0m\n",
      "\u001b[1;31mTypeError\u001b[0m: '<' not supported between instances of 'Fruits' and 'Fruits'"
     ]
    }
   ],
   "source": [
    "class Fruits:\n",
    "    def __init__(self,fruit_name,price): # constructor/instancating object\n",
    "        self.fruit_name=fruit_name\n",
    "        self.price=price\n",
    "\n",
    "\n",
    "fruit1 = Fruits('Apple',120)\n",
    "fruit2 = Fruits('Banana',350)\n",
    "fruit3 = Fruits('Coconot',245)\n",
    "        \n",
    "list_of_fruits = [fruit1,fruit2,fruit3]\n",
    "\n",
    "for fruit in list_of_fruits:\n",
    "    print(sorted(list_of_fruits))\n",
    "    \n",
    "# Welcome back. So given a list of instances it's often useful to be able to sort them by some index. So for example, suppose \n",
    "# that we have a class to represent a fruit and every fruit has a name and a price. So we might have a list of fruits, for  I \n",
    "# example, might have this list of fruits equals, the first item is a cherry whose price is $10. The second is an apple whose  \n",
    "# price is $5 and the third is a blueberry whose price is $20.\n",
    "# Now, suppose that I want to be able to sort this list of fruits by their price. Recall that the sorting method allows us to \n",
    "# sort any list of items. So if I call print out the value of sorted L, so if I don't pass in any key into sorted, then sorted \n",
    "# tells us that it doesn't know how to compare two fruit items. So we need to be able to tell sorted how to compare two fruit  \n",
    "# items bypassing in a value for key. \n"
   ]
  },
  {
   "cell_type": "code",
   "execution_count": 38,
   "metadata": {},
   "outputs": [
    {
     "name": "stdout",
     "output_type": "stream",
     "text": [
      "<class 'function'>\n",
      "<function Fruits.sort_piority at 0x0447BAD8>\n",
      "Apple\n",
      "Coconot\n",
      "Banana\n"
     ]
    }
   ],
   "source": [
    "class Fruits:\n",
    "    \n",
    "    def __init__(self,fruit_name,price): # constructor/instancating object\n",
    "        self.fruit_name=fruit_name\n",
    "        self.price=price\n",
    "        \n",
    "    def sort_piority(self):\n",
    "        return self.price\n",
    "\n",
    "    \n",
    "fruit1 = Fruits('Apple',120) # call class_constructor\n",
    "fruit2 = Fruits('Banana',350) # call class_constructor\n",
    "fruit3 = Fruits('Coconot',245) # call class_constructor\n",
    "        \n",
    "list_of_fruits = [fruit1,fruit2,fruit3]\n",
    "sortby = Fruits.sort_piority # call class_method\n",
    "print(type(sortby))\n",
    "print(sortby)\n",
    "for fruit in sorted(list_of_fruits,key=sortby):\n",
    "    print(fruit.fruit_name)\n",
    "    "
   ]
  },
  {
   "cell_type": "code",
   "execution_count": 55,
   "metadata": {},
   "outputs": [
    {
     "name": "stdout",
     "output_type": "stream",
     "text": [
      "<class 'function'>\n",
      "<function Fruits.sort_piority at 0x0447B7C0>\n",
      "Apple\n",
      "Coconot\n",
      "Banana\n"
     ]
    }
   ],
   "source": [
    "class Fruits:\n",
    "    \n",
    "    def __init__(self,fruit_name,price): # constructor/instancating object\n",
    "        self.fruit_name=fruit_name\n",
    "        self.price=price\n",
    "        \n",
    "    def sort_piority(self):\n",
    "        return self.price\n",
    "\n",
    "    \n",
    "fruit1 = Fruits('Apple',120) # call class_constructor\n",
    "fruit2 = Fruits('Banana',350) # call class_constructor\n",
    "fruit3 = Fruits('Coconot',245) # call class_constructor\n",
    "        \n",
    "list_of_fruits = [fruit1,fruit2,fruit3]\n",
    "sortby = Fruits.sort_piority # call method(sort_piority) of class(Fruits)\n",
    "print(type(sortby))\n",
    "print(sortby)\n",
    "for fruit in sorted(list_of_fruits,key=sortby):\n",
    "    print(fruit.fruit_name)"
   ]
  },
  {
   "cell_type": "code",
   "execution_count": 65,
   "metadata": {},
   "outputs": [
    {
     "name": "stdout",
     "output_type": "stream",
     "text": [
      "-----sorted by price, referencing a class method-----\n",
      "Apple\n",
      "Coconot\n",
      "Banana\n"
     ]
    }
   ],
   "source": [
    "class Fruits:\n",
    "    \n",
    "    def __init__(self,fruit_name,price): # constructor/instancating object\n",
    "        self.fruit_name=fruit_name\n",
    "        self.price=price\n",
    "        \n",
    "    def sort_piority(self):\n",
    "        return self.price\n",
    "    \n",
    "list_of_fruits = [ Fruits('Apple',120), # list of instances\n",
    "                   Fruits('Banana',350),\n",
    "                   Fruits('Coconot',245)\n",
    "                 ]\n",
    "print(\"-----sorted by price, referencing a class method(sort_piority)-----\")\n",
    "for fruit in sorted(list_of_fruits,key=Fruits.sort_piority): # sorting and printing list of instances\n",
    "    print(fruit.fruit_name)\n",
    "    \n",
    "    \n",
    "# When each of the items in a list is an instance of a class, you need to provide a function that takes one instance as an input,\n",
    "# and returns a number. The instances will be sorted by their numbers."
   ]
  },
  {
   "cell_type": "code",
   "execution_count": 62,
   "metadata": {},
   "outputs": [
    {
     "name": "stdout",
     "output_type": "stream",
     "text": [
      "Apple\n",
      "Coconot\n",
      "Banana\n"
     ]
    }
   ],
   "source": [
    "class Fruits:\n",
    "    \n",
    "    def __init__(self,fruit_name,price): # constructor/instancating object\n",
    "        self.fruit_name=fruit_name\n",
    "        self.price=price\n",
    "        \n",
    "    def sort_piority(self):\n",
    "        return self.price\n",
    "    \n",
    "list_of_fruits = [ Fruits('Apple',120), # list of instances\n",
    "                   Fruits('Banana',350),\n",
    "                   Fruits('Coconot',245)\n",
    "                 ]\n",
    "\n",
    "for fruit in sorted(list_of_fruits,key=lambda x :x.sort_piority()): # sorting and printing list of instances\n",
    "    print(fruit.fruit_name)"
   ]
  },
  {
   "cell_type": "code",
   "execution_count": 66,
   "metadata": {},
   "outputs": [
    {
     "name": "stdout",
     "output_type": "stream",
     "text": [
      "['Apple', 'Cherry', 'Blueberry']\n",
      "['Apple', 'Cherry', 'Blueberry']\n"
     ]
    }
   ],
   "source": [
    "L = [\"Cherry\", \"Apple\", \"Blueberry\"]\n",
    "\n",
    "print(sorted(L, key=len))\n",
    "#alternative form using lambda, if you find that easier to understand\n",
    "print(sorted(L, key= lambda x: len(x)))\n"
   ]
  },
  {
   "cell_type": "code",
   "execution_count": null,
   "metadata": {},
   "outputs": [],
   "source": []
  }
 ],
 "metadata": {
  "kernelspec": {
   "display_name": "Python 3",
   "language": "python",
   "name": "python3"
  },
  "language_info": {
   "codemirror_mode": {
    "name": "ipython",
    "version": 3
   },
   "file_extension": ".py",
   "mimetype": "text/x-python",
   "name": "python",
   "nbconvert_exporter": "python",
   "pygments_lexer": "ipython3",
   "version": "3.8.4"
  }
 },
 "nbformat": 4,
 "nbformat_minor": 4
}
