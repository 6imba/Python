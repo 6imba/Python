{
 "cells": [
  {
   "cell_type": "code",
   "execution_count": 4,
   "metadata": {},
   "outputs": [],
   "source": [
    "# Define a class called Bike that accepts a string and a float as input, \n",
    "# and assigns those inputs respectively to two instance variables, color and price. \n",
    "# Assign to the variable testOne an instance of Bike whose color is blue and whose price is 89.99. \n",
    "# Assign to the variable testTwo an instance of Bike whose color is purple and whose price is 25.0.\n",
    "\n",
    "class Bike:#class\n",
    "    def __init__(self,attribute_color,attribute_price):#class_variable/method\n",
    "        self.color = attribute_color\n",
    "        self.price = attribute_price\n",
    "        #self.price & self.color are instance_variables\n",
    "testOne = Bike('blue',89.99)#class_object/instant\n",
    "testTwo = Bike('purple',25.0)#class_object/instant"
   ]
  },
  {
   "cell_type": "code",
   "execution_count": 19,
   "metadata": {},
   "outputs": [
    {
     "name": "stdout",
     "output_type": "stream",
     "text": [
      "Instance created!\n",
      "Class Method\n",
      "5\n"
     ]
    }
   ],
   "source": [
    "class AppleBasket:\n",
    "    def __init__(self,color,quantity):\n",
    "        self.color = color\n",
    "        self.quantity = quantity\n",
    "        print('Instance created!')\n",
    "        \n",
    "    def increase(self):\n",
    "        self.quantity += 1\n",
    "        print('Class Method')\n",
    "        return self.quantity\n",
    "        \n",
    "        \n",
    "    def __str__(self):\n",
    "        return \"A basket of {} {} apples.\".format(self.color,self.quantity)\n",
    "\n",
    "basket_1 = AppleBasket('red',4)\n",
    "print(basket_1.increase())\n"
   ]
  },
  {
   "cell_type": "code",
   "execution_count": 28,
   "metadata": {},
   "outputs": [
    {
     "name": "stdout",
     "output_type": "stream",
     "text": [
      "A basket of 5 red apples.\n"
     ]
    }
   ],
   "source": [
    "# Create a class called AppleBasket whose constructor accepts two inputs: a string representing a color, and a number representing a quantity of apples. The constructor should initialize two instance variables: apple_color and apple_quantity. Write a class method called increase that increases the quantity by 1 each time it is invoked. You should also write a __str__ method for this class that returns a string of the format: \"A basket of [quantity goes here] [color goes here] apples.\" e.g. \"A basket of 4 red apples.\" or \"A basket of 50 blue apples.\" (Writing some test code that creates instances and assigns values to variables may help you solve this problem!)\n",
    "\n",
    "class AppleBasket:\n",
    "    def __init__(self,apple_color ,apple_quantity):\n",
    "        self.apple_color  = apple_color \n",
    "        self.apple_quantity = apple_quantity\n",
    "        \n",
    "    def increase(self):\n",
    "        self.apple_quantity += 1\n",
    "        \n",
    "        \n",
    "    def __str__(self):\n",
    "        return \"A basket of {} {} apples.\".format(self.apple_quantity,self.apple_color)\n",
    "\n",
    "basket_1 = AppleBasket('red',4)\n",
    "basket_1.increase()\n",
    "print(basket_1)\n"
   ]
  },
  {
   "cell_type": "code",
   "execution_count": null,
   "metadata": {},
   "outputs": [],
   "source": [
    "# Define a class called BankAccount that accepts the name you want associated with your bank account in a string, and an integer that represents the amount of money in the account. The constructor should initialize two instance variables from those inputs: name and amt. Add a string method so that when you print an instance of BankAccount, you see \"Your account, [name goes here], has [start_amt goes here] dollars.\" Create an instance of this class with \"Bob\" as the name and 100 as the amount. Save this to the variable t1.\n",
    "\n",
    "class BankAccount:\n",
    "    def __init__(self,name,amt):\n",
    "        self.name = name\n",
    "        self.amt = amt\n",
    "        \n",
    "    def __str__(self):\n",
    "        return \"Your account, {}, has {} dollars.\".format(self.name,self.amt)\n",
    "    \n",
    "    \n",
    "t1 = BankAccount(\"Bob\",100)\n"
   ]
  }
 ],
 "metadata": {
  "kernelspec": {
   "display_name": "Python 3",
   "language": "python",
   "name": "python3"
  },
  "language_info": {
   "codemirror_mode": {
    "name": "ipython",
    "version": 3
   },
   "file_extension": ".py",
   "mimetype": "text/x-python",
   "name": "python",
   "nbconvert_exporter": "python",
   "pygments_lexer": "ipython3",
   "version": "3.8.4"
  }
 },
 "nbformat": 4,
 "nbformat_minor": 4
}
