{
 "cells": [
  {
   "cell_type": "code",
   "execution_count": 31,
   "metadata": {},
   "outputs": [
    {
     "name": "stdout",
     "output_type": "stream",
     "text": [
      "[{'name': 'Amir', 'age': 21}, {'name': 'Ram', 'age': 37}, {'name': 'Kalu', 'age': 5}]\n",
      "\n",
      "\n",
      "{'name': 'Amir', 'age': 21}\n",
      "{'name': 'Ram', 'age': 37}\n",
      "{'name': 'Kalu', 'age': 5}\n",
      "\n",
      "\n",
      "dict_items([('name', 'Amir'), ('age', 21)])\n",
      "dict_items([('name', 'Ram'), ('age', 37)])\n",
      "dict_items([('name', 'Kalu'), ('age', 5)])\n",
      "\n",
      "\n",
      "dict_keys(['name', 'age'])\n",
      "dict_keys(['name', 'age'])\n",
      "dict_keys(['name', 'age'])\n",
      "\n",
      "\n",
      "dict_values(['Amir', 21])\n",
      "dict_values(['Ram', 37])\n",
      "dict_values(['Kalu', 5])\n",
      "\n",
      "\n",
      "name Amir\n",
      "age 21\n",
      "name Ram\n",
      "age 37\n",
      "name Kalu\n",
      "age 5\n",
      "\n",
      "\n",
      "{'name': 'Kalu', 'age': 5}\n",
      "\n",
      "\n"
     ]
    }
   ],
   "source": [
    "database = [{'name':'Amir','age':21},{'name':'Ram','age':37},{'name':'Kalu','age':5}]\n",
    "\n",
    "print(database)\n",
    "print('\\n')\n",
    "\n",
    "for dictionary in database:\n",
    "    print(dictionary)\n",
    "print('\\n')\n",
    "\n",
    "for dictionary in database:\n",
    "    print(dictionary.items()) # is one item 'name':'Amir'\n",
    "print('\\n')\n",
    "\n",
    "for dictionary in database:\n",
    "    print(dictionary.keys())\n",
    "print('\\n')\n",
    "\n",
    "for dictionary in database:\n",
    "    print(dictionary.values())\n",
    "print('\\n')\n",
    "\n",
    "for dictionary in database:\n",
    "    for keys,values in dictionary.items():\n",
    "        print(keys,values)\n",
    "print('\\n')\n",
    "\n",
    "for dictionary in database:\n",
    "    for key,values in dictionary.items():\n",
    "        if key=='name' and values == 'Kalu':\n",
    "            print(dictionary)\n",
    "print('\\n')"
   ]
  },
  {
   "cell_type": "code",
   "execution_count": 42,
   "metadata": {},
   "outputs": [
    {
     "name": "stdout",
     "output_type": "stream",
     "text": [
      "1\n",
      "101\n",
      "name Amir\n",
      "102\n",
      "age 21\n",
      "2\n",
      "103\n",
      "name Ram\n",
      "104\n",
      "age 37\n",
      "3\n",
      "105\n",
      "name Kalu\n",
      "106\n",
      "age 5\n",
      "4\n",
      "107\n",
      "name Jaja\n",
      "108\n",
      "age 19\n"
     ]
    }
   ],
   "source": [
    "database1 = [{'name':'Amir','age':21},{'name':'Ram','age':37},{'name':'Kalu','age':5},{'name':'Jaja','age':19}]\n",
    "global a,b\n",
    "a=0\n",
    "b=100\n",
    "for dictionary in database1:\n",
    "    a+=1\n",
    "    print(a)\n",
    "    for key,value in dictionary.items():\n",
    "        b+=1\n",
    "        print(b)\n",
    "        print(key,value)"
   ]
  },
  {
   "cell_type": "code",
   "execution_count": 44,
   "metadata": {},
   "outputs": [
    {
     "name": "stdout",
     "output_type": "stream",
     "text": [
      "1\n",
      "101\n",
      "102\n",
      "2\n",
      "103\n",
      "104\n",
      "age 37\n",
      "3\n",
      "105\n",
      "106\n",
      "4\n",
      "107\n",
      "108\n"
     ]
    }
   ],
   "source": [
    "database2 = [{'name':'Amir','age':21},{'name':'Ram','age':37},{'name':'Kalu','age':5},{'name':'Jaja','age':19}]\n",
    "global a,b\n",
    "a=0\n",
    "b=100\n",
    "for dictionary in database1:\n",
    "    a+=1\n",
    "    print(a)\n",
    "    for key,value in dictionary.items():\n",
    "        b+=1\n",
    "        print(b)\n",
    "        if value==37:\n",
    "            print(key,value)"
   ]
  },
  {
   "cell_type": "code",
   "execution_count": 48,
   "metadata": {},
   "outputs": [
    {
     "name": "stdout",
     "output_type": "stream",
     "text": [
      "First Loop :  1\n",
      "Second Loop :  1\n",
      "Second Loop :  2\n",
      "First Loop :  2\n",
      "Second Loop :  3\n",
      "Second Loop :  4\n",
      "Answer ============= > :  age 37\n",
      "First Loop :  3\n",
      "Second Loop :  5\n",
      "Second Loop :  6\n",
      "First Loop :  4\n",
      "Second Loop :  7\n",
      "Second Loop :  8\n"
     ]
    }
   ],
   "source": [
    "database2 = [{'name':'Amir','age':21},{'name':'Ram','age':37},{'name':'Kalu','age':5},{'name':'Jaja','age':19}]\n",
    "global a,b\n",
    "a=0\n",
    "b=0\n",
    "for dictionary in database1:\n",
    "    a+=1\n",
    "    print('First Loop : ',a)\n",
    "    for key,value in dictionary.items():\n",
    "        b+=1\n",
    "        print('Second Loop : ',b)\n",
    "        if value==37:\n",
    "            print('Answer ============= > : ',key,value)"
   ]
  },
  {
   "cell_type": "code",
   "execution_count": 5,
   "metadata": {},
   "outputs": [
    {
     "name": "stdout",
     "output_type": "stream",
     "text": [
      "First Dictionary Loop :  1\n",
      "Second Item Loop :  1\n",
      "Second Item Loop :  2\n",
      "First Dictionary Loop :  2\n",
      "Second Item Loop :  3\n",
      "Second Item Loop :  4\n",
      "Answer ============= > :  age 37\n",
      "First Dictionary Loop :  3\n",
      "Second Item Loop :  5\n",
      "Second Item Loop :  6\n",
      "First Dictionary Loop :  4\n",
      "Second Item Loop :  7\n",
      "Second Item Loop :  8\n"
     ]
    }
   ],
   "source": [
    "database2 = [{'name':'Amir','age':21},{'name':'Ram','age':37},{'name':'Kalu','age':5},{'name':'Jaja','age':19}]\n",
    "global a,b\n",
    "a=0\n",
    "b=0\n",
    "for dictionary in database2:\n",
    "    a+=1\n",
    "    print('First Dictionary Loop : ',a)\n",
    "    for key,value in dictionary.items():\n",
    "        b+=1\n",
    "        print('Second Item Loop : ',b)\n",
    "        if value==37:\n",
    "            print('Answer ============= > : ',key,value)\n",
    "            break"
   ]
  },
  {
   "cell_type": "code",
   "execution_count": 10,
   "metadata": {},
   "outputs": [
    {
     "name": "stdout",
     "output_type": "stream",
     "text": [
      "First Dictionary Loop :  1\n",
      "      1  th Second Item Loop : \n",
      "             name Amir\n",
      "      2  th Second Item Loop : \n",
      "             age 21\n",
      "      3  th Second Item Loop : \n",
      "             x 1\n",
      "First Dictionary Loop :  2\n",
      "      4  th Second Item Loop : \n",
      "             name Ram\n",
      "      5  th Second Item Loop : \n",
      "             age 37\n",
      "Answer ============= > :  age 37\n",
      "First Dictionary Loop :  3\n",
      "      6  th Second Item Loop : \n",
      "             name Kalu\n",
      "      7  th Second Item Loop : \n",
      "             age 5\n",
      "      8  th Second Item Loop : \n",
      "             xxx 111\n",
      "First Dictionary Loop :  4\n",
      "      9  th Second Item Loop : \n",
      "             name Jaja\n",
      "      10  th Second Item Loop : \n",
      "             age 19\n",
      "      11  th Second Item Loop : \n",
      "             xxxx 1111\n"
     ]
    }
   ],
   "source": [
    "database2 = [{'name':'Amir','age':21,'x':1},{'name':'Ram','age':37,'xx':11},{'name':'Kalu','age':5,'xxx':111},{'name':'Jaja','age':19,'xxxx':1111}]\n",
    "global a,b\n",
    "a=0\n",
    "b=0\n",
    "for dictionary in database2:\n",
    "    a+=1\n",
    "    print('First Dictionary Loop : ',a)\n",
    "    for key,value in dictionary.items():\n",
    "        b+=1\n",
    "        print('     ',b,' th Second Item Loop : ')\n",
    "        print('            ',key,value)\n",
    "        if value==37:\n",
    "            print('Answer ============= > : ',key,value)\n",
    "            break"
   ]
  },
  {
   "cell_type": "code",
   "execution_count": 12,
   "metadata": {},
   "outputs": [
    {
     "name": "stdout",
     "output_type": "stream",
     "text": [
      "First Dictionary Loop :  1\n",
      "      1  th Second Item Loop : \n",
      "             name Amir\n",
      "      2  th Second Item Loop : \n",
      "             age 21\n",
      "      3  th Second Item Loop : \n",
      "             x 1\n",
      "First Dictionary Loop :  2\n",
      "      4  th Second Item Loop : \n",
      "             name Ram\n",
      "      5  th Second Item Loop : \n",
      "             age 37\n",
      "Answer ============= > :  age 37\n"
     ]
    }
   ],
   "source": [
    "database2 = [{'name':'Amir','age':21,'x':1},{'name':'Ram','age':37,'xx':11},{'name':'Kalu','age':5,'xxx':111},{'name':'Jaja','age':19,'xxxx':1111}]\n",
    "global a,b\n",
    "a=0\n",
    "b=0\n",
    "for dictionary in database2:\n",
    "    result = False\n",
    "    a+=1\n",
    "    print('First Dictionary Loop : ',a)\n",
    "    for key,value in dictionary.items():\n",
    "        b+=1\n",
    "        print('     ',b,' th Second Item Loop : ')\n",
    "        print('            ',key,value)\n",
    "        if value==37:\n",
    "            print('Answer ============= > : ',key,value)\n",
    "            result = True\n",
    "            break\n",
    "    if result:\n",
    "        break"
   ]
  }
 ],
 "metadata": {
  "kernelspec": {
   "display_name": "Python 3",
   "language": "python",
   "name": "python3"
  },
  "language_info": {
   "codemirror_mode": {
    "name": "ipython",
    "version": 3
   },
   "file_extension": ".py",
   "mimetype": "text/x-python",
   "name": "python",
   "nbconvert_exporter": "python",
   "pygments_lexer": "ipython3",
   "version": "3.8.4"
  }
 },
 "nbformat": 4,
 "nbformat_minor": 4
}
