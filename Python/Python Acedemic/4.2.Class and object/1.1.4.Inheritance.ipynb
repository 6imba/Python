{
 "cells": [
  {
   "cell_type": "code",
   "execution_count": 1,
   "metadata": {},
   "outputs": [
    {
     "name": "stdout",
     "output_type": "stream",
     "text": [
      "Mike Olsen\n"
     ]
    }
   ],
   "source": [
    "# To keep the inheritance of the parent's __init__() function, add a call to the parent's __init__() function:\n",
    "\n",
    "class Person:\n",
    "    def __init__(self, fname, lname):\n",
    "        self.firstname = fname\n",
    "        self.lastname = lname\n",
    "\n",
    "    def printname(self):\n",
    "        print(self.firstname, self.lastname)\n",
    "\n",
    "class Student(Person):\n",
    "    def __init__(self, fn, ln):\n",
    "        Person.__init__(self, fn, ln) # add a call to the parent's __init__() function\n",
    "\n",
    "x = Student(\"Mike\", \"Olsen\")\n",
    "x.printname()\n",
    "\n",
    "# Now we have successfully added the __init__() function, and kept the inheritance of the parent class, \n",
    "# and we are ready to add functionality in the __init__() function."
   ]
  },
  {
   "cell_type": "code",
   "execution_count": 2,
   "metadata": {},
   "outputs": [
    {
     "name": "stdout",
     "output_type": "stream",
     "text": [
      "Mike Olsen\n"
     ]
    }
   ],
   "source": [
    "class Person:\n",
    "\n",
    "    def printname(self):\n",
    "        print(self.firstname, self.lastname)\n",
    "\n",
    "class Student(Person):\n",
    "    def __init__(self, fn, ln):\n",
    "        self.firstname = fn\n",
    "        self.lastname = ln\n",
    "\n",
    "x = Student(\"Mike\", \"Olsen\")\n",
    "x.printname()"
   ]
  },
  {
   "cell_type": "code",
   "execution_count": 7,
   "metadata": {},
   "outputs": [
    {
     "name": "stdout",
     "output_type": "stream",
     "text": [
      "I am Child Constructor !\n"
     ]
    }
   ],
   "source": [
    "class A:\n",
    "    def __init__(self):\n",
    "        print('I am Parent Constructor !')\n",
    "class B(A):\n",
    "    def __init__(self):\n",
    "        print('I am Child Constructor !')\n",
    "        \n",
    "obj2=B()"
   ]
  },
  {
   "cell_type": "code",
   "execution_count": 11,
   "metadata": {},
   "outputs": [
    {
     "name": "stdout",
     "output_type": "stream",
     "text": [
      "I am Parent Constructor !\n",
      "I am Child Constructor !\n"
     ]
    }
   ],
   "source": [
    "class A:\n",
    "    def __init__(self):\n",
    "        print('I am Parent Constructor !')\n",
    "class B(A):\n",
    "    def __init__(self):\n",
    "        A.__init__(self) #  what is puropse of calling constructor of bothg parentclass and child class\n",
    "        print('I am Child Constructor !')\n",
    "        \n",
    "obj2=B()"
   ]
  },
  {
   "cell_type": "code",
   "execution_count": 18,
   "metadata": {},
   "outputs": [
    {
     "name": "stdout",
     "output_type": "stream",
     "text": [
      "I am Parent Constructor !\n",
      "I am Child Constructor !\n"
     ]
    }
   ],
   "source": [
    "class A:\n",
    "    def __init__(self):\n",
    "        print('I am Parent Constructor !')\n",
    "class B(A):\n",
    "    def __init__(self):\n",
    "        super().__init__() #calling parent class constructor  # no_self\n",
    "        print('I am Child Constructor !')\n",
    "        \n",
    "obj2=B()"
   ]
  },
  {
   "cell_type": "code",
   "execution_count": 22,
   "metadata": {},
   "outputs": [
    {
     "name": "stdout",
     "output_type": "stream",
     "text": [
      "I am Parent Constructor !\n",
      "I am Child Constructor !\n",
      "Calling parent property from child :  1000\n"
     ]
    }
   ],
   "source": [
    "class A:\n",
    "    def __init__(self):\n",
    "        self.parentvar=1000\n",
    "        print('I am Parent Constructor !')\n",
    "class B(A):\n",
    "    def __init__(self):\n",
    "        super().__init__() #calling parent class constructor  # no_self\n",
    "        print('I am Child Constructor !')\n",
    "        \n",
    "    def output(self):\n",
    "        print('Calling parent property from child : ',self.parentvar)\n",
    "        \n",
    "obj2=B()\n",
    "obj2.output()"
   ]
  },
  {
   "cell_type": "code",
   "execution_count": 29,
   "metadata": {},
   "outputs": [
    {
     "name": "stdout",
     "output_type": "stream",
     "text": [
      "I am Parent Constructor !\n",
      "I am Child Constructor !\n",
      "Calling parent property from child :  1000\n"
     ]
    }
   ],
   "source": [
    "class A:\n",
    "    def __init__(self,xxx):\n",
    "        self.parentvar=xxx\n",
    "        print('I am Parent Constructor !')\n",
    "class B(A):\n",
    "    def __init__(self,ooo):\n",
    "        super().__init__(ooo) #calling parent class constructor  # no_self\n",
    "        print('I am Child Constructor !')\n",
    "        \n",
    "    def output(self):\n",
    "        print('Calling parent property from child : ',self.parentvar)\n",
    "        \n",
    "obj2=B(1000)\n",
    "obj2.output()"
   ]
  },
  {
   "cell_type": "code",
   "execution_count": 31,
   "metadata": {},
   "outputs": [
    {
     "name": "stdout",
     "output_type": "stream",
     "text": [
      "I am Parent Constructor !\n",
      "I am Child Constructor !\n",
      "Calling parent property from child :  1000 500000\n"
     ]
    }
   ],
   "source": [
    "class A:\n",
    "    def __init__(self,xxx):\n",
    "        self.parentvar=xxx\n",
    "        print('I am Parent Constructor !')\n",
    "class B(A):\n",
    "    def __init__(self,xxx,ttt):\n",
    "        super().__init__(xxx) #calling parent class constructor  # no_self\n",
    "        self.childvar=ttt\n",
    "        print('I am Child Constructor !')\n",
    "        \n",
    "    def output(self):\n",
    "        print('Calling parent property from child : ',self.parentvar,self.childvar)\n",
    "        \n",
    "obj2=B(1000,500000)\n",
    "obj2.output()"
   ]
  }
 ],
 "metadata": {
  "kernelspec": {
   "display_name": "Python 3",
   "language": "python",
   "name": "python3"
  },
  "language_info": {
   "codemirror_mode": {
    "name": "ipython",
    "version": 3
   },
   "file_extension": ".py",
   "mimetype": "text/x-python",
   "name": "python",
   "nbconvert_exporter": "python",
   "pygments_lexer": "ipython3",
   "version": "3.8.4"
  }
 },
 "nbformat": 4,
 "nbformat_minor": 4
}
