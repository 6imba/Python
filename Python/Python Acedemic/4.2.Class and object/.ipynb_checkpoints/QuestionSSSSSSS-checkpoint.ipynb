{
 "cells": [
  {
   "cell_type": "code",
   "execution_count": 1,
   "metadata": {},
   "outputs": [
    {
     "name": "stdout",
     "output_type": "stream",
     "text": [
      "I am Parent_Constructor !\n"
     ]
    }
   ],
   "source": [
    "#Question_1\n",
    "\n",
    "class Parent:\n",
    "    def __init__(self):\n",
    "        print('I am Parent_Constructor !')\n",
    "class Child(Parent):\n",
    "    pass\n",
    "    #print('I am Child_Class !')\n",
    "\n",
    "objChild = Child()"
   ]
  },
  {
   "cell_type": "code",
   "execution_count": 2,
   "metadata": {},
   "outputs": [
    {
     "name": "stdout",
     "output_type": "stream",
     "text": [
      "I am Child_Class !\n",
      "I am Parent_Constructor !\n"
     ]
    }
   ],
   "source": [
    "#Question_1\n",
    "\n",
    "class Parent:\n",
    "    def __init__(self):\n",
    "        print('I am Parent_Constructor !')\n",
    "class Child(Parent):\n",
    "    print('I am Child_Class !')\n",
    "\n",
    "objChild = Child()"
   ]
  },
  {
   "cell_type": "code",
   "execution_count": 6,
   "metadata": {},
   "outputs": [
    {
     "name": "stdout",
     "output_type": "stream",
     "text": [
      "I am Parent_Constructor !\n",
      "I am parent Method\n"
     ]
    }
   ],
   "source": [
    "#Question_1\n",
    "\n",
    "class Parent:\n",
    "    def __init__(self):\n",
    "        print('I am Parent_Constructor !')\n",
    "    def prints(self):\n",
    "        print('I am parent Method')\n",
    "        \n",
    "class Child(Parent):\n",
    "    pass\n",
    "\n",
    "objChild = Child()\n",
    "objChild.prints()"
   ]
  },
  {
   "cell_type": "code",
   "execution_count": 7,
   "metadata": {},
   "outputs": [
    {
     "name": "stdout",
     "output_type": "stream",
     "text": [
      "Mike Olsen\n"
     ]
    }
   ],
   "source": [
    "class Person:\n",
    "    def __init__(self, fname, lname):\n",
    "        self.firstname = fname\n",
    "        self.lastname = lname\n",
    "\n",
    "    def printname(self):\n",
    "        print(self.firstname, self.lastname)\n",
    "\n",
    "class Student(Person):\n",
    "    def __init__(self, fname, lname):\n",
    "        super().__init__(fname, lname)\n",
    "\n",
    "x = Student(\"Mike\", \"Olsen\")\n",
    "x.printname()"
   ]
  },
  {
   "cell_type": "code",
   "execution_count": 1,
   "metadata": {},
   "outputs": [
    {
     "name": "stdout",
     "output_type": "stream",
     "text": [
      "I am Parent_Constructor !\n",
      "I am Child_Class !\n"
     ]
    }
   ],
   "source": [
    "#Question_1\n",
    "\n",
    "class Parent:\n",
    "    def __init__(self):\n",
    "        print('I am Parent_Constructor !')\n",
    "class Child(Parent):\n",
    "    def __init__(self):\n",
    "        super().__init__()\n",
    "        print('I am Child_Class !')\n",
    "\n",
    "objChild = Child()\n",
    "\n",
    "\n",
    "\n",
    "# here child can inherit all methods and property of parent class with out contructor"
   ]
  },
  {
   "cell_type": "code",
   "execution_count": 12,
   "metadata": {},
   "outputs": [
    {
     "name": "stdout",
     "output_type": "stream",
     "text": [
      "hero\n"
     ]
    }
   ],
   "source": [
    "#Quetion2\n",
    "class Person(): # Parent Class\n",
    "    def __init__(self,name):\n",
    "        self.Naam = name\n",
    "\n",
    "class Student4(Person): # Child Class\n",
    "    pass\n",
    "\n",
    "obj1 = Student4('hero')\n",
    "print(obj1.Naam)\n",
    "        "
   ]
  },
  {
   "cell_type": "code",
   "execution_count": 16,
   "metadata": {},
   "outputs": [
    {
     "name": "stdout",
     "output_type": "stream",
     "text": [
      "hero\n",
      "40\n"
     ]
    }
   ],
   "source": [
    "#Quetion2\n",
    "class Person(): # Parent Class\n",
    "    def __init__(self,name):\n",
    "        self.Naam = name\n",
    "\n",
    "class Student4(Person): # Child Class\n",
    "    age = 40\n",
    "\n",
    "obj1 = Student4('hero')\n",
    "print(obj1.Naam)\n",
    "print(obj1.age)  "
   ]
  },
  {
   "cell_type": "code",
   "execution_count": 20,
   "metadata": {},
   "outputs": [
    {
     "name": "stdout",
     "output_type": "stream",
     "text": [
      "hero\n",
      "40\n"
     ]
    }
   ],
   "source": [
    "#Quetion2\n",
    "class Person(): # Parent Class\n",
    "    def __init__(self,name):\n",
    "        self.Naam = name\n",
    "\n",
    "class Student4(Person): # Child Class\n",
    "    def __init__(self,name):\n",
    "        self.nama = name\n",
    "    age = 40\n",
    "\n",
    "obj1 = Student4('hero')\n",
    "print(obj1.nama)\n",
    "print(obj1.age)  "
   ]
  },
  {
   "cell_type": "code",
   "execution_count": 22,
   "metadata": {},
   "outputs": [
    {
     "name": "stdout",
     "output_type": "stream",
     "text": [
      "hero\n",
      "40\n"
     ]
    }
   ],
   "source": [
    "#Quetion2\n",
    "class Person(): # Parent Class\n",
    "    def __init__(self,name):\n",
    "        self.Naam = name\n",
    "\n",
    "class Student4(Person): # Child Class\n",
    "    def __init__(self,name):\n",
    "        self.nama = name\n",
    "        self.age = 40\n",
    "\n",
    "obj1 = Student4('hero')\n",
    "print(obj1.nama)\n",
    "print(obj1.age) "
   ]
  },
  {
   "cell_type": "code",
   "execution_count": 29,
   "metadata": {},
   "outputs": [
    {
     "name": "stdout",
     "output_type": "stream",
     "text": [
      "Amir\n",
      "40\n"
     ]
    },
    {
     "ename": "AttributeError",
     "evalue": "'Student4' object has no attribute 'Naam'",
     "output_type": "error",
     "traceback": [
      "\u001b[1;31m---------------------------------------------------------------------------\u001b[0m",
      "\u001b[1;31mAttributeError\u001b[0m                            Traceback (most recent call last)",
      "\u001b[1;32m<ipython-input-29-f6f308322bdf>\u001b[0m in \u001b[0;36m<module>\u001b[1;34m\u001b[0m\n\u001b[0;32m     12\u001b[0m \u001b[0mprint\u001b[0m\u001b[1;33m(\u001b[0m\u001b[0mobj1\u001b[0m\u001b[1;33m.\u001b[0m\u001b[0mnama\u001b[0m\u001b[1;33m)\u001b[0m\u001b[1;33m\u001b[0m\u001b[1;33m\u001b[0m\u001b[0m\n\u001b[0;32m     13\u001b[0m \u001b[0mprint\u001b[0m\u001b[1;33m(\u001b[0m\u001b[0mobj1\u001b[0m\u001b[1;33m.\u001b[0m\u001b[0mage\u001b[0m\u001b[1;33m)\u001b[0m\u001b[1;33m\u001b[0m\u001b[1;33m\u001b[0m\u001b[0m\n\u001b[1;32m---> 14\u001b[1;33m \u001b[0mprint\u001b[0m\u001b[1;33m(\u001b[0m\u001b[0mobj1\u001b[0m\u001b[1;33m.\u001b[0m\u001b[0mNaam\u001b[0m\u001b[1;33m)\u001b[0m\u001b[1;33m\u001b[0m\u001b[1;33m\u001b[0m\u001b[0m\n\u001b[0m",
      "\u001b[1;31mAttributeError\u001b[0m: 'Student4' object has no attribute 'Naam'"
     ]
    }
   ],
   "source": [
    "#Quetion2\n",
    "class Person(): # Parent Class\n",
    "    def __init__(self,name): #its not initilized\n",
    "        self.Naam = name \n",
    "\n",
    "class Student4(Person): # Child Class\n",
    "    def __init__(self,nam):\n",
    "        self.nama = nam\n",
    "        self.age = 40\n",
    "\n",
    "obj1 = Student4('Amir')\n",
    "print(obj1.nama)\n",
    "print(obj1.age) \n",
    "print(obj1.Naam) "
   ]
  },
  {
   "cell_type": "code",
   "execution_count": 30,
   "metadata": {},
   "outputs": [
    {
     "name": "stdout",
     "output_type": "stream",
     "text": [
      "Amir\n",
      "40\n",
      "Rima\n"
     ]
    }
   ],
   "source": [
    "#Quetion2\n",
    "class Person(): # Parent Class\n",
    "    def __init__(self,name):\n",
    "        self.Naam = name\n",
    "\n",
    "class Student4(Person): # Child Class\n",
    "    def __init__(self,nam):\n",
    "        self.nama = nam\n",
    "        self.age = 40\n",
    "        self.Naam = 'Rima'\n",
    "\n",
    "obj1 = Student4('Amir')\n",
    "print(obj1.nama)\n",
    "print(obj1.age) \n",
    "print(obj1.Naam) "
   ]
  },
  {
   "cell_type": "code",
   "execution_count": 33,
   "metadata": {},
   "outputs": [
    {
     "name": "stdout",
     "output_type": "stream",
     "text": [
      "Amir\n",
      "40\n",
      "Rima\n",
      "Kapan\n"
     ]
    }
   ],
   "source": [
    "#Quetion2\n",
    "class Person(): # Parent Class\n",
    "    def __init__(self,name):\n",
    "        self.Naam = name\n",
    "\n",
    "    def address(self,location):\n",
    "        self.loc = location\n",
    "        print(self.loc)\n",
    "        \n",
    "class Student4(Person): # Child Class\n",
    "    def __init__(self,nam):\n",
    "        self.nama = nam\n",
    "        self.age = 40\n",
    "        self.Naam = 'Rima'\n",
    "\n",
    "obj1 = Student4('Amir')\n",
    "print(obj1.nama)\n",
    "print(obj1.age) \n",
    "print(obj1.Naam) \n",
    "obj1.address('Kapan')"
   ]
  },
  {
   "cell_type": "code",
   "execution_count": 34,
   "metadata": {},
   "outputs": [
    {
     "name": "stdout",
     "output_type": "stream",
     "text": [
      "Amir\n",
      "40\n",
      "Rima\n",
      "Kapan\n"
     ]
    }
   ],
   "source": [
    "#Quetion2\n",
    "class Person(): # Parent Class\n",
    "    def __init__(self,name):\n",
    "        self.Naam = name\n",
    "\n",
    "    def address(self,location):\n",
    "        self.loc = location\n",
    "        print(self.loc)\n",
    "        \n",
    "class Student4(Person): # Child Class\n",
    "    def __init__(self,nam):\n",
    "        self.nama = nam\n",
    "        self.age = 40\n",
    "        self.Naam = 'Rima' # here we are passing value to parent initialize_var\n",
    "\n",
    "obj1 = Student4('Amir')\n",
    "print(obj1.nama)\n",
    "print(obj1.age) \n",
    "print(obj1.Naam) \n",
    "obj1.address('Kapan')"
   ]
  },
  {
   "cell_type": "code",
   "execution_count": 39,
   "metadata": {},
   "outputs": [
    {
     "name": "stdout",
     "output_type": "stream",
     "text": [
      "Amir\n",
      "40\n",
      "Amir\n",
      "Kapan\n"
     ]
    }
   ],
   "source": [
    "# we can initialized both parent and child constructor at once\n",
    "#Quetion2\n",
    "class Person(): # Parent Class\n",
    "    def __init__(self,name):\n",
    "        self.Naam = name\n",
    "\n",
    "    def address(self,location):\n",
    "        self.loc = location\n",
    "        print(self.loc)\n",
    "        \n",
    "class Student4(Person): # Child Class\n",
    "    def __init__(self,nam):\n",
    "        Person.__init__(self,nam)\n",
    "        self.nama = nam\n",
    "        self.age = 40\n",
    "\n",
    "\n",
    "obj1 = Student4('Amir')\n",
    "print(obj1.nama)\n",
    "print(obj1.age) \n",
    "print(obj1.Naam) \n",
    "obj1.address('Kapan')"
   ]
  },
  {
   "cell_type": "code",
   "execution_count": 40,
   "metadata": {},
   "outputs": [
    {
     "name": "stdout",
     "output_type": "stream",
     "text": [
      "Amir\n",
      "40\n",
      "Amir\n",
      "Kapan\n"
     ]
    }
   ],
   "source": [
    "#Quetion2\n",
    "class Person(): # Parent Class\n",
    "    def __init__(self,name):\n",
    "        self.Naam = name\n",
    "\n",
    "    def address(self,location):\n",
    "        self.loc = location\n",
    "        print(self.loc)\n",
    "        \n",
    "class Student4(Person): # Child Class\n",
    "    def __init__(self,nam):\n",
    "        super().__init__(nam)\n",
    "        self.nama = nam\n",
    "        self.age = 40\n",
    "\n",
    "\n",
    "obj1 = Student4('Amir')\n",
    "print(obj1.nama)\n",
    "print(obj1.age) \n",
    "print(obj1.Naam) \n",
    "obj1.address('Kapan')"
   ]
  },
  {
   "cell_type": "code",
   "execution_count": 41,
   "metadata": {},
   "outputs": [
    {
     "name": "stdout",
     "output_type": "stream",
     "text": [
      "Country ==>  Japan  Zone ==>  33\n"
     ]
    },
    {
     "ename": "AttributeError",
     "evalue": "'Student4' object has no attribute 'Umer'",
     "output_type": "error",
     "traceback": [
      "\u001b[1;31m---------------------------------------------------------------------------\u001b[0m",
      "\u001b[1;31mAttributeError\u001b[0m                            Traceback (most recent call last)",
      "\u001b[1;32m<ipython-input-41-edade48d4713>\u001b[0m in \u001b[0;36m<module>\u001b[1;34m\u001b[0m\n\u001b[0;32m     17\u001b[0m \u001b[1;33m\u001b[0m\u001b[0m\n\u001b[0;32m     18\u001b[0m \u001b[0mobj1\u001b[0m \u001b[1;33m=\u001b[0m \u001b[0mStudent4\u001b[0m\u001b[1;33m(\u001b[0m\u001b[1;34m'Japan'\u001b[0m\u001b[1;33m,\u001b[0m\u001b[1;36m33\u001b[0m\u001b[1;33m)\u001b[0m\u001b[1;33m\u001b[0m\u001b[1;33m\u001b[0m\u001b[0m\n\u001b[1;32m---> 19\u001b[1;33m \u001b[0mobj1\u001b[0m\u001b[1;33m.\u001b[0m\u001b[0minfo4\u001b[0m\u001b[1;33m(\u001b[0m\u001b[1;33m)\u001b[0m\u001b[1;33m\u001b[0m\u001b[1;33m\u001b[0m\u001b[0m\n\u001b[0m\u001b[0;32m     20\u001b[0m \u001b[1;33m\u001b[0m\u001b[0m\n\u001b[0;32m     21\u001b[0m \u001b[1;31m# this error shows that our parent constructor hasnot been initialized?\u001b[0m\u001b[1;33m\u001b[0m\u001b[1;33m\u001b[0m\u001b[1;33m\u001b[0m\u001b[0m\n",
      "\u001b[1;32m<ipython-input-41-edade48d4713>\u001b[0m in \u001b[0;36minfo4\u001b[1;34m(self)\u001b[0m\n\u001b[0;32m     11\u001b[0m     \u001b[1;32mdef\u001b[0m \u001b[0minfo4\u001b[0m\u001b[1;33m(\u001b[0m\u001b[0mself\u001b[0m\u001b[1;33m)\u001b[0m\u001b[1;33m:\u001b[0m\u001b[1;33m\u001b[0m\u001b[1;33m\u001b[0m\u001b[0m\n\u001b[0;32m     12\u001b[0m         \u001b[0mprint\u001b[0m\u001b[1;33m(\u001b[0m\u001b[1;34m'Country ==> '\u001b[0m\u001b[1;33m,\u001b[0m\u001b[0mself\u001b[0m\u001b[1;33m.\u001b[0m\u001b[0mdesh\u001b[0m\u001b[1;33m,\u001b[0m\u001b[1;34m' Zone ==> '\u001b[0m\u001b[1;33m,\u001b[0m\u001b[0mself\u001b[0m\u001b[1;33m.\u001b[0m\u001b[0manchal\u001b[0m\u001b[1;33m)\u001b[0m\u001b[1;33m\u001b[0m\u001b[1;33m\u001b[0m\u001b[0m\n\u001b[1;32m---> 13\u001b[1;33m         \u001b[0mprint\u001b[0m\u001b[1;33m(\u001b[0m\u001b[0mself\u001b[0m\u001b[1;33m.\u001b[0m\u001b[0mUmer\u001b[0m\u001b[1;33m,\u001b[0m\u001b[1;34m' years old '\u001b[0m\u001b[1;33m,\u001b[0m\u001b[0mself\u001b[0m\u001b[1;33m.\u001b[0m\u001b[0mNaam\u001b[0m\u001b[1;33m,\u001b[0m\u001b[1;34m' has '\u001b[0m\u001b[1;33m,\u001b[0m\u001b[0mself\u001b[0m\u001b[1;33m.\u001b[0m\u001b[0mRang\u001b[0m\u001b[1;33m,\u001b[0m\u001b[1;34m' hair.'\u001b[0m\u001b[1;33m)\u001b[0m\u001b[1;33m\u001b[0m\u001b[1;33m\u001b[0m\u001b[0m\n\u001b[0m\u001b[0;32m     14\u001b[0m \u001b[1;33m\u001b[0m\u001b[0m\n\u001b[0;32m     15\u001b[0m \u001b[1;33m\u001b[0m\u001b[0m\n",
      "\u001b[1;31mAttributeError\u001b[0m: 'Student4' object has no attribute 'Umer'"
     ]
    }
   ],
   "source": [
    "class Person(): # Parent Class\n",
    "    def __init__(self,name,age,color):\n",
    "        self.Naam = name\n",
    "        self.Umer = age\n",
    "        self.Rang = color \n",
    "\n",
    "class Student4(Person): # Child Class\n",
    "    def __init__(self,country,zone):\n",
    "        self.desh = country\n",
    "        self.anchal = zone\n",
    "    def info4(self):\n",
    "        print('Country ==> ',self.desh,' Zone ==> ',self.anchal)\n",
    "        print(self.Umer,' years old ',self.Naam,' has ',self.Rang,' hair.') \n",
    "        \n",
    "    \n",
    "    \n",
    "\n",
    "obj1 = Student4('Japan',33)\n",
    "obj1.info4()\n",
    "\n",
    "# this error shows that our parent constructor hasnot been initialized?"
   ]
  },
  {
   "cell_type": "code",
   "execution_count": 1,
   "metadata": {},
   "outputs": [
    {
     "name": "stdout",
     "output_type": "stream",
     "text": [
      "Country ==>  Japan  Zone ==>  33\n",
      "21  years old  Amir  has  Red  hair.\n"
     ]
    }
   ],
   "source": [
    "#solution\n",
    "class Person(): # Parent Class\n",
    "    def __init__(self,name,age,color):\n",
    "        self.Naam = name\n",
    "        self.Umer = age\n",
    "        self.Rang = color \n",
    "\n",
    "class Student4(Person): # Child Class\n",
    "    def __init__(self,country,zone,name,age,color):\n",
    "        super().__init__(name,age,color)\n",
    "        self.desh = country\n",
    "        self.anchal = zone\n",
    "    def info4(self):\n",
    "        print('Country ==> ',self.desh,' Zone ==> ',self.anchal)\n",
    "        print(self.Umer,' years old ',self.Naam,' has ',self.Rang,' hair.') \n",
    "        \n",
    "    \n",
    "    \n",
    "\n",
    "obj1 = Student4('Japan',33,'Amir',21,'Red')\n",
    "obj1.info4()\n"
   ]
  },
  {
   "cell_type": "code",
   "execution_count": 2,
   "metadata": {},
   "outputs": [
    {
     "ename": "SyntaxError",
     "evalue": "invalid syntax (<ipython-input-2-6102eeec080d>, line 1)",
     "output_type": "error",
     "traceback": [
      "\u001b[1;36m  File \u001b[1;32m\"<ipython-input-2-6102eeec080d>\"\u001b[1;36m, line \u001b[1;32m1\u001b[0m\n\u001b[1;33m    Database class\u001b[0m\n\u001b[1;37m             ^\u001b[0m\n\u001b[1;31mSyntaxError\u001b[0m\u001b[1;31m:\u001b[0m invalid syntax\n"
     ]
    }
   ],
   "source": [
    "Database class\n",
    "class People:"
   ]
  },
  {
   "cell_type": "code",
   "execution_count": 2,
   "metadata": {},
   "outputs": [
    {
     "name": "stdout",
     "output_type": "stream",
     "text": [
      "Enter Name : 1\n",
      "[]\n",
      "Name Add To Dictionary\n",
      "[]\n",
      "Name Add To List\n",
      "{'name': '1'}\n",
      "[{'name': '1'}]\n",
      "Enter Name : 2\n",
      "[{'name': '1'}]\n",
      "Name Add To Dictionary\n",
      "[{'name': '2'}]\n",
      "Name Add To List\n",
      "{'name': '2'}\n",
      "[{'name': '2'}, {'name': '2'}]\n",
      "Enter Name : 3\n",
      "[{'name': '2'}, {'name': '2'}]\n",
      "Name Add To Dictionary\n",
      "[{'name': '3'}, {'name': '3'}]\n",
      "Name Add To List\n",
      "{'name': '3'}\n",
      "[{'name': '3'}, {'name': '3'}, {'name': '3'}]\n"
     ]
    }
   ],
   "source": [
    "\n",
    "user_list=[]\n",
    "\n",
    "class User_Model:\n",
    "    \n",
    "    user_dictionary={}\n",
    "    \n",
    "    def dictionary_fake(self):\n",
    "        self.user_dictionary['name']=self.username # here it override the previous key:vale of dictionary of list\n",
    "            # needed ==> [{'name': '1'}, {'name': '2'}, {'name': '3'}]\n",
    "            # output ==> [{'name': '3'}, {'name': '3'}, {'name': '3'}]\n",
    "            #this self.user_dictionary should be instance of person_2 when calling from person_2.dictionary_fake() but why is it updating person_1 's list \n",
    "    def database_fake(self):\n",
    "        user_list.append(self.user_dictionary)\n",
    "    \n",
    "    def dict_show(self):\n",
    "        print(self.user_dictionary)\n",
    "    \n",
    "    def list_show(self):\n",
    "        print(user_list)\n",
    "        \n",
    "        \n",
    "class User_Controller(User_Model):\n",
    "    \n",
    "    def AddUser(self):\n",
    "        self.username = input('Enter Name : ')\n",
    "\n",
    "\n",
    "person_1=User_Controller()\n",
    "person_1.AddUser()\n",
    "person_1.list_show()\n",
    "person_1.dictionary_fake()\n",
    "print('Name Add To Dictionary')\n",
    "person_1.list_show()\n",
    "person_1.database_fake()\n",
    "print('Name Add To List')\n",
    "person_1.dict_show()\n",
    "person_1.list_show()\n",
    "\n",
    "person_2 = User_Controller()\n",
    "person_2.AddUser()\n",
    "person_2.list_show()\n",
    "person_2.dictionary_fake()\n",
    "print('Name Add To Dictionary')\n",
    "person_2.list_show()\n",
    "person_2.database_fake()\n",
    "print('Name Add To List')\n",
    "person_2.dict_show()\n",
    "person_2.list_show()\n",
    "\n",
    "person_3 = User_Controller()\n",
    "person_3.AddUser()\n",
    "person_3.list_show()\n",
    "person_3.dictionary_fake()\n",
    "print('Name Add To Dictionary')\n",
    "person_3.list_show()\n",
    "person_3.database_fake()\n",
    "print('Name Add To List')\n",
    "person_3.dict_show()\n",
    "person_3.list_show()"
   ]
  },
  {
   "cell_type": "code",
   "execution_count": 4,
   "metadata": {},
   "outputs": [
    {
     "name": "stdout",
     "output_type": "stream",
     "text": [
      "Enter Name : 1\n",
      "[]\n",
      "Name Add To Dictionary\n",
      "[]\n",
      "Name Add To List\n",
      "{'name': '1'}\n",
      "[{'name': '1'}]\n",
      "Enter Name : 2\n",
      "[{'name': '1'}]\n",
      "Name Add To Dictionary\n",
      "[{'name': '1'}]\n",
      "Name Add To List\n",
      "{'name': '2'}\n",
      "[{'name': '1'}, {'name': '2'}]\n",
      "Enter Name : 3\n",
      "[{'name': '1'}, {'name': '2'}]\n",
      "Name Add To Dictionary\n",
      "[{'name': '1'}, {'name': '2'}]\n",
      "Name Add To List\n",
      "{'name': '3'}\n",
      "[{'name': '1'}, {'name': '2'}, {'name': '3'}]\n"
     ]
    }
   ],
   "source": [
    "\n",
    "user_list=[]\n",
    "\n",
    "class User_Model:\n",
    "    \n",
    "    def dictionary_fake(self):\n",
    "        self.user_dictionary={}\n",
    "        self.user_dictionary['name']=self.username # here it override the previous key:vale of dictionary of list\n",
    "            # needed ==> [{'name': '1'}, {'name': '2'}, {'name': '3'}]\n",
    "            # output ==> [{'name': '3'}, {'name': '3'}, {'name': '3'}]\n",
    "            #this self.user_dictionary should be instance of person_2 when calling from person_2.dictionary_fake() but why is it updating person_1 's list \n",
    "    def database_fake(self):\n",
    "        user_list.append(self.user_dictionary)\n",
    "    \n",
    "    def dict_show(self):\n",
    "        print(self.user_dictionary)\n",
    "    \n",
    "    def list_show(self):\n",
    "        print(user_list)\n",
    "        \n",
    "        \n",
    "class User_Controller(User_Model):\n",
    "    \n",
    "    def AddUser(self):\n",
    "        self.username = input('Enter Name : ')\n",
    "\n",
    "\n",
    "person_1=User_Controller()\n",
    "person_1.AddUser()\n",
    "person_1.list_show()\n",
    "person_1.dictionary_fake()\n",
    "print('Name Add To Dictionary')\n",
    "person_1.list_show()\n",
    "person_1.database_fake()\n",
    "print('Name Add To List')\n",
    "person_1.dict_show()\n",
    "person_1.list_show()\n",
    "\n",
    "person_2 = User_Controller()\n",
    "person_2.AddUser()\n",
    "person_2.list_show()\n",
    "person_2.dictionary_fake()\n",
    "print('Name Add To Dictionary')\n",
    "person_2.list_show()\n",
    "person_2.database_fake()\n",
    "print('Name Add To List')\n",
    "person_2.dict_show()\n",
    "person_2.list_show()\n",
    "\n",
    "person_3 = User_Controller()\n",
    "person_3.AddUser()\n",
    "person_3.list_show()\n",
    "person_3.dictionary_fake()\n",
    "print('Name Add To Dictionary')\n",
    "person_3.list_show()\n",
    "person_3.database_fake()\n",
    "print('Name Add To List')\n",
    "person_3.dict_show()\n",
    "person_3.list_show()"
   ]
  },
  {
   "cell_type": "code",
   "execution_count": 1,
   "metadata": {},
   "outputs": [
    {
     "name": "stdout",
     "output_type": "stream",
     "text": [
      "{'name': 'Ram'}\n",
      "{'name': 'Ram'}\n",
      "{'name': 'Ram'}\n",
      "{'name': 'Ram'}\n"
     ]
    }
   ],
   "source": [
    "# No.1\n",
    "\n",
    "user_list=[]\n",
    "user_dictionary={}\n",
    "\n",
    "class User_Model:\n",
    "    \n",
    "    def dictionary_fake(self,nam):\n",
    "        user_dictionary['name']=nam\n",
    "        print(user_dictionary)\n",
    "        \n",
    "obj1=User_Model()\n",
    "obj1.dictionary_fake('Ram')\n",
    "\n",
    "\n",
    "\n",
    "\n",
    "# No.2\n",
    "user_list=[]\n",
    "\n",
    "class User_Model:\n",
    "    \n",
    "    user_dictionary={}\n",
    "    \n",
    "    def dictionary_fake(self,name):\n",
    "        self.user_dictionary['name']=name\n",
    "        print(user_dictionary)\n",
    "        \n",
    "obj2=User_Model()\n",
    "obj2.dictionary_fake('Ram')\n",
    "\n",
    "\n",
    "\n",
    "\n",
    "\n",
    "# No.3\n",
    "user_list=[]\n",
    "\n",
    "class User_Model:\n",
    "    \n",
    "    user_dictionary={}\n",
    "    \n",
    "    def dictionary_fake(self,name):\n",
    "        user_dictionary['name']=name\n",
    "        print(user_dictionary)\n",
    "        \n",
    "obj2=User_Model()\n",
    "obj2.dictionary_fake('Ram')\n",
    "\n",
    "\n",
    "\n",
    "\n",
    "\n",
    "\n",
    "# No.4\n",
    "user_list=[]\n",
    "\n",
    "class User_Model:\n",
    "    \n",
    "    def dictionary_fake(self,name):\n",
    "        self.user_dictionary={}\n",
    "        self.user_dictionary['name']=name\n",
    "        print(user_dictionary)\n",
    "        \n",
    "obj2=User_Model()\n",
    "obj2.dictionary_fake('Ram')\n"
   ]
  },
  {
   "cell_type": "code",
   "execution_count": 1,
   "metadata": {},
   "outputs": [],
   "source": [
    "# # Child(Parent) => inherit methods and property of Parent only\n",
    "# # Parent.__init__(self,a,b) => inherit constructor of Parent only\n",
    "# # super().__init__(a,b) => inherit both methods_property and constructor of Parent "
   ]
  },
  {
   "cell_type": "code",
   "execution_count": null,
   "metadata": {},
   "outputs": [],
   "source": [
    "class Staff:\n",
    "    \n",
    "    experience=0\n",
    "    salary=45000\n",
    "    \n",
    "    def increase_salary(self,time):\n",
    "        \n",
    "        if time==0:\n",
    "            print(Staff.salary)\n",
    "            \n",
    "        if time==1:\n",
    "            Staff.salary += 10000 \n",
    "            print(Staff.salary)\n",
    "            \n",
    "        if time==2:\n",
    "            Staff.salary += 10000 \n",
    "            print(Staff.salary)\n",
    "            \n",
    "s1 = Staff()\n",
    "s1.increase_salary(1)\n",
    "\n",
    "s2 = Staff()\n",
    "s2.increase_salary(2)"
   ]
  }
 ],
 "metadata": {
  "kernelspec": {
   "display_name": "Python 3",
   "language": "python",
   "name": "python3"
  },
  "language_info": {
   "codemirror_mode": {
    "name": "ipython",
    "version": 3
   },
   "file_extension": ".py",
   "mimetype": "text/x-python",
   "name": "python",
   "nbconvert_exporter": "python",
   "pygments_lexer": "ipython3",
   "version": "3.8.4"
  }
 },
 "nbformat": 4,
 "nbformat_minor": 4
}
