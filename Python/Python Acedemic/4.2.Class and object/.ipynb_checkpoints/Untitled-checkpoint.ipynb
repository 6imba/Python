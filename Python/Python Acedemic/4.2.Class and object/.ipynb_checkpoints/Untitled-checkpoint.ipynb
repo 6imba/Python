{
 "cells": [
  {
   "cell_type": "code",
   "execution_count": 17,
   "metadata": {},
   "outputs": [],
   "source": [
    "class Table:\n",
    "    dictionary = {}\n",
    "    Id = []\n",
    "    Name = []\n",
    "    Email = []"
   ]
  },
  {
   "cell_type": "code",
   "execution_count": 32,
   "metadata": {},
   "outputs": [],
   "source": [
    "class Insert(Table):\n",
    "    \n",
    "    def __init__(self):\n",
    "        User_Id=input('Enter your User_Id : ')\n",
    "        User_Name=input('Enter your User_Name : ')\n",
    "        User_Email=input('Enter your User_Email : ')\n",
    "        \n",
    "        print('User_Id : ',User_Id)\n",
    "        print('UserName: ',User_Name)\n",
    "        print('UserEmail : ',User_Email)\n",
    "        \n",
    "        self.Id.append(User_Id)\n",
    "        self.Name.append(User_Name)\n",
    "        self.Email.append(User_Email)\n",
    "        \n",
    "        \n",
    "        print(self.Id)\n",
    "        print(self.Name)\n",
    "        print(self.Email)"
   ]
  },
  {
   "cell_type": "code",
   "execution_count": 33,
   "metadata": {},
   "outputs": [
    {
     "name": "stdout",
     "output_type": "stream",
     "text": [
      "Enter your User_Id : 1212\n",
      "Enter your User_Name : asas\n",
      "Enter your User_Email : cvcv\n",
      "User_Id :  1212\n",
      "UserName:  asas\n",
      "UserEmail :  cvcv\n",
      "['1', '1', '1', '1', '1212']\n",
      "['a', 's', 'a', 'asas']\n",
      "['b', 'b', 'b', 'cvcv']\n"
     ]
    }
   ],
   "source": [
    "obj1=Insert()\n"
   ]
  },
  {
   "cell_type": "code",
   "execution_count": null,
   "metadata": {},
   "outputs": [],
   "source": [
    "user_dictionary = {}\n",
    "\n",
    "class User_Model():\n",
    "            \n",
    "    def __init__(self):\n",
    "        \n",
    "        self.User_Id=input('Enter your User_Id : ')\n",
    "        self.User_Name=input('Enter your User_Name : ')\n",
    "        self.User_Email=input('Enter your User_Email : ')\n",
    "        self.User_Password=input('Enter your User_Password : ')\n",
    "        \n",
    "        print('User_Id : ',self.User_Id)\n",
    "        print('UserName: ',self.User_Name)\n",
    "        print('UserEmail : ',self.User_Email)\n",
    "        print('Password: ',self.User_Password)\n",
    "        \n",
    "        \n",
    "    def database_fake(self):\n",
    "\n",
    "        print(user_dictionary)\n",
    "        user_dictionary['UserId']=self.User_Id\n",
    "        user_dictionary['UserName']=self.User_Name\n",
    "        user_dictionary['UserMail']=self.User_Email\n",
    "        user_dictionary['UserPassword']=self.User_Password\n",
    "        print('Dictionary loaded : ',user_dictionary)"
   ]
  }
 ],
 "metadata": {
  "kernelspec": {
   "display_name": "Python 3",
   "language": "python",
   "name": "python3"
  },
  "language_info": {
   "codemirror_mode": {
    "name": "ipython",
    "version": 3
   },
   "file_extension": ".py",
   "mimetype": "text/x-python",
   "name": "python",
   "nbconvert_exporter": "python",
   "pygments_lexer": "ipython3",
   "version": "3.8.4"
  }
 },
 "nbformat": 4,
 "nbformat_minor": 4
}
