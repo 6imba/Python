{
 "cells": [
  {
   "cell_type": "code",
   "execution_count": 1,
   "metadata": {},
   "outputs": [],
   "source": [
    "# Python Inheritance:\n",
    "\n",
    "# Inheritance allows us to define a class that inherits all the methods and properties from another class.\n",
    "# Parent class is the class being inherited from, also called base class.\n",
    "# Child class is the class that inherits from another class, also called derived class.\n"
   ]
  },
  {
   "cell_type": "code",
   "execution_count": 1,
   "metadata": {},
   "outputs": [
    {
     "name": "stdout",
     "output_type": "stream",
     "text": [
      "21  years old  SimbA  has  Blue  hair.\n"
     ]
    }
   ],
   "source": [
    "# Create a Parent Class:\n",
    "# Any class can be a parent class, so the syntax is the same as creating any other class:\n",
    "    \n",
    "class Person():\n",
    "    def __init__(self,name,age,color):\n",
    "        self.Naam = name\n",
    "        self.Umer = age\n",
    "        self.Rang = color\n",
    "        \n",
    "    def info(self):\n",
    "        print(self.Umer,' years old ',self.Naam,' has ',self.Rang,' hair.')\n",
    "\n",
    "#Use the Person class to create an object, and then execute the info method:\n",
    "obj1=Person('SimbA',21,'Blue')\n",
    "obj1.info()"
   ]
  },
  {
   "cell_type": "code",
   "execution_count": 7,
   "metadata": {},
   "outputs": [],
   "source": [
    "# Create a Child Class:\n",
    "# To create a class that inherits the functionality from another class, send the parent class as a parameter when creating the child class:\n",
    "\n",
    "# Create a class named Student, which will inherit the properties and methods from the Person class:\n",
    "class Student(Person):\n",
    "    pass\n",
    "# Note: Use the pass keyword when\n"
   ]
  },
  {
   "cell_type": "code",
   "execution_count": 1,
   "metadata": {},
   "outputs": [
    {
     "name": "stdout",
     "output_type": "stream",
     "text": [
      "21  years old  SimbA  has  Blue  hair.\n"
     ]
    }
   ],
   "source": [
    "class Person1(): # Parent Class\n",
    "    def __init__(self,name,age,color):\n",
    "        self.Naam = name\n",
    "        self.Umer = age\n",
    "        self.Rang = color\n",
    "        \n",
    "    def info1(self):\n",
    "        print(self.Umer,' years old ',self.Naam,' has ',self.Rang,' hair.')\n",
    "\n",
    "class Student1(Person1): # Child Class\n",
    "    pass\n",
    "\n",
    "obj1=Student1('SimbA',21,'Blue')\n",
    "obj1.info1()"
   ]
  },
  {
   "cell_type": "code",
   "execution_count": 2,
   "metadata": {},
   "outputs": [
    {
     "name": "stdout",
     "output_type": "stream",
     "text": [
      "<__main__.ChildClass object at 0x058E65B0>\n",
      "I am method inside ChildClass !\n",
      "I am method inside ParentClass !\n"
     ]
    }
   ],
   "source": [
    "class ParentClass(): #parent_class\n",
    "    def method1(self):\n",
    "        print('I am method inside ParentClass !')\n",
    "        \n",
    "class ChildClass(ParentClass): #child_class inheritance\n",
    "    def method2(self):\n",
    "        print('I am method inside ChildClass !')\n",
    "        \n",
    "obj1Child = ChildClass() # object_of_child_class\n",
    "print(obj1Child)\n",
    "obj1Child.method2() # method of ChildClass #line_1\n",
    "obj1Child.method1() # Inherite method of ParentClass #line_2\n",
    "\n",
    "# here we call function/methods of class in line_1 and line_2 when we create object of class\n",
    "# But incase of __init__() function, __init__() function is called automatically every time class is used to create object\n"
   ]
  },
  {
   "cell_type": "code",
   "execution_count": 10,
   "metadata": {},
   "outputs": [],
   "source": [
    "# Add the __init__() Function\n",
    "\n",
    "# So far we have created a child class that inherits the properties and methods from its parent.\n",
    "# We want to add the __init__() function to the child class (instead of the pass keyword).\n",
    "# Note: The __init__() function is called automatically every time the class is being used to create a new object.\n",
    "\n",
    "# Add the __init__() function to the Student class:\n",
    "\n",
    "class Student(Person):\n",
    "    def __init__(self, fname, lname):\n",
    "    #add properties etc.\n",
    "    \n",
    "# When you add the __init__() function, the child class will no longer inherit the parent's __init__() function.\n",
    "# Note: The child's __init__() function overrides the inheritance of the parent's __init__() function."
   ]
  },
  {
   "cell_type": "code",
   "execution_count": 3,
   "metadata": {},
   "outputs": [
    {
     "name": "stdout",
     "output_type": "stream",
     "text": [
      "21  years old  SimbA  has  Blue  hair.\n"
     ]
    }
   ],
   "source": [
    "class Person(): # Parent Class\n",
    "    def __init__(self,name,age,color):\n",
    "        self.Naam = name\n",
    "        self.Umer = age\n",
    "        self.Rang = color\n",
    "        \n",
    "    def info(self):\n",
    "        print(self.Umer,' years old ',self.Naam,' has ',self.Rang,' hair.')\n",
    "\n",
    "class Student(Person): # Child Class\n",
    "    def __init__(self,name,age,color):\n",
    "        self.Naam = name\n",
    "        self.Umer = age\n",
    "        self.Rang = color\n",
    "        \n",
    "obj1=Student('SimbA',21,'Blue') # assign property(name,age,color) to the object(obj1) of class(Student)\n",
    "obj1.info() # call method of class(Person) and passing propert(self.Naam,self.Umer,self.Rang) by the object(obj1) of class(Student)"
   ]
  },
  {
   "cell_type": "code",
   "execution_count": 2,
   "metadata": {},
   "outputs": [
    {
     "ename": "AttributeError",
     "evalue": "'Student' object has no attribute 'Umer'",
     "output_type": "error",
     "traceback": [
      "\u001b[1;31m---------------------------------------------------------------------------\u001b[0m",
      "\u001b[1;31mAttributeError\u001b[0m                            Traceback (most recent call last)",
      "\u001b[1;32m<ipython-input-2-75af53f5c860>\u001b[0m in \u001b[0;36m<module>\u001b[1;34m\u001b[0m\n\u001b[0;32m     15\u001b[0m \u001b[1;33m\u001b[0m\u001b[0m\n\u001b[0;32m     16\u001b[0m \u001b[0mobj1\u001b[0m\u001b[1;33m=\u001b[0m\u001b[0mStudent\u001b[0m\u001b[1;33m(\u001b[0m\u001b[1;34m'SimbA'\u001b[0m\u001b[1;33m,\u001b[0m\u001b[1;36m21\u001b[0m\u001b[1;33m,\u001b[0m\u001b[1;34m'Blue'\u001b[0m\u001b[1;33m)\u001b[0m \u001b[1;31m# assign property(name,age,color) to the object(obj1) of class(Student)\u001b[0m\u001b[1;33m\u001b[0m\u001b[1;33m\u001b[0m\u001b[0m\n\u001b[1;32m---> 17\u001b[1;33m \u001b[0mobj1\u001b[0m\u001b[1;33m.\u001b[0m\u001b[0minfo\u001b[0m\u001b[1;33m(\u001b[0m\u001b[1;33m)\u001b[0m \u001b[1;31m# call method of class(Person) and passing propert(self.N1,self.U1,self.R1) by the object(obj1) of class(Student)\u001b[0m\u001b[1;33m\u001b[0m\u001b[1;33m\u001b[0m\u001b[0m\n\u001b[0m",
      "\u001b[1;32m<ipython-input-2-75af53f5c860>\u001b[0m in \u001b[0;36minfo\u001b[1;34m(self)\u001b[0m\n\u001b[0;32m      6\u001b[0m \u001b[1;33m\u001b[0m\u001b[0m\n\u001b[0;32m      7\u001b[0m     \u001b[1;32mdef\u001b[0m \u001b[0minfo\u001b[0m\u001b[1;33m(\u001b[0m\u001b[0mself\u001b[0m\u001b[1;33m)\u001b[0m\u001b[1;33m:\u001b[0m\u001b[1;33m\u001b[0m\u001b[1;33m\u001b[0m\u001b[0m\n\u001b[1;32m----> 8\u001b[1;33m         \u001b[0mprint\u001b[0m\u001b[1;33m(\u001b[0m\u001b[0mself\u001b[0m\u001b[1;33m.\u001b[0m\u001b[0mUmer\u001b[0m\u001b[1;33m,\u001b[0m\u001b[1;34m' years old '\u001b[0m\u001b[1;33m,\u001b[0m\u001b[0mself\u001b[0m\u001b[1;33m.\u001b[0m\u001b[0mNaam\u001b[0m\u001b[1;33m,\u001b[0m\u001b[1;34m' has '\u001b[0m\u001b[1;33m,\u001b[0m\u001b[0mself\u001b[0m\u001b[1;33m.\u001b[0m\u001b[0mRang\u001b[0m\u001b[1;33m,\u001b[0m\u001b[1;34m' hair.'\u001b[0m\u001b[1;33m)\u001b[0m\u001b[1;33m\u001b[0m\u001b[1;33m\u001b[0m\u001b[0m\n\u001b[0m\u001b[0;32m      9\u001b[0m \u001b[1;33m\u001b[0m\u001b[0m\n\u001b[0;32m     10\u001b[0m \u001b[1;32mclass\u001b[0m \u001b[0mStudent\u001b[0m\u001b[1;33m(\u001b[0m\u001b[0mPerson\u001b[0m\u001b[1;33m)\u001b[0m\u001b[1;33m:\u001b[0m \u001b[1;31m# Child Class\u001b[0m\u001b[1;33m\u001b[0m\u001b[1;33m\u001b[0m\u001b[0m\n",
      "\u001b[1;31mAttributeError\u001b[0m: 'Student' object has no attribute 'Umer'"
     ]
    }
   ],
   "source": [
    "class Person(): # Parent Class\n",
    "    def __init__(self,name,age,color):\n",
    "        self.Naam = name\n",
    "        self.Umer = age\n",
    "        self.Rang = color\n",
    "        \n",
    "    def info(self):\n",
    "        print(self.Umer,' years old ',self.Naam,' has ',self.Rang,' hair.')\n",
    "\n",
    "class Student(Person): # Child Class\n",
    "    def __init__(self,name,age,color):\n",
    "        self.N1 = name\n",
    "        self.U1 = age\n",
    "        self.R1 = color\n",
    "        \n",
    "obj1=Student('SimbA',21,'Blue') # assign property(name,age,color) to the object(obj1) of class(Student)\n",
    "obj1.info() # call method of class(Person) and passing propert(self.N1,self.U1,self.R1) by the object(obj1) of class(Student)"
   ]
  },
  {
   "cell_type": "code",
   "execution_count": 5,
   "metadata": {},
   "outputs": [
    {
     "name": "stdout",
     "output_type": "stream",
     "text": [
      "21  years old  SimbA  has  Blue  hair.\n"
     ]
    }
   ],
   "source": [
    "class Person(): # Parent Class\n",
    "    def __init__(self,name,age,color):\n",
    "        self.Naam = name\n",
    "        self.Umer = age\n",
    "        self.Rang = color\n",
    "        \n",
    "    def info1(self):\n",
    "        print(self.Umer,' years old ',self.Naam,' has ',self.Rang,' hair.')\n",
    "        \n",
    "    def info2(self):\n",
    "        print(self.U1,' years old ',self.N1,' has ',self.R1,' hair.')\n",
    "\n",
    "class Student(Person): # Child Class\n",
    "    def __init__(self,name,age,color):\n",
    "        self.N1 = name\n",
    "        self.U1 = age\n",
    "        self.R1 = color\n",
    "        \n",
    "obj1=Student('SimbA',21,'Blue') # assign property(name,age,color) to the object(obj1) of class(Student)\n",
    "obj1.info2() # call methodinfo2() of class(Person) and passing propert(self.N1,self.U1,self.R1) by the object(obj1) of class(Student)"
   ]
  },
  {
   "cell_type": "code",
   "execution_count": 7,
   "metadata": {},
   "outputs": [
    {
     "name": "stdout",
     "output_type": "stream",
     "text": [
      "SimbA 21 Blue\n",
      "SimbA  years old  21  has  Blue  hair.\n"
     ]
    }
   ],
   "source": [
    "class Person(): # Parent Class\n",
    "    def __init__(self,name,age,color):\n",
    "        self.Naam = name\n",
    "        self.Umer = age\n",
    "        self.Rang = color\n",
    "        \n",
    "    def info1(self):\n",
    "        print(self.Naam,self.Umer,self.Rang)\n",
    "        \n",
    "    def intro(self,a,b,c):\n",
    "        print(a,' years old ',b,' has ',c,' hair.')\n",
    "\n",
    "class Student(Person): # Child Class\n",
    "    def __init__(self,name,age,color):\n",
    "        self.Naam = name\n",
    "        self.Umer = age\n",
    "        self.Rang = color\n",
    "        \n",
    "obj1=Student('SimbA',21,'Blue') # assign property(name,age,color) to the object(obj1) of class(Student)\n",
    "obj1.info1()\n",
    "obj1.intro('SimbA',21,'Blue') # ????? call method of class(Person) and passing propert(self.Naam,self.Umer,self.Rang) by the object(obj1) of class(Student)"
   ]
  },
  {
   "cell_type": "code",
   "execution_count": 7,
   "metadata": {},
   "outputs": [
    {
     "name": "stdout",
     "output_type": "stream",
     "text": [
      "SimbA  years old  21  has  Blue  hair.\n"
     ]
    }
   ],
   "source": [
    "class Person(): # Parent Class\n",
    "    def __init__(self,name,age,color):\n",
    "        self.Naam = name\n",
    "        self.Umer = age\n",
    "        self.Rang = color\n",
    "        \n",
    "    def info(self):\n",
    "        print(self.Naam,' years old ',self.Umer,' has ',self.Rang,' hair.')\n",
    "\n",
    "class Student(Person): # Child Class\n",
    "    def __init__(self,name,age,color):\n",
    "        super().__init__(name,age,color)\n",
    "#       self.__init__(name,age,color)\n",
    "#        obj1.__init__(name,age,color)\n",
    "        self.Naam = name\n",
    "        self.Umer = age\n",
    "        self.Rang = color\n",
    "        \n",
    "obj1=Student('SimbA',21,'Blue') # assign property(name,age,color) to the object(obj1) of class(Student)\n",
    "obj1.info() "
   ]
  },
  {
   "cell_type": "code",
   "execution_count": 14,
   "metadata": {},
   "outputs": [
    {
     "name": "stdout",
     "output_type": "stream",
     "text": [
      "Country ==>  Nepal  Zone ==>  14\n",
      "27  years old  Hari  has  Black  hair.\n",
      "Name ==>  Hari  is  27  years old has  Black  hair color and lives in   Nepal  Zone  14\n"
     ]
    }
   ],
   "source": [
    "class Person(): # Parent Class\n",
    "    def __init__(self,Name,Age,Color):\n",
    "        self.NAME = Name\n",
    "        self.AGE = Age\n",
    "        self.COLOR = Color\n",
    "        \n",
    "    def info1(self):\n",
    "        print(self.AGE,' years old ',self.NAME,' has ',self.COLOR,' hair.')\n",
    "\n",
    "class Student(Person): # Child Class\n",
    "    def __init__(self,name,age,color,country,zone):\n",
    "        super().__init__(name,age,color)\n",
    "        self.desh = country\n",
    "        self.anchal = zone\n",
    "    \n",
    "    def info2(self):\n",
    "        print('Country ==> ',self.desh,' Zone ==> ',self.anchal)\n",
    "    \n",
    "    def final_info(self):\n",
    "        print('Name ==> ',self.NAME,' is ',self.AGE,' years old has ',self.COLOR,' hair color and lives in  ',self.desh,' Zone ',self.anchal)\n",
    "    \n",
    "obj1=Student('Hari','27','Black','Nepal',14)\n",
    "obj1.info2()\n",
    "obj1.info1()\n",
    "obj1.final_info()\n"
   ]
  },
  {
   "cell_type": "code",
   "execution_count": 8,
   "metadata": {},
   "outputs": [
    {
     "name": "stdout",
     "output_type": "stream",
     "text": [
      "Constructor of parent class !\n",
      "21  years old  SimbA  has  BlacK  hair.\n",
      "Constructor of parent class !\n",
      "21  years old  SimbA  has  BlacK  hair.\n",
      "<__main__.Student1 object at 0x04E37958>\n",
      "Constructor of child class !\n",
      "21  years old  SimbA  has  BlacK  hair.\n",
      "Constructor of child class !\n",
      "Country ==>  Nepal  Zone ==>  14\n",
      "<__main__.Student3 object at 0x04E37958>\n"
     ]
    }
   ],
   "source": [
    "class Person(): # Parent Class\n",
    "    def __init__(self,name,age,color):\n",
    "        print('Constructor of parent class !')\n",
    "        self.Naam = name\n",
    "        self.Umer = age\n",
    "        self.Rang = color \n",
    "    def info1(self):\n",
    "        print(self.Umer,' years old ',self.Naam,' has ',self.Rang,' hair.')   \n",
    "    def info2(self):\n",
    "        print(self.U1,' years old ',self.N1,' has ',self.R1,' hair.')\n",
    "\n",
    "class Student1(Person): # Child Class\n",
    "    pass  \n",
    "        \n",
    "class Student2(Person): # Child Class\n",
    "    \n",
    "    def __init__(self,name,age,color):\n",
    "        print('Constructor of child class !')\n",
    "        self.N1 = name\n",
    "        self.U1 = age\n",
    "        self.R1 = color\n",
    "    \n",
    "class Student3(Person): # Child Class\n",
    "    def __init__(self,country,zone):\n",
    "        print('Constructor of child class !')\n",
    "        self.desh = country\n",
    "        self.anchal = zone\n",
    "    def info3(self):\n",
    "        print('Country ==> ',self.desh,' Zone ==> ',self.anchal)\n",
    "     \n",
    "    \n",
    "obj1=Person('SimbA',21,'BlacK')\n",
    "obj1.info1() # obj1 is created\n",
    "obj1 = Student1('SimbA',21,'BlacK')\n",
    "obj1.info1()\n",
    "print(obj1)\n",
    "obj1 = Student2('SimbA',21,'BlacK')\n",
    "obj1.info2() # here obj1 is override\n",
    "obj1 = Student3('Nepal',14)\n",
    "obj1.info3()\n",
    "print(obj1)\n",
    "# here obj1 is override"
   ]
  },
  {
   "cell_type": "code",
   "execution_count": 24,
   "metadata": {},
   "outputs": [
    {
     "name": "stdout",
     "output_type": "stream",
     "text": [
      "Child_Constructor ==> Mike Olsen\n",
      "ParentConstructor ==> Mike Olsen\n",
      "Parent_Constructor ==> Mike Olsen\n",
      "Parent_Constructor ==> Mike Olsen\n",
      "Child_Constructor ==> Mike Olsen\n"
     ]
    }
   ],
   "source": [
    "# To keep the inheritance of the parent's __init__() function, add a call to the parent's __init__() function:\n",
    "\n",
    "class Person:\n",
    "    def __init__(self, fname, lname):\n",
    "        print('ParentConstructor ==>',fname, lname)\n",
    "        self.firstname = fname\n",
    "        self.lastname = lname\n",
    "        print('Parent_Constructor ==>',self.firstname, self.lastname)\n",
    "\n",
    "class Student(Person):\n",
    "    def __init__(self, fn, ln):\n",
    "        print('Child_Constructor ==>',fn, ln)\n",
    "        Person.__init__(self, fn, ln) # add a call to the parent's __init__() function\n",
    "#         print('ParentConstructor ==>',fname, lname) # error fname is attriburte of parent class only\n",
    "        print('Parent_Constructor ==>',self.firstname, self.lastname)\n",
    "        print('Child_Constructor ==>',fn, ln)\n",
    "\n",
    "\n",
    "        \n",
    "x = Student(\"Mike\", \"Olsen\")\n",
    "\n",
    "\n",
    "# Now we have successfully added the __init__() function, and kept the inheritance of the parent class, \n",
    "# and we are ready to add functionality in the __init__() function."
   ]
  },
  {
   "cell_type": "code",
   "execution_count": 16,
   "metadata": {},
   "outputs": [
    {
     "name": "stdout",
     "output_type": "stream",
     "text": [
      "Parent const :  Mike Olsen\n",
      "Child const :  Mike Olsen\n",
      "Child const :  Mike Olsen\n",
      "Parent const :  Mike Olsen\n",
      "Parent const and Child const :  Mike Olsen 2\n"
     ]
    }
   ],
   "source": [
    "# To keep the inheritance of the parent's __init__() function, add a call to the parent's __init__() function:\n",
    "\n",
    "class Person:\n",
    "    def __init__(self, fname, lname):\n",
    "        self.firstname = fname\n",
    "        self.lastname = lname\n",
    "    a=2\n",
    "    def printname1(self):\n",
    "        print('Parent const : ',self.firstname, self.lastname)\n",
    "\n",
    "class Student(Person):\n",
    "    def __init__(self, fn, ln):\n",
    "        Person.__init__(self, fn, ln) # add a call to the parent's __init__() function\n",
    "        self.one = fn\n",
    "        self.two = ln\n",
    "    def printname2(self):\n",
    "        print('Child const : ',self.one, self.two)\n",
    "        \n",
    "    def printname3(self):\n",
    "        print('Child const : ',self.one, self.two)\n",
    "        print('Parent const : ',self.firstname, self.lastname)\n",
    "        print('Parent const and Child const : ',self.one, self.lastname,self.a)\n",
    "        #here a is class variable and self.lastname is instant variable\n",
    "x = Student(\"Mike\", \"Olsen\")\n",
    "x.printname1() # x is object of child class(Student)  and methd(printname1()) is is of parent class(Person)\n",
    "x.printname2() # x is object of child class(Student)  and methd(printname1()) is is of child class(Student)\n",
    "x.printname3()\n",
    "\n",
    "# Now we have successfully added the __init__() function, and kept the inheritance of the parent class, \n",
    "# and we are ready to add functionality in the __init__() function."
   ]
  },
  {
   "cell_type": "code",
   "execution_count": 17,
   "metadata": {},
   "outputs": [
    {
     "name": "stdout",
     "output_type": "stream",
     "text": [
      "Parent const :  Mike Olsen\n",
      "Child const :  Mike Olsen\n",
      "Child const :  Mike Olsen\n",
      "Parent const :  Mike Olsen\n",
      "Parent const and Child const :  Mike Olsen 2\n"
     ]
    }
   ],
   "source": [
    "# To keep the inheritance of the parent's __init__() function, add a call to the parent's __init__() function:\n",
    "\n",
    "class Person:\n",
    "    def __init__(self, fname, lname):\n",
    "        self.firstname = fname\n",
    "        self.lastname = lname\n",
    "    global a\n",
    "    a=2\n",
    "    def printname1(self):\n",
    "        print('Parent const : ',self.firstname, self.lastname)\n",
    "\n",
    "class Student(Person):\n",
    "    def __init__(self, fn, ln):\n",
    "        Person.__init__(self, fn, ln) # add a call to the parent's __init__() function\n",
    "        self.one = fn\n",
    "        self.two = ln\n",
    "    def printname2(self):\n",
    "        print('Child const : ',self.one, self.two)\n",
    "        \n",
    "    def printname3(self):\n",
    "        print('Child const : ',self.one, self.two)\n",
    "        print('Parent const : ',self.firstname, self.lastname)\n",
    "        print('Parent const and Child const : ',self.one, self.lastname,a)\n",
    "        #here a is class variable and self.lastname is instant variable\n",
    "x = Student(\"Mike\", \"Olsen\")\n",
    "x.printname1() # x is object of child class(Student)  and methd(printname1()) is is of parent class(Person)\n",
    "x.printname2() # x is object of child class(Student)  and methd(printname1()) is is of child class(Student)\n",
    "x.printname3()\n",
    "\n",
    "# Now we have successfully added the __init__() function, and kept the inheritance of the parent class, \n",
    "# and we are ready to add functionality in the __init__() function."
   ]
  },
  {
   "cell_type": "code",
   "execution_count": 22,
   "metadata": {},
   "outputs": [
    {
     "ename": "AttributeError",
     "evalue": "'Student' object has no attribute 'firstname'",
     "output_type": "error",
     "traceback": [
      "\u001b[1;31m---------------------------------------------------------------------------\u001b[0m",
      "\u001b[1;31mAttributeError\u001b[0m                            Traceback (most recent call last)",
      "\u001b[1;32m<ipython-input-22-81b09b53565c>\u001b[0m in \u001b[0;36m<module>\u001b[1;34m\u001b[0m\n\u001b[0;32m     13\u001b[0m \u001b[1;33m\u001b[0m\u001b[0m\n\u001b[0;32m     14\u001b[0m \u001b[0mx\u001b[0m \u001b[1;33m=\u001b[0m \u001b[0mStudent\u001b[0m\u001b[1;33m(\u001b[0m\u001b[1;34m\"Mike\"\u001b[0m\u001b[1;33m,\u001b[0m \u001b[1;34m\"Olsen\"\u001b[0m\u001b[1;33m)\u001b[0m\u001b[1;33m\u001b[0m\u001b[1;33m\u001b[0m\u001b[0m\n\u001b[1;32m---> 15\u001b[1;33m \u001b[0mx\u001b[0m\u001b[1;33m.\u001b[0m\u001b[0mprintname\u001b[0m\u001b[1;33m(\u001b[0m\u001b[1;33m)\u001b[0m\u001b[1;33m\u001b[0m\u001b[1;33m\u001b[0m\u001b[0m\n\u001b[0m",
      "\u001b[1;32m<ipython-input-22-81b09b53565c>\u001b[0m in \u001b[0;36mprintname\u001b[1;34m(self)\u001b[0m\n\u001b[0;32m      5\u001b[0m \u001b[1;33m\u001b[0m\u001b[0m\n\u001b[0;32m      6\u001b[0m     \u001b[1;32mdef\u001b[0m \u001b[0mprintname\u001b[0m\u001b[1;33m(\u001b[0m\u001b[0mself\u001b[0m\u001b[1;33m)\u001b[0m\u001b[1;33m:\u001b[0m\u001b[1;33m\u001b[0m\u001b[1;33m\u001b[0m\u001b[0m\n\u001b[1;32m----> 7\u001b[1;33m         \u001b[0mprint\u001b[0m\u001b[1;33m(\u001b[0m\u001b[0mself\u001b[0m\u001b[1;33m.\u001b[0m\u001b[0mfirstname\u001b[0m\u001b[1;33m,\u001b[0m \u001b[0mself\u001b[0m\u001b[1;33m.\u001b[0m\u001b[0mlastname\u001b[0m\u001b[1;33m)\u001b[0m\u001b[1;33m\u001b[0m\u001b[1;33m\u001b[0m\u001b[0m\n\u001b[0m\u001b[0;32m      8\u001b[0m \u001b[1;33m\u001b[0m\u001b[0m\n\u001b[0;32m      9\u001b[0m \u001b[1;32mclass\u001b[0m \u001b[0mStudent\u001b[0m\u001b[1;33m(\u001b[0m\u001b[0mPerson\u001b[0m\u001b[1;33m)\u001b[0m\u001b[1;33m:\u001b[0m\u001b[1;33m\u001b[0m\u001b[1;33m\u001b[0m\u001b[0m\n",
      "\u001b[1;31mAttributeError\u001b[0m: 'Student' object has no attribute 'firstname'"
     ]
    }
   ],
   "source": [
    "\n",
    "class Person:\n",
    "    def __init__(self, fname, lname):\n",
    "        self.firstname = fname\n",
    "        self.lastname = lname\n",
    "\n",
    "    def printname(self):\n",
    "        print(self.firstname, self.lastname)\n",
    "\n",
    "class Student(Person):\n",
    "    def __init__(self, fn, ln):\n",
    "        self.apple = fn\n",
    "        self.ball = ln\n",
    "\n",
    "x = Student(\"Mike\", \"Olsen\")\n",
    "x.printname()\n"
   ]
  },
  {
   "cell_type": "code",
   "execution_count": 24,
   "metadata": {},
   "outputs": [
    {
     "name": "stdout",
     "output_type": "stream",
     "text": [
      "Mike Olsen\n"
     ]
    }
   ],
   "source": [
    "\n",
    "class Person:\n",
    "    def __init__(self, fname, lname):\n",
    "        self.firstname = fname\n",
    "        self.lastname = lname\n",
    "\n",
    "    def printname(self):\n",
    "        print(self.firstname, self.lastname)\n",
    "\n",
    "class Student(Person):\n",
    "    def __init__(self, fn, ln):\n",
    "        super().__init__(fn, ln)\n",
    "        self.apple = fn\n",
    "        self.ball = ln\n",
    "\n",
    "x = Student(\"Mike\", \"Olsen\")\n",
    "x.printname()\n"
   ]
  },
  {
   "cell_type": "code",
   "execution_count": 25,
   "metadata": {},
   "outputs": [
    {
     "name": "stdout",
     "output_type": "stream",
     "text": [
      "Parent :  Mike Olsen\n",
      "Child :  Mike Olsen\n"
     ]
    }
   ],
   "source": [
    "\n",
    "class Person:\n",
    "    def __init__(self, fname, lname):\n",
    "        self.firstname = fname\n",
    "        self.lastname = lname\n",
    "\n",
    "    def printname1(self):\n",
    "        print('Parent : ',self.firstname, self.lastname)\n",
    "\n",
    "class Student(Person):\n",
    "    def __init__(self, fn, ln):\n",
    "        Person.__init__(self,fn, ln)\n",
    "        self.apple = fn\n",
    "        self.ball = ln\n",
    "\n",
    "    def printname2(self):\n",
    "        print('Child : ',self.apple, self.ball)\n",
    "        \n",
    "x = Student(\"Mike\", \"Olsen\")\n",
    "x.printname1()\n",
    "x.printname2()\n",
    "\n",
    "# here -----\n",
    "# fname, lname ==> parameter of parent_constructor\n",
    "# fn, ln ==> parameter of child_constructor\n",
    "# self.firstname, self.lastname ==> instant_object.variable of parent_constructor\n",
    "# self.apple, self.ball ==> instant_object.variable of child_constructor"
   ]
  },
  {
   "cell_type": "code",
   "execution_count": 44,
   "metadata": {},
   "outputs": [
    {
     "name": "stdout",
     "output_type": "stream",
     "text": [
      "Mike Olsen\n"
     ]
    }
   ],
   "source": [
    "# Use the super() Function:\n",
    "# Python also has a super() function that will make the child class inherit all the methods and properties from its parent:\n",
    "\n",
    "class Person:\n",
    "    def __init__(self, fname, lname):\n",
    "        self.firstname = fname\n",
    "        self.lastname = lname\n",
    "\n",
    "    def printname(self):\n",
    "        print(self.firstname, self.lastname)\n",
    "\n",
    "class Student(Person):\n",
    "    def __init__(self, fn, ln):\n",
    "        super().__init__(fn, ln)\n",
    "\n",
    "x = Student(\"Mike\", \"Olsen\")\n",
    "x.printname()\n",
    "\n",
    "# By using the super() function, you do not have to use the name of the parent element, \n",
    "# it will automatically inherit the methods and properties from its parent.\n",
    "\n",
    "# Parent.__init__(self,arg1, arg2)\n",
    "# super().__init__(arg1, arg2)"
   ]
  },
  {
   "cell_type": "code",
   "execution_count": 45,
   "metadata": {},
   "outputs": [
    {
     "name": "stdout",
     "output_type": "stream",
     "text": [
      "2019\n"
     ]
    }
   ],
   "source": [
    "# Add Properties:\n",
    "# Add a property called graduationyear to the Student class:\n",
    "\n",
    "class Person:\n",
    "    def __init__(self, fname, lname):\n",
    "        self.firstname = fname\n",
    "        self.lastname = lname\n",
    "\n",
    "    def printname(self):\n",
    "        print(self.firstname, self.lastname)\n",
    "\n",
    "class Student(Person):\n",
    "    def __init__(self, fname, lname):\n",
    "        super().__init__(fname, lname)\n",
    "        self.graduationyear = 2019\n",
    "\n",
    "x = Student(\"Mike\", \"Olsen\")\n",
    "print(x.graduationyear)\n",
    "\n",
    "# In the example below, the year 2019 should be a variable, and passed into the Student class when creating student objects. \n",
    "# To do so, add another parameter in the __init__() function:"
   ]
  },
  {
   "cell_type": "code",
   "execution_count": 50,
   "metadata": {},
   "outputs": [
    {
     "name": "stdout",
     "output_type": "stream",
     "text": [
      "2019\n"
     ]
    }
   ],
   "source": [
    "class Person:\n",
    "    def __init__(self, fname, lname):\n",
    "        self.firstname = fname\n",
    "        self.lastname = lname\n",
    "\n",
    "    def printname(self):\n",
    "        print(self.firstname, self.lastname)\n",
    "\n",
    "class Student(Person):\n",
    "    def __init__(self, fname, lname,graduationyear):\n",
    "        super().__init__(fname, lname)\n",
    "        print(graduationyear)\n",
    "\n",
    "x = Student(\"Mike\", \"Olsen\",2019)\n"
   ]
  },
  {
   "cell_type": "code",
   "execution_count": 17,
   "metadata": {},
   "outputs": [
    {
     "name": "stdout",
     "output_type": "stream",
     "text": [
      "2019\n",
      "2019\n",
      "2019\n"
     ]
    }
   ],
   "source": [
    "class Person:\n",
    "    def __init__(self, fname, lname):\n",
    "        self.firstname = fname\n",
    "        self.lastname = lname\n",
    "\n",
    "    def printname(self):\n",
    "        print(self.firstname, self.lastname)\n",
    "\n",
    "class Student(Person):\n",
    "    def __init__(self, fname, lname,graduationyear):\n",
    "        super().__init__(fname, lname)\n",
    "        print(graduationyear)\n",
    "        self.GradYear = graduationyear\n",
    "\n",
    "x = Student(\"Mike\", \"Olsen\",2019)\n",
    "print(x.GradYear)\n",
    "print(x.GradYear) "
   ]
  },
  {
   "cell_type": "code",
   "execution_count": 18,
   "metadata": {},
   "outputs": [
    {
     "name": "stdout",
     "output_type": "stream",
     "text": [
      "2019\n"
     ]
    }
   ],
   "source": [
    "# Add a year parameter, and pass the correct year when creating objects:\n",
    "\n",
    "class Person:\n",
    "    def __init__(self, fname, lname):\n",
    "        self.firstname = fname\n",
    "        self.lastname = lname\n",
    "\n",
    "    def printname(self):\n",
    "        print(self.firstname, self.lastname)\n",
    "\n",
    "class Student(Person):\n",
    "    def __init__(self, fname, lname, year):\n",
    "        super().__init__(fname, lname)\n",
    "        self.graduationyear = year\n",
    "\n",
    "x = Student(\"Mike\", \"Olsen\", 2019)\n",
    "print(x.graduationyear)"
   ]
  },
  {
   "cell_type": "code",
   "execution_count": 55,
   "metadata": {},
   "outputs": [
    {
     "name": "stdout",
     "output_type": "stream",
     "text": [
      "Welcome Mike Olsen to the class of 2019\n"
     ]
    }
   ],
   "source": [
    "# Add Methods 1:\n",
    "# Add a method called welcome to the Student class:\n",
    "\n",
    "class Person:\n",
    "    def __init__(self, fname, lname):\n",
    "        self.firstname = fname\n",
    "        self.lastname = lname\n",
    "\n",
    "    def printname(self):\n",
    "        print(self.firstname, self.lastname)\n",
    "\n",
    "class Student(Person):\n",
    "    def __init__(self, fname, lname, year):\n",
    "        super().__init__(fname, lname)\n",
    "        self.graduationyear = year\n",
    "\n",
    "    def welcome(self):\n",
    "        print(\"Welcome\", self.firstname, self.lastname, \"to the class of\", self.graduationyear)\n",
    "\n",
    "x = Student(\"Mike\", \"Olsen\", 2019)\n",
    "x.welcome()\n",
    "\n",
    "\n",
    "# If you add a method in the child class with the same name as a function in the parent class, \n",
    "# the inheritance of the parent method will be overridden."
   ]
  },
  {
   "cell_type": "code",
   "execution_count": 57,
   "metadata": {},
   "outputs": [
    {
     "name": "stdout",
     "output_type": "stream",
     "text": [
      "Welcome Mike Olsen to the class of 2019\n"
     ]
    }
   ],
   "source": [
    "# Add Methods 2:\n",
    "# Add a method called welcome to the Student class:\n",
    "\n",
    "class Person:\n",
    "    def __init__(self, fname, lname):\n",
    "        self.firstname = fname\n",
    "        self.lastname = lname\n",
    "\n",
    "    def printname(self):\n",
    "        print(self.firstname, self.lastname)\n",
    "\n",
    "class Student(Person):\n",
    "    def __init__(self, f_name, l_name, year):\n",
    "        super().__init__(l_name, l_name)\n",
    "        self.fn =f_name\n",
    "        self.ln =l_name\n",
    "        self.graduationyear = year\n",
    "# note here we are again initializing first_name(self.fn) and last_name(self.ln) in child_class \n",
    "# which is already initialized in parent_class so its waste of time memory so Add Methods 1  is better\n",
    "    def welcome(self):\n",
    "        print(\"Welcome\", self.fn, self.ln, \"to the class of\", self.graduationyear)\n",
    "\n",
    "x = Student(\"Mike\", \"Olsen\", 2019)\n",
    "x.welcome()\n"
   ]
  },
  {
   "cell_type": "code",
   "execution_count": 22,
   "metadata": {},
   "outputs": [
    {
     "name": "stdout",
     "output_type": "stream",
     "text": [
      "21  years old  SimbA  has  BlacK  hair.\n",
      "21  years old  SimbA  has  BlacK  hair.\n",
      "21  years old  SimbA  has  BlacK  hair.\n",
      "Country ==>  Nepal  Zone ==>  14\n",
      "Country ==>  Japan  Zone ==>  33\n"
     ]
    },
    {
     "ename": "AttributeError",
     "evalue": "'Student4' object has no attribute 'Umer'",
     "output_type": "error",
     "traceback": [
      "\u001b[1;31m---------------------------------------------------------------------------\u001b[0m",
      "\u001b[1;31mAttributeError\u001b[0m                            Traceback (most recent call last)",
      "\u001b[1;32m<ipython-input-22-507d927bfe22>\u001b[0m in \u001b[0;36m<module>\u001b[1;34m\u001b[0m\n\u001b[0;32m     55\u001b[0m \u001b[0mobj1\u001b[0m \u001b[1;33m=\u001b[0m \u001b[0mStudent4\u001b[0m\u001b[1;33m(\u001b[0m\u001b[1;34m'Japan'\u001b[0m\u001b[1;33m,\u001b[0m\u001b[1;36m33\u001b[0m\u001b[1;33m)\u001b[0m\u001b[1;33m\u001b[0m\u001b[1;33m\u001b[0m\u001b[0m\n\u001b[0;32m     56\u001b[0m \u001b[1;31m# obj1 = Student4('SimbA',21,'BlacK','Japan',33)  # try\u001b[0m\u001b[1;33m\u001b[0m\u001b[1;33m\u001b[0m\u001b[1;33m\u001b[0m\u001b[0m\n\u001b[1;32m---> 57\u001b[1;33m \u001b[0mobj1\u001b[0m\u001b[1;33m.\u001b[0m\u001b[0minfo4\u001b[0m\u001b[1;33m(\u001b[0m\u001b[1;33m)\u001b[0m\u001b[1;33m\u001b[0m\u001b[1;33m\u001b[0m\u001b[0m\n\u001b[0m",
      "\u001b[1;32m<ipython-input-22-507d927bfe22>\u001b[0m in \u001b[0;36minfo4\u001b[1;34m(self)\u001b[0m\n\u001b[0;32m     31\u001b[0m     \u001b[1;32mdef\u001b[0m \u001b[0minfo4\u001b[0m\u001b[1;33m(\u001b[0m\u001b[0mself\u001b[0m\u001b[1;33m)\u001b[0m\u001b[1;33m:\u001b[0m\u001b[1;33m\u001b[0m\u001b[1;33m\u001b[0m\u001b[0m\n\u001b[0;32m     32\u001b[0m         \u001b[0mprint\u001b[0m\u001b[1;33m(\u001b[0m\u001b[1;34m'Country ==> '\u001b[0m\u001b[1;33m,\u001b[0m\u001b[0mself\u001b[0m\u001b[1;33m.\u001b[0m\u001b[0mdesh\u001b[0m\u001b[1;33m,\u001b[0m\u001b[1;34m' Zone ==> '\u001b[0m\u001b[1;33m,\u001b[0m\u001b[0mself\u001b[0m\u001b[1;33m.\u001b[0m\u001b[0manchal\u001b[0m\u001b[1;33m)\u001b[0m\u001b[1;33m\u001b[0m\u001b[1;33m\u001b[0m\u001b[0m\n\u001b[1;32m---> 33\u001b[1;33m         \u001b[0mprint\u001b[0m\u001b[1;33m(\u001b[0m\u001b[0mself\u001b[0m\u001b[1;33m.\u001b[0m\u001b[0mUmer\u001b[0m\u001b[1;33m,\u001b[0m\u001b[1;34m' years old '\u001b[0m\u001b[1;33m,\u001b[0m\u001b[0mself\u001b[0m\u001b[1;33m.\u001b[0m\u001b[0mNaam\u001b[0m\u001b[1;33m,\u001b[0m\u001b[1;34m' has '\u001b[0m\u001b[1;33m,\u001b[0m\u001b[0mself\u001b[0m\u001b[1;33m.\u001b[0m\u001b[0mRang\u001b[0m\u001b[1;33m,\u001b[0m\u001b[1;34m' hair.'\u001b[0m\u001b[1;33m)\u001b[0m\u001b[1;33m\u001b[0m\u001b[1;33m\u001b[0m\u001b[0m\n\u001b[0m\u001b[0;32m     34\u001b[0m     \u001b[1;31m#here crontructor of parent is not inheritaed\u001b[0m\u001b[1;33m\u001b[0m\u001b[1;33m\u001b[0m\u001b[1;33m\u001b[0m\u001b[0m\n\u001b[0;32m     35\u001b[0m \u001b[1;33m\u001b[0m\u001b[0m\n",
      "\u001b[1;31mAttributeError\u001b[0m: 'Student4' object has no attribute 'Umer'"
     ]
    }
   ],
   "source": [
    "class Person(): # Parent Class\n",
    "    def __init__(self,name,age,color):\n",
    "        self.Naam = name\n",
    "        self.Umer = age\n",
    "        self.Rang = color \n",
    "    def info1(self):\n",
    "        print(self.Umer,' years old ',self.Naam,' has ',self.Rang,' hair.')   \n",
    "    def info2(self):\n",
    "        print(self.U1,' years old ',self.N1,' has ',self.R1,' hair.')\n",
    "\n",
    "class Student1(Person): # Child Class\n",
    "    pass  \n",
    "        \n",
    "class Student2(Person): # Child Class\n",
    "    def __init__(self,name,age,color):\n",
    "        self.N1 = name\n",
    "        self.U1 = age\n",
    "        self.R1 = color\n",
    "    \n",
    "class Student3(Person): # Child Class\n",
    "    def __init__(self,country,zone):\n",
    "        self.desh = country\n",
    "        self.anchal = zone\n",
    "    def info3(self):\n",
    "        print('Country ==> ',self.desh,' Zone ==> ',self.anchal)\n",
    "    \n",
    "class Student4(Person): # Child Class\n",
    "    def __init__(self,country,zone):\n",
    "        self.desh = country\n",
    "        self.anchal = zone\n",
    "    def info4(self):\n",
    "        print('Country ==> ',self.desh,' Zone ==> ',self.anchal)\n",
    "        print(self.Umer,' years old ',self.Naam,' has ',self.Rang,' hair.') \n",
    "    #here crontructor of parent is not inheritaed\n",
    "    \n",
    "# class Student4(Person): # Child Class\n",
    "#     def __init__(self,name,age,color,country,zone):\n",
    "#         super().__init__(name,age,color)\n",
    "#         self.desh = country\n",
    "#         self.anchal = zone\n",
    "#     def info4(self):\n",
    "#         print('Country ==> ',self.desh,' Zone ==> ',self.anchal)\n",
    "#         print(self.Umer,' years old ',self.Naam,' has ',self.Rang,' hair.') \n",
    "# try this\n",
    "    \n",
    "    \n",
    "obj1=Person('SimbA',21,'BlacK')\n",
    "obj1.info1()\n",
    "obj1 = Student1('SimbA',21,'BlacK')\n",
    "obj1.info1()\n",
    "obj1 = Student2('SimbA',21,'BlacK')\n",
    "obj1.info2()\n",
    "obj1 = Student3('Nepal',14)\n",
    "obj1.info3()\n",
    "obj1 = Student4('Japan',33)\n",
    "# obj1 = Student4('SimbA',21,'BlacK','Japan',33)  # try\n",
    "obj1.info4()"
   ]
  },
  {
   "cell_type": "code",
   "execution_count": 69,
   "metadata": {},
   "outputs": [
    {
     "name": "stdout",
     "output_type": "stream",
     "text": [
      "Country ==>  Japan  Zone ==>  33\n",
      "100  years old  zingPing  has  Brown  hair.\n"
     ]
    }
   ],
   "source": [
    "#solution \n",
    "class Person(): # Parent Class\n",
    "    def __init__(self,name,age,color):\n",
    "        self.Naam = name\n",
    "        self.Umer = age\n",
    "        self.Rang = color \n",
    "\n",
    "class Student4(Person): # Child Class\n",
    "    def __init__(self,country,zone,name,age,color):\n",
    "        super().__init__(name,age,color)\n",
    "        self.desh = country\n",
    "        self.anchal = zone\n",
    "    def info4(self):\n",
    "        print('Country ==> ',self.desh,' Zone ==> ',self.anchal)\n",
    "        print(self.Umer,' years old ',self.Naam,' has ',self.Rang,' hair.') \n",
    "        \n",
    "    \n",
    "    \n",
    "\n",
    "obj1 = Student4('Japan',33,'zingPing',100,'Brown')\n",
    "obj1.info4()"
   ]
  },
  {
   "cell_type": "code",
   "execution_count": 72,
   "metadata": {},
   "outputs": [
    {
     "name": "stdout",
     "output_type": "stream",
     "text": [
      "Country ==>  Japan  Zone ==>  33\n",
      "100  years old  zingPing  has  Brown  hair.\n"
     ]
    }
   ],
   "source": [
    "#also\n",
    "class Person(): # Parent Class\n",
    "    def __init__(self,name,age,color):\n",
    "        self.Naam = name\n",
    "        self.Umer = age\n",
    "        self.Rang = color \n",
    "\n",
    "class Student4(Person): # Child Class\n",
    "    def __init__(self,country,zone,name,age,color):\n",
    "        super().__init__(name,age,color)\n",
    "        self.desh = country\n",
    "        self.anchal = zone\n",
    "    def info4(self):\n",
    "        print('Country ==> ',self.desh,' Zone ==> ',self.anchal)\n",
    "        print(self.Umer,' years old ',self.Naam,' has ',self.Rang,' hair.') \n",
    "        \n",
    "    \n",
    "    \n",
    "\n",
    "obj1 = Student4(country='Japan',zone=33,name='zingPing',age=100,color='Brown')\n",
    "obj1.info4()\n",
    "\n",
    "#initializeing both parent constructor and child constrictor"
   ]
  },
  {
   "cell_type": "code",
   "execution_count": 75,
   "metadata": {},
   "outputs": [
    {
     "name": "stdout",
     "output_type": "stream",
     "text": [
      "Country ==>  Japan\n",
      "100  years old  zingPing  has  Brown  hair.\n"
     ]
    }
   ],
   "source": [
    "#also\n",
    "class Person(): # Parent Class\n",
    "    def __init__(self,name,age,color):\n",
    "        self.Naam = name\n",
    "        self.Umer = age\n",
    "        self.Rang = color \n",
    "\n",
    "class Student4(Person): # Child Class\n",
    "    def __init__(self,country,name,age,color):\n",
    "        super().__init__(name,age,color)\n",
    "        self.desh = country\n",
    "    def info4(self):\n",
    "        print('Country ==> ',self.desh)\n",
    "        print(self.Umer,' years old ',self.Naam,' has ',self.Rang,' hair.') \n",
    "        \n",
    "    \n",
    "    \n",
    "\n",
    "obj1 = Student4(country='Japan',name='zingPing',age=100,color='Brown')\n",
    "obj1.info4()\n",
    "\n",
    "#initializeing both parent constructor and child constrictor"
   ]
  },
  {
   "cell_type": "code",
   "execution_count": 77,
   "metadata": {},
   "outputs": [
    {
     "name": "stdout",
     "output_type": "stream",
     "text": [
      "Country ==>  Japan\n",
      "100  years old  zingPing  has  Brown  hair.\n"
     ]
    }
   ],
   "source": [
    "#also\n",
    "class Person(): # Parent Class\n",
    "    def __init__(self,name,age,color):\n",
    "        self.Naam = name\n",
    "        self.Umer = age\n",
    "        self.Rang = color \n",
    "\n",
    "class Student4(Person): # Child Class\n",
    "    def __init__(self,country,age,name,color):\n",
    "        super().__init__(name,age,color)\n",
    "        self.desh = country\n",
    "    def info4(self):\n",
    "        print('Country ==> ',self.desh)\n",
    "        print(self.Umer,' years old ',self.Naam,' has ',self.Rang,' hair.') \n",
    "        \n",
    "    \n",
    "    \n",
    "\n",
    "obj1 = Student4(country='Japan',name='zingPing',age=100,color='Brown')\n",
    "obj1.info4()\n",
    "\n",
    "#initializeing both parent constructor and child constrictor"
   ]
  },
  {
   "cell_type": "code",
   "execution_count": 79,
   "metadata": {},
   "outputs": [
    {
     "name": "stdout",
     "output_type": "stream",
     "text": [
      "Country ==>  Japan\n",
      "zingPing  years old  100  has  Brown  hair.\n"
     ]
    }
   ],
   "source": [
    "#also\n",
    "class Person(): # Parent Class\n",
    "    def __init__(self,name,age,color):\n",
    "        self.Naam = name\n",
    "        self.Umer = age\n",
    "        self.Rang = color \n",
    "\n",
    "class Student4(Person): # Child Class\n",
    "    def __init__(self,country,age,name,color):\n",
    "        super().__init__(name,age,color)\n",
    "        self.desh = country\n",
    "    def info4(self):\n",
    "        print('Country ==> ',self.desh)\n",
    "        print(self.Umer,' years old ',self.Naam,' has ',self.Rang,' hair.') \n",
    "        \n",
    "    \n",
    "    \n",
    "\n",
    "obj1 = Student4('Japan','zingPing',100,'Brown') # its not good\n",
    "obj1.info4()\n",
    "\n",
    "#initializeing both parent constructor and child constrictor"
   ]
  }
 ],
 "metadata": {
  "kernelspec": {
   "display_name": "Python 3",
   "language": "python",
   "name": "python3"
  },
  "language_info": {
   "codemirror_mode": {
    "name": "ipython",
    "version": 3
   },
   "file_extension": ".py",
   "mimetype": "text/x-python",
   "name": "python",
   "nbconvert_exporter": "python",
   "pygments_lexer": "ipython3",
   "version": "3.8.4"
  }
 },
 "nbformat": 4,
 "nbformat_minor": 4
}
