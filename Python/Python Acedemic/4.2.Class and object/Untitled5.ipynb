{
 "cells": [
  {
   "cell_type": "code",
   "execution_count": 16,
   "metadata": {},
   "outputs": [
    {
     "name": "stdout",
     "output_type": "stream",
     "text": [
      "Zoya\n",
      "19\n",
      "Hello class B !\n",
      "Amir\n",
      "21\n",
      "Hello class A !\n"
     ]
    }
   ],
   "source": [
    "class A1:\n",
    "    name1='Amir'\n",
    "    age1=21\n",
    "    def show1(self):\n",
    "        print('Hello class A !')\n",
    "    \n",
    "class B1(A1):\n",
    "    naam1='Zoya'\n",
    "    umer1=19\n",
    "    def output1(self):\n",
    "        print('Hello class B !')\n",
    "        \n",
    "obj1=B1()\n",
    "print(obj1.naam1)\n",
    "print(obj1.umer1)\n",
    "obj1.output1()\n",
    "\n",
    "print(obj1.name1)\n",
    "print(obj1.age1)\n",
    "obj1.show1()\n",
    "\n",
    "# here we can use same object(obj2) to inherit outside the class"
   ]
  },
  {
   "cell_type": "code",
   "execution_count": 27,
   "metadata": {},
   "outputs": [
    {
     "name": "stdout",
     "output_type": "stream",
     "text": [
      "Zoya\n",
      "19\n",
      "Hello class B !\n",
      "Amir\n",
      "21\n"
     ]
    },
    {
     "ename": "TypeError",
     "evalue": "show2() missing 1 required positional argument: 'self'",
     "output_type": "error",
     "traceback": [
      "\u001b[1;31m---------------------------------------------------------------------------\u001b[0m",
      "\u001b[1;31mTypeError\u001b[0m                                 Traceback (most recent call last)",
      "\u001b[1;32m<ipython-input-27-f17a7d92199a>\u001b[0m in \u001b[0;36m<module>\u001b[1;34m\u001b[0m\n\u001b[0;32m     18\u001b[0m \u001b[0mprint\u001b[0m\u001b[1;33m(\u001b[0m\u001b[0mA2\u001b[0m\u001b[1;33m.\u001b[0m\u001b[0mname2\u001b[0m\u001b[1;33m)\u001b[0m\u001b[1;33m\u001b[0m\u001b[1;33m\u001b[0m\u001b[0m\n\u001b[0;32m     19\u001b[0m \u001b[0mprint\u001b[0m\u001b[1;33m(\u001b[0m\u001b[0mA2\u001b[0m\u001b[1;33m.\u001b[0m\u001b[0mage2\u001b[0m\u001b[1;33m)\u001b[0m\u001b[1;33m\u001b[0m\u001b[1;33m\u001b[0m\u001b[0m\n\u001b[1;32m---> 20\u001b[1;33m \u001b[0mA2\u001b[0m\u001b[1;33m.\u001b[0m\u001b[0mshow2\u001b[0m\u001b[1;33m(\u001b[0m\u001b[1;33m)\u001b[0m\u001b[1;33m\u001b[0m\u001b[1;33m\u001b[0m\u001b[0m\n\u001b[0m\u001b[0;32m     21\u001b[0m \u001b[1;33m\u001b[0m\u001b[0m\n\u001b[0;32m     22\u001b[0m \u001b[1;31m# here we can use same object(obj2) to inherit outside the class\u001b[0m\u001b[1;33m\u001b[0m\u001b[1;33m\u001b[0m\u001b[1;33m\u001b[0m\u001b[0m\n",
      "\u001b[1;31mTypeError\u001b[0m: show2() missing 1 required positional argument: 'self'"
     ]
    }
   ],
   "source": [
    "class A2:\n",
    "    name2='Amir'\n",
    "    age2=21\n",
    "    def show2(self):# show2 need argument: 'self' object to be pass\n",
    "        print('Hello class A !')\n",
    "    \n",
    "class B2(A2):\n",
    "    naam2='Zoya'\n",
    "    umer2=19\n",
    "    def output2(self):\n",
    "        print('Hello class B !')\n",
    "        \n",
    "obj2=B2()\n",
    "print(obj2.naam2)\n",
    "print(obj2.umer2)\n",
    "obj2.output2()\n",
    "\n",
    "print(A2.name2)\n",
    "print(A2.age2)\n",
    "A2.show2()\n",
    "\n",
    "# here we can use same object(obj2) to inherit outside the class"
   ]
  },
  {
   "cell_type": "code",
   "execution_count": 26,
   "metadata": {},
   "outputs": [
    {
     "name": "stdout",
     "output_type": "stream",
     "text": [
      "Zoya\n",
      "19\n",
      "Hello class B !\n",
      "Amir\n",
      "21\n",
      "Hello class A !\n"
     ]
    }
   ],
   "source": [
    "class A2:\n",
    "    name2='Amir'\n",
    "    age2=21\n",
    "    def show2():\n",
    "        print('Hello class A !')\n",
    "    \n",
    "class B2(A2):\n",
    "    naam2='Zoya'\n",
    "    umer2=19\n",
    "    def output2(self):\n",
    "        print('Hello class B !')\n",
    "        \n",
    "obj2=B2()\n",
    "print(obj2.naam2)\n",
    "print(obj2.umer2)\n",
    "obj2.output2()\n",
    "\n",
    "print(A2.name2)\n",
    "print(A2.age2)\n",
    "A2.show2()\n",
    "\n",
    "# here we can use same object(obj2) to inherit outside the class"
   ]
  },
  {
   "cell_type": "code",
   "execution_count": 36,
   "metadata": {},
   "outputs": [
    {
     "name": "stdout",
     "output_type": "stream",
     "text": [
      "Zoya\n",
      "19\n",
      "Hello class B !\n"
     ]
    },
    {
     "ename": "TypeError",
     "evalue": "show2() missing 1 required positional argument: 'self'",
     "output_type": "error",
     "traceback": [
      "\u001b[1;31m---------------------------------------------------------------------------\u001b[0m",
      "\u001b[1;31mTypeError\u001b[0m                                 Traceback (most recent call last)",
      "\u001b[1;32m<ipython-input-36-f41426438f70>\u001b[0m in \u001b[0;36m<module>\u001b[1;34m\u001b[0m\n\u001b[0;32m     15\u001b[0m \u001b[0mprint\u001b[0m\u001b[1;33m(\u001b[0m\u001b[0mobj2\u001b[0m\u001b[1;33m.\u001b[0m\u001b[0mnaam2\u001b[0m\u001b[1;33m)\u001b[0m\u001b[1;33m\u001b[0m\u001b[1;33m\u001b[0m\u001b[0m\n\u001b[0;32m     16\u001b[0m \u001b[0mprint\u001b[0m\u001b[1;33m(\u001b[0m\u001b[0mobj2\u001b[0m\u001b[1;33m.\u001b[0m\u001b[0mumer2\u001b[0m\u001b[1;33m)\u001b[0m\u001b[1;33m\u001b[0m\u001b[1;33m\u001b[0m\u001b[0m\n\u001b[1;32m---> 17\u001b[1;33m \u001b[0mobj2\u001b[0m\u001b[1;33m.\u001b[0m\u001b[0moutput2\u001b[0m\u001b[1;33m(\u001b[0m\u001b[1;33m)\u001b[0m\u001b[1;33m\u001b[0m\u001b[1;33m\u001b[0m\u001b[0m\n\u001b[0m\u001b[0;32m     18\u001b[0m \u001b[1;33m\u001b[0m\u001b[0m\n\u001b[0;32m     19\u001b[0m \u001b[1;33m\u001b[0m\u001b[0m\n",
      "\u001b[1;32m<ipython-input-36-f41426438f70>\u001b[0m in \u001b[0;36moutput2\u001b[1;34m(self)\u001b[0m\n\u001b[0;32m     10\u001b[0m     \u001b[1;32mdef\u001b[0m \u001b[0moutput2\u001b[0m\u001b[1;33m(\u001b[0m\u001b[0mself\u001b[0m\u001b[1;33m)\u001b[0m\u001b[1;33m:\u001b[0m\u001b[1;33m\u001b[0m\u001b[1;33m\u001b[0m\u001b[0m\n\u001b[0;32m     11\u001b[0m         \u001b[0mprint\u001b[0m\u001b[1;33m(\u001b[0m\u001b[1;34m'Hello class B !'\u001b[0m\u001b[1;33m)\u001b[0m\u001b[1;33m\u001b[0m\u001b[1;33m\u001b[0m\u001b[0m\n\u001b[1;32m---> 12\u001b[1;33m         \u001b[0mA2\u001b[0m\u001b[1;33m.\u001b[0m\u001b[0mshow2\u001b[0m\u001b[1;33m(\u001b[0m\u001b[1;33m)\u001b[0m\u001b[1;33m\u001b[0m\u001b[1;33m\u001b[0m\u001b[0m\n\u001b[0m\u001b[0;32m     13\u001b[0m \u001b[1;33m\u001b[0m\u001b[0m\n\u001b[0;32m     14\u001b[0m \u001b[0mobj2\u001b[0m\u001b[1;33m=\u001b[0m\u001b[0mB2\u001b[0m\u001b[1;33m(\u001b[0m\u001b[1;33m)\u001b[0m\u001b[1;33m\u001b[0m\u001b[1;33m\u001b[0m\u001b[0m\n",
      "\u001b[1;31mTypeError\u001b[0m: show2() missing 1 required positional argument: 'self'"
     ]
    }
   ],
   "source": [
    "class A2:\n",
    "    name2='Amir'\n",
    "    age2=21\n",
    "    def show2(self):\n",
    "        print('Hello class A !')\n",
    "    \n",
    "class B2(A2):\n",
    "    naam2='Zoya'\n",
    "    umer2=19\n",
    "    def output2(self):\n",
    "        print('Hello class B !')\n",
    "        A2.show2()\n",
    "        \n",
    "obj2=B2()\n",
    "print(obj2.naam2)\n",
    "print(obj2.umer2)\n",
    "obj2.output2()\n",
    "\n",
    "\n",
    "# here we can use same object(obj2) to inherit outside the class"
   ]
  },
  {
   "cell_type": "code",
   "execution_count": 41,
   "metadata": {},
   "outputs": [
    {
     "name": "stdout",
     "output_type": "stream",
     "text": [
      "Zoya\n",
      "19\n",
      "Hello class B !\n",
      "Hello class A !\n"
     ]
    }
   ],
   "source": [
    "class A2:\n",
    "    name2='Amir'\n",
    "    age2=21\n",
    "    def show2(self):\n",
    "        print('Hello class A !')\n",
    "    \n",
    "class B2(A2):\n",
    "    naam2='Zoya'\n",
    "    umer2=19\n",
    "    def output2(self):\n",
    "        print('Hello class B !')\n",
    "        self.show2()\n",
    "        \n",
    "obj2=B2()\n",
    "print(obj2.naam2)\n",
    "print(obj2.umer2)\n",
    "obj2.output2()\n",
    "\n",
    "\n",
    "# here we can use same object(obj2) to inherit outside the class"
   ]
  },
  {
   "cell_type": "code",
   "execution_count": 47,
   "metadata": {},
   "outputs": [
    {
     "name": "stdout",
     "output_type": "stream",
     "text": [
      "Zoya\n",
      "19\n",
      "Hello class B !\n",
      "Hello class A !\n"
     ]
    }
   ],
   "source": [
    "class A2:\n",
    "    name2='Amir'\n",
    "    age2=21\n",
    "    def show2(self):\n",
    "        print('Hello class A !')\n",
    "    \n",
    "class B2(A2):\n",
    "    naam2='Zoya'\n",
    "    umer2=19\n",
    "    def output2(self):\n",
    "        print('Hello class B !')\n",
    "        obj2.show2()\n",
    "        \n",
    "obj2=B2()\n",
    "print(obj2.naam2)\n",
    "print(obj2.umer2)\n",
    "obj2.output2()\n",
    "\n",
    "\n",
    "# here we can use same object(obj2) to inherit outside the class"
   ]
  },
  {
   "cell_type": "code",
   "execution_count": 49,
   "metadata": {},
   "outputs": [
    {
     "name": "stdout",
     "output_type": "stream",
     "text": [
      "Zoya\n",
      "19\n",
      "Hello class B !\n",
      "Hello class A !\n"
     ]
    }
   ],
   "source": [
    "class A2:\n",
    "    name2='Amir'\n",
    "    age2=21\n",
    "    def show2(self):\n",
    "        print('Hello class A !')\n",
    "    \n",
    "class B2(A2):\n",
    "    naam2='Zoya'\n",
    "    umer2=19\n",
    "    def output2(self):\n",
    "        print('Hello class B !')\n",
    "        super().show2()\n",
    "        \n",
    "obj2=B2()\n",
    "print(obj2.naam2)\n",
    "print(obj2.umer2)\n",
    "obj2.output2()\n",
    "\n",
    "\n",
    "# here we can use same object(obj2) to inherit outside the class"
   ]
  },
  {
   "cell_type": "code",
   "execution_count": 50,
   "metadata": {},
   "outputs": [
    {
     "name": "stdout",
     "output_type": "stream",
     "text": [
      "Zoya\n",
      "19\n",
      "Hello class B !\n",
      "Hello class A !\n",
      "Hello class A !\n",
      "Hello class A !\n"
     ]
    }
   ],
   "source": [
    "class A2:\n",
    "    name2='Amir'\n",
    "    age2=21\n",
    "    def show2(self):\n",
    "        print('Hello class A !')\n",
    "    \n",
    "class B2(A2):\n",
    "    naam2='Zoya'\n",
    "    umer2=19\n",
    "    def output2(self):\n",
    "        print('Hello class B !')\n",
    "        super().show2()\n",
    "        obj2.show2()\n",
    "        self.show2()\n",
    "        \n",
    "obj2=B2()\n",
    "print(obj2.naam2)\n",
    "print(obj2.umer2)\n",
    "obj2.output2()\n",
    "\n",
    "\n",
    "# here we can use same object(obj2) to inherit outside the class"
   ]
  }
 ],
 "metadata": {
  "kernelspec": {
   "display_name": "Python 3",
   "language": "python",
   "name": "python3"
  },
  "language_info": {
   "codemirror_mode": {
    "name": "ipython",
    "version": 3
   },
   "file_extension": ".py",
   "mimetype": "text/x-python",
   "name": "python",
   "nbconvert_exporter": "python",
   "pygments_lexer": "ipython3",
   "version": "3.8.4"
  }
 },
 "nbformat": 4,
 "nbformat_minor": 4
}
