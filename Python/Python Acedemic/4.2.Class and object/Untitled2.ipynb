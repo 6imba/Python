{
 "cells": [
  {
   "cell_type": "code",
   "execution_count": 7,
   "metadata": {
    "colab": {},
    "colab_type": "code",
    "id": "_hZdgZnnhJvk"
   },
   "outputs": [],
   "source": [
    "import random"
   ]
  },
  {
   "cell_type": "code",
   "execution_count": 55,
   "metadata": {
    "colab": {},
    "colab_type": "code",
    "id": "OnOUz77mmatH"
   },
   "outputs": [],
   "source": [
    "Database class\n",
    "\n",
    "database = {}\n",
    "\n",
    "def view_database():\n",
    "  print(databse)\n",
    "\n",
    "def save_to_database(id, name, age):\n",
    "  database = {\n",
    "      'id': list_of_id\n",
    "      ,'name': list_of_name\n",
    "      ,'age': list_of_age\n",
    "  }\n",
    "\n",
    "def update_database(name, id):\n",
    "  \"\"\"Update dictionary with new name if id matches to the value existing in database\"\"\"\n",
    "\n",
    "  Loop in the database:\n",
    "    if(id exists in the database):\n",
    "        Update name\n",
    "        save to database\n",
    "    else:\n",
    "      print(\"Id doesn't exist\")"
   ]
  },
  {
   "cell_type": "code",
   "execution_count": 57,
   "metadata": {
    "colab": {},
    "colab_type": "code",
    "id": "sDlzV3n6gMiV"
   },
   "outputs": [],
   "source": [
    "class People:\n",
    "  \"\"\"Class for people\"\"\"\n",
    "  def __init__(self):\n",
    "    self.id = random.randrange(1000)\n",
    "    self.name = \"Not Assigned\"\n",
    "    self.age = 1\n",
    "  \n",
    "  def show_details(self):\n",
    "    print(\"The identifier of person is\", self.id)\n",
    "    print(\"Name is \",self.name)\n",
    "    print(\"Age is \",self.age)\n",
    "  \n",
    "  def put_name(self, name):\n",
    "    self.name = name\n",
    "  \n",
    "  def save_people(self):\n",
    "    save_to_database(self.id, self.name, self.age)\n",
    "  \n",
    "  def update_people(self, name):\n",
    "    self.name = name\n",
    "    update_database(self.name, self.id)\n",
    "\n",
    "  def show_id(self):\n",
    "    print(self.id)"
   ]
  },
  {
   "cell_type": "code",
   "execution_count": 58,
   "metadata": {
    "colab": {
     "base_uri": "https://localhost:8080/",
     "height": 68
    },
    "colab_type": "code",
    "id": "4RYN9PpMgstP",
    "outputId": "8aa9efbe-e61d-4787-bd65-93ad566148c7"
   },
   "outputs": [
    {
     "name": "stdout",
     "output_type": "stream",
     "text": [
      "The identifier of person is 22\n",
      "Name is  Smriti\n",
      "Age is  1\n"
     ]
    }
   ],
   "source": [
    "people_1 = People()\n",
    "people_1.put_name(name=\"Smriti\")\n",
    "people_1.show_details()"
   ]
  },
  {
   "cell_type": "code",
   "execution_count": 48,
   "metadata": {
    "colab": {},
    "colab_type": "code",
    "id": "IpGRF5L-j5QW"
   },
   "outputs": [],
   "source": [
    "people_1.save_to_database()"
   ]
  },
  {
   "cell_type": "code",
   "execution_count": 49,
   "metadata": {
    "colab": {
     "base_uri": "https://localhost:8080/",
     "height": 34
    },
    "colab_type": "code",
    "id": "-w1xcOhFj5m9",
    "outputId": "c65c90bb-8565-47f9-e697-8bc2d90d522b"
   },
   "outputs": [
    {
     "name": "stdout",
     "output_type": "stream",
     "text": [
      "{'id': 53, 'name': 'Smriti', 'age': 1}\n"
     ]
    }
   ],
   "source": [
    "people_1.view_database()"
   ]
  },
  {
   "cell_type": "code",
   "execution_count": 50,
   "metadata": {
    "colab": {
     "base_uri": "https://localhost:8080/",
     "height": 34
    },
    "colab_type": "code",
    "id": "gaPykXlij51D",
    "outputId": "48ba4b5a-3b23-4c6f-8cc0-31f4119564a1"
   },
   "outputs": [
    {
     "name": "stdout",
     "output_type": "stream",
     "text": [
      "{'id': 53, 'name': 'Suman', 'age': 1}\n"
     ]
    }
   ],
   "source": [
    "people_1.update_database(name=\"Suman\")\n",
    "people_1.view_database()"
   ]
  },
  {
   "cell_type": "code",
   "execution_count": 51,
   "metadata": {
    "colab": {},
    "colab_type": "code",
    "id": "2qUkR4_aj53w"
   },
   "outputs": [],
   "source": [
    "class Student(People):\n",
    "  \"\"\"Class for Student\"\"\"\n",
    "  def __init__(self):\n",
    "    super().__init__()"
   ]
  },
  {
   "cell_type": "code",
   "execution_count": 53,
   "metadata": {
    "colab": {
     "base_uri": "https://localhost:8080/",
     "height": 68
    },
    "colab_type": "code",
    "id": "hyUZY9KLj5qs",
    "outputId": "47888313-e08a-40b4-faf0-912a08c72052"
   },
   "outputs": [
    {
     "name": "stdout",
     "output_type": "stream",
     "text": [
      "The identifier of person is 749\n",
      "Name is  Not Assigned\n",
      "Age is  1\n"
     ]
    }
   ],
   "source": [
    "std1 = Student()\n",
    "std1.show_details()"
   ]
  },
  {
   "cell_type": "code",
   "execution_count": 60,
   "metadata": {
    "colab": {
     "base_uri": "https://localhost:8080/",
     "height": 34
    },
    "colab_type": "code",
    "id": "XqxhcjSvj5TV",
    "outputId": "ca7b4496-9ea9-499d-a718-ccf28f016fe1"
   },
   "outputs": [
    {
     "name": "stdout",
     "output_type": "stream",
     "text": [
      "22\n"
     ]
    }
   ],
   "source": [
    "people_1.show_id()"
   ]
  },
  {
   "cell_type": "code",
   "execution_count": 61,
   "metadata": {
    "colab": {
     "base_uri": "https://localhost:8080/",
     "height": 68
    },
    "colab_type": "code",
    "id": "Y_RqumiYlFXZ",
    "outputId": "952a97a8-1d1a-4cc7-a625-692ea074803b"
   },
   "outputs": [
    {
     "name": "stdout",
     "output_type": "stream",
     "text": [
      "The identifier of person is 33\n",
      "Name is  Not Assigned\n",
      "Age is  1\n"
     ]
    }
   ],
   "source": [
    "people_2 = People()\n",
    "people_2.show_details()"
   ]
  },
  {
   "cell_type": "code",
   "execution_count": 62,
   "metadata": {
    "colab": {
     "base_uri": "https://localhost:8080/",
     "height": 34
    },
    "colab_type": "code",
    "id": "HDaG6IrFlFus",
    "outputId": "129ce83d-f32f-4987-c43f-a192348a3c66"
   },
   "outputs": [
    {
     "name": "stdout",
     "output_type": "stream",
     "text": [
      "33\n"
     ]
    }
   ],
   "source": [
    "people_2.show_id()"
   ]
  },
  {
   "cell_type": "code",
   "execution_count": null,
   "metadata": {
    "colab": {},
    "colab_type": "code",
    "id": "-NqfhoJElF72"
   },
   "outputs": [],
   "source": [
    "oldname exist in database => fetch index of the name\n",
    "id fetch = id[index]\n",
    "fetch id from the row where oldname matches\n"
   ]
  },
  {
   "cell_type": "code",
   "execution_count": null,
   "metadata": {
    "colab": {},
    "colab_type": "code",
    "id": "1tkoCcvjlFrd"
   },
   "outputs": [],
   "source": []
  },
  {
   "cell_type": "code",
   "execution_count": 19,
   "metadata": {
    "colab": {
     "base_uri": "https://localhost:8080/",
     "height": 68
    },
    "colab_type": "code",
    "id": "8UySuZnKg6q9",
    "outputId": "ca9ecffa-06e9-4bc2-eb14-ec04466e3007"
   },
   "outputs": [
    {
     "name": "stdout",
     "output_type": "stream",
     "text": [
      "The identifier of person is 608\n",
      "Name is  Not Assigned\n",
      "Age is  1\n"
     ]
    }
   ],
   "source": [
    "people_2 = People()\n",
    "people_2.show_details()"
   ]
  },
  {
   "cell_type": "code",
   "execution_count": 20,
   "metadata": {
    "colab": {
     "base_uri": "https://localhost:8080/",
     "height": 68
    },
    "colab_type": "code",
    "id": "S2MZsoyqhHdJ",
    "outputId": "16d0d934-c22f-4baa-a118-3bb9bb704216"
   },
   "outputs": [
    {
     "name": "stdout",
     "output_type": "stream",
     "text": [
      "The identifier of person is 613\n",
      "Name is  Not Assigned\n",
      "Age is  1\n"
     ]
    }
   ],
   "source": [
    "people_3 = People()\n",
    "people_3.show_details()"
   ]
  },
  {
   "cell_type": "code",
   "execution_count": 34,
   "metadata": {
    "colab": {
     "base_uri": "https://localhost:8080/",
     "height": 68
    },
    "colab_type": "code",
    "id": "qLzKQyaMhZ_o",
    "outputId": "dbbcb7bc-2748-4aad-be89-5473b1325c89"
   },
   "outputs": [
    {
     "name": "stdout",
     "output_type": "stream",
     "text": [
      "The identifier of person is 449\n",
      "Name is  Smriti\n",
      "Age is  1\n"
     ]
    }
   ],
   "source": []
  },
  {
   "cell_type": "code",
   "execution_count": 35,
   "metadata": {
    "colab": {},
    "colab_type": "code",
    "id": "k3bSy130ixhi"
   },
   "outputs": [],
   "source": [
    "class User_Model(abc):\n",
    "    \n",
    "    user_dictionary={}\n",
    "    \n",
    "    def __init__(self):\n",
    "        pass\n",
    "        \n",
    "    def __call__(self, name):\n",
    "        self.name = name\n",
    "        \n",
    "        super().abc_function(self.name)\n",
    "        \n",
    "    \n",
    "    def dictionary_fake(self):\n",
    "        self.user_dictionary['name']=self.username # here it override the previous key:vale of dictionary of list\n",
    "            # needed ==> [{'name': '1'}, {'name': '2'}, {'name': '3'}]\n",
    "            # output ==> [{'name': '3'}, {'name': '3'}, {'name': '3'}]\n",
    "            #this self.user_dictionary should be instance of person_2 when calling from person_2.dictionary_fake() but why is it updating person_1 's list \n",
    "    def database_fake(self):\n",
    "        user_list.append(self.user_dictionary)\n",
    "    \n",
    "    def dict_show(self):\n",
    "        print(self.user_dictionary)\n",
    "    \n",
    "    def list_show(self):\n",
    "        print(user_list)\n",
    "        \n",
    "um = User_Model()\n",
    "um.user_dictionary\n",
    "um()\n",
    "\n",
    " \n",
    "\n",
    "\n",
    "am = User_model()\n",
    "am()"
   ]
  }
 ],
 "metadata": {
  "colab": {
   "name": "Untitled2.ipynb",
   "provenance": []
  },
  "kernelspec": {
   "display_name": "Python 3",
   "language": "python",
   "name": "python3"
  },
  "language_info": {
   "codemirror_mode": {
    "name": "ipython",
    "version": 3
   },
   "file_extension": ".py",
   "mimetype": "text/x-python",
   "name": "python",
   "nbconvert_exporter": "python",
   "pygments_lexer": "ipython3",
   "version": "3.8.4"
  }
 },
 "nbformat": 4,
 "nbformat_minor": 1
}
