{
 "cells": [
  {
   "cell_type": "code",
   "execution_count": 11,
   "metadata": {},
   "outputs": [],
   "source": [
    "# Python Classes/Objects\n",
    "\n",
    "# Python is an object oriented programming language.\n",
    "# Almost everything in Python is an object, with its properties and methods.\n",
    "# A Class is like an object constructor, or a \"blueprint\" for creating objects.\n"
   ]
  },
  {
   "cell_type": "code",
   "execution_count": 7,
   "metadata": {},
   "outputs": [
    {
     "name": "stdout",
     "output_type": "stream",
     "text": [
      "<class '__main__.ClassName'>\n"
     ]
    }
   ],
   "source": [
    "# Create a Class\n",
    "# To create a class, use the keyword class:\n",
    "\n",
    "class ClassName : \n",
    "    property1 = 'red'\n",
    "print(ClassName)\n",
    "\n",
    "# Create a class named ClassName, with a property named property1:"
   ]
  },
  {
   "cell_type": "code",
   "execution_count": 9,
   "metadata": {},
   "outputs": [
    {
     "name": "stdout",
     "output_type": "stream",
     "text": [
      "<class '__main__.FirstClass'>\n"
     ]
    }
   ],
   "source": [
    "class FirstClass: #create class named as FirstClass\n",
    "    age = 21 # property of class\n",
    "print(FirstClass)"
   ]
  },
  {
   "cell_type": "code",
   "execution_count": 1,
   "metadata": {},
   "outputs": [
    {
     "name": "stdout",
     "output_type": "stream",
     "text": [
      "21\n"
     ]
    }
   ],
   "source": [
    "# Create Object\n",
    "# Now we can use the class named FirstClass to create objects:\n",
    "class FirstClass:\n",
    "        age =21\n",
    "object1 = FirstClass.age # Create Object(object1) and assign value of property(age) present inside class(FirstClass) to it(object1)\n",
    "print(object1)"
   ]
  },
  {
   "cell_type": "code",
   "execution_count": 3,
   "metadata": {},
   "outputs": [
    {
     "name": "stdout",
     "output_type": "stream",
     "text": [
      "<class '__main__.FirstClass'>\n",
      "21\n"
     ]
    }
   ],
   "source": [
    "class FirstClass:\n",
    "        age =21\n",
    "object1 = FirstClass \n",
    "print(object1)\n",
    "print(object1.age)"
   ]
  },
  {
   "cell_type": "code",
   "execution_count": 18,
   "metadata": {},
   "outputs": [
    {
     "name": "stdout",
     "output_type": "stream",
     "text": [
      "<__main__.FirstClass object at 0x06A4F5F8>\n",
      "21\n",
      "Red\n"
     ]
    }
   ],
   "source": [
    "# The __init__() Function\n",
    "\n",
    "# The examples above are classes and objects in their simplest form, and are not really useful in real life applications.\n",
    "# To understand the meaning of classes we have to understand the built-in __init__() function.\n",
    "# All classes have a function called __init__(), which is always executed when the class is being initiated.\n",
    "# Use the __init__() function to assign values to object properties, or other operations that are necessary to do when the object is being created:\n",
    "    \n",
    "class FirstClass:\n",
    "    def __init__(self,age,color):\n",
    "        self.umer = age\n",
    "        self.rang = color\n",
    "    \n",
    "obj1 = FirstClass(21,'Red')\n",
    "print(obj1)\n",
    "print(obj1.umer)\n",
    "print(obj1.rang)\n",
    "\n",
    "# Note: The __init__() function is called automatically every time the class is being used to create a new object.\n",
    "# so you can suppose or it is the constructor"
   ]
  },
  {
   "cell_type": "code",
   "execution_count": 24,
   "metadata": {},
   "outputs": [
    {
     "name": "stdout",
     "output_type": "stream",
     "text": [
      "Person with age  21  is  Blue  in color.\n"
     ]
    }
   ],
   "source": [
    "# Object Methods\n",
    "# Objects can also contain methods. Methods in objects are functions that belong to the object.\n",
    "\n",
    "class FirstClass:\n",
    "    def __init__(self,age,color): # property\n",
    "        self.umer=age\n",
    "        self.rang=color\n",
    "    def MethodClass (self): # method\n",
    "        print('Person with age ',self.umer,' is ',self.rang,' in color.')\n",
    "        \n",
    "obj1=FirstClass(21,'Blue') #object class to constructor\n",
    "obj1.MethodClass() # object call method"
   ]
  },
  {
   "cell_type": "code",
   "execution_count": 27,
   "metadata": {},
   "outputs": [
    {
     "name": "stdout",
     "output_type": "stream",
     "text": [
      "21  years old  SimbA  has  Blue  hair.\n"
     ]
    }
   ],
   "source": [
    "# Let us create a method,property in the Person class and object:\n",
    "\n",
    "class Person():\n",
    "    def __init__(self,name,age,color): # Constructor\n",
    "        self.Naam = name\n",
    "        self.Umer = age\n",
    "        self.Rang = color\n",
    "        \n",
    "    def info(self):\n",
    "        print(self.Umer,' years old ',self.Naam,' has ',self.Rang,' hair.')\n",
    "\n",
    "obj1=Person('SimbA',21,'Blue')\n",
    "obj1.info()"
   ]
  },
  {
   "cell_type": "code",
   "execution_count": 1,
   "metadata": {},
   "outputs": [
    {
     "ename": "NameError",
     "evalue": "name 'obj2' is not defined",
     "output_type": "error",
     "traceback": [
      "\u001b[1;31m---------------------------------------------------------------------------\u001b[0m",
      "\u001b[1;31mNameError\u001b[0m                                 Traceback (most recent call last)",
      "\u001b[1;32m<ipython-input-1-9b4f36a93fed>\u001b[0m in \u001b[0;36m<module>\u001b[1;34m\u001b[0m\n\u001b[0;32m     10\u001b[0m \u001b[1;33m\u001b[0m\u001b[0m\n\u001b[0;32m     11\u001b[0m \u001b[0mobj1\u001b[0m\u001b[1;33m=\u001b[0m\u001b[0mPerson\u001b[0m\u001b[1;33m(\u001b[0m\u001b[1;34m'SimbA'\u001b[0m\u001b[1;33m,\u001b[0m\u001b[1;36m21\u001b[0m\u001b[1;33m,\u001b[0m\u001b[1;34m'Blue'\u001b[0m\u001b[1;33m)\u001b[0m\u001b[1;33m\u001b[0m\u001b[1;33m\u001b[0m\u001b[0m\n\u001b[1;32m---> 12\u001b[1;33m \u001b[0mobj2\u001b[0m\u001b[1;33m.\u001b[0m\u001b[0minfo\u001b[0m\u001b[1;33m(\u001b[0m\u001b[1;33m)\u001b[0m \u001b[1;31m# error obj1 is defined but obj2 is not\u001b[0m\u001b[1;33m\u001b[0m\u001b[1;33m\u001b[0m\u001b[0m\n\u001b[0m",
      "\u001b[1;31mNameError\u001b[0m: name 'obj2' is not defined"
     ]
    }
   ],
   "source": [
    "# Extra\n",
    "class Person():\n",
    "    def __init__(self,name,age,color): # Constructor\n",
    "        self.Naam = name\n",
    "        self.Umer = age\n",
    "        self.Rang = color\n",
    "        \n",
    "    def info(self):\n",
    "        print(self.Umer,' years old ',self.Naam,' has ',self.Rang,' hair.')\n",
    "\n",
    "obj1=Person('SimbA',21,'Blue')\n",
    "obj2.info() # error obj1 is defined but obj2 is not"
   ]
  },
  {
   "cell_type": "code",
   "execution_count": 5,
   "metadata": {},
   "outputs": [
    {
     "name": "stdout",
     "output_type": "stream",
     "text": [
      "Ram\n"
     ]
    }
   ],
   "source": [
    "# The self Parameter:\n",
    "# The self parameter is a reference to the current instance of the class, and is used to access variables that belong to the class.\n",
    "# It does not have to be named self , you can call it whatever you like, but it has to be the first parameter of any function in the class:\n",
    "\n",
    "class Aaaa:\n",
    "    def __init__(apple,name):\n",
    "        apple.naam=name\n",
    "obj1=Aaaa('Ram')\n",
    "print(obj1.naam)"
   ]
  },
  {
   "cell_type": "code",
   "execution_count": 39,
   "metadata": {},
   "outputs": [
    {
     "name": "stdout",
     "output_type": "stream",
     "text": [
      "Ram\n",
      "Shyam\n"
     ]
    }
   ],
   "source": [
    "# Modify Object Properties\n",
    "# You can modify properties on objects like this:\n",
    "\n",
    "class Aaaa:\n",
    "    def __init__(apple,name):\n",
    "        apple.naam=name\n",
    "obj1=Aaaa('Ram')\n",
    "print(obj1.naam)\n",
    "\n",
    "obj1.naam='Shyam' # Modify Object Properties\n",
    "print(obj1.naam)\n"
   ]
  },
  {
   "cell_type": "code",
   "execution_count": 6,
   "metadata": {
    "scrolled": true
   },
   "outputs": [
    {
     "name": "stdout",
     "output_type": "stream",
     "text": [
      "Ram\n"
     ]
    },
    {
     "ename": "NameError",
     "evalue": "name 'obj1' is not defined",
     "output_type": "error",
     "traceback": [
      "\u001b[1;31m---------------------------------------------------------------------------\u001b[0m",
      "\u001b[1;31mNameError\u001b[0m                                 Traceback (most recent call last)",
      "\u001b[1;32m<ipython-input-6-f4162536844e>\u001b[0m in \u001b[0;36m<module>\u001b[1;34m\u001b[0m\n\u001b[0;32m      9\u001b[0m \u001b[1;33m\u001b[0m\u001b[0m\n\u001b[0;32m     10\u001b[0m \u001b[1;32mdel\u001b[0m \u001b[0mobj1\u001b[0m \u001b[1;31m# Delete Object\u001b[0m\u001b[1;33m\u001b[0m\u001b[1;33m\u001b[0m\u001b[0m\n\u001b[1;32m---> 11\u001b[1;33m \u001b[0mprint\u001b[0m\u001b[1;33m(\u001b[0m\u001b[0mobj1\u001b[0m\u001b[1;33m.\u001b[0m\u001b[0mnaam\u001b[0m\u001b[1;33m)\u001b[0m\u001b[1;33m\u001b[0m\u001b[1;33m\u001b[0m\u001b[0m\n\u001b[0m",
      "\u001b[1;31mNameError\u001b[0m: name 'obj1' is not defined"
     ]
    }
   ],
   "source": [
    "# Delete Objects\n",
    "# You can delete objects by using the del keyword:\n",
    "\n",
    "class Aaaa:\n",
    "    def __init__(apple,name):\n",
    "        apple.naam=name\n",
    "obj1=Aaaa('Ram')\n",
    "print(obj1.naam)\n",
    "\n",
    "del obj1 # Delete Object\n",
    "print(obj1.naam)"
   ]
  },
  {
   "cell_type": "code",
   "execution_count": 48,
   "metadata": {},
   "outputs": [
    {
     "ename": "IndentationError",
     "evalue": "expected an indented block (<ipython-input-48-8c5da8152616>, line 6)",
     "output_type": "error",
     "traceback": [
      "\u001b[1;36m  File \u001b[1;32m\"<ipython-input-48-8c5da8152616>\"\u001b[1;36m, line \u001b[1;32m6\u001b[0m\n\u001b[1;33m    obj1 = Person\u001b[0m\n\u001b[1;37m    ^\u001b[0m\n\u001b[1;31mIndentationError\u001b[0m\u001b[1;31m:\u001b[0m expected an indented block\n"
     ]
    }
   ],
   "source": [
    "# The pass Statement\n",
    "# class definitions cannot be empty, but if you for some reason have a class definition with no content, put in the pass statement to avoid getting an error.\n",
    "\n",
    "class Person:\n",
    "\n",
    "obj1 = Person\n",
    "print(obj1)\n",
    "# having an empty class definition like this, would raise an error without the pass statement"
   ]
  },
  {
   "cell_type": "code",
   "execution_count": 1,
   "metadata": {},
   "outputs": [
    {
     "name": "stdout",
     "output_type": "stream",
     "text": [
      "<class '__main__.Person'>\n"
     ]
    }
   ],
   "source": [
    "# The pass Statement\n",
    "# class definitions cannot be empty, but if you for some reason have a class definition with no content, put in the pass statement to avoid getting an error.\n",
    "\n",
    "class Person:\n",
    "    pass\n",
    "\n",
    "obj1 = Person\n",
    "print(obj1)"
   ]
  },
  {
   "cell_type": "code",
   "execution_count": 3,
   "metadata": {},
   "outputs": [
    {
     "ename": "NameError",
     "evalue": "name 'self' is not defined",
     "output_type": "error",
     "traceback": [
      "\u001b[1;31m---------------------------------------------------------------------------\u001b[0m",
      "\u001b[1;31mNameError\u001b[0m                                 Traceback (most recent call last)",
      "\u001b[1;32m<ipython-input-3-078658cf2eb0>\u001b[0m in \u001b[0;36m<module>\u001b[1;34m\u001b[0m\n\u001b[1;32m----> 1\u001b[1;33m \u001b[1;32mclass\u001b[0m \u001b[0mUser_Model\u001b[0m\u001b[1;33m(\u001b[0m\u001b[1;33m)\u001b[0m\u001b[1;33m:\u001b[0m\u001b[1;33m\u001b[0m\u001b[1;33m\u001b[0m\u001b[0m\n\u001b[0m\u001b[0;32m      2\u001b[0m     \u001b[1;32mdef\u001b[0m \u001b[0m__init__\u001b[0m\u001b[1;33m(\u001b[0m\u001b[0mself\u001b[0m\u001b[1;33m,\u001b[0m\u001b[0mids\u001b[0m\u001b[1;33m)\u001b[0m\u001b[1;33m:\u001b[0m\u001b[1;33m\u001b[0m\u001b[1;33m\u001b[0m\u001b[0m\n\u001b[0;32m      3\u001b[0m         \u001b[0mself\u001b[0m\u001b[1;33m.\u001b[0m\u001b[0muser_id\u001b[0m \u001b[1;33m=\u001b[0m \u001b[0mids\u001b[0m\u001b[1;33m\u001b[0m\u001b[1;33m\u001b[0m\u001b[0m\n\u001b[0;32m      4\u001b[0m     \u001b[0mprint\u001b[0m\u001b[1;33m(\u001b[0m\u001b[0mself\u001b[0m\u001b[1;33m.\u001b[0m\u001b[0muser_id\u001b[0m\u001b[1;33m)\u001b[0m \u001b[1;31m# self.user_id is a local variable inside method\u001b[0m\u001b[1;33m\u001b[0m\u001b[1;33m\u001b[0m\u001b[0m\n\u001b[0;32m      5\u001b[0m \u001b[1;33m\u001b[0m\u001b[0m\n",
      "\u001b[1;32m<ipython-input-3-078658cf2eb0>\u001b[0m in \u001b[0;36mUser_Model\u001b[1;34m()\u001b[0m\n\u001b[0;32m      2\u001b[0m     \u001b[1;32mdef\u001b[0m \u001b[0m__init__\u001b[0m\u001b[1;33m(\u001b[0m\u001b[0mself\u001b[0m\u001b[1;33m,\u001b[0m\u001b[0mids\u001b[0m\u001b[1;33m)\u001b[0m\u001b[1;33m:\u001b[0m\u001b[1;33m\u001b[0m\u001b[1;33m\u001b[0m\u001b[0m\n\u001b[0;32m      3\u001b[0m         \u001b[0mself\u001b[0m\u001b[1;33m.\u001b[0m\u001b[0muser_id\u001b[0m \u001b[1;33m=\u001b[0m \u001b[0mids\u001b[0m\u001b[1;33m\u001b[0m\u001b[1;33m\u001b[0m\u001b[0m\n\u001b[1;32m----> 4\u001b[1;33m     \u001b[0mprint\u001b[0m\u001b[1;33m(\u001b[0m\u001b[0mself\u001b[0m\u001b[1;33m.\u001b[0m\u001b[0muser_id\u001b[0m\u001b[1;33m)\u001b[0m \u001b[1;31m# self.user_id is a local variable inside method\u001b[0m\u001b[1;33m\u001b[0m\u001b[1;33m\u001b[0m\u001b[0m\n\u001b[0m\u001b[0;32m      5\u001b[0m \u001b[1;33m\u001b[0m\u001b[0m\n\u001b[0;32m      6\u001b[0m \u001b[0mUser_Id\u001b[0m\u001b[1;33m=\u001b[0m\u001b[0minput\u001b[0m\u001b[1;33m(\u001b[0m\u001b[1;34m'Enter your User_Id : '\u001b[0m\u001b[1;33m)\u001b[0m\u001b[1;33m\u001b[0m\u001b[1;33m\u001b[0m\u001b[0m\n",
      "\u001b[1;31mNameError\u001b[0m: name 'self' is not defined"
     ]
    }
   ],
   "source": [
    "class User_Model():\n",
    "    def __init__(self,ids):\n",
    "        self.user_id = ids\n",
    "    print(self.user_id) # self.user_id is a local variable inside method\n",
    "        \n",
    "User_Id=input('Enter your User_Id : ')\n",
    "obj1=User_Model(User_Id)"
   ]
  },
  {
   "cell_type": "code",
   "execution_count": 6,
   "metadata": {},
   "outputs": [
    {
     "name": "stdout",
     "output_type": "stream",
     "text": [
      "0\n",
      "Enter your User_Id : 4\n"
     ]
    }
   ],
   "source": [
    "class User_Model():\n",
    "    ii = 0\n",
    "    def __init__(self,ids):\n",
    "        self.user_id = ids\n",
    "        ii = self.user_id\n",
    "    print(ii) # self.user_id is a local variable inside method\n",
    "        \n",
    "User_Id=input('Enter your User_Id : ')\n",
    "obj1=User_Model(User_Id)"
   ]
  },
  {
   "cell_type": "code",
   "execution_count": 8,
   "metadata": {},
   "outputs": [
    {
     "name": "stdout",
     "output_type": "stream",
     "text": [
      "Enter your User_Id : 4\n",
      "0\n"
     ]
    }
   ],
   "source": [
    "User_Id=input('Enter your User_Id : ')\n",
    "\n",
    "class User_Model():\n",
    "    ii = 0\n",
    "    def __init__(self,ids):\n",
    "        self.user_id = ids\n",
    "        ii = self.user_id\n",
    "    print(ii) # self.user_id is a local variable inside method\n",
    "        \n",
    "obj1=User_Model(User_Id)"
   ]
  },
  {
   "cell_type": "code",
   "execution_count": 10,
   "metadata": {},
   "outputs": [
    {
     "name": "stdout",
     "output_type": "stream",
     "text": [
      "Enter your User_Id : 5\n",
      "0\n"
     ]
    }
   ],
   "source": [
    "User_Id=input('Enter your User_Id : ')\n",
    "obj1=User_Model(User_Id)\n",
    "\n",
    "class User_Model():\n",
    "    ii = 0\n",
    "    def __init__(self,ids):\n",
    "        self.user_id = ids\n",
    "        ii = self.user_id\n",
    "    print(ii) # self.user_id is a local variable inside method"
   ]
  },
  {
   "cell_type": "code",
   "execution_count": 13,
   "metadata": {
    "scrolled": true
   },
   "outputs": [
    {
     "name": "stdout",
     "output_type": "stream",
     "text": [
      "Enter your User_Id : 3\n"
     ]
    },
    {
     "ename": "UnboundLocalError",
     "evalue": "local variable 'ii' referenced before assignment",
     "output_type": "error",
     "traceback": [
      "\u001b[1;31m---------------------------------------------------------------------------\u001b[0m",
      "\u001b[1;31mUnboundLocalError\u001b[0m                         Traceback (most recent call last)",
      "\u001b[1;32m<ipython-input-13-f6949c62b2a0>\u001b[0m in \u001b[0;36m<module>\u001b[1;34m\u001b[0m\n\u001b[0;32m      1\u001b[0m \u001b[0mUser_Id\u001b[0m\u001b[1;33m=\u001b[0m\u001b[0minput\u001b[0m\u001b[1;33m(\u001b[0m\u001b[1;34m'Enter your User_Id : '\u001b[0m\u001b[1;33m)\u001b[0m\u001b[1;33m\u001b[0m\u001b[1;33m\u001b[0m\u001b[0m\n\u001b[1;32m----> 2\u001b[1;33m \u001b[0mobj1\u001b[0m\u001b[1;33m=\u001b[0m\u001b[0mUser_Model\u001b[0m\u001b[1;33m(\u001b[0m\u001b[0mUser_Id\u001b[0m\u001b[1;33m)\u001b[0m\u001b[1;33m\u001b[0m\u001b[1;33m\u001b[0m\u001b[0m\n\u001b[0m\u001b[0;32m      3\u001b[0m \u001b[1;33m\u001b[0m\u001b[0m\n\u001b[0;32m      4\u001b[0m \u001b[1;32mclass\u001b[0m \u001b[0mUser_Model\u001b[0m\u001b[1;33m(\u001b[0m\u001b[1;33m)\u001b[0m\u001b[1;33m:\u001b[0m\u001b[1;33m\u001b[0m\u001b[1;33m\u001b[0m\u001b[0m\n\u001b[0;32m      5\u001b[0m     \u001b[0mii\u001b[0m \u001b[1;33m=\u001b[0m \u001b[1;36m0\u001b[0m\u001b[1;33m\u001b[0m\u001b[1;33m\u001b[0m\u001b[0m\n",
      "\u001b[1;32m<ipython-input-12-9882e5084e51>\u001b[0m in \u001b[0;36m__init__\u001b[1;34m(self, ids)\u001b[0m\n\u001b[0;32m      6\u001b[0m     \u001b[1;32mdef\u001b[0m \u001b[0m__init__\u001b[0m\u001b[1;33m(\u001b[0m\u001b[0mself\u001b[0m\u001b[1;33m,\u001b[0m\u001b[0mids\u001b[0m\u001b[1;33m)\u001b[0m\u001b[1;33m:\u001b[0m\u001b[1;33m\u001b[0m\u001b[1;33m\u001b[0m\u001b[0m\n\u001b[0;32m      7\u001b[0m         \u001b[0mself\u001b[0m\u001b[1;33m.\u001b[0m\u001b[0muser_id\u001b[0m \u001b[1;33m=\u001b[0m \u001b[0mids\u001b[0m\u001b[1;33m\u001b[0m\u001b[1;33m\u001b[0m\u001b[0m\n\u001b[1;32m----> 8\u001b[1;33m         \u001b[0mii\u001b[0m \u001b[1;33m+=\u001b[0m \u001b[0mids\u001b[0m\u001b[1;33m\u001b[0m\u001b[1;33m\u001b[0m\u001b[0m\n\u001b[0m\u001b[0;32m      9\u001b[0m     \u001b[0mprint\u001b[0m\u001b[1;33m(\u001b[0m\u001b[0mii\u001b[0m\u001b[1;33m)\u001b[0m \u001b[1;31m# self.user_id is a local variable inside method\u001b[0m\u001b[1;33m\u001b[0m\u001b[1;33m\u001b[0m\u001b[0m\n",
      "\u001b[1;31mUnboundLocalError\u001b[0m: local variable 'ii' referenced before assignment"
     ]
    }
   ],
   "source": [
    "User_Id=input('Enter your User_Id : ')\n",
    "obj1=User_Model(User_Id)\n",
    "\n",
    "class User_Model():\n",
    "    ii = 0\n",
    "    def __init__(self,ids):\n",
    "        self.user_id = ids\n",
    "        ii = ids\n",
    "    print(ii) # self.user_id is a local variable inside method"
   ]
  },
  {
   "cell_type": "code",
   "execution_count": 14,
   "metadata": {},
   "outputs": [
    {
     "name": "stdout",
     "output_type": "stream",
     "text": [
      "Enter your User_Id : 4\n",
      "4\n"
     ]
    }
   ],
   "source": [
    "class User_Model():\n",
    "    def __init__(self,ids):\n",
    "        self.user_id = ids\n",
    "        print(self.user_id)\n",
    "        \n",
    "User_Id=input('Enter your User_Id : ')\n",
    "obj1=User_Model(User_Id)"
   ]
  }
 ],
 "metadata": {
  "kernelspec": {
   "display_name": "Python 3",
   "language": "python",
   "name": "python3"
  },
  "language_info": {
   "codemirror_mode": {
    "name": "ipython",
    "version": 3
   },
   "file_extension": ".py",
   "mimetype": "text/x-python",
   "name": "python",
   "nbconvert_exporter": "python",
   "pygments_lexer": "ipython3",
   "version": "3.8.4"
  }
 },
 "nbformat": 4,
 "nbformat_minor": 4
}
