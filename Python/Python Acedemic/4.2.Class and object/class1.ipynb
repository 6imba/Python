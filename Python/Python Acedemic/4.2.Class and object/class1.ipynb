{
 "cells": [
  {
   "cell_type": "code",
   "execution_count": 4,
   "metadata": {},
   "outputs": [
    {
     "name": "stdout",
     "output_type": "stream",
     "text": [
      "['1', '2']\n",
      "['1', '2']\n",
      "['1', '2']\n",
      "['1', '2']\n"
     ]
    }
   ],
   "source": [
    "class A:\n",
    "    lista=['1','2']\n",
    "    def output(self):\n",
    "        print(self.lista) #print list of same_class inside_function in same_class using self__current_instance\n",
    "        print(A.lista) #print list inside function of same_class using class_name(A)\n",
    "    print(lista) #print list of inside_current_class\n",
    "    \n",
    "print(A.lista) #print list FROM outside_class\n",
    "\n",
    "a=A()\n",
    "a.output()"
   ]
  },
  {
   "cell_type": "code",
   "execution_count": null,
   "metadata": {},
   "outputs": [],
   "source": [
    "class B:\n",
    "    def output()"
   ]
  }
 ],
 "metadata": {
  "kernelspec": {
   "display_name": "Python 3",
   "language": "python",
   "name": "python3"
  },
  "language_info": {
   "codemirror_mode": {
    "name": "ipython",
    "version": 3
   },
   "file_extension": ".py",
   "mimetype": "text/x-python",
   "name": "python",
   "nbconvert_exporter": "python",
   "pygments_lexer": "ipython3",
   "version": "3.8.4"
  }
 },
 "nbformat": 4,
 "nbformat_minor": 4
}
