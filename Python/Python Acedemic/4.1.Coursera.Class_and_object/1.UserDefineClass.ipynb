{
 "cells": [
  {
   "cell_type": "code",
   "execution_count": 1,
   "metadata": {},
   "outputs": [
    {
     "name": "stdout",
     "output_type": "stream",
     "text": [
      "<__main__.Point object at 0x053A8940>\n",
      "<__main__.Point object at 0x053A8E68>\n",
      "False\n"
     ]
    },
    {
     "data": {
      "text/plain": [
       "False"
      ]
     },
     "execution_count": 1,
     "metadata": {},
     "output_type": "execute_result"
    }
   ],
   "source": [
    "class Point():\n",
    "    pass\n",
    "\n",
    "point1 = Point() # Instantiate an object of class Point\n",
    "point2 = Point() # Instantiate another object of class Point\n",
    "\n",
    "print(point1)\n",
    "print(point2)\n",
    "\n",
    "print(point1==point2)\n",
    "point1 is point2"
   ]
  },
  {
   "cell_type": "code",
   "execution_count": 6,
   "metadata": {},
   "outputs": [
    {
     "name": "stdout",
     "output_type": "stream",
     "text": [
      "5\n",
      "10\n"
     ]
    }
   ],
   "source": [
    "class PointA():\n",
    "    pass\n",
    "\n",
    "point1 = PointA()\n",
    "point2 = PointA()\n",
    "\n",
    "point1.x=5\n",
    "point2.x=10\n",
    "\n",
    "print(point1.x)\n",
    "print(point2.x)\n"
   ]
  },
  {
   "cell_type": "code",
   "execution_count": 8,
   "metadata": {},
   "outputs": [
    {
     "name": "stdout",
     "output_type": "stream",
     "text": [
      "5\n",
      "10\n"
     ]
    }
   ],
   "source": [
    "class PointB():\n",
    "    def get_X(self): #self reference to the instant object(point1 or point2) to the \n",
    "        return self.x # return point1.x or point2.x\n",
    "\n",
    "point1 = PointB() # Instantiate an object of class Point\n",
    "point2 = PointB() # Instantiate an object of class Point\n",
    "\n",
    "point1.x=5\n",
    "point2.x=10\n",
    "\n",
    "print(point1.get_X())\n",
    "print(point2.get_X())\n"
   ]
  }
 ],
 "metadata": {
  "kernelspec": {
   "display_name": "Python 3",
   "language": "python",
   "name": "python3"
  },
  "language_info": {
   "codemirror_mode": {
    "name": "ipython",
    "version": 3
   },
   "file_extension": ".py",
   "mimetype": "text/x-python",
   "name": "python",
   "nbconvert_exporter": "python",
   "pygments_lexer": "ipython3",
   "version": "3.8.4"
  }
 },
 "nbformat": 4,
 "nbformat_minor": 4
}
