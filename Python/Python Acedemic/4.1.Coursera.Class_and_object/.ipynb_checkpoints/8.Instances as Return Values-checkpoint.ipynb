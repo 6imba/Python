{
 "cells": [
  {
   "cell_type": "code",
   "execution_count": 9,
   "metadata": {},
   "outputs": [
    {
     "name": "stdout",
     "output_type": "stream",
     "text": [
      "Point(7,6)\n",
      "7\n",
      "6\n",
      "9.219544457292887\n"
     ]
    }
   ],
   "source": [
    "class Point:\n",
    "    \"\"\" Point class for representing and manipulating x,y coordinates. \"\"\"\n",
    "\n",
    "    def __init__(self, initX, initY): # initialized object\n",
    "\n",
    "        self.x = initX\n",
    "        self.y = initY\n",
    "\n",
    "    def __str__(self): \n",
    "        return \"Point({},{})\".format(self.x, self.y)\n",
    "        \n",
    "    def getX(self):\n",
    "        return self.x # Instances(self.x) as Return Values\n",
    "\n",
    "    def getY(self):\n",
    "        return self.y # Instances(self.y) as Return Values\n",
    "\n",
    "    def distanceFromOrigin(self):\n",
    "        return ((self.x ** 2) + (self.y ** 2)) ** 0.5\n",
    "\n",
    "\n",
    "p1 = Point(7,6) # p1 is object\n",
    "print(p1) # p1 is object\n",
    "print(p1.getX())\n",
    "print(p1.getY())\n",
    "print(p1.distanceFromOrigin())"
   ]
  },
  {
   "cell_type": "code",
   "execution_count": 26,
   "metadata": {},
   "outputs": [
    {
     "name": "stdout",
     "output_type": "stream",
     "text": [
      "(10.0, 11.5)\n"
     ]
    }
   ],
   "source": [
    "class Point:\n",
    "    \"\"\" Point class for representing and manipulating x,y coordinates. \"\"\"\n",
    "\n",
    "    def __init__(self, initX, initY): # initialized object\n",
    "\n",
    "        self.x = initX\n",
    "        self.y = initY\n",
    "        \n",
    "    def mid_point(p1,p2):\n",
    "        return (p1.x+p2.x)/2,(p1.y+p2.y)/2\n",
    "\n",
    "\n",
    "p1 = Point(7,6) \n",
    "p2 = Point(13,17) \n",
    "mid_answer = p1.mid_point(p2)\n",
    "print(mid_answer)\n",
    "# better understand"
   ]
  },
  {
   "cell_type": "code",
   "execution_count": 41,
   "metadata": {},
   "outputs": [
    {
     "name": "stdout",
     "output_type": "stream",
     "text": [
      "Point(10.0,11.5)\n"
     ]
    }
   ],
   "source": [
    "class Point:\n",
    "    \"\"\" Point class for representing and manipulating x,y coordinates. \"\"\"\n",
    "\n",
    "    def __init__(self, initX, initY): # initialized object\n",
    "\n",
    "        self.x = initX\n",
    "        self.y = initY\n",
    "\n",
    "    def __str__(self): \n",
    "        return \"Point({},{})\".format(self.x, self.y)\n",
    "        \n",
    "    def mid_point(p1,p2):\n",
    "        mid_x = (p1.x+p2.x)/2\n",
    "        mid_y = (p1.y+p2.y)/2\n",
    "        return Point(mid_x,mid_y)\n",
    "\n",
    "\n",
    "p1 = Point(7,6) \n",
    "p2 = Point(13,17) \n",
    "mid_answer = p1.mid_point(p2)\n",
    "print(mid_answer)"
   ]
  },
  {
   "cell_type": "code",
   "execution_count": 43,
   "metadata": {},
   "outputs": [
    {
     "data": {
      "text/plain": [
       "9"
      ]
     },
     "execution_count": 43,
     "metadata": {},
     "output_type": "execute_result"
    }
   ],
   "source": [
    "# better understand\n",
    "class A:\n",
    "    def __init__(self,numb): #numb is attribute\n",
    "        self.numb=numb\n",
    "    \n",
    "    def add(obj_num1,obj_num2):\n",
    "        return obj_num1.numb + obj_num2.numb\n",
    "    \n",
    "number1=A(2)\n",
    "number2=A(7)\n",
    "number1.add(number2)"
   ]
  },
  {
   "cell_type": "code",
   "execution_count": 45,
   "metadata": {},
   "outputs": [
    {
     "data": {
      "text/plain": [
       "9"
      ]
     },
     "execution_count": 45,
     "metadata": {},
     "output_type": "execute_result"
    }
   ],
   "source": [
    "# better understand\n",
    "class A:\n",
    "    def __init__(self,numb): #numb is attribute\n",
    "        self.numb=numb\n",
    "    \n",
    "    def add(self,another_object): #(number1,number2)\n",
    "        return self.numb + another_object.numb\n",
    "    \n",
    "number1=A(2)\n",
    "number2=A(7)\n",
    "number1.add(number2)"
   ]
  },
  {
   "cell_type": "code",
   "execution_count": 49,
   "metadata": {},
   "outputs": [
    {
     "data": {
      "text/plain": [
       "<__main__.A at 0x50c34c0>"
      ]
     },
     "execution_count": 49,
     "metadata": {},
     "output_type": "execute_result"
    }
   ],
   "source": [
    "# better understand\n",
    "class A:\n",
    "    def __init__(self,numb): #numb is attribute\n",
    "        self.numb=numb\n",
    "    \n",
    "    def add(self,another_object): #(number1,number2)\n",
    "        return A(self.numb + another_object.numb)\n",
    "    \n",
    "number1=A(2)\n",
    "number2=A(7)\n",
    "number1.add(number2)"
   ]
  },
  {
   "cell_type": "code",
   "execution_count": 52,
   "metadata": {},
   "outputs": [
    {
     "name": "stdout",
     "output_type": "stream",
     "text": [
      "<__main__.A object at 0x050C3940>\n"
     ]
    }
   ],
   "source": [
    "# better understand\n",
    "class A:\n",
    "    def __init__(self,numb): #numb is attribute\n",
    "        self.numb=numb\n",
    "    \n",
    "    def add(self,another_object): #(number1,number2)\n",
    "        return A(self.numb + another_object.numb)\n",
    "    \n",
    "number1=A(2)\n",
    "number2=A(7)\n",
    "mid=number1.add(number2)\n",
    "print(mid)"
   ]
  },
  {
   "cell_type": "code",
   "execution_count": 57,
   "metadata": {},
   "outputs": [
    {
     "name": "stdout",
     "output_type": "stream",
     "text": [
      "Mid-Point ==> 9\n"
     ]
    }
   ],
   "source": [
    "# better understand\n",
    "class A:\n",
    "    def __init__(self,numb): #numb is attribute\n",
    "        self.numb=numb\n",
    "    \n",
    "    def __str__(self):\n",
    "        return 'Mid-Point ==> {}'.format(self.numb) #(self.class_attribute)\n",
    "    \n",
    "    def add(self,another_object): #(number1,number2)\n",
    "        return A(self.numb + another_object.numb)\n",
    "    \n",
    "number1=A(2)\n",
    "number2=A(7)\n",
    "mid=number1.add(number2)\n",
    "print(mid)"
   ]
  },
  {
   "cell_type": "code",
   "execution_count": 68,
   "metadata": {},
   "outputs": [
    {
     "name": "stdout",
     "output_type": "stream",
     "text": [
      "<class 'tuple'>\n",
      "(4.0, 13.0)\n"
     ]
    }
   ],
   "source": [
    "class Points:\n",
    "    \n",
    "    def __init__(self,x_cordinate,y_cordinate):\n",
    "        self.x=x_cordinate\n",
    "        self.y=y_cordinate\n",
    "        \n",
    "    def mid(first_point,second_point):\n",
    "        mid_x=(first_point.x+second_point.x)/2\n",
    "        mid_y=(first_point.y+second_point.y)/2\n",
    "        return (mid_x,mid_y)   # return tuples     \n",
    "        \n",
    "point_1 = Points(3,7)\n",
    "point_2 = Points(5,19)\n",
    "mid_point = point_1.mid(point_2)\n",
    "print(type(mid_point))\n",
    "print(mid_point)"
   ]
  },
  {
   "cell_type": "code",
   "execution_count": 71,
   "metadata": {},
   "outputs": [
    {
     "name": "stdout",
     "output_type": "stream",
     "text": [
      "<class '__main__.Points'>\n",
      "<__main__.Points object at 0x050C35C8>\n"
     ]
    }
   ],
   "source": [
    "class Points:\n",
    "    \n",
    "    def __init__(self,x_cordinate,y_cordinate):\n",
    "        self.x=x_cordinate\n",
    "        self.y=y_cordinate\n",
    "        \n",
    "    def mid(first_point,second_point):\n",
    "        mid_x=(first_point.x+second_point.x)/2\n",
    "        mid_y=(first_point.y+second_point.y)/2\n",
    "        return Points(mid_x,mid_y) #Instanciate new object and Instances as Return Values \n",
    "        \n",
    "point_1 = Points(3,7)\n",
    "point_2 = Points(5,19)\n",
    "mid_point = point_1.mid(point_2)\n",
    "print(type(mid_point))\n",
    "print(mid_point)"
   ]
  },
  {
   "cell_type": "code",
   "execution_count": 73,
   "metadata": {},
   "outputs": [
    {
     "name": "stdout",
     "output_type": "stream",
     "text": [
      "<class '__main__.Points'>\n",
      "Mid-Point = (4.0,13.0)\n"
     ]
    }
   ],
   "source": [
    "class Points:\n",
    "    \n",
    "    def __init__(self,x_cordinate,y_cordinate):\n",
    "        self.x=x_cordinate\n",
    "        self.y=y_cordinate\n",
    "        \n",
    "    def mid(first_point,second_point):\n",
    "        mid_x=(first_point.x+second_point.x)/2\n",
    "        mid_y=(first_point.y+second_point.y)/2\n",
    "        return Points(mid_x,mid_y) #Instanciate new object and Instances as Return Values \n",
    "        \n",
    "    def __str__(self):\n",
    "        return 'Mid-Point = ({},{})'.format(self.x,self.y) #change and return Returned_Instances object  into String in given below formate # called automatically\n",
    "        \n",
    "point_1 = Points(3,7)\n",
    "point_2 = Points(5,19)\n",
    "mid_point = point_1.mid(point_2)\n",
    "print(type(mid_point))\n",
    "print(mid_point)"
   ]
  },
  {
   "cell_type": "code",
   "execution_count": 77,
   "metadata": {},
   "outputs": [
    {
     "name": "stdout",
     "output_type": "stream",
     "text": [
      "<class '__main__.Points'>\n",
      "Mid-Point = (4.0,13.0)\n",
      "4.0\n",
      "13.0\n"
     ]
    }
   ],
   "source": [
    "class Points:\n",
    "    \n",
    "    def __init__(self,x_cordinate,y_cordinate):\n",
    "        self.x=x_cordinate\n",
    "        self.y=y_cordinate\n",
    "        \n",
    "    def mid(first_point,second_point):\n",
    "        mid_x=(first_point.x+second_point.x)/2\n",
    "        mid_y=(first_point.y+second_point.y)/2\n",
    "        return Points(mid_x,mid_y) #Instanciate new object and Instances as Return Values \n",
    "        \n",
    "    def __str__(self):\n",
    "        return 'Mid-Point = ({},{})'.format(self.x,self.y) #change and return Returned_Instances object  into String in given below formate # called automatically\n",
    "        \n",
    "    def getX(self):\n",
    "        return self.x # Instances(self.x) as Return Values\n",
    "\n",
    "    def getY(self):\n",
    "        return self.y # Instances(self.y) as Return Values\n",
    "    \n",
    "point_1 = Points(3,7) #instance_object of class(Points)\n",
    "point_2 = Points(5,19) #instance_object of class(Points)\n",
    "mid_point = point_1.mid(point_2) # mid_point is new instance_object of class(Points)\n",
    "print(type(mid_point))\n",
    "print(mid_point)\n",
    "print(mid_point.getX()) # print x_cordinate of new_instance_object (mid_point)\n",
    "print(mid_point.getY()) # print y_cordinate of new_instance_object (mid_point)\n",
    "\n",
    "\n",
    "\n",
    "# Functions and methods can return objects. This is actually nothing new since everything in Python is an object \n",
    "# and we have been returning values for quite some time. (You can also have lists or tuples of object instances, etc.) \n",
    "# The difference here is that we want to have the method create an object using the constructor and \n",
    "# then return it as the value of the method.\n",
    "\n",
    "# Suppose you have a point object and wish to find the midpoint halfway between it and some other target point.\n",
    "# We would like to write a method, let’s call it halfway, which takes another Point as a parameter and \n",
    "# returns the Point that is halfway between the point and the target point it accepts as input."
   ]
  }
 ],
 "metadata": {
  "kernelspec": {
   "display_name": "Python 3",
   "language": "python",
   "name": "python3"
  },
  "language_info": {
   "codemirror_mode": {
    "name": "ipython",
    "version": 3
   },
   "file_extension": ".py",
   "mimetype": "text/x-python",
   "name": "python",
   "nbconvert_exporter": "python",
   "pygments_lexer": "ipython3",
   "version": "3.8.4"
  }
 },
 "nbformat": 4,
 "nbformat_minor": 4
}
