{
 "cells": [
  {
   "cell_type": "code",
   "execution_count": 35,
   "metadata": {},
   "outputs": [
    {
     "name": "stdout",
     "output_type": "stream",
     "text": [
      "<__main__.Point object at 0x068D4F10>\n"
     ]
    }
   ],
   "source": [
    "class Point:\n",
    "    \"\"\" Point class for representing and manipulating x,y coordinates. \"\"\"\n",
    "\n",
    "    def __init__(self, initX, initY): # initialized object\n",
    "\n",
    "        self.x = initX\n",
    "        self.y = initY\n",
    "\n",
    "p1 = Point(7,6)\n",
    "print(p1) # p1 is object so print <__main__.Point object at 0x068D4F10>\n"
   ]
  },
  {
   "cell_type": "code",
   "execution_count": 30,
   "metadata": {},
   "outputs": [
    {
     "name": "stdout",
     "output_type": "stream",
     "text": [
      "x = 7, y = 6\n"
     ]
    }
   ],
   "source": [
    "class Point:\n",
    "    \"\"\" Point class for representing and manipulating x,y coordinates. \"\"\"\n",
    "\n",
    "    def __init__(self, initX, initY): # initialized object\n",
    "\n",
    "        self.x = initX\n",
    "        self.y = initY\n",
    "\n",
    "    def __str__(self): #change and return Initialized object into String in given below formate # called automatically\n",
    "        return \"x = {}, y = {}\".format(self.x, self.y)\n",
    "\n",
    "p3 = Point(7,6)\n",
    "print(p3)\n"
   ]
  },
  {
   "cell_type": "code",
   "execution_count": 34,
   "metadata": {},
   "outputs": [
    {
     "name": "stdout",
     "output_type": "stream",
     "text": [
      "Point(7,6)\n",
      "Point(3,9)\n"
     ]
    }
   ],
   "source": [
    "class Point:\n",
    "    \"\"\" Point class for representing and manipulating x,y coordinates. \"\"\"\n",
    "\n",
    "    def __init__(self, initX, initY): # initialized object\n",
    "\n",
    "        self.x = initX\n",
    "        self.y = initY\n",
    "\n",
    "    def __str__(self): #change and return Initialized object into String in given below formate # called automatically\n",
    "        return \"Point({},{})\".format(self.x, self.y)\n",
    "\n",
    "p1 = Point(7,6)\n",
    "print(p1)\n",
    "p2 = Point(3,9)\n",
    "print(p2)\n"
   ]
  },
  {
   "cell_type": "code",
   "execution_count": 37,
   "metadata": {},
   "outputs": [
    {
     "name": "stdout",
     "output_type": "stream",
     "text": [
      "Hello World!\n"
     ]
    }
   ],
   "source": [
    "class Point:\n",
    "    \"\"\" Point class for representing and manipulating x,y coordinates. \"\"\"\n",
    "\n",
    "    def __init__(self, initX, initY): # initialized object\n",
    "\n",
    "        self.x = initX\n",
    "        self.y = initY\n",
    "\n",
    "    def __str__(self): #change and return Initialized object into String in given below formate # called automatically\n",
    "        return 'Hello World!'\n",
    "\n",
    "\n",
    "p1 = Point(7,6)\n",
    "print(p1) # p1 is object\n"
   ]
  },
  {
   "cell_type": "code",
   "execution_count": 49,
   "metadata": {},
   "outputs": [
    {
     "name": "stdout",
     "output_type": "stream",
     "text": [
      "<__main__.Point object at 0x0639EF70>\n",
      "7\n",
      "6\n",
      "9.219544457292887\n"
     ]
    }
   ],
   "source": [
    "class Point:\n",
    "    \"\"\" Point class for representing and manipulating x,y coordinates. \"\"\"\n",
    "\n",
    "    def __init__(self, initX, initY): # initialized object\n",
    "\n",
    "        self.x = initX\n",
    "        self.y = initY\n",
    "        \n",
    "    def getX(self):\n",
    "        return self.x\n",
    "\n",
    "    def getY(self):\n",
    "        return self.y\n",
    "\n",
    "    def distanceFromOrigin(self):\n",
    "        return ((self.x ** 2) + (self.y ** 2)) ** 0.5\n",
    "\n",
    "\n",
    "p1 = Point(7,6) # p1 is object\n",
    "print(p1) # p1 is object\n",
    "print(p1.getX())\n",
    "print(p1.getY())\n",
    "print(p1.distanceFromOrigin())"
   ]
  },
  {
   "cell_type": "code",
   "execution_count": 47,
   "metadata": {},
   "outputs": [
    {
     "name": "stdout",
     "output_type": "stream",
     "text": [
      "Point(7,6)\n",
      "7\n",
      "6\n",
      "9.219544457292887\n"
     ]
    }
   ],
   "source": [
    "class Point:\n",
    "    \"\"\" Point class for representing and manipulating x,y coordinates. \"\"\"\n",
    "\n",
    "    def __init__(self, initX, initY): # initialized object\n",
    "\n",
    "        self.x = initX\n",
    "        self.y = initY\n",
    "\n",
    "    def __str__(self): #change and return Initialized object into String in given below formate # called automatically\n",
    "        return \"Point({},{})\".format(self.x, self.y)\n",
    "        \n",
    "    def getX(self):\n",
    "        return self.x\n",
    "\n",
    "    def getY(self):\n",
    "        return self.y\n",
    "\n",
    "    def distanceFromOrigin(self):\n",
    "        return ((self.x ** 2) + (self.y ** 2)) ** 0.5\n",
    "\n",
    "\n",
    "p1 = Point(7,6) # p1 is object\n",
    "print(p1) # p1 is object\n",
    "print(p1.getX())\n",
    "print(p1.getY())\n",
    "print(p1.distanceFromOrigin())"
   ]
  },
  {
   "cell_type": "code",
   "execution_count": 22,
   "metadata": {},
   "outputs": [
    {
     "name": "stdout",
     "output_type": "stream",
     "text": [
      "<__main__.Cereal object at 0x0672F478>\n",
      "<__main__.Cereal object at 0x0672F8E0>\n"
     ]
    }
   ],
   "source": [
    "# Create a class called Cereal that accepts three inputs: 2 strings and 1 integer, and \n",
    "# assigns them to 3 instance variables in the constructor: name, brand, and fiber. \n",
    "# When an instance of Cereal is printed, the user should see the following: \n",
    "# “[name] cereal is produced by [brand] and has [fiber integer] grams of fiber in every serving!” \n",
    "# To the variable name c1, assign an instance of Cereal whose name is \"Corn Flakes\", brand is \"Kellogg's\", and fiber is 2. \n",
    "# To the variable name c2, assign an instance of Cereal whose name is \"Honey Nut Cheerios\", brand is \"General Mills\", and fiber is 3.\n",
    "# Practice printing both!\n",
    "\n",
    "\n",
    "\n",
    "class Cereal:\n",
    "    def __init__(self,name,brand,fiber): # Initialized object\n",
    "        self.n=name\n",
    "        self.b=brand\n",
    "        self.f=fiber\n",
    "\n",
    "c1 = Cereal(\"Corn Flakes\",\"Kellogg's\",2)\n",
    "print(c1)\n",
    "c2 = Cereal(\"Honey Nut Cheerios\",\"General Mills\",3)\n",
    "print(c2)"
   ]
  },
  {
   "cell_type": "code",
   "execution_count": 21,
   "metadata": {},
   "outputs": [
    {
     "name": "stdout",
     "output_type": "stream",
     "text": [
      "Corn Flakes cereal is produced by Kellogg's and has 2 grams of fiber in every serving!\n",
      "Honey Nut Cheerios cereal is produced by General Mills and has 3 grams of fiber in every serving!\n"
     ]
    }
   ],
   "source": [
    "class Cereal:\n",
    "    def __init__(self,name,brand,fiber): # Initialized object\n",
    "        self.n=name\n",
    "        self.b=brand\n",
    "        self.f=fiber\n",
    "    def __str__(self): #change and return Initialized object into String\n",
    "        return '{} cereal is produced by {} and has {} grams of fiber in every serving!'.format(self.n,self.b,self.f)\n",
    "       \n",
    "c1 = Cereal(\"Corn Flakes\",\"Kellogg's\",2)\n",
    "print(c1)\n",
    "c2 = Cereal(\"Honey Nut Cheerios\",\"General Mills\",3)\n",
    "print(c2)"
   ]
  },
  {
   "cell_type": "code",
   "execution_count": 23,
   "metadata": {},
   "outputs": [
    {
     "name": "stdout",
     "output_type": "stream",
     "text": [
      "<__main__.Point_A object at 0x0672FCB8>\n"
     ]
    }
   ],
   "source": [
    "class Point_A:\n",
    "    def __init__(self,cordinate_x,cordinate_y):\n",
    "        self.x = cordinate_x\n",
    "        self.y = cordinate_y\n",
    "        \n",
    "    \n",
    "    def __add__(self,point_2): # return object # this method is called when + operator is used with class_object (point_1 + point_2)\n",
    "        return Point_A(self.x + point_2.x,\n",
    "                       self.y + point_2.y\n",
    "                        )\n",
    "        \n",
    "point_1 = Point_A(3,5)\n",
    "point_2 = Point_A(7,13)\n",
    "print(point_1 + point_2) \n",
    "\n"
   ]
  },
  {
   "cell_type": "code",
   "execution_count": 50,
   "metadata": {},
   "outputs": [
    {
     "name": "stdout",
     "output_type": "stream",
     "text": [
      "Point(10,18)\n"
     ]
    }
   ],
   "source": [
    "class Point_A:\n",
    "    def __init__(self,cordinate_x,cordinate_y):\n",
    "        self.x = cordinate_x\n",
    "        self.y = cordinate_y\n",
    "        \n",
    "    def __str__(self): # change returned object into String\n",
    "        return 'Point({},{})'.format(self.x,self.y)\n",
    "    \n",
    "    def __add__(self,point_2): # return object\n",
    "        return Point_A(self.x + point_2.x,\n",
    "                       self.y + point_2.y\n",
    "                        )\n",
    "        \n",
    "point_1 = Point_A(3,5)\n",
    "point_2 = Point_A(7,13)\n",
    "print(point_1 + point_2)\n",
    "\n"
   ]
  },
  {
   "cell_type": "code",
   "execution_count": 55,
   "metadata": {},
   "outputs": [
    {
     "name": "stdout",
     "output_type": "stream",
     "text": [
      "<__main__.Points object at 0x0672FFD0>\n",
      "<__main__.Points object at 0x0672FCB8>\n"
     ]
    }
   ],
   "source": [
    "# Finally 1\n",
    "\n",
    "class Points:\n",
    "    def __init__(self,cordinate_x,cordinate_y):\n",
    "        self.x=cordinate_x\n",
    "        self.y=cordinate_y\n",
    "        \n",
    "point_1=Points(2,5)\n",
    "point_2=Points(7,11)\n",
    "\n",
    "print(point_1)\n",
    "print(point_2)"
   ]
  },
  {
   "cell_type": "code",
   "execution_count": 57,
   "metadata": {},
   "outputs": [
    {
     "name": "stdout",
     "output_type": "stream",
     "text": [
      "Point = (2,5)\n",
      "Point = (7,11)\n"
     ]
    }
   ],
   "source": [
    "# Finally 2\n",
    "\n",
    "class Points:\n",
    "    def __init__(self,cordinate_x,cordinate_y): # initialized object\n",
    "        self.x=cordinate_x\n",
    "        self.y=cordinate_y\n",
    "        \n",
    "    def __str__(self):\n",
    "        return 'Point = ({},{})'.format(self.x,self.y)\n",
    "        \n",
    "point_1=Points(2,5)  # p1 is object\n",
    "point_2=Points(7,11) # p2 is object\n",
    "\n",
    "print(point_1)\n",
    "print(point_2)"
   ]
  },
  {
   "cell_type": "code",
   "execution_count": 59,
   "metadata": {},
   "outputs": [
    {
     "name": "stdout",
     "output_type": "stream",
     "text": [
      "Point = (2,5)\n",
      "Point = (7,11)\n"
     ]
    }
   ],
   "source": [
    "# Finally 2\n",
    "\n",
    "class Points:\n",
    "    def __init__(self,cordinate_x,cordinate_y):\n",
    "        self.x=cordinate_x\n",
    "        self.y=cordinate_y\n",
    "        \n",
    "    def __str__(self): #change and return Initialized object into String in given below formate # called automatically\n",
    "        return 'Point = ({},{})'.format(self.x,self.y)\n",
    "        \n",
    "point_1=Points(2,5)\n",
    "point_2=Points(7,11)\n",
    "\n",
    "print(point_1) \n",
    "print(point_2)"
   ]
  },
  {
   "cell_type": "code",
   "execution_count": 68,
   "metadata": {
    "scrolled": true
   },
   "outputs": [
    {
     "name": "stdout",
     "output_type": "stream",
     "text": [
      "<__main__.Points object at 0x0639ECB8>\n"
     ]
    }
   ],
   "source": [
    "# Finally 3\n",
    "\n",
    "class Points:\n",
    "    def __init__(self,cordinate_x,cordinate_y):\n",
    "        self.x=cordinate_x\n",
    "        self.y=cordinate_y\n",
    "        \n",
    "#     def __str__(self):\n",
    "#         return 'Point = ({},{})'.format(self.x,self.y)\n",
    "    \n",
    "    def __add__(point_1,point_2): # this method is called when + operator is used with class_objects (point_1 + point_2) # return object \n",
    "        return Points( point_1.x + point_2.x,\n",
    "                       point_1.y + point_2.y\n",
    "                        )\n",
    "        \n",
    "point_1=Points(2,5)\n",
    "point_2=Points(7,11)\n",
    "\n",
    "# print(point_1) \n",
    "# print(point_2)\n",
    "print( point_1 + point_2 )"
   ]
  },
  {
   "cell_type": "code",
   "execution_count": 70,
   "metadata": {},
   "outputs": [
    {
     "name": "stdout",
     "output_type": "stream",
     "text": [
      "Point = (2,5)\n",
      "Point = (7,11)\n",
      "Point = (9,16)\n"
     ]
    }
   ],
   "source": [
    "# Finally 4\n",
    "\n",
    "class Points:\n",
    "    def __init__(self,cordinate_x,cordinate_y):\n",
    "        self.x=cordinate_x\n",
    "        self.y=cordinate_y\n",
    "        \n",
    "    def __str__(self):\n",
    "        return 'Point = ({},{})'.format(self.x,self.y)\n",
    "    \n",
    "    def __add__(point_1,point_2): # this method is called when + operator is used with class_objects (point_1 + point_2) # return object \n",
    "        return Points( point_1.x + point_2.x,\n",
    "                       point_1.y + point_2.y\n",
    "                        )\n",
    "        \n",
    "point_1=Points(2,5)\n",
    "point_2=Points(7,11)\n",
    "\n",
    "print(point_1) \n",
    "print(point_2)\n",
    "print( point_1 + point_2 )"
   ]
  },
  {
   "cell_type": "code",
   "execution_count": 78,
   "metadata": {},
   "outputs": [
    {
     "name": "stdout",
     "output_type": "stream",
     "text": [
      "Point = (2,5)\n",
      "Point = (7,11)\n",
      "Point = (9,16)\n",
      "Point = (-5,-6)\n"
     ]
    }
   ],
   "source": [
    "# Full_Finall\n",
    "\n",
    "class Points:\n",
    "    def __init__(self,cordinate_x,cordinate_y):\n",
    "        self.x=cordinate_x\n",
    "        self.y=cordinate_y\n",
    "        \n",
    "    def __str__(self): # Converting an Object to a String\n",
    "        return 'Point = ({},{})'.format(self.x,self.y)\n",
    "    \n",
    "    def __add__(point_1,point_2): # this method is called when + operator is used with class_objects (point_1 + point_2) # return object \n",
    "        return Points( point_1.x + point_2.x,\n",
    "                       point_1.y + point_2.y\n",
    "                        )\n",
    "    def __sub__(one_object,another_object): # this method is called when - operator is used with class_objects (one_object,another_object)\n",
    "        return Points(one_object.x - another_object.x,\n",
    "                      one_object.y - another_object.y\n",
    "                        )\n",
    "#     def __mult__(first_object,second_object): # this method is called when * operator is used with class_objects (first_object,second_object)\n",
    "#         return Points(first_object.x * second_object.x,\n",
    "#                       first_object.y * second_object.y\n",
    "#                         )    \n",
    "    \n",
    "point_1=Points(2,5)\n",
    "point_2=Points(7,11)\n",
    "\n",
    "print(point_1) \n",
    "print(point_2)\n",
    "print( point_1 + point_2 )\n",
    "print( point_1 - point_2 )\n",
    "# print( point_1 * point_2 ) # __mult is not defined in python\n",
    "# dir(__mult__)"
   ]
  }
 ],
 "metadata": {
  "kernelspec": {
   "display_name": "Python 3",
   "language": "python",
   "name": "python3"
  },
  "language_info": {
   "codemirror_mode": {
    "name": "ipython",
    "version": 3
   },
   "file_extension": ".py",
   "mimetype": "text/x-python",
   "name": "python",
   "nbconvert_exporter": "python",
   "pygments_lexer": "ipython3",
   "version": "3.8.4"
  }
 },
 "nbformat": 4,
 "nbformat_minor": 4
}
