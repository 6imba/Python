{
 "cells": [
  {
   "cell_type": "code",
   "execution_count": 5,
   "metadata": {},
   "outputs": [
    {
     "ename": "NameError",
     "evalue": "name 'x' is not defined",
     "output_type": "error",
     "traceback": [
      "\u001b[1;31m---------------------------------------------------------------------------\u001b[0m",
      "\u001b[1;31mNameError\u001b[0m                                 Traceback (most recent call last)",
      "\u001b[1;32m<ipython-input-5-8dec2efdb1b4>\u001b[0m in \u001b[0;36m<module>\u001b[1;34m\u001b[0m\n\u001b[0;32m      6\u001b[0m         \u001b[0mself\u001b[0m\u001b[1;33m.\u001b[0m\u001b[0mx\u001b[0m\u001b[1;33m=\u001b[0m\u001b[1;36m6\u001b[0m\u001b[1;33m\u001b[0m\u001b[1;33m\u001b[0m\u001b[0m\n\u001b[0;32m      7\u001b[0m \u001b[1;33m\u001b[0m\u001b[0m\n\u001b[1;32m----> 8\u001b[1;33m \u001b[0mprint\u001b[0m\u001b[1;33m(\u001b[0m\u001b[0mx\u001b[0m\u001b[1;33m)\u001b[0m\u001b[1;33m\u001b[0m\u001b[1;33m\u001b[0m\u001b[0m\n\u001b[0m\u001b[0;32m      9\u001b[0m \u001b[0mobj1\u001b[0m \u001b[1;33m=\u001b[0m\u001b[0mA\u001b[0m\u001b[1;33m(\u001b[0m\u001b[1;33m)\u001b[0m\u001b[1;33m\u001b[0m\u001b[1;33m\u001b[0m\u001b[0m\n\u001b[0;32m     10\u001b[0m \u001b[0mprint\u001b[0m\u001b[1;33m(\u001b[0m\u001b[0mobj1\u001b[0m\u001b[1;33m.\u001b[0m\u001b[0mx\u001b[0m\u001b[1;33m)\u001b[0m\u001b[1;33m\u001b[0m\u001b[1;33m\u001b[0m\u001b[0m\n",
      "\u001b[1;31mNameError\u001b[0m: name 'x' is not defined"
     ]
    }
   ],
   "source": [
    "z=8\n",
    "class A:\n",
    "    x=2\n",
    "    y=4\n",
    "    def __init__(self):\n",
    "        self.x=6\n",
    "    \n",
    "obj1 =A()\n",
    "print(obj1.x)\n",
    "# print(x) #error\n",
    "print(obj1.y)\n",
    "print(obj1.z)"
   ]
  },
  {
   "cell_type": "code",
   "execution_count": null,
   "metadata": {},
   "outputs": [],
   "source": [
    "# So when Python creates a new instance of point then what it does, is it creates an empty instance and then passes that into the constructor, which is typically going to set instance variables. The next thing that you need to understand is how Python searches for instance variables and class methods.\n",
    "# The next thing that you need to understand is the search order that Python uses when searching for instance variables, class methods, and class variables. \n",
    "# So when we say something like print(point1.x), then the first thing that Python does is it asks, well, is this an instance variable? \n",
    "# So it looks at this instance .1, in this case, we're representing that instance with this object. \n",
    "# It looks at this instance and asks, does this have an instance variable called x? In this case, it does. \n",
    "# And when it finds it in the instance, Python gives us the value of that instance variable. \n",
    "# So in this case, we're going to get 10. Now, if we search for something that wasn't in the instance variable, so for instance, \n",
    "# let's suppose that we say print(point1.getx). Then Python first needs to evaluate, where is this method (point1.getx)? \n",
    "# So the first thing that it searches is point1. It asks, does point1 have an instance variable called get x? \n",
    "# But point1 doesn't. So the next place that Python searches is it recognizes that point1 is an instance variable of this class point.\n",
    "#So in the next place that Python searches is inside of the class itself. In here, this is where Python actually finds this method getx. \n",
    "# So when Python evaluates any instance variable or a class variable, it first looks inside of the instance and then it looks inside of the class.\n",
    "#If it doesn't find it inside of the instance or inside of the class, then it's going to throw a runtime error. \n",
    "# That's all for now, until next time."
   ]
  }
 ],
 "metadata": {
  "kernelspec": {
   "display_name": "Python 3",
   "language": "python",
   "name": "python3"
  },
  "language_info": {
   "codemirror_mode": {
    "name": "ipython",
    "version": 3
   },
   "file_extension": ".py",
   "mimetype": "text/x-python",
   "name": "python",
   "nbconvert_exporter": "python",
   "pygments_lexer": "ipython3",
   "version": "3.8.4"
  }
 },
 "nbformat": 4,
 "nbformat_minor": 4
}
