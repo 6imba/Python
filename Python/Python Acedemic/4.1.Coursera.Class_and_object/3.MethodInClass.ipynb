{
 "cells": [
  {
   "cell_type": "code",
   "execution_count": 5,
   "metadata": {},
   "outputs": [
    {
     "name": "stdout",
     "output_type": "stream",
     "text": [
      "3\n"
     ]
    },
    {
     "data": {
      "text/plain": [
       "7"
      ]
     },
     "execution_count": 5,
     "metadata": {},
     "output_type": "execute_result"
    }
   ],
   "source": [
    "# A method behaves like a function but it is invoked on a specific instance.\n",
    "\n",
    "class Point:\n",
    "    \"\"\" Point class for representing and manipulating x,y coordinates. \"\"\"\n",
    "\n",
    "    def __init__(self, initX, initY):\n",
    "\n",
    "        self.x = initX\n",
    "        self.y = initY\n",
    "\n",
    "    def getX(self):\n",
    "        return self.x\n",
    "\n",
    "    def getY(self):\n",
    "        return self.y\n",
    "\n",
    "point1 = Point(3,7)\n",
    "print(point1.getX())\n",
    "point1.getY()"
   ]
  },
  {
   "cell_type": "code",
   "execution_count": 8,
   "metadata": {},
   "outputs": [
    {
     "name": "stdout",
     "output_type": "stream",
     "text": [
      "9.219544457292887\n",
      "3.605551275463989\n"
     ]
    }
   ],
   "source": [
    "class Point:\n",
    "    \"\"\" Point class for representing and manipulating x,y coordinates. \"\"\"\n",
    "\n",
    "    def __init__(self, initX, initY):\n",
    "\n",
    "        self.x = initX\n",
    "        self.y = initY\n",
    "\n",
    "    def getX(self):\n",
    "        return self.x\n",
    "\n",
    "    def getY(self):\n",
    "        return self.y\n",
    "\n",
    "    def distanceFromOrigin(self):\n",
    "        return ((self.x ** 2) + (self.y ** 2)) ** 0.5\n",
    "\n",
    "\n",
    "p1 = Point(7,6)\n",
    "print(p1.distanceFromOrigin())\n",
    "\n",
    "p2 = Point(2,3)\n",
    "print(p2.distanceFromOrigin())"
   ]
  },
  {
   "cell_type": "code",
   "execution_count": 11,
   "metadata": {},
   "outputs": [
    {
     "name": "stdout",
     "output_type": "stream",
     "text": [
      "8\n"
     ]
    }
   ],
   "source": [
    "# Create a class called Animal that accepts two numbers as inputs and assigns them respectively to two instance variables: arms and legs. \n",
    "# Create an instance method called limbs that, when called, returns the total number of limbs the animal has. \n",
    "# To the variable name spider, assign an instance of Animal that has 4 arms and 4 legs. \n",
    "# Call the limbs method on the spider instance and save the result to the variable name spidlimbs.\n",
    "\n",
    "class Animal :\n",
    "    def __init__(self,arms,legs):\n",
    "        self.arms=arms\n",
    "        self.legs=legs\n",
    "        \n",
    "    def limbs (self):\n",
    "        return self.arms + self.legs\n",
    "        \n",
    "spider = Animal(4,4)\n",
    "spidlimbs = spider.limbs()\n",
    "print(spidlimbs)"
   ]
  }
 ],
 "metadata": {
  "kernelspec": {
   "display_name": "Python 3",
   "language": "python",
   "name": "python3"
  },
  "language_info": {
   "codemirror_mode": {
    "name": "ipython",
    "version": 3
   },
   "file_extension": ".py",
   "mimetype": "text/x-python",
   "name": "python",
   "nbconvert_exporter": "python",
   "pygments_lexer": "ipython3",
   "version": "3.8.4"
  }
 },
 "nbformat": 4,
 "nbformat_minor": 4
}
