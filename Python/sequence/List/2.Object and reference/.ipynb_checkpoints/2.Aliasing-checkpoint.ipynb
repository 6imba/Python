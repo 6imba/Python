{
 "cells": [
  {
   "cell_type": "code",
   "execution_count": 9,
   "metadata": {},
   "outputs": [
    {
     "name": "stdout",
     "output_type": "stream",
     "text": [
      "False\n",
      "True\n",
      "1793543763392\n",
      "1793543707712\n"
     ]
    }
   ],
   "source": [
    "#list\n",
    "a = [2,4,6,8,10,12]\n",
    "b = [2,4,6,8,10,12]\n",
    "\n",
    "print(a is b)\n",
    "print(a == b)\n",
    "print(id(a))#id() in built function that identify the variable\n",
    "print(id(b))\n"
   ]
  },
  {
   "cell_type": "code",
   "execution_count": 7,
   "metadata": {},
   "outputs": [
    {
     "name": "stdout",
     "output_type": "stream",
     "text": [
      "True\n",
      "True\n",
      "1793543719808\n",
      "1793543719808\n",
      "\n",
      "\n"
     ]
    }
   ],
   "source": [
    "#list\n",
    "a = [2,4,6,8,10,12]\n",
    "b = [2,4,6,8,10,12]\n",
    "\n",
    "a=b ##aliasing\n",
    "print(a is b)\n",
    "print(a == b)\n",
    "print(id(a))#id() in built function that identify the variable\n",
    "print(id(b))\n",
    "print('\\n')"
   ]
  },
  {
   "cell_type": "code",
   "execution_count": 10,
   "metadata": {},
   "outputs": [
    {
     "name": "stdout",
     "output_type": "stream",
     "text": [
      "True\n",
      "True\n",
      "1793543752384\n",
      "1793543752384\n"
     ]
    }
   ],
   "source": [
    "#list\n",
    "a = [2,4,6,8,10,12]\n",
    "b = [2,4,6,8,10,12]\n",
    "\n",
    "b=a ##aliasing\n",
    "print(a is b)\n",
    "print(a == b)\n",
    "print(id(a))#id() in built function that identify the variable\n",
    "print(id(b))"
   ]
  },
  {
   "cell_type": "code",
   "execution_count": 12,
   "metadata": {},
   "outputs": [
    {
     "name": "stdout",
     "output_type": "stream",
     "text": [
      "False\n",
      "True\n",
      "1793543970624\n",
      "1793543969920\n",
      "\n",
      "\n",
      "True\n",
      "True\n",
      "1793543969920\n",
      "1793543969920\n",
      "\n",
      "\n",
      "True\n",
      "True\n",
      "1793543969920\n",
      "1793543969920\n"
     ]
    }
   ],
   "source": [
    "#list\n",
    "a = [2,4,6,8,10,12]\n",
    "b = [2,4,6,8,10,12]\n",
    "\n",
    "print(a is b)\n",
    "print(a == b)\n",
    "print(id(a))#id() in built function that identify the variable\n",
    "print(id(b))\n",
    "print('\\n')\n",
    "\n",
    "a=b ##aliasing\n",
    "print(a is b)\n",
    "print(a == b)\n",
    "print(id(a))#id() in built function that identify the variable\n",
    "print(id(b))\n",
    "print('\\n')\n",
    "\n",
    "b=a ##aliasing\n",
    "print(a is b)\n",
    "print(a == b)\n",
    "print(id(a))#id() in built function that identify the variable\n",
    "print(id(b))"
   ]
  },
  {
   "cell_type": "code",
   "execution_count": 1,
   "metadata": {},
   "outputs": [
    {
     "name": "stdout",
     "output_type": "stream",
     "text": [
      "False\n",
      "True\n",
      "1631105437952\n",
      "1631105235840\n",
      "\n",
      "\n",
      "True\n",
      "True\n",
      "1631105437952\n",
      "1631105437952\n",
      "\n",
      "\n",
      "True\n",
      "True\n",
      "1631105437952\n",
      "1631105437952\n"
     ]
    }
   ],
   "source": [
    "#list\n",
    "a = [2,4,6,8,10,12]\n",
    "b = [2,4,6,8,10,12]\n",
    "\n",
    "print(a is b)\n",
    "print(a == b)\n",
    "print(id(a))#id() in built function that identify the variable\n",
    "print(id(b))\n",
    "print('\\n')\n",
    "\n",
    "b=a ##aliasing\n",
    "print(a is b)\n",
    "print(a == b)\n",
    "print(id(a))#id() in built function that identify the variable\n",
    "print(id(b))\n",
    "print('\\n')\n",
    "\n",
    "a=b ##aliasing\n",
    "print(a is b)\n",
    "print(a == b)\n",
    "print(id(a))#id() in built function that identify the variable\n",
    "print(id(b))\n"
   ]
  },
  {
   "cell_type": "code",
   "execution_count": 4,
   "metadata": {},
   "outputs": [
    {
     "name": "stdout",
     "output_type": "stream",
     "text": [
      "['q', 'i']\n",
      "['q', 'i']\n"
     ]
    }
   ],
   "source": [
    "b = ['q', 'u', 'i']\n",
    "z = b\n",
    "b[1] = 'i'\n",
    "z.remove('i')\n",
    "print(z)\n",
    "print(b)"
   ]
  },
  {
   "cell_type": "code",
   "execution_count": 8,
   "metadata": {},
   "outputs": [],
   "source": [
    "sent = \"Holidays can be a fun time when you have good company!\"\n",
    "phrase = sent\n",
    "phrase = phrase + \" Holidays can also be fun on your own!\"\n",
    "print(sent)\n",
    "print(phrase)"
   ]
  },
  {
   "cell_type": "code",
   "execution_count": null,
   "metadata": {},
   "outputs": [],
   "source": []
  }
 ],
 "metadata": {
  "kernelspec": {
   "display_name": "Python 3",
   "language": "python",
   "name": "python3"
  },
  "language_info": {
   "codemirror_mode": {
    "name": "ipython",
    "version": 3
   },
   "file_extension": ".py",
   "mimetype": "text/x-python",
   "name": "python",
   "nbconvert_exporter": "python",
   "pygments_lexer": "ipython3",
   "version": "3.8.3"
  }
 },
 "nbformat": 4,
 "nbformat_minor": 4
}
