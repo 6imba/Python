{
 "cells": [
  {
   "cell_type": "code",
   "execution_count": 2,
   "metadata": {},
   "outputs": [
    {
     "name": "stdout",
     "output_type": "stream",
     "text": [
      "True\n",
      "True\n",
      "2688502929008\n",
      "2688502929008\n"
     ]
    }
   ],
   "source": [
    "#string\n",
    "a = 'banana'\n",
    "b = 'banana'\n",
    "\n",
    "print(a is b)\n",
    "print(a == b)\n",
    "print(id(a))#id() in built function that identify the variable\n",
    "print(id(b))\n"
   ]
  },
  {
   "cell_type": "code",
   "execution_count": null,
   "metadata": {},
   "outputs": [],
   "source": [
    "#list\n",
    "a = [2,4,6,8,10,12]\n",
    "b = [2,4,6,8,10,12]\n",
    "\n",
    "print(a is b)\n",
    "print(a == b)\n",
    "print(id(a))#id() in built function that identify the variable\n",
    "print(id(b))\n"
   ]
  }
 ],
 "metadata": {
  "kernelspec": {
   "display_name": "Python 3",
   "language": "python",
   "name": "python3"
  },
  "language_info": {
   "codemirror_mode": {
    "name": "ipython",
    "version": 3
   },
   "file_extension": ".py",
   "mimetype": "text/x-python",
   "name": "python",
   "nbconvert_exporter": "python",
   "pygments_lexer": "ipython3",
   "version": "3.8.3"
  }
 },
 "nbformat": 4,
 "nbformat_minor": 4
}
