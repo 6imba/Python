{
 "cells": [
  {
   "cell_type": "code",
   "execution_count": 4,
   "id": "233b2cfb-1c7d-40db-b707-97b30aa35cc5",
   "metadata": {},
   "outputs": [],
   "source": [
    "import pandas as pd\n",
    "read_file = pd.read_excel (r'./excel.xlsx', index_col=0) # read spreadsheet file by skipping first column\n",
    "read_file.to_csv (r'./fontURL.csv', header=False)  # read csv file by skiping header&index from read spreadsheet file"
   ]
  },
  {
   "cell_type": "code",
   "execution_count": null,
   "id": "2c1de671-112e-4e5a-b046-5b24438702f7",
   "metadata": {},
   "outputs": [],
   "source": []
  },
  {
   "cell_type": "code",
   "execution_count": null,
   "id": "94de77d4-d0a6-44b3-a693-28fa29cd27d9",
   "metadata": {},
   "outputs": [],
   "source": []
  }
 ],
 "metadata": {
  "kernelspec": {
   "display_name": "Python 3 (ipykernel)",
   "language": "python",
   "name": "python3"
  },
  "language_info": {
   "codemirror_mode": {
    "name": "ipython",
    "version": 3
   },
   "file_extension": ".py",
   "mimetype": "text/x-python",
   "name": "python",
   "nbconvert_exporter": "python",
   "pygments_lexer": "ipython3",
   "version": "3.10.6"
  }
 },
 "nbformat": 4,
 "nbformat_minor": 5
}
