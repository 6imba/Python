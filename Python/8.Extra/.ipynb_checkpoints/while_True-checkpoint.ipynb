{
 "cells": [
  {
   "cell_type": "code",
   "execution_count": 1,
   "metadata": {},
   "outputs": [
    {
     "name": "stdout",
     "output_type": "stream",
     "text": [
      "Press Enter\n",
      "2\n"
     ]
    }
   ],
   "source": [
    "# while True ==> simple way to repeating code\n",
    "\n",
    "\n",
    "import random\n",
    "\n",
    "input(\"Press Enter\")\n",
    "dice = random.randrange(1,7)\n",
    "print(dice)\n",
    "\n",
    "#print random dice face once when press entered"
   ]
  },
  {
   "cell_type": "code",
   "execution_count": null,
   "metadata": {},
   "outputs": [],
   "source": [
    "import random\n",
    "\n",
    "while True:\n",
    "    input(\"Press Enter\")\n",
    "    dice = random.randrange(1,7)\n",
    "    print(dice)\n",
    "\n",
    "#print random dice face till we press entered\n",
    "# infinity run"
   ]
  },
  {
   "cell_type": "code",
   "execution_count": 5,
   "metadata": {},
   "outputs": [
    {
     "name": "stdout",
     "output_type": "stream",
     "text": [
      "Enter to continue or else type breakbreak\n"
     ]
    }
   ],
   "source": [
    "import random\n",
    "while True:\n",
    "    action = input ('Enter to continue or else type break')\n",
    "    if action == 'break':\n",
    "        break\n",
    "    dice = random.randrange(1,7)\n",
    "    print(dice)\n",
    "    \n",
    "\n",
    "#print random dice face till we press entered"
   ]
  },
  {
   "cell_type": "code",
   "execution_count": 8,
   "metadata": {},
   "outputs": [
    {
     "name": "stdout",
     "output_type": "stream",
     "text": [
      "Rolling dice!\n",
      "Enter to continue or else type break : break\n"
     ]
    }
   ],
   "source": [
    "import random\n",
    "print('Rolling dice!')\n",
    "while True:\n",
    "    action = input ('Enter to continue or else type break : ')\n",
    "    if action == 'break':\n",
    "        break\n",
    "    dice = random.randrange(1,7)\n",
    "    print(dice)\n",
    "    "
   ]
  },
  {
   "cell_type": "code",
   "execution_count": null,
   "metadata": {},
   "outputs": [],
   "source": [
    "def dice():\n",
    "    import random\n",
    "    print('Rolling dice!')\n",
    "    while True:\n",
    "        action = input ('Enter to continue or else type break : ')\n",
    "        if action == 'break':\n",
    "            break\n",
    "        dice = random.randrange(1,7)\n",
    "        print(dice)\n",
    "        \n",
    "dice()"
   ]
  }
 ],
 "metadata": {
  "kernelspec": {
   "display_name": "Python 3",
   "language": "python",
   "name": "python3"
  },
  "language_info": {
   "codemirror_mode": {
    "name": "ipython",
    "version": 3
   },
   "file_extension": ".py",
   "mimetype": "text/x-python",
   "name": "python",
   "nbconvert_exporter": "python",
   "pygments_lexer": "ipython3",
   "version": "3.8.4"
  }
 },
 "nbformat": 4,
 "nbformat_minor": 4
}
