{
 "cells": [
  {
   "cell_type": "code",
   "execution_count": 3,
   "metadata": {},
   "outputs": [
    {
     "name": "stdout",
     "output_type": "stream",
     "text": [
      "<bound method B.output of <__main__.B object at 0x0543ECE8>>\n",
      "Hello class B !\n",
      "None\n",
      "Hello class B !\n"
     ]
    },
    {
     "data": {
      "text/plain": [
       "<bound method B.output of <__main__.B object at 0x0543ECE8>>"
      ]
     },
     "execution_count": 3,
     "metadata": {},
     "output_type": "execute_result"
    }
   ],
   "source": [
    "class B:\n",
    "    def output(self):\n",
    "        print('Hello class B !')\n",
    "        \n",
    "obj2=B()\n",
    "\n",
    "print(obj2.output)\n",
    "print(obj2.output())\n",
    "obj2.output()\n",
    "obj2.output "
   ]
  }
 ],
 "metadata": {
  "kernelspec": {
   "display_name": "Python 3",
   "language": "python",
   "name": "python3"
  },
  "language_info": {
   "codemirror_mode": {
    "name": "ipython",
    "version": 3
   },
   "file_extension": ".py",
   "mimetype": "text/x-python",
   "name": "python",
   "nbconvert_exporter": "python",
   "pygments_lexer": "ipython3",
   "version": "3.8.4"
  }
 },
 "nbformat": 4,
 "nbformat_minor": 4
}
